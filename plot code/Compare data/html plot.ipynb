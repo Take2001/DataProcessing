{
 "cells": [
  {
   "cell_type": "code",
   "execution_count": 1,
   "metadata": {},
   "outputs": [],
   "source": [
    "import os\n",
    "import sys\n",
    "import pandas as pd\n",
    "import numpy as np\n",
    "import matplotlib.pyplot as plt\n",
    "from bokeh.plotting import figure\n",
    "from bokeh.io import output_file, show, save\n",
    "from bokeh.models import DataRange1d, PanTool, ResetTool, WheelZoomTool, HoverTool, LassoSelectTool, BoxSelectTool, SaveTool, Legend"
   ]
  },
  {
   "cell_type": "code",
   "execution_count": 4,
   "metadata": {},
   "outputs": [
    {
     "name": "stdout",
     "output_type": "stream",
     "text": [
      "Succesfully imported foodprices!\n",
      "Succesfully imported migration_movements!\n",
      "succesfully imported temperature_and_precipitation!\n"
     ]
    }
   ],
   "source": [
    "os.chdir(\"../../\")\n",
    "os.chdir(\"helpfiles\")\n",
    "    \n",
    "from select_df import select_df\n",
    "from functies_voor_selectief_plotten import *\n",
    "\n",
    "os.chdir(\"../\")\n",
    "os.chdir(\"plotted comparisons/html plots\")\n",
    "\n",
    "foodprices = select_df(2,'foodprices')\n",
    "migration_movements = select_df(2,'migration_movements')\n",
    "temperature_and_precipitation = select_df(2,'temperature_and_precipitation')\n",
    "\n",
    "# # set datasets you want to compare\n",
    "# dataset1 = 'foodprices'\n",
    "# dataset2 = 'migration_movements'\n",
    "\n",
    "\n",
    "# def plot_html(country, product, year1, year2):\n",
    "    \n",
    "#     print(sys.argv[1])\n",
    "#     print(sys.argv[2])\n",
    "    \n",
    "    \n",
    "#     set_country = country\n",
    "#     set_product = product\n",
    "\n",
    "# #     set_country = sys.argv[1]\n",
    "# #     set_product = sys.argv[2]\n",
    "# #     set_year1 = sys.argv[3]\n",
    "# #     set_year2 = sys.argv[4]\n",
    "\n",
    "#     # create figure and it's layout\n",
    "#     f = figure()\n",
    "#     f = figure(plot_width=1000, plot_height=650)\n",
    "#     f.background_fill_color=\"lightblue\"\n",
    "#     f.background_fill_alpha=0.1\n",
    "\n",
    "#     if dataset1 == 'foodprices':\n",
    "#         x_as = normalize(select_plot_foodprices_average(foodprices, set_country, set_product, 1999, 2017), 'average_price')\n",
    "#         f.xaxis.axis_label=\"Price of {}\".format(set_product)\n",
    "\n",
    "#     elif dataset1 == 'migration_movements':\n",
    "#         x_as = normalize(select_plot_migration_movements1(migration_movements, set_country, 1999, 2017), 'Value')\n",
    "#         f.xaxis.axis_label=\"Amount of refugees in {}\".format(set_country)\n",
    "\n",
    "\n",
    "#     if dataset2 == 'foodprices':\n",
    "#         y_as = normalize(select_plot_foodprices_average(foodprices,set_country, set_product, 1999, 2017), 'average_price')\n",
    "#         f.yaxis.axis_label=\"Price of {}\".format(set_product)\n",
    "\n",
    "#     elif dataset2 == 'migration_movements':\n",
    "#         y_as = normalize(select_plot_migration_movements1(migration_movements, set_country, 1999, 2017), 'Value')\n",
    "#         f.yaxis.axis_label=\"Amount of refugees in {}\".format(set_country)\n",
    "\n",
    "#     output_file(\"compare_refugees_{}_and_price_of_{}.html\".format(set_country, set_product))\n",
    "\n",
    "#     # title\n",
    "#     f.title.text=\"Correlation between refugees {} and price of {}\".format(set_country, set_product)\n",
    "#     f.title.text_font_size=\"25px\"\n",
    "#     f.title.align=\"center\"\n",
    "\n",
    "#     # toolbar\n",
    "#     f.toolbar_location='above'\n",
    "\n",
    "#     # manual legend to get it next to the plot, not over it\n",
    "\n",
    "#     f.circle(x_as['Normalized_data'], y_as['Normalized_data'] , color='red')\n",
    "\n",
    "#     save(f)\n",
    "\n",
    "    \n",
    "# plot_html(\"Afghanistan\", \"Bread\", '1999' ,'2017')\n",
    "\n",
    "\n",
    "os.chdir(\"../../\")\n",
    "os.chdir(\"plot code/Compare data\")\n"
   ]
  },
  {
   "cell_type": "code",
   "execution_count": null,
   "metadata": {},
   "outputs": [],
   "source": []
  }
 ],
 "metadata": {
  "kernelspec": {
   "display_name": "Python 3",
   "language": "python",
   "name": "python3"
  },
  "language_info": {
   "codemirror_mode": {
    "name": "ipython",
    "version": 3
   },
   "file_extension": ".py",
   "mimetype": "text/x-python",
   "name": "python",
   "nbconvert_exporter": "python",
   "pygments_lexer": "ipython3",
   "version": "3.6.3"
  }
 },
 "nbformat": 4,
 "nbformat_minor": 2
}
