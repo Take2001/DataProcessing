{
 "cells": [
  {
   "cell_type": "markdown",
   "metadata": {},
   "source": [
    "## Comparing food prices with temperature and precipitation data\n",
    "import cell"
   ]
  },
  {
   "cell_type": "code",
   "execution_count": 1,
   "metadata": {},
   "outputs": [
    {
     "ename": "ModuleNotFoundError",
     "evalue": "No module named 'holoviews'",
     "output_type": "error",
     "traceback": [
      "\u001b[1;31m---------------------------------------------------------------------------\u001b[0m",
      "\u001b[1;31mModuleNotFoundError\u001b[0m                       Traceback (most recent call last)",
      "\u001b[1;32m<ipython-input-1-3c81df1b83bd>\u001b[0m in \u001b[0;36m<module>\u001b[1;34m()\u001b[0m\n\u001b[0;32m      1\u001b[0m \u001b[1;32mimport\u001b[0m \u001b[0mos\u001b[0m\u001b[1;33m\u001b[0m\u001b[0m\n\u001b[0;32m      2\u001b[0m \u001b[1;32mimport\u001b[0m \u001b[0mpandas\u001b[0m \u001b[1;32mas\u001b[0m \u001b[0mpd\u001b[0m\u001b[1;33m\u001b[0m\u001b[0m\n\u001b[1;32m----> 3\u001b[1;33m \u001b[1;32mimport\u001b[0m \u001b[0mholoviews\u001b[0m \u001b[1;32mas\u001b[0m \u001b[0mhv\u001b[0m\u001b[1;33m\u001b[0m\u001b[0m\n\u001b[0m\u001b[0;32m      4\u001b[0m \u001b[1;32mimport\u001b[0m \u001b[0mnumpy\u001b[0m \u001b[1;32mas\u001b[0m \u001b[0mnp\u001b[0m\u001b[1;33m\u001b[0m\u001b[0m\n\u001b[0;32m      5\u001b[0m \u001b[1;32mimport\u001b[0m \u001b[0mscipy\u001b[0m\u001b[1;33m\u001b[0m\u001b[0m\n",
      "\u001b[1;31mModuleNotFoundError\u001b[0m: No module named 'holoviews'"
     ]
    }
   ],
   "source": [
    "import os\n",
    "import pandas as pd\n",
    "import holoviews as hv\n",
    "import numpy as np\n",
    "import scipy\n",
    "import sys\n",
    "import matplotlib.pyplot as plt\n",
    "from bokeh.plotting import figure\n",
    "from bokeh.io import output_file, show, save\n",
    "from bokeh.models import DataRange1d, PanTool, ResetTool, WheelZoomTool, HoverTool, LassoSelectTool, BoxSelectTool, SaveTool, Legend\n",
    "\n",
    "print(os.getcwd())\n",
    "os.chdir(\"../../\")\n",
    "print(os.getcwd())\n",
    "os.chdir(\"helpfiles\")\n",
    "\n",
    "\n",
    "\n",
    "print(os.getcwd()) \n",
    "from select_df import select_df\n",
    "from functies_voor_selectief_plotten import *\n",
    "\n",
    "os.chdir(\"../\")\n",
    "os.chdir(\"plotted comparisons/precipitation, temperature and foodprices\")\n",
    "\n",
    "foodprices = select_df(2,'foodprices')\n",
    "migration_movements = select_df(2,'migration_movements')\n",
    "temperature_and_precipitation = select_df(2,'temperature_and_precipitation')\n",
    "\n",
    "# kies te vergelijken datasets\n",
    "dataset1 = 'foodprices'\n",
    "dataset2 = 'migration_movements'\n",
    "\n",
    "os.chdir(\"../../\")\n",
    "os.chdir(\"plot code/Compare data\")"
   ]
  },
  {
   "cell_type": "code",
   "execution_count": 2,
   "metadata": {},
   "outputs": [
    {
     "data": {
      "text/plain": [
       "'/home/take/DataProcessing1/plot code/Compare data'"
      ]
     },
     "execution_count": 2,
     "metadata": {},
     "output_type": "execute_result"
    }
   ],
   "source": [
    "import os\n",
    "os.getcwd()"
   ]
  },
  {
   "cell_type": "code",
   "execution_count": null,
   "metadata": {},
   "outputs": [],
   "source": []
  },
  {
   "cell_type": "code",
   "execution_count": null,
   "metadata": {},
   "outputs": [],
   "source": []
  }
 ],
 "metadata": {
  "kernelspec": {
   "display_name": "Python 3",
   "language": "python",
   "name": "python3"
  },
  "language_info": {
   "codemirror_mode": {
    "name": "ipython",
    "version": 3
   },
   "file_extension": ".py",
   "mimetype": "text/x-python",
   "name": "python",
   "nbconvert_exporter": "python",
   "pygments_lexer": "ipython3",
   "version": "3.6.3"
  }
 },
 "nbformat": 4,
 "nbformat_minor": 2
}
