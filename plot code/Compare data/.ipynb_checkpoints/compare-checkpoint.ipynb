{
 "cells": [
  {
   "cell_type": "code",
   "execution_count": 1,
   "metadata": {},
   "outputs": [],
   "source": [
    "import pandas as pd\n",
    "import numpy as np\n",
    "import matplotlib.pyplot as plt\n",
    "from bokeh.plotting import figure\n",
    "from bokeh.io import output_file, show, save\n",
    "# import pandas\n",
    "from bokeh.models import DataRange1d, PanTool, ResetTool, WheelZoomTool, HoverTool, LassoSelectTool, BoxSelectTool, SaveTool, Legend"
   ]
  },
  {
   "cell_type": "code",
   "execution_count": 2,
   "metadata": {},
   "outputs": [
    {
     "name": "stdout",
     "output_type": "stream",
     "text": [
      "C:\\Users\\boble\\Documents\\GitHub\\DataProcessing\\plot code\\Compare data\n",
      "C:\\Users\\boble\\Documents\\GitHub\\DataProcessing\\helpfiles\n",
      "C:\\Users\\boble\\Documents\\GitHub\\DataProcessing\\helpfiles\n",
      "Succesfully imported foodprices!\n",
      "Succesfully imported migration_movements!\n",
      "succesfully imported temperature_and_precipitation!\n"
     ]
    }
   ],
   "source": [
    "import os\n",
    "print(os.getcwd())\n",
    "os.chdir(\"../../\")\n",
    "os.chdir(\"helpfiles\")\n",
    "print(os.getcwd())\n",
    "    \n",
    "from select_df import select_df\n",
    "from functies_voor_selectief_plotten import *"
   ]
  },
  {
   "cell_type": "code",
   "execution_count": 6,
   "metadata": {},
   "outputs": [
    {
     "name": "stdout",
     "output_type": "stream",
     "text": [
      "C:\\Users\\boble\\Documents\\GitHub\\DataProcessing\\datasets\n",
      "C:\\Users\\boble\\Documents\\GitHub\\DataProcessing\\plotted comparisons\n"
     ]
    }
   ],
   "source": [
    "print(os.getcwd())\n",
    "os.chdir(\"../\")\n",
    "os.chdir(\"plotted comparisons\")\n",
    "print(os.getcwd())"
   ]
  },
  {
   "cell_type": "code",
   "execution_count": null,
   "metadata": {},
   "outputs": [],
   "source": [
    "print(os.getcwd())"
   ]
  },
  {
   "cell_type": "code",
   "execution_count": 3,
   "metadata": {
    "scrolled": true
   },
   "outputs": [
    {
     "name": "stdout",
     "output_type": "stream",
     "text": [
      "Succesfully imported foodprices!\n",
      "Succesfully imported migration_movements!\n",
      "succesfully imported temperature_and_precipitation!\n"
     ]
    }
   ],
   "source": [
    "foodprices = select_df(1,'foodprices')\n",
    "migration_movements = select_df(1,'migration_movements')\n",
    "temperature_and_precipitation = select_df(1,'temperature_and_precipitation')"
   ]
  },
  {
   "cell_type": "code",
   "execution_count": 4,
   "metadata": {},
   "outputs": [],
   "source": [
    "# Helpfile landen en producten\n",
    "\n",
    "Africa = ['Central African Republic', 'Djibouti', 'Gambia', 'Guinea', 'Kenya', 'Lesotho', 'Liberia', 'Madagascar', \n",
    "                'Malawi', 'Mali', 'Mauritania', 'Mozambique', 'Niger', 'Nigeria', 'Rwanda', 'Senegal', 'South Sudan', \n",
    "                'Sudan', 'Uganda', 'Zambia', 'Zimbabwe']\n",
    "# Kenya, Lesotho veroorzaakte problemen\n",
    "Middle_East = ['Afghanistan', 'Iraq', 'Iran', 'Lebanon', 'State of Palestine', 'Pakistan']\n",
    "\n",
    "# zie onderste cell voor alle producten"
   ]
  },
  {
   "cell_type": "code",
   "execution_count": 8,
   "metadata": {},
   "outputs": [
    {
     "ename": "NameError",
     "evalue": "name 'set_country' is not defined",
     "output_type": "error",
     "traceback": [
      "\u001b[1;31m---------------------------------------------------------------------------\u001b[0m",
      "\u001b[1;31mNameError\u001b[0m                                 Traceback (most recent call last)",
      "\u001b[1;32m<ipython-input-8-b383d19163af>\u001b[0m in \u001b[0;36m<module>\u001b[1;34m()\u001b[0m\n\u001b[0;32m     16\u001b[0m \u001b[1;33m\u001b[0m\u001b[0m\n\u001b[0;32m     17\u001b[0m \u001b[1;31m# # werking\u001b[0m\u001b[1;33m\u001b[0m\u001b[1;33m\u001b[0m\u001b[0m\n\u001b[1;32m---> 18\u001b[1;33m \u001b[0mdata1\u001b[0m \u001b[1;33m=\u001b[0m \u001b[0mselect_plot_migration_movements\u001b[0m\u001b[1;33m(\u001b[0m\u001b[0mmigration_movements\u001b[0m\u001b[1;33m,\u001b[0m \u001b[0mset_country\u001b[0m\u001b[1;33m,\u001b[0m \u001b[1;36m1990\u001b[0m\u001b[1;33m,\u001b[0m \u001b[1;36m2020\u001b[0m\u001b[1;33m)\u001b[0m\u001b[1;33m[\u001b[0m\u001b[1;34m'Timestamp'\u001b[0m\u001b[1;33m]\u001b[0m\u001b[1;33m\u001b[0m\u001b[0m\n\u001b[0m\u001b[0;32m     19\u001b[0m \u001b[0mdata2\u001b[0m \u001b[1;33m=\u001b[0m \u001b[0mselect_plot_foodprices_average\u001b[0m\u001b[1;33m(\u001b[0m\u001b[0mfoodprices\u001b[0m\u001b[1;33m,\u001b[0m \u001b[0mset_country\u001b[0m\u001b[1;33m,\u001b[0m \u001b[0mset_product\u001b[0m\u001b[1;33m,\u001b[0m \u001b[1;36m1990\u001b[0m\u001b[1;33m,\u001b[0m \u001b[1;36m2018\u001b[0m\u001b[1;33m)\u001b[0m\u001b[1;33m[\u001b[0m\u001b[1;34m'year'\u001b[0m\u001b[1;33m]\u001b[0m\u001b[1;33m\u001b[0m\u001b[0m\n\u001b[0;32m     20\u001b[0m \u001b[0mpossible_years\u001b[0m \u001b[1;33m=\u001b[0m \u001b[0mpossible_range\u001b[0m\u001b[1;33m(\u001b[0m\u001b[0mdata1\u001b[0m\u001b[1;33m,\u001b[0m \u001b[0mdata2\u001b[0m\u001b[1;33m)\u001b[0m\u001b[1;33m\u001b[0m\u001b[0m\n",
      "\u001b[1;31mNameError\u001b[0m: name 'set_country' is not defined"
     ]
    }
   ],
   "source": [
    "def possible_range(data1, data2):\n",
    "    # bepaal de range van dataset 1 (migration movements)\n",
    "    min1 = float(data1.head(1))\n",
    "    max1 = float(data1.tail(1))\n",
    "    # bepaal de range van dataset 2 (foodprices average)\n",
    "    min2 = float(data2.head(1))\n",
    "    max2 = float(data2.tail(1))\n",
    "\n",
    "    # bepaal de mogelijke combinatie range\n",
    "    if min1 >= min2: year_min = int(np.ceil(min1))\n",
    "    else: year_min = int(np.ceil(min2))\n",
    "    if max1 <= max2: year_max = int(np.ceil(max1))\n",
    "    else: year_max = int(np.ceil(max1))\n",
    "        \n",
    "    return(year_min, year_max)\n",
    "\n",
    "# # werking\n",
    "data1 = select_plot_migration_movements(migration_movements, set_country, 1990, 2020)['Timestamp']\n",
    "data2 = select_plot_foodprices_average(foodprices, set_country, set_product, 1990, 2018)['year']\n",
    "possible_years = possible_range(data1, data2)\n",
    "print(possible_years[1])"
   ]
  },
  {
   "cell_type": "markdown",
   "metadata": {},
   "source": [
    "## Loop over elk land in Afrika en elk product dat voor elk land in de database staat"
   ]
  },
  {
   "cell_type": "code",
   "execution_count": null,
   "metadata": {},
   "outputs": [],
   "source": [
    "# set datasets you want to compare\n",
    "dataset1 = 'foodprices'\n",
    "dataset2 = 'migration_movements'\n",
    "\n",
    "# os.chdir(\"Africa\")\n",
    "\n",
    "country_list = []\n",
    "\n",
    "for country in Africa:\n",
    "    set_country = country\n",
    "\n",
    "    # lijst van elk product in het gegeven land\n",
    "    product_list = []\n",
    "    for product in  foodprices.loc[foodprices['adm0_name'] == set_country]['cm_name']:\n",
    "        if product not in product_list:\n",
    "            product_list.append(product)\n",
    "\n",
    "    for product in product_list:\n",
    "        set_product = product\n",
    "        \n",
    "        try:\n",
    "            # bepaal in welke range het mogelijk is om grafieken te plotten\n",
    "            # possible_range[0] is het minimale jaar, possible_range[1] het maximale jaar\n",
    "            data1 = select_plot_migration_movements(migration_movements, set_country, 1990, 2020)['Timestamp']\n",
    "            data2 = select_plot_foodprices_average(foodprices, set_country, set_product, 1990, 2018)['year']\n",
    "            possible_years = possible_range(data1, data2)\n",
    "\n",
    "            # create figure and it's layout\n",
    "            f = figure()\n",
    "            f = figure(plot_width=600, plot_height=600)\n",
    "            f.background_fill_color=\"lightblue\"\n",
    "            f.background_fill_alpha=0.1\n",
    "\n",
    "            # plot de grafieken\n",
    "            x_as = normalize(select_plot_foodprices_average(foodprices, set_country, set_product, possible_years[0], possible_years[1]), 'average_price')\n",
    "            f.xaxis.axis_label=\"Price of {}\".format(set_product)\n",
    "\n",
    "            y_as = normalize(select_plot_migration_movements(migration_movements, set_country, possible_years[0], possible_years[1]), 'Value')\n",
    "            f.yaxis.axis_label=\"Amount of refugees in {}\".format(set_country)\n",
    "\n",
    "            os.chdir(\"{}\".format(set_country))\n",
    "\n",
    "            output_file(\"compare_refugees_{}_and_price_of_{}.html\".format(set_country, set_product))\n",
    "\n",
    "            # title\n",
    "            f.title.text=\"{}:{},Price {} in {}\".format(possible_years[0], possible_years[1], set_product, set_country)\n",
    "            f.title.text_font_size=\"25px\"\n",
    "            f.title.align=\"center\"\n",
    "\n",
    "            # toolbar\n",
    "            f.toolbar_location='above'\n",
    "\n",
    "            # manual legend to get it next to the plot, not over it\n",
    "\n",
    "            f.circle(x_as['Normalized_data'], y_as['Normalized_data'] , color='red')\n",
    "\n",
    "            save(f)\n",
    "\n",
    "            os.chdir(\"../\")\n",
    "        except:\n",
    "            print('{} with {} failed to plot'.format(set_product, set_country))"
   ]
  },
  {
   "cell_type": "markdown",
   "metadata": {},
   "source": [
    "## Loop over elk land in het midden oosten en elk product dat voor elk land in de database staat"
   ]
  },
  {
   "cell_type": "code",
   "execution_count": 10,
   "metadata": {},
   "outputs": [
    {
     "ename": "FileNotFoundError",
     "evalue": "[WinError 2] The system cannot find the file specified: 'Middle_East'",
     "output_type": "error",
     "traceback": [
      "\u001b[1;31m---------------------------------------------------------------------------\u001b[0m",
      "\u001b[1;31mFileNotFoundError\u001b[0m                         Traceback (most recent call last)",
      "\u001b[1;32m<ipython-input-10-a79eb7ba5b63>\u001b[0m in \u001b[0;36m<module>\u001b[1;34m()\u001b[0m\n\u001b[0;32m      4\u001b[0m \u001b[1;33m\u001b[0m\u001b[0m\n\u001b[0;32m      5\u001b[0m \u001b[0mos\u001b[0m\u001b[1;33m.\u001b[0m\u001b[0mchdir\u001b[0m\u001b[1;33m(\u001b[0m\u001b[1;34m\"../\"\u001b[0m\u001b[1;33m)\u001b[0m\u001b[1;33m\u001b[0m\u001b[0m\n\u001b[1;32m----> 6\u001b[1;33m \u001b[0mos\u001b[0m\u001b[1;33m.\u001b[0m\u001b[0mchdir\u001b[0m\u001b[1;33m(\u001b[0m\u001b[1;34m\"Middle_East\"\u001b[0m\u001b[1;33m)\u001b[0m\u001b[1;33m\u001b[0m\u001b[0m\n\u001b[0m\u001b[0;32m      7\u001b[0m \u001b[1;33m\u001b[0m\u001b[0m\n\u001b[0;32m      8\u001b[0m \u001b[0mcountry_list\u001b[0m \u001b[1;33m=\u001b[0m \u001b[1;33m[\u001b[0m\u001b[1;33m]\u001b[0m\u001b[1;33m\u001b[0m\u001b[0m\n",
      "\u001b[1;31mFileNotFoundError\u001b[0m: [WinError 2] The system cannot find the file specified: 'Middle_East'"
     ]
    }
   ],
   "source": [
    "# set datasets you want to compare\n",
    "dataset1 = 'foodprices'\n",
    "dataset2 = 'migration_movements'\n",
    "\n",
    "os.chdir(\"../\")\n",
    "os.chdir(\"Middle_East\")\n",
    "\n",
    "country_list = []\n",
    "\n",
    "for country in Middle_East:\n",
    "    set_country = country\n",
    "\n",
    "    # lijst van elk product in het gegeven land\n",
    "    product_list = []\n",
    "    for product in  foodprices.loc[foodprices['adm0_name'] == set_country]['cm_name']:\n",
    "        if product not in product_list:\n",
    "            product_list.append(product)\n",
    "\n",
    "    for product in product_list:\n",
    "        set_product = product\n",
    "\n",
    "        # create figure and it's layout\n",
    "        f = figure()\n",
    "        f = figure(plot_width=1000, plot_height=650)\n",
    "        f.background_fill_color=\"lightblue\"\n",
    "        f.background_fill_alpha=0.1\n",
    "\n",
    "        if dataset1 == 'foodprices':\n",
    "            x_as = normalize(select_plot_foodprices_average(foodprices, set_country, set_product, 1999, 2017), 'average_price')\n",
    "            f.xaxis.axis_label=\"Price of {}\".format(set_product)\n",
    "\n",
    "        elif dataset1 == 'migration_movements':\n",
    "            x_as = normalize(select_plot_migration_movements(migration_movements, set_country, 1999, 2017), 'Value')\n",
    "            f.xaxis.axis_label=\"Amount of refugees in {}\".format(set_country)\n",
    "\n",
    "\n",
    "        if dataset2 == 'foodprices':\n",
    "            y_as = normalize(select_plot_foodprices_average(foodprices,set_country, set_product, 1999, 2017), 'average_price')\n",
    "            f.yaxis.axis_label=\"Price of {}\".format(set_product)\n",
    "\n",
    "        elif dataset2 == 'migration_movements':\n",
    "            y_as = normalize(select_plot_migration_movements(migration_movements, set_country, 1999, 2017), 'Value')\n",
    "            f.yaxis.axis_label=\"Amount of refugees in {}\".format(set_country)\n",
    "\n",
    "        os.chdir(\"{}\".format(set_country))\n",
    "        \n",
    "        output_file(\"compare_refugees_{}_and_price_of_{}.html\".format(set_country, set_product))\n",
    "\n",
    "        # title\n",
    "        f.title.text=\"Correlation between refugees {} and price of {}\".format(set_country, set_product)\n",
    "        f.title.text_font_size=\"25px\"\n",
    "        f.title.align=\"center\"\n",
    "\n",
    "        # toolbar\n",
    "        f.toolbar_location='above'\n",
    "\n",
    "        # manual legend to get it next to the plot, not over it\n",
    "\n",
    "        f.circle(x_as['Normalized_data'], y_as['Normalized_data'] , color='red')\n",
    "        \n",
    "        save(f)\n",
    "        \n",
    "        os.chdir(\"../\")"
   ]
  },
  {
   "cell_type": "code",
   "execution_count": null,
   "metadata": {},
   "outputs": [],
   "source": [
    "# Producten = ['Maize', 'Rice', 'Wheat flour', 'Oil (palm)', 'Sorghum', 'Millet', 'Groundnuts (unshelled)', 'Beans (niebe)', \n",
    "# 'Meat (beef)', 'Sesame', 'Oil (groundnut)', 'Cassava (cossette)', 'Bread', 'Rice (imported)', 'Beans (white)', \n",
    "# 'Oil (vegetable)', 'Sugar', 'Pasta', 'Sorghum (white)', 'Sorghum (red)', 'Fuel (kerosene)', 'Maize (local)', \n",
    "# 'Groundnuts (shelled)', 'Rice (long grain, imported)', 'Rice (medium grain, imported)', 'Rice (small grain, imported)', \n",
    "# 'Cassava', 'Maize flour', 'Milk', 'Sweet potatoes', 'Eggs', 'Meat (chicken)', 'Fonio', 'Garlic', 'Tomatoes', \n",
    "# 'Rice (paddy, long grain, local)', 'Rice (basmati, broken)', 'Potatoes (Irish)', 'Fish (bonga)', 'Carrots', 'Cashew', \n",
    "# 'Fish (dry)', 'Onions', 'Cabbage', 'Meat (mutton)', 'Salt', 'Coffee (instant)', 'Peas (green, dry)', 'Apples (red)', \n",
    "# 'Milk (powder)', 'Oranges (big size)', 'Bananas', 'Beans (dry)', 'Tea', 'Fuel (diesel)', 'Fuel (petrol-gasoline)', \n",
    "# 'Rice (local)', 'Potatoes', 'Fish', 'Fish (smoked)', 'Tomatoes (paste)', 'Cassava meal (gari)', 'Beans (niebe, white)', \n",
    "# 'Cassava meal (attieke)', 'Maize (white)', 'Milk (cow, pasteurized)', 'Maize meal', 'Bread (brown)', 'Peas (split, dry)', \n",
    "# 'Oil (sunflower)', 'Beans (sugar-red)', 'Cowpeas', 'Cassava (fresh)', 'Exchange rate', 'Rice (white, imported)', \n",
    "# 'Wage (non-qualified labour, non-agricultural)', 'Cocoa', 'Wage (non-qualified labour, agricultural)', 'Rice (paddy)', \n",
    "# 'Beans', 'Wheat', 'Sorghum (taghalit)', 'Oil (vegetable, imported)', 'Wheat flour (local)', 'Maize meal (white, first grade)', \n",
    "# 'Oil (vegetable, local)', 'Sugar (brown, imported)', 'Sugar (brown, local)', 'Groundnuts (Mix)', 'Beans (butter)', \n",
    "# 'Groundnuts (large, shelled)', 'Groundnuts (small, shelled)', 'Beans (catarino)', 'Maize meal (white, without bran) ', \n",
    "# 'Beans (magnum)', 'Maize meal (white, with bran)', 'Cassava flour', 'Yam', 'Maize (yellow)', 'Cowpeas (white)', \n",
    "# 'Cowpeas (brown)', 'Sorghum (brown)', 'Gari (yellow)', 'Gari (white)', 'Yam (Abuja)', 'Maize flour (imported)', \n",
    "# 'Chili (red)', 'Onions (red)', 'Soybeans', 'Rice (imported, Indian)', 'Sorghum flour', 'Peppers (green)', \n",
    "# 'Rice (imported, Tanzanian)', 'Livestock (Goat)', 'Spinach', 'Guava', 'Papaya', 'Mangoes', 'Eggplants', 'Charcoal', \n",
    "# 'Passion fruit', 'Zucchini', 'Livestock (hen)', 'Avocados', 'Cassava leaves', 'Peas (fresh)', 'Peas (dry)', \n",
    "# 'Onions (white)', 'Meat (pork)', 'Livestock (cattle)', 'Livestock (Sheep)', 'Livestock (pig)', 'Meat (goat)', \n",
    "# 'Cucumbers (greenhouse)', 'Beans (green, fresh)', 'Cauliflower', 'Maize (imported)', 'Exchange rate (unofficial)', \n",
    "# 'Beans (red)', 'Millet (white)', 'Cassava (dry)', 'Sorghum (food aid)', 'Cassava meal', 'Maize meal (white, roller)', \n",
    "# 'Maize meal (white, breakfast)', 'Oil (vegetable, fortified)', 'Maize meal (white, fortified)', 'Wheat flour (fortified)', \n",
    "# 'Sugar (white, fortified)', 'Rice (low quality)', 'Wage (qualified labour)', 'Livestock (sheep, one-year-old alive female)', \n",
    "# 'Bread (khoboz)', 'Lentils', 'Meat (chicken, whole)', 'Chickpeas', 'Bulgur', 'Rice (imported, Egyptian)', 'Lettuce', \n",
    "# 'Cheese (picon)', 'Meat (beef, canned)', 'Fish (sardine, canned)', 'Fish (tuna, canned)', 'Bread (pita)', \n",
    "# 'Bananas (medium size)', 'Fish (red snapper)', 'Meat (goat, with bones)', 'Oil (olive)', 'Onions (dry, local)', \n",
    "# 'Potatoes (medium size)', 'Tomatoes (greenhouse)', 'Oil (maize)', 'Labaneh', 'Yogurt', 'Cheese (goat)', 'Milk (pasteurized)', \n",
    "# 'Fish (frozen)', 'Water (drinking)', 'Wheat flour (locally processed)', 'Rice (coarse)', 'Lentils (masur)', 'Oil (cooking)', \n",
    "# 'Ghee (artificial)', 'Poultry', 'Lentils (moong)', 'Beans(mash)']"
   ]
  }
 ],
 "metadata": {
  "kernelspec": {
   "display_name": "Python 3",
   "language": "python",
   "name": "python3"
  },
  "language_info": {
   "codemirror_mode": {
    "name": "ipython",
    "version": 3
   },
   "file_extension": ".py",
   "mimetype": "text/x-python",
   "name": "python",
   "nbconvert_exporter": "python",
   "pygments_lexer": "ipython3",
   "version": "3.6.5"
  }
 },
 "nbformat": 4,
 "nbformat_minor": 2
}
