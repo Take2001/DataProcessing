{
 "cells": [
  {
   "cell_type": "code",
   "execution_count": 55,
   "metadata": {},
   "outputs": [],
   "source": [
    "import pandas as pd\n",
    "import numpy as np\n",
    "import matplotlib.pyplot as plt\n",
    "from bokeh.plotting import figure\n",
    "from bokeh.io import output_file, show, save\n",
    "import pandas\n",
    "from bokeh.models import DataRange1d, PanTool, ResetTool, WheelZoomTool, HoverTool, LassoSelectTool, BoxSelectTool, SaveTool, Legend"
   ]
  },
  {
   "cell_type": "code",
   "execution_count": 59,
   "metadata": {},
   "outputs": [
    {
     "name": "stdout",
     "output_type": "stream",
     "text": [
      "C:\\Users\\Midas\\Documents\\GitHub\\dataprocessing1\\helpfiles\n",
      "C:\\Users\\Midas\\Documents\\GitHub\\dataprocessing1\\helpfiles\n"
     ]
    }
   ],
   "source": [
    "import os\n",
    "print(os.getcwd())\n",
    "os.chdir(\"../../\")\n",
    "os.chdir(\"helpfiles\")\n",
    "print(os.getcwd())\n",
    "    \n",
    "from select_df import select_df\n",
    "from functies_voor_selectief_plotten import *"
   ]
  },
  {
   "cell_type": "code",
   "execution_count": 25,
   "metadata": {
    "scrolled": true
   },
   "outputs": [
    {
     "name": "stdout",
     "output_type": "stream",
     "text": [
      "Succesfully imported foodprices!\n",
      "Succesfully imported migration_movements!\n",
      "succesfully imported temperature_and_precipitation!\n"
     ]
    }
   ],
   "source": [
    "foodprices = select_df(1,'foodprices')\n",
    "migration_movements = select_df(1,'migration_movements')\n",
    "temperature_and_precipitation = select_df(1,'temperature_and_precipitation')"
   ]
  },
  {
   "cell_type": "code",
   "execution_count": 26,
   "metadata": {},
   "outputs": [],
   "source": [
    "# # Helpfile landen en producten\n",
    "\n",
    "South_Africa = ['Central African Republic', 'Djibouti', 'Gambia', 'Guinea', 'Kenya', 'Lesotho', 'Liberia', 'Madagascar', \n",
    "                'Malawi', 'Mali', 'Mauritania', 'Mozambique', 'Niger', 'Nigeria', 'Rwanda', 'Senegal', 'South Sudan', \n",
    "                'Sudan', 'Uganda', 'Zambia', 'Zimbabwe']\n",
    "\n",
    "Middle_East = ['Afghanistan', 'Iraq', 'Iran', 'Lebanon', 'State of Palestine', 'Pakistan']\n",
    "\n",
    "# # zie onderste cell voor alle producten"
   ]
  },
  {
   "cell_type": "markdown",
   "metadata": {},
   "source": [
    "## Vul hier In voor welk land je de correlatie tussen vluchtelingen en de prijs van producten wil vergelijken"
   ]
  },
  {
   "cell_type": "code",
   "execution_count": 54,
   "metadata": {},
   "outputs": [],
   "source": [
    "set_country = 'Djibouti'\n",
    "\n"
   ]
  },
  {
   "cell_type": "code",
   "execution_count": 53,
   "metadata": {},
   "outputs": [
    {
     "name": "stderr",
     "output_type": "stream",
     "text": [
      "c:\\users\\midas\\appdata\\local\\programs\\python\\python36-32\\lib\\site-packages\\bokeh\\models\\sources.py:110: BokehUserWarning: ColumnDataSource's columns must be of the same length. Current lengths: ('x', 96), ('y', 224)\n",
      "  \"Current lengths: %s\" % \", \".join(sorted(str((k, len(v))) for k, v in data.items())), BokehUserWarning))\n",
      "c:\\users\\midas\\appdata\\local\\programs\\python\\python36-32\\lib\\site-packages\\bokeh\\models\\sources.py:110: BokehUserWarning: ColumnDataSource's columns must be of the same length. Current lengths: ('x', 119), ('y', 224)\n",
      "  \"Current lengths: %s\" % \", \".join(sorted(str((k, len(v))) for k, v in data.items())), BokehUserWarning))\n",
      "c:\\users\\midas\\appdata\\local\\programs\\python\\python36-32\\lib\\site-packages\\bokeh\\models\\sources.py:110: BokehUserWarning: ColumnDataSource's columns must be of the same length. Current lengths: ('x', 122), ('y', 224)\n",
      "  \"Current lengths: %s\" % \", \".join(sorted(str((k, len(v))) for k, v in data.items())), BokehUserWarning))\n",
      "c:\\users\\midas\\appdata\\local\\programs\\python\\python36-32\\lib\\site-packages\\bokeh\\models\\sources.py:110: BokehUserWarning: ColumnDataSource's columns must be of the same length. Current lengths: ('x', 119), ('y', 224)\n",
      "  \"Current lengths: %s\" % \", \".join(sorted(str((k, len(v))) for k, v in data.items())), BokehUserWarning))\n",
      "c:\\users\\midas\\appdata\\local\\programs\\python\\python36-32\\lib\\site-packages\\bokeh\\models\\sources.py:110: BokehUserWarning: ColumnDataSource's columns must be of the same length. Current lengths: ('x', 119), ('y', 224)\n",
      "  \"Current lengths: %s\" % \", \".join(sorted(str((k, len(v))) for k, v in data.items())), BokehUserWarning))\n",
      "c:\\users\\midas\\appdata\\local\\programs\\python\\python36-32\\lib\\site-packages\\bokeh\\models\\sources.py:110: BokehUserWarning: ColumnDataSource's columns must be of the same length. Current lengths: ('x', 122), ('y', 224)\n",
      "  \"Current lengths: %s\" % \", \".join(sorted(str((k, len(v))) for k, v in data.items())), BokehUserWarning))\n",
      "c:\\users\\midas\\appdata\\local\\programs\\python\\python36-32\\lib\\site-packages\\bokeh\\models\\sources.py:110: BokehUserWarning: ColumnDataSource's columns must be of the same length. Current lengths: ('x', 106), ('y', 224)\n",
      "  \"Current lengths: %s\" % \", \".join(sorted(str((k, len(v))) for k, v in data.items())), BokehUserWarning))\n",
      "c:\\users\\midas\\appdata\\local\\programs\\python\\python36-32\\lib\\site-packages\\bokeh\\models\\sources.py:110: BokehUserWarning: ColumnDataSource's columns must be of the same length. Current lengths: ('x', 122), ('y', 224)\n",
      "  \"Current lengths: %s\" % \", \".join(sorted(str((k, len(v))) for k, v in data.items())), BokehUserWarning))\n",
      "c:\\users\\midas\\appdata\\local\\programs\\python\\python36-32\\lib\\site-packages\\bokeh\\models\\sources.py:110: BokehUserWarning: ColumnDataSource's columns must be of the same length. Current lengths: ('x', 24), ('y', 224)\n",
      "  \"Current lengths: %s\" % \", \".join(sorted(str((k, len(v))) for k, v in data.items())), BokehUserWarning))\n",
      "c:\\users\\midas\\appdata\\local\\programs\\python\\python36-32\\lib\\site-packages\\bokeh\\models\\sources.py:110: BokehUserWarning: ColumnDataSource's columns must be of the same length. Current lengths: ('x', 38), ('y', 224)\n",
      "  \"Current lengths: %s\" % \", \".join(sorted(str((k, len(v))) for k, v in data.items())), BokehUserWarning))\n",
      "c:\\users\\midas\\appdata\\local\\programs\\python\\python36-32\\lib\\site-packages\\bokeh\\models\\sources.py:110: BokehUserWarning: ColumnDataSource's columns must be of the same length. Current lengths: ('x', 38), ('y', 224)\n",
      "  \"Current lengths: %s\" % \", \".join(sorted(str((k, len(v))) for k, v in data.items())), BokehUserWarning))\n",
      "c:\\users\\midas\\appdata\\local\\programs\\python\\python36-32\\lib\\site-packages\\bokeh\\models\\sources.py:110: BokehUserWarning: ColumnDataSource's columns must be of the same length. Current lengths: ('x', 34), ('y', 224)\n",
      "  \"Current lengths: %s\" % \", \".join(sorted(str((k, len(v))) for k, v in data.items())), BokehUserWarning))\n",
      "c:\\users\\midas\\appdata\\local\\programs\\python\\python36-32\\lib\\site-packages\\bokeh\\models\\sources.py:110: BokehUserWarning: ColumnDataSource's columns must be of the same length. Current lengths: ('x', 31), ('y', 224)\n",
      "  \"Current lengths: %s\" % \", \".join(sorted(str((k, len(v))) for k, v in data.items())), BokehUserWarning))\n",
      "c:\\users\\midas\\appdata\\local\\programs\\python\\python36-32\\lib\\site-packages\\bokeh\\models\\sources.py:110: BokehUserWarning: ColumnDataSource's columns must be of the same length. Current lengths: ('x', 37), ('y', 224)\n",
      "  \"Current lengths: %s\" % \", \".join(sorted(str((k, len(v))) for k, v in data.items())), BokehUserWarning))\n",
      "c:\\users\\midas\\appdata\\local\\programs\\python\\python36-32\\lib\\site-packages\\bokeh\\models\\sources.py:110: BokehUserWarning: ColumnDataSource's columns must be of the same length. Current lengths: ('x', 28), ('y', 224)\n",
      "  \"Current lengths: %s\" % \", \".join(sorted(str((k, len(v))) for k, v in data.items())), BokehUserWarning))\n",
      "c:\\users\\midas\\appdata\\local\\programs\\python\\python36-32\\lib\\site-packages\\bokeh\\models\\sources.py:110: BokehUserWarning: ColumnDataSource's columns must be of the same length. Current lengths: ('x', 31), ('y', 224)\n",
      "  \"Current lengths: %s\" % \", \".join(sorted(str((k, len(v))) for k, v in data.items())), BokehUserWarning))\n",
      "c:\\users\\midas\\appdata\\local\\programs\\python\\python36-32\\lib\\site-packages\\bokeh\\models\\sources.py:110: BokehUserWarning: ColumnDataSource's columns must be of the same length. Current lengths: ('x', 38), ('y', 224)\n",
      "  \"Current lengths: %s\" % \", \".join(sorted(str((k, len(v))) for k, v in data.items())), BokehUserWarning))\n",
      "c:\\users\\midas\\appdata\\local\\programs\\python\\python36-32\\lib\\site-packages\\bokeh\\models\\sources.py:110: BokehUserWarning: ColumnDataSource's columns must be of the same length. Current lengths: ('x', 38), ('y', 224)\n",
      "  \"Current lengths: %s\" % \", \".join(sorted(str((k, len(v))) for k, v in data.items())), BokehUserWarning))\n",
      "c:\\users\\midas\\appdata\\local\\programs\\python\\python36-32\\lib\\site-packages\\bokeh\\models\\sources.py:110: BokehUserWarning: ColumnDataSource's columns must be of the same length. Current lengths: ('x', 38), ('y', 224)\n",
      "  \"Current lengths: %s\" % \", \".join(sorted(str((k, len(v))) for k, v in data.items())), BokehUserWarning))\n",
      "c:\\users\\midas\\appdata\\local\\programs\\python\\python36-32\\lib\\site-packages\\bokeh\\models\\sources.py:110: BokehUserWarning: ColumnDataSource's columns must be of the same length. Current lengths: ('x', 18), ('y', 224)\n",
      "  \"Current lengths: %s\" % \", \".join(sorted(str((k, len(v))) for k, v in data.items())), BokehUserWarning))\n",
      "c:\\users\\midas\\appdata\\local\\programs\\python\\python36-32\\lib\\site-packages\\bokeh\\models\\sources.py:110: BokehUserWarning: ColumnDataSource's columns must be of the same length. Current lengths: ('x', 31), ('y', 224)\n",
      "  \"Current lengths: %s\" % \", \".join(sorted(str((k, len(v))) for k, v in data.items())), BokehUserWarning))\n",
      "c:\\users\\midas\\appdata\\local\\programs\\python\\python36-32\\lib\\site-packages\\bokeh\\models\\sources.py:110: BokehUserWarning: ColumnDataSource's columns must be of the same length. Current lengths: ('x', 38), ('y', 224)\n",
      "  \"Current lengths: %s\" % \", \".join(sorted(str((k, len(v))) for k, v in data.items())), BokehUserWarning))\n",
      "c:\\users\\midas\\appdata\\local\\programs\\python\\python36-32\\lib\\site-packages\\bokeh\\models\\sources.py:110: BokehUserWarning: ColumnDataSource's columns must be of the same length. Current lengths: ('x', 122), ('y', 224)\n",
      "  \"Current lengths: %s\" % \", \".join(sorted(str((k, len(v))) for k, v in data.items())), BokehUserWarning))\n",
      "c:\\users\\midas\\appdata\\local\\programs\\python\\python36-32\\lib\\site-packages\\bokeh\\models\\sources.py:110: BokehUserWarning: ColumnDataSource's columns must be of the same length. Current lengths: ('x', 31), ('y', 224)\n",
      "  \"Current lengths: %s\" % \", \".join(sorted(str((k, len(v))) for k, v in data.items())), BokehUserWarning))\n",
      "c:\\users\\midas\\appdata\\local\\programs\\python\\python36-32\\lib\\site-packages\\bokeh\\models\\sources.py:110: BokehUserWarning: ColumnDataSource's columns must be of the same length. Current lengths: ('x', 38), ('y', 224)\n",
      "  \"Current lengths: %s\" % \", \".join(sorted(str((k, len(v))) for k, v in data.items())), BokehUserWarning))\n",
      "c:\\users\\midas\\appdata\\local\\programs\\python\\python36-32\\lib\\site-packages\\bokeh\\models\\sources.py:110: BokehUserWarning: ColumnDataSource's columns must be of the same length. Current lengths: ('x', 29), ('y', 224)\n",
      "  \"Current lengths: %s\" % \", \".join(sorted(str((k, len(v))) for k, v in data.items())), BokehUserWarning))\n"
     ]
    },
    {
     "name": "stderr",
     "output_type": "stream",
     "text": [
      "c:\\users\\midas\\appdata\\local\\programs\\python\\python36-32\\lib\\site-packages\\bokeh\\models\\sources.py:110: BokehUserWarning: ColumnDataSource's columns must be of the same length. Current lengths: ('x', 38), ('y', 224)\n",
      "  \"Current lengths: %s\" % \", \".join(sorted(str((k, len(v))) for k, v in data.items())), BokehUserWarning))\n",
      "c:\\users\\midas\\appdata\\local\\programs\\python\\python36-32\\lib\\site-packages\\bokeh\\models\\sources.py:110: BokehUserWarning: ColumnDataSource's columns must be of the same length. Current lengths: ('x', 37), ('y', 224)\n",
      "  \"Current lengths: %s\" % \", \".join(sorted(str((k, len(v))) for k, v in data.items())), BokehUserWarning))\n",
      "c:\\users\\midas\\appdata\\local\\programs\\python\\python36-32\\lib\\site-packages\\bokeh\\models\\sources.py:110: BokehUserWarning: ColumnDataSource's columns must be of the same length. Current lengths: ('x', 26), ('y', 224)\n",
      "  \"Current lengths: %s\" % \", \".join(sorted(str((k, len(v))) for k, v in data.items())), BokehUserWarning))\n",
      "c:\\users\\midas\\appdata\\local\\programs\\python\\python36-32\\lib\\site-packages\\bokeh\\models\\sources.py:110: BokehUserWarning: ColumnDataSource's columns must be of the same length. Current lengths: ('x', 38), ('y', 224)\n",
      "  \"Current lengths: %s\" % \", \".join(sorted(str((k, len(v))) for k, v in data.items())), BokehUserWarning))\n",
      "c:\\users\\midas\\appdata\\local\\programs\\python\\python36-32\\lib\\site-packages\\bokeh\\models\\sources.py:110: BokehUserWarning: ColumnDataSource's columns must be of the same length. Current lengths: ('x', 38), ('y', 224)\n",
      "  \"Current lengths: %s\" % \", \".join(sorted(str((k, len(v))) for k, v in data.items())), BokehUserWarning))\n",
      "c:\\users\\midas\\appdata\\local\\programs\\python\\python36-32\\lib\\site-packages\\bokeh\\models\\sources.py:110: BokehUserWarning: ColumnDataSource's columns must be of the same length. Current lengths: ('x', 38), ('y', 224)\n",
      "  \"Current lengths: %s\" % \", \".join(sorted(str((k, len(v))) for k, v in data.items())), BokehUserWarning))\n",
      "c:\\users\\midas\\appdata\\local\\programs\\python\\python36-32\\lib\\site-packages\\bokeh\\models\\sources.py:110: BokehUserWarning: ColumnDataSource's columns must be of the same length. Current lengths: ('x', 37), ('y', 224)\n",
      "  \"Current lengths: %s\" % \", \".join(sorted(str((k, len(v))) for k, v in data.items())), BokehUserWarning))\n",
      "c:\\users\\midas\\appdata\\local\\programs\\python\\python36-32\\lib\\site-packages\\bokeh\\models\\sources.py:110: BokehUserWarning: ColumnDataSource's columns must be of the same length. Current lengths: ('x', 38), ('y', 224)\n",
      "  \"Current lengths: %s\" % \", \".join(sorted(str((k, len(v))) for k, v in data.items())), BokehUserWarning))\n",
      "c:\\users\\midas\\appdata\\local\\programs\\python\\python36-32\\lib\\site-packages\\bokeh\\models\\sources.py:110: BokehUserWarning: ColumnDataSource's columns must be of the same length. Current lengths: ('x', 31), ('y', 224)\n",
      "  \"Current lengths: %s\" % \", \".join(sorted(str((k, len(v))) for k, v in data.items())), BokehUserWarning))\n",
      "c:\\users\\midas\\appdata\\local\\programs\\python\\python36-32\\lib\\site-packages\\bokeh\\models\\sources.py:110: BokehUserWarning: ColumnDataSource's columns must be of the same length. Current lengths: ('x', 29), ('y', 224)\n",
      "  \"Current lengths: %s\" % \", \".join(sorted(str((k, len(v))) for k, v in data.items())), BokehUserWarning))\n",
      "c:\\users\\midas\\appdata\\local\\programs\\python\\python36-32\\lib\\site-packages\\bokeh\\models\\sources.py:110: BokehUserWarning: ColumnDataSource's columns must be of the same length. Current lengths: ('x', 31), ('y', 224)\n",
      "  \"Current lengths: %s\" % \", \".join(sorted(str((k, len(v))) for k, v in data.items())), BokehUserWarning))\n",
      "c:\\users\\midas\\appdata\\local\\programs\\python\\python36-32\\lib\\site-packages\\bokeh\\models\\sources.py:110: BokehUserWarning: ColumnDataSource's columns must be of the same length. Current lengths: ('x', 31), ('y', 224)\n",
      "  \"Current lengths: %s\" % \", \".join(sorted(str((k, len(v))) for k, v in data.items())), BokehUserWarning))\n",
      "c:\\users\\midas\\appdata\\local\\programs\\python\\python36-32\\lib\\site-packages\\bokeh\\models\\sources.py:110: BokehUserWarning: ColumnDataSource's columns must be of the same length. Current lengths: ('x', 37), ('y', 224)\n",
      "  \"Current lengths: %s\" % \", \".join(sorted(str((k, len(v))) for k, v in data.items())), BokehUserWarning))\n",
      "c:\\users\\midas\\appdata\\local\\programs\\python\\python36-32\\lib\\site-packages\\bokeh\\models\\sources.py:110: BokehUserWarning: ColumnDataSource's columns must be of the same length. Current lengths: ('x', 38), ('y', 224)\n",
      "  \"Current lengths: %s\" % \", \".join(sorted(str((k, len(v))) for k, v in data.items())), BokehUserWarning))\n",
      "c:\\users\\midas\\appdata\\local\\programs\\python\\python36-32\\lib\\site-packages\\bokeh\\models\\sources.py:110: BokehUserWarning: ColumnDataSource's columns must be of the same length. Current lengths: ('x', 38), ('y', 224)\n",
      "  \"Current lengths: %s\" % \", \".join(sorted(str((k, len(v))) for k, v in data.items())), BokehUserWarning))\n",
      "c:\\users\\midas\\appdata\\local\\programs\\python\\python36-32\\lib\\site-packages\\bokeh\\models\\sources.py:110: BokehUserWarning: ColumnDataSource's columns must be of the same length. Current lengths: ('x', 31), ('y', 224)\n",
      "  \"Current lengths: %s\" % \", \".join(sorted(str((k, len(v))) for k, v in data.items())), BokehUserWarning))\n",
      "c:\\users\\midas\\appdata\\local\\programs\\python\\python36-32\\lib\\site-packages\\bokeh\\models\\sources.py:110: BokehUserWarning: ColumnDataSource's columns must be of the same length. Current lengths: ('x', 31), ('y', 224)\n",
      "  \"Current lengths: %s\" % \", \".join(sorted(str((k, len(v))) for k, v in data.items())), BokehUserWarning))\n",
      "c:\\users\\midas\\appdata\\local\\programs\\python\\python36-32\\lib\\site-packages\\bokeh\\models\\sources.py:110: BokehUserWarning: ColumnDataSource's columns must be of the same length. Current lengths: ('x', 38), ('y', 224)\n",
      "  \"Current lengths: %s\" % \", \".join(sorted(str((k, len(v))) for k, v in data.items())), BokehUserWarning))\n",
      "c:\\users\\midas\\appdata\\local\\programs\\python\\python36-32\\lib\\site-packages\\bokeh\\models\\sources.py:110: BokehUserWarning: ColumnDataSource's columns must be of the same length. Current lengths: ('x', 38), ('y', 224)\n",
      "  \"Current lengths: %s\" % \", \".join(sorted(str((k, len(v))) for k, v in data.items())), BokehUserWarning))\n",
      "c:\\users\\midas\\appdata\\local\\programs\\python\\python36-32\\lib\\site-packages\\bokeh\\models\\sources.py:110: BokehUserWarning: ColumnDataSource's columns must be of the same length. Current lengths: ('x', 23), ('y', 224)\n",
      "  \"Current lengths: %s\" % \", \".join(sorted(str((k, len(v))) for k, v in data.items())), BokehUserWarning))\n"
     ]
    }
   ],
   "source": [
    "# set datasets you want to compare\n",
    "\n",
    "dataset1 = 'foodprices'\n",
    "dataset2 = 'migration_movements'\n",
    "\n",
    "# lijst van elk product in het gegeven land\n",
    "product_list = []\n",
    "for product in  foodprices.loc[foodprices['adm0_name'] == set_country]['cm_name']:\n",
    "    if product not in product_list:\n",
    "        product_list.append(product)\n",
    "\n",
    "for product in product_list:\n",
    "    set_product = product\n",
    "\n",
    "    # create figure and it's layout\n",
    "    f = figure()\n",
    "    f = figure(plot_width=1000, plot_height=650)\n",
    "    f.background_fill_color=\"lightblue\"\n",
    "    f.background_fill_alpha=0.1\n",
    "\n",
    "    if dataset1 == 'foodprices':\n",
    "        x_as = normalize(select_plot_foodprices_average(foodprices, set_country, set_product, 1999, 2017), 'average_price')\n",
    "        f.xaxis.axis_label=\"Price of {}\".format(set_product)\n",
    "\n",
    "    elif dataset1 == 'migration_movements':\n",
    "        x_as = normalize(select_plot_migration_movements1(migration_movements, set_country, 1999, 2017), 'Value')\n",
    "        f.xaxis.axis_label=\"Amount of refugees in {}\".format(set_country)\n",
    "\n",
    "\n",
    "    if dataset2 == 'foodprices':\n",
    "        y_as = normalize(select_plot_foodprices_average(foodprices,set_country, set_product, 1999, 2017), 'average_price')\n",
    "        f.yaxis.axis_label=\"Price of {}\".format(set_product)\n",
    "\n",
    "    elif dataset2 == 'migration_movements':\n",
    "        y_as = normalize(select_plot_migration_movements1(migration_movements, set_country, 1999, 2017), 'Value')\n",
    "        f.yaxis.axis_label=\"Amount of refugees in {}\".format(set_country)\n",
    "\n",
    "\n",
    "    output_file(\"Compare.html\")\n",
    "\n",
    "    # title\n",
    "    f.title.text=\"Correlation between {} and {}\".format(dataset1, dataset2)\n",
    "    f.title.text_font_size=\"25px\"\n",
    "    f.title.align=\"center\"\n",
    "\n",
    "    # toolbar\n",
    "    f.toolbar_location='above'\n",
    "\n",
    "    # manual legend to get it next to the plot, not over it\n",
    "\n",
    "    f.circle(x_as['Normalized_data'], y_as['Normalized_data'] , color='red')\n",
    "\n",
    "\n",
    "    show(f)"
   ]
  },
  {
   "cell_type": "code",
   "execution_count": null,
   "metadata": {},
   "outputs": [],
   "source": [
    "# Producten = ['Maize', 'Rice', 'Wheat flour', 'Oil (palm)', 'Sorghum', 'Millet', 'Groundnuts (unshelled)', 'Beans (niebe)', \n",
    "# 'Meat (beef)', 'Sesame', 'Oil (groundnut)', 'Cassava (cossette)', 'Bread', 'Rice (imported)', 'Beans (white)', \n",
    "# 'Oil (vegetable)', 'Sugar', 'Pasta', 'Sorghum (white)', 'Sorghum (red)', 'Fuel (kerosene)', 'Maize (local)', \n",
    "# 'Groundnuts (shelled)', 'Rice (long grain, imported)', 'Rice (medium grain, imported)', 'Rice (small grain, imported)', \n",
    "# 'Cassava', 'Maize flour', 'Milk', 'Sweet potatoes', 'Eggs', 'Meat (chicken)', 'Fonio', 'Garlic', 'Tomatoes', \n",
    "# 'Rice (paddy, long grain, local)', 'Rice (basmati, broken)', 'Potatoes (Irish)', 'Fish (bonga)', 'Carrots', 'Cashew', \n",
    "# 'Fish (dry)', 'Onions', 'Cabbage', 'Meat (mutton)', 'Salt', 'Coffee (instant)', 'Peas (green, dry)', 'Apples (red)', \n",
    "# 'Milk (powder)', 'Oranges (big size)', 'Bananas', 'Beans (dry)', 'Tea', 'Fuel (diesel)', 'Fuel (petrol-gasoline)', \n",
    "# 'Rice (local)', 'Potatoes', 'Fish', 'Fish (smoked)', 'Tomatoes (paste)', 'Cassava meal (gari)', 'Beans (niebe, white)', \n",
    "# 'Cassava meal (attieke)', 'Maize (white)', 'Milk (cow, pasteurized)', 'Maize meal', 'Bread (brown)', 'Peas (split, dry)', \n",
    "# 'Oil (sunflower)', 'Beans (sugar-red)', 'Cowpeas', 'Cassava (fresh)', 'Exchange rate', 'Rice (white, imported)', \n",
    "# 'Wage (non-qualified labour, non-agricultural)', 'Cocoa', 'Wage (non-qualified labour, agricultural)', 'Rice (paddy)', \n",
    "# 'Beans', 'Wheat', 'Sorghum (taghalit)', 'Oil (vegetable, imported)', 'Wheat flour (local)', 'Maize meal (white, first grade)', \n",
    "# 'Oil (vegetable, local)', 'Sugar (brown, imported)', 'Sugar (brown, local)', 'Groundnuts (Mix)', 'Beans (butter)', \n",
    "# 'Groundnuts (large, shelled)', 'Groundnuts (small, shelled)', 'Beans (catarino)', 'Maize meal (white, without bran) ', \n",
    "# 'Beans (magnum)', 'Maize meal (white, with bran)', 'Cassava flour', 'Yam', 'Maize (yellow)', 'Cowpeas (white)', \n",
    "# 'Cowpeas (brown)', 'Sorghum (brown)', 'Gari (yellow)', 'Gari (white)', 'Yam (Abuja)', 'Maize flour (imported)', \n",
    "# 'Chili (red)', 'Onions (red)', 'Soybeans', 'Rice (imported, Indian)', 'Sorghum flour', 'Peppers (green)', \n",
    "# 'Rice (imported, Tanzanian)', 'Livestock (Goat)', 'Spinach', 'Guava', 'Papaya', 'Mangoes', 'Eggplants', 'Charcoal', \n",
    "# 'Passion fruit', 'Zucchini', 'Livestock (hen)', 'Avocados', 'Cassava leaves', 'Peas (fresh)', 'Peas (dry)', \n",
    "# 'Onions (white)', 'Meat (pork)', 'Livestock (cattle)', 'Livestock (Sheep)', 'Livestock (pig)', 'Meat (goat)', \n",
    "# 'Cucumbers (greenhouse)', 'Beans (green, fresh)', 'Cauliflower', 'Maize (imported)', 'Exchange rate (unofficial)', \n",
    "# 'Beans (red)', 'Millet (white)', 'Cassava (dry)', 'Sorghum (food aid)', 'Cassava meal', 'Maize meal (white, roller)', \n",
    "# 'Maize meal (white, breakfast)', 'Oil (vegetable, fortified)', 'Maize meal (white, fortified)', 'Wheat flour (fortified)', \n",
    "# 'Sugar (white, fortified)', 'Rice (low quality)', 'Wage (qualified labour)', 'Livestock (sheep, one-year-old alive female)', \n",
    "# 'Bread (khoboz)', 'Lentils', 'Meat (chicken, whole)', 'Chickpeas', 'Bulgur', 'Rice (imported, Egyptian)', 'Lettuce', \n",
    "# 'Cheese (picon)', 'Meat (beef, canned)', 'Fish (sardine, canned)', 'Fish (tuna, canned)', 'Bread (pita)', \n",
    "# 'Bananas (medium size)', 'Fish (red snapper)', 'Meat (goat, with bones)', 'Oil (olive)', 'Onions (dry, local)', \n",
    "# 'Potatoes (medium size)', 'Tomatoes (greenhouse)', 'Oil (maize)', 'Labaneh', 'Yogurt', 'Cheese (goat)', 'Milk (pasteurized)', \n",
    "# 'Fish (frozen)', 'Water (drinking)', 'Wheat flour (locally processed)', 'Rice (coarse)', 'Lentils (masur)', 'Oil (cooking)', \n",
    "# 'Ghee (artificial)', 'Poultry', 'Lentils (moong)', 'Beans(mash)']"
   ]
  }
 ],
 "metadata": {
  "kernelspec": {
   "display_name": "Python 3",
   "language": "python",
   "name": "python3"
  },
  "language_info": {
   "codemirror_mode": {
    "name": "ipython",
    "version": 3
   },
   "file_extension": ".py",
   "mimetype": "text/x-python",
   "name": "python",
   "nbconvert_exporter": "python",
   "pygments_lexer": "ipython3",
   "version": "3.6.3"
  }
 },
 "nbformat": 4,
 "nbformat_minor": 2
}
