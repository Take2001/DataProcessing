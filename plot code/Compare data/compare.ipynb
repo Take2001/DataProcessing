{
 "cells": [
  {
   "cell_type": "code",
   "execution_count": 1,
   "metadata": {},
   "outputs": [],
   "source": [
    "import pandas as pd\n",
    "import numpy as np\n",
    "import matplotlib.pyplot as plt\n",
    "from bokeh.plotting import figure\n",
    "from bokeh.io import output_file, show, save\n",
    "import pandas\n",
    "from bokeh.models import DataRange1d, PanTool, ResetTool, WheelZoomTool, HoverTool, LassoSelectTool, BoxSelectTool, SaveTool, Legend"
   ]
  },
  {
   "cell_type": "code",
   "execution_count": 2,
   "metadata": {},
   "outputs": [
    {
     "name": "stdout",
     "output_type": "stream",
     "text": [
      "C:\\Users\\Midas\\Documents\\GitHub\\DataProcessing1\\plot code\\Compare data\n",
      "C:\\Users\\Midas\\Documents\\GitHub\\DataProcessing1\\helpfiles\n",
      "C:\\Users\\Midas\\Documents\\GitHub\\DataProcessing1\\helpfiles\n",
      "Succesfully imported foodprices!\n",
      "Succesfully imported migration_movements!\n",
      "succesfully imported temperature_and_precipitation!\n"
     ]
    }
   ],
   "source": [
    "import os\n",
    "print(os.getcwd())\n",
    "os.chdir(\"../../\")\n",
    "os.chdir(\"helpfiles\")\n",
    "print(os.getcwd())\n",
    "    \n",
    "from select_df import select_df\n",
    "from functies_voor_selectief_plotten import *"
   ]
  },
  {
   "cell_type": "code",
   "execution_count": 3,
   "metadata": {
    "scrolled": true
   },
   "outputs": [
    {
     "name": "stdout",
     "output_type": "stream",
     "text": [
      "Succesfully imported foodprices!\n",
      "Succesfully imported migration_movements!\n",
      "succesfully imported temperature_and_precipitation!\n"
     ]
    }
   ],
   "source": [
    "foodprices = select_df(1,'foodprices')\n",
    "migration_movements = select_df(1,'migration_movements')\n",
    "temperature_and_precipitation = select_df(1,'temperature_and_precipitation')"
   ]
  },
  {
   "cell_type": "code",
   "execution_count": 37,
   "metadata": {},
   "outputs": [
    {
     "data": {
      "text/plain": [
       "'Succesfully imported values!'"
      ]
     },
     "execution_count": 37,
     "metadata": {},
     "output_type": "execute_result"
    }
   ],
   "source": [
    "set_country = 'Gambia'\n",
    "dataset1 = 'foodprices'\n",
    "dataset2 = 'migration_movements'\n",
    "set_product = 'Maize (local)'\n",
    "\n",
    "check_product_in_foodprices(set_country, set_product, foodprices)"
   ]
  },
  {
   "cell_type": "code",
   "execution_count": 5,
   "metadata": {},
   "outputs": [
    {
     "ename": "ValueError",
     "evalue": "min() arg is an empty sequence",
     "output_type": "error",
     "traceback": [
      "\u001b[1;31m---------------------------------------------------------------------------\u001b[0m",
      "\u001b[1;31mValueError\u001b[0m                                Traceback (most recent call last)",
      "\u001b[1;32m<ipython-input-5-47639e0b5e4d>\u001b[0m in \u001b[0;36m<module>\u001b[1;34m()\u001b[0m\n\u001b[0;32m      6\u001b[0m \u001b[1;33m\u001b[0m\u001b[0m\n\u001b[0;32m      7\u001b[0m \u001b[1;32mif\u001b[0m \u001b[0mdataset1\u001b[0m \u001b[1;33m==\u001b[0m \u001b[1;34m'foodprices'\u001b[0m\u001b[1;33m:\u001b[0m\u001b[1;33m\u001b[0m\u001b[0m\n\u001b[1;32m----> 8\u001b[1;33m     \u001b[0mx_as\u001b[0m \u001b[1;33m=\u001b[0m \u001b[0mnormalize\u001b[0m\u001b[1;33m(\u001b[0m\u001b[0mselect_plot_foodprices_average\u001b[0m\u001b[1;33m(\u001b[0m\u001b[0mfoodprices\u001b[0m\u001b[1;33m,\u001b[0m \u001b[0mset_country\u001b[0m\u001b[1;33m,\u001b[0m \u001b[0mset_product\u001b[0m\u001b[1;33m,\u001b[0m \u001b[1;36m1999\u001b[0m\u001b[1;33m,\u001b[0m \u001b[1;36m2017\u001b[0m\u001b[1;33m)\u001b[0m\u001b[1;33m,\u001b[0m \u001b[1;34m'average_price'\u001b[0m\u001b[1;33m)\u001b[0m\u001b[1;33m\u001b[0m\u001b[0m\n\u001b[0m\u001b[0;32m      9\u001b[0m     \u001b[0mf\u001b[0m\u001b[1;33m.\u001b[0m\u001b[0mxaxis\u001b[0m\u001b[1;33m.\u001b[0m\u001b[0maxis_label\u001b[0m\u001b[1;33m=\u001b[0m\u001b[1;34m\"Price of {}\"\u001b[0m\u001b[1;33m.\u001b[0m\u001b[0mformat\u001b[0m\u001b[1;33m(\u001b[0m\u001b[0mset_product\u001b[0m\u001b[1;33m)\u001b[0m\u001b[1;33m\u001b[0m\u001b[0m\n\u001b[0;32m     10\u001b[0m \u001b[1;33m\u001b[0m\u001b[0m\n",
      "\u001b[1;32m~\\Documents\\GitHub\\DataProcessing1\\helpfiles\\functies_voor_selectief_plotten.py\u001b[0m in \u001b[0;36mnormalize\u001b[1;34m(input_data, column)\u001b[0m\n\u001b[0;32m     36\u001b[0m          \u001b[0mvalues\u001b[0m\u001b[1;33m.\u001b[0m\u001b[0mappend\u001b[0m\u001b[1;33m(\u001b[0m\u001b[0mvalue\u001b[0m\u001b[1;33m)\u001b[0m\u001b[1;33m\u001b[0m\u001b[0m\n\u001b[0;32m     37\u001b[0m \u001b[1;33m\u001b[0m\u001b[0m\n\u001b[1;32m---> 38\u001b[1;33m     \u001b[0mMin\u001b[0m \u001b[1;33m=\u001b[0m \u001b[0mmin\u001b[0m\u001b[1;33m(\u001b[0m\u001b[0mvalues\u001b[0m\u001b[1;33m)\u001b[0m\u001b[1;33m\u001b[0m\u001b[0m\n\u001b[0m\u001b[0;32m     39\u001b[0m     \u001b[0mMax\u001b[0m \u001b[1;33m=\u001b[0m \u001b[0mmax\u001b[0m\u001b[1;33m(\u001b[0m\u001b[0mvalues\u001b[0m\u001b[1;33m)\u001b[0m\u001b[1;33m\u001b[0m\u001b[0m\n\u001b[0;32m     40\u001b[0m \u001b[1;33m\u001b[0m\u001b[0m\n",
      "\u001b[1;31mValueError\u001b[0m: min() arg is an empty sequence"
     ]
    }
   ],
   "source": [
    "# create figure and it's layout\n",
    "f = figure()\n",
    "f = figure(plot_width=1000, plot_height=650)\n",
    "f.background_fill_color=\"lightblue\"\n",
    "f.background_fill_alpha=0.1\n",
    "\n",
    "if dataset1 == 'foodprices':\n",
    "    x_as = normalize(select_plot_foodprices_average(foodprices, set_country, set_product, 1999, 2017), 'average_price')\n",
    "    f.xaxis.axis_label=\"Price of {}\".format(set_product)\n",
    "                     \n",
    "elif dataset1 == 'migration_movements':\n",
    "    x_as = normalize(select_plot_migration_movements1(migration_movements, set_country, 1999, 2017), 'Value')\n",
    "    f.xaxis.axis_label=\"Amount of refugees in {}\".format(set_country)\n",
    "    \n",
    "\n",
    "if dataset2 == 'foodprices':\n",
    "    y_as = normalize(select_plot_foodprices_average(foodprices,set_country, set_product, 1999, 2017), 'average_price')\n",
    "    f.yaxis.axis_label=\"Price of {}\".format(set_product)\n",
    "                         \n",
    "elif dataset2 == 'migration_movements':\n",
    "    y_as = normalize(select_plot_migration_movements1(migration_movements, set_country, 1999, 2017), 'Value')\n",
    "    f.yaxis.axis_label=\"Amount of refugees in {}\".format(set_country)\n",
    "    \n",
    "    \n",
    "output_file(\"Compare.html\")\n",
    "\n",
    "# title\n",
    "f.title.text=\"Refugees from Middle East to Europe\"\n",
    "f.title.text_font_size=\"25px\"\n",
    "f.title.align=\"center\"\n",
    "\n",
    "# toolbar\n",
    "f.toolbar_location='above'\n",
    "\n",
    "# manual legend to get it next to the plot, not over it\n",
    "    \n",
    "f.circle(x_as['Normalized_data'], y_as['Normalized_data'] , color='red')\n",
    "    \n",
    "\n",
    "show(f)"
   ]
  },
  {
   "cell_type": "code",
   "execution_count": null,
   "metadata": {},
   "outputs": [],
   "source": [
    "# elif dataset1 == 'temperature_and_precipitation':\n",
    "    \n",
    "#     if set_variable1 == 'rain':\n",
    "#         x_as = normalize(select_plot_temperature_and_precipitation(temperature_and_precipitation, set_country, set_year1, set_year2), 'pr')\n",
    "        \n",
    "#     elif set_variable1 == 'temperature':\n",
    "#         x_as = normalize(select_plot_temperature_and_precipitation(temperature_and_precipitation, set_country, set_year1, set_year2), 'tas')\n",
    "        \n",
    "#         elif dataset2 == 'temperature_and_precipitation':\n",
    "    \n",
    "#     if set_variable2 == 'rain':\n",
    "#         y_as = normalize(select_plot_temperature_and_precipitation(temperature_and_precipitation, set_country, set_year1, set_year2), 'pr')\n",
    "        \n",
    "#     elif set_variable2 == 'temperature':\n",
    "#         y_as = normalize(select_plot_temperature_and_precipitation(temperature_and_precipitation, set_country, set_year1, set_year2), 'tas')"
   ]
  },
  {
   "cell_type": "code",
   "execution_count": null,
   "metadata": {},
   "outputs": [],
   "source": []
  }
 ],
 "metadata": {
  "kernelspec": {
   "display_name": "Python 3",
   "language": "python",
   "name": "python3"
  },
  "language_info": {
   "codemirror_mode": {
    "name": "ipython",
    "version": 3
   },
   "file_extension": ".py",
   "mimetype": "text/x-python",
   "name": "python",
   "nbconvert_exporter": "python",
   "pygments_lexer": "ipython3",
   "version": "3.6.3"
  }
 },
 "nbformat": 4,
 "nbformat_minor": 2
}
