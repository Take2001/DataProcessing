{
 "cells": [
  {
   "cell_type": "code",
   "execution_count": null,
   "metadata": {},
   "outputs": [],
   "source": [
    "def normalize(input_data, column):\n",
    "    values = []\n",
    "    \n",
    "    for value in input_data[column]:\n",
    "         values.append(value)\n",
    "            \n",
    "    Min = min(values)\n",
    "    Max = max(values)\n",
    "        \n",
    "    output_data = []\n",
    "    for value in input_data[column]:\n",
    "        output_data.append((value - Min)/(Max - Min))\n",
    "    \n",
    "    input_data['Normalized_data'] = output_data\n",
    "    \n",
    "    return input_data"
   ]
  }
 ],
 "metadata": {
  "kernelspec": {
   "display_name": "Python 3",
   "language": "python",
   "name": "python3"
  },
  "language_info": {
   "codemirror_mode": {
    "name": "ipython",
    "version": 3
   },
   "file_extension": ".py",
   "mimetype": "text/x-python",
   "name": "python",
   "nbconvert_exporter": "python",
   "pygments_lexer": "ipython3",
   "version": "3.6.3"
  }
 },
 "nbformat": 4,
 "nbformat_minor": 2
}
