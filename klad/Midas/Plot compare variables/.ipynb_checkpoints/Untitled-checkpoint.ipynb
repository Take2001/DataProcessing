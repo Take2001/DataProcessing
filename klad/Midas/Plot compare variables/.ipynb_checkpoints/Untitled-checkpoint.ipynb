{
 "cells": [
  {
   "cell_type": "code",
   "execution_count": null,
   "metadata": {},
   "outputs": [],
   "source": [
    "def normalize(input_data, column):\n",
    "    values = []\n",
    "    \n",
    "    for value in input_data[column]:\n",
    "         values.append(value)\n",
    "            \n",
    "    Min = min(values)\n",
    "    Max = max(values)\n",
    "        \n",
    "    output_data = []\n",
    "    for value in input_data[column]:\n",
    "        output_data.append((value - Min)/(Max - Min))\n",
    "    \n",
    "    input_data['Normalized_data'] = output_data\n",
    "    \n",
    "    return input_data"
   ]
  },
  {
   "cell_type": "code",
   "execution_count": 10,
   "metadata": {},
   "outputs": [
    {
     "name": "stdout",
     "output_type": "stream",
     "text": [
      "C:\\Users\\Midas\\Documents\\GitHub\\DataProcessing1\\helpfiles\n"
     ]
    }
   ],
   "source": [
    "from select_df import select_df"
   ]
  },
  {
   "cell_type": "code",
   "execution_count": 14,
   "metadata": {},
   "outputs": [
    {
     "name": "stdout",
     "output_type": "stream",
     "text": [
      "C:\\Users\\Midas\\Documents\\GitHub\\DataProcessing1\\datasets\n",
      "imported dataset as: df_migration_movements\n",
      "C:\\Users\\Midas\\Documents\\GitHub\\DataProcessing1\\datasets\n"
     ]
    }
   ],
   "source": [
    "df1 = select_df(1, 'migration_movements')"
   ]
  },
  {
   "cell_type": "code",
   "execution_count": null,
   "metadata": {},
   "outputs": [],
   "source": [
    "def unify_names(folders_up, dataset):\n",
    "    df = select_df(folders_up, dataset)\n",
    "    \n",
    "    if dataset == 'foodprices':\n",
    "        df['adm0_name'] = df.loc[:, 'adm0_name'].replace(['Iran  (Islamic Republic of)'], ['Iran'], inplace=True)\n",
    "        \n",
    "    if dataset == 'migration_movements':\n",
    "        \n",
    "        \n",
    "        \n",
    "        \n",
    "         Afghanistan, Burkina Faso, Burundi, Central African Republic, Democratic Republic of the Congo, Djibouti, \n",
    "            Gambia, Guinea, Iran  (Islamic Republic of), Iraq, Kenya, Lebanon, Lesotho, Liberia, Madagascar, Malawi, \n",
    "            Mali, Mauritania, Mozambique, Niger, Nigeria, Pakistan, Rwanda, Senegal, South Sudan, State of Palestine, \n",
    "            Sudan, Uganda, Zambia, Zimbabwe\n"
   ]
  }
 ],
 "metadata": {
  "kernelspec": {
   "display_name": "Python 3",
   "language": "python",
   "name": "python3"
  },
  "language_info": {
   "codemirror_mode": {
    "name": "ipython",
    "version": 3
   },
   "file_extension": ".py",
   "mimetype": "text/x-python",
   "name": "python",
   "nbconvert_exporter": "python",
   "pygments_lexer": "ipython3",
   "version": "3.6.3"
  }
 },
 "nbformat": 4,
 "nbformat_minor": 2
}
