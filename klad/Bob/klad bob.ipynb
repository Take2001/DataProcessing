{
 "cells": [
  {
   "cell_type": "code",
   "execution_count": 6,
   "metadata": {},
   "outputs": [
    {
     "name": "stdout",
     "output_type": "stream",
     "text": [
      "Burkina faso, Cabo Verde, Central African Republic, Burundi, Democratic Republic of the Congo, Djibouti, Ehtiopia, Gambia, Guinea, Kenya, Lesotho, Liberia, Madagascar, Malawi, Mali, Mauritania, Mozambique, Niger, Nigeria, Rwanda, Senegal, Somalia, South Sudan, Sudan, Uganda, Tanzania, Zambia, Zimbabwe, "
     ]
    },
    {
     "data": {
      "text/plain": [
       "[None,\n",
       " None,\n",
       " None,\n",
       " None,\n",
       " None,\n",
       " None,\n",
       " None,\n",
       " None,\n",
       " None,\n",
       " None,\n",
       " None,\n",
       " None,\n",
       " None,\n",
       " None,\n",
       " None,\n",
       " None,\n",
       " None,\n",
       " None,\n",
       " None,\n",
       " None,\n",
       " None,\n",
       " None,\n",
       " None,\n",
       " None,\n",
       " None,\n",
       " None,\n",
       " None,\n",
       " None]"
      ]
     },
     "execution_count": 6,
     "metadata": {},
     "output_type": "execute_result"
    }
   ],
   "source": [
    "landen = [\"Burkina faso\", \"Cabo Verde\", \"Central African Republic\",\"Burundi\", \"Democratic Republic of the Congo\", \"Djibouti\", \"Ehtiopia\", \"Gambia\", \"Guinea\", \"Kenya\", \"Lesotho\", \"Liberia\", \"Madagascar\", \"Malawi\",\"Mali\", \"Mauritania\", \"Mozambique\", \"Niger\", \"Nigeria\" , \"Rwanda\", \"Senegal\", \"Somalia\", \"South Sudan\", \"Sudan\", \"Uganda\", \"Tanzania\", \"Zambia\", \"Zimbabwe\"]\n",
    "[print(i,end=\", \") for i in landen]"
   ]
  }
 ],
 "metadata": {
  "kernelspec": {
   "display_name": "Python 3",
   "language": "python",
   "name": "python3"
  },
  "language_info": {
   "codemirror_mode": {
    "name": "ipython",
    "version": 3
   },
   "file_extension": ".py",
   "mimetype": "text/x-python",
   "name": "python",
   "nbconvert_exporter": "python",
   "pygments_lexer": "ipython3",
   "version": "3.6.5"
  }
 },
 "nbformat": 4,
 "nbformat_minor": 2
}
