{
 "cells": [
  {
   "cell_type": "code",
   "execution_count": 29,
   "metadata": {},
   "outputs": [],
   "source": [
    "import pandas as pd\n",
    "import matplotlib.pyplot as plt\n",
    "from bokeh.plotting import figure\n",
    "from bokeh.io import output_file, show"
   ]
  },
  {
   "cell_type": "markdown",
   "metadata": {},
   "source": [
    "# Afrika"
   ]
  },
  {
   "cell_type": "code",
   "execution_count": 39,
   "metadata": {},
   "outputs": [],
   "source": [
    "# Laat zien wat de gemiddelde prijs van een product in een land in Afrika is\n",
    "africa=pd.read_csv(\"Food_prizes_Africa_processed.csv\", encoding= \"latin1\")\n",
    "\n",
    "def plotprice(country, product):\n",
    "    prijslijst = []\n",
    "    \n",
    "    # kies land \n",
    "    af_country = africa.loc[africa['adm0_name'] == country]\n",
    "    \n",
    "    #maak een lijst van de markten in dat land\n",
    "    markets = af_country.groupby('mkt_name')['adm0_name']\n",
    "    market_list = markets.count()\n",
    "    markets_in_country = market_list.index.tolist()\n",
    "    \n",
    "    # itereer over markten\n",
    "    for market in markets_in_country:\n",
    "        markt = af_country.loc[africa['mkt_name'] == market]\n",
    "        eten = markt.loc[markt['cm_name'] == product]\n",
    "        prijs = eten['mp_price']\n",
    "        prijslijst.append(prijs)\n",
    "    \n",
    "    # plot de grafiek\n",
    "    y_values = (sum(prijslijst)/len(prijslijst))\n",
    "    x_values = eten['Year']\n",
    "    y_values = prijs\n",
    "    plt.plot(x_values, y_values)\n"
   ]
  },
  {
   "cell_type": "code",
   "execution_count": 40,
   "metadata": {},
   "outputs": [
    {
     "data": {
      "image/png": "[encoded data removed]",
      "text/plain": [
       "<Figure size 432x288 with 1 Axes>"
      ]
     },
     "metadata": {},
     "output_type": "display_data"
    }
   ],
   "source": [
    "plotprice('Gambia', 'Millet')\n"
   ]
  },
  {
   "cell_type": "code",
   "execution_count": 14,
   "metadata": {},
   "outputs": [
    {
     "name": "stdout",
     "output_type": "stream",
     "text": [
      "['Sorghum' 'Maize (white)' 'Potatoes (Irish)' 'Beans (dry)']\n",
      "['Maize (white)']\n",
      "['Maize (white)']\n",
      "['Maize (white)' 'Beans (dry)']\n",
      "['Maize (white)' 'Beans (dry)']\n",
      "['Sorghum' 'Maize (white)' 'Potatoes (Irish)' 'Beans (dry)']\n",
      "['Sorghum' 'Maize (white)' 'Potatoes (Irish)' 'Beans (dry)']\n",
      "['Maize (white)']\n",
      "['Maize (white)']\n",
      "['Maize (white)' 'Beans (dry)']\n",
      "['Maize (white)']\n",
      "['Maize (white)' 'Beans (dry)']\n",
      "['Bread' 'Sorghum' 'Maize (white)' 'Oil (vegetable)' 'Potatoes (Irish)'\n",
      " 'Beans (dry)' 'Fuel (kerosene)' 'Fuel (diesel)' 'Fuel (petrol-gasoline)'\n",
      " 'Milk (cow, pasteurized)']\n",
      "['Sorghum' 'Maize (white)' 'Potatoes (Irish)' 'Beans (dry)']\n"
     ]
    }
   ],
   "source": [
    "# laat zien welke producten er in een bepaald land te koop zijn\n",
    "def products_country(country):\n",
    "    af_country = africa.loc[africa['adm0_name'] == country]\n",
    "    markets = af_country.groupby('mkt_name')['adm0_name']\n",
    "    market_list = markets.count()\n",
    "    markets_in_country = market_list.index.tolist()\n",
    "    for market in markets_in_country:\n",
    "        markt = af_country.loc[africa['mkt_name'] == market]\n",
    "        eten = markt['cm_name'].unique()\n",
    "        print(eten)\n",
    "products_country('Kenya')"
   ]
  },
  {
   "cell_type": "markdown",
   "metadata": {},
   "source": [
    "# Midden Oosten"
   ]
  },
  {
   "cell_type": "code",
   "execution_count": 4,
   "metadata": {},
   "outputs": [
    {
     "ename": "FileNotFoundError",
     "evalue": "File b'Food_prizes_MiddleEast_processed.csv' does not exist",
     "output_type": "error",
     "traceback": [
      "\u001b[1;31m---------------------------------------------------------------------------\u001b[0m",
      "\u001b[1;31mFileNotFoundError\u001b[0m                         Traceback (most recent call last)",
      "\u001b[1;32m<ipython-input-4-d2e73d697bbe>\u001b[0m in \u001b[0;36m<module>\u001b[1;34m()\u001b[0m\n\u001b[0;32m      1\u001b[0m \u001b[1;31m# Laat zien wat de gemiddelde prijs van een product in een land in het Midden Oosten is\u001b[0m\u001b[1;33m\u001b[0m\u001b[1;33m\u001b[0m\u001b[0m\n\u001b[1;32m----> 2\u001b[1;33m \u001b[0mmiddle_east\u001b[0m\u001b[1;33m=\u001b[0m\u001b[0mpd\u001b[0m\u001b[1;33m.\u001b[0m\u001b[0mread_csv\u001b[0m\u001b[1;33m(\u001b[0m\u001b[1;34m\"Food_prizes_MiddleEast_processed.csv\"\u001b[0m\u001b[1;33m,\u001b[0m \u001b[0mencoding\u001b[0m\u001b[1;33m=\u001b[0m \u001b[1;34m\"latin1\"\u001b[0m\u001b[1;33m)\u001b[0m\u001b[1;33m\u001b[0m\u001b[0m\n\u001b[0m\u001b[0;32m      3\u001b[0m \u001b[1;33m\u001b[0m\u001b[0m\n\u001b[0;32m      4\u001b[0m \u001b[1;32mdef\u001b[0m \u001b[0mplotprice\u001b[0m\u001b[1;33m(\u001b[0m\u001b[0mcountry\u001b[0m\u001b[1;33m,\u001b[0m \u001b[0mproduct\u001b[0m\u001b[1;33m)\u001b[0m\u001b[1;33m:\u001b[0m\u001b[1;33m\u001b[0m\u001b[0m\n\u001b[0;32m      5\u001b[0m     \u001b[1;31m# kies land\u001b[0m\u001b[1;33m\u001b[0m\u001b[1;33m\u001b[0m\u001b[0m\n",
      "\u001b[1;32mc:\\users\\boble\\appdata\\local\\programs\\python\\python36-32\\lib\\site-packages\\pandas\\io\\parsers.py\u001b[0m in \u001b[0;36mparser_f\u001b[1;34m(filepath_or_buffer, sep, delimiter, header, names, index_col, usecols, squeeze, prefix, mangle_dupe_cols, dtype, engine, converters, true_values, false_values, skipinitialspace, skiprows, nrows, na_values, keep_default_na, na_filter, verbose, skip_blank_lines, parse_dates, infer_datetime_format, keep_date_col, date_parser, dayfirst, iterator, chunksize, compression, thousands, decimal, lineterminator, quotechar, quoting, escapechar, comment, encoding, dialect, tupleize_cols, error_bad_lines, warn_bad_lines, skipfooter, doublequote, delim_whitespace, low_memory, memory_map, float_precision)\u001b[0m\n\u001b[0;32m    676\u001b[0m                     skip_blank_lines=skip_blank_lines)\n\u001b[0;32m    677\u001b[0m \u001b[1;33m\u001b[0m\u001b[0m\n\u001b[1;32m--> 678\u001b[1;33m         \u001b[1;32mreturn\u001b[0m \u001b[0m_read\u001b[0m\u001b[1;33m(\u001b[0m\u001b[0mfilepath_or_buffer\u001b[0m\u001b[1;33m,\u001b[0m \u001b[0mkwds\u001b[0m\u001b[1;33m)\u001b[0m\u001b[1;33m\u001b[0m\u001b[0m\n\u001b[0m\u001b[0;32m    679\u001b[0m \u001b[1;33m\u001b[0m\u001b[0m\n\u001b[0;32m    680\u001b[0m     \u001b[0mparser_f\u001b[0m\u001b[1;33m.\u001b[0m\u001b[0m__name__\u001b[0m \u001b[1;33m=\u001b[0m \u001b[0mname\u001b[0m\u001b[1;33m\u001b[0m\u001b[0m\n",
      "\u001b[1;32mc:\\users\\boble\\appdata\\local\\programs\\python\\python36-32\\lib\\site-packages\\pandas\\io\\parsers.py\u001b[0m in \u001b[0;36m_read\u001b[1;34m(filepath_or_buffer, kwds)\u001b[0m\n\u001b[0;32m    438\u001b[0m \u001b[1;33m\u001b[0m\u001b[0m\n\u001b[0;32m    439\u001b[0m     \u001b[1;31m# Create the parser.\u001b[0m\u001b[1;33m\u001b[0m\u001b[1;33m\u001b[0m\u001b[0m\n\u001b[1;32m--> 440\u001b[1;33m     \u001b[0mparser\u001b[0m \u001b[1;33m=\u001b[0m \u001b[0mTextFileReader\u001b[0m\u001b[1;33m(\u001b[0m\u001b[0mfilepath_or_buffer\u001b[0m\u001b[1;33m,\u001b[0m \u001b[1;33m**\u001b[0m\u001b[0mkwds\u001b[0m\u001b[1;33m)\u001b[0m\u001b[1;33m\u001b[0m\u001b[0m\n\u001b[0m\u001b[0;32m    441\u001b[0m \u001b[1;33m\u001b[0m\u001b[0m\n\u001b[0;32m    442\u001b[0m     \u001b[1;32mif\u001b[0m \u001b[0mchunksize\u001b[0m \u001b[1;32mor\u001b[0m \u001b[0miterator\u001b[0m\u001b[1;33m:\u001b[0m\u001b[1;33m\u001b[0m\u001b[0m\n",
      "\u001b[1;32mc:\\users\\boble\\appdata\\local\\programs\\python\\python36-32\\lib\\site-packages\\pandas\\io\\parsers.py\u001b[0m in \u001b[0;36m__init__\u001b[1;34m(self, f, engine, **kwds)\u001b[0m\n\u001b[0;32m    785\u001b[0m             \u001b[0mself\u001b[0m\u001b[1;33m.\u001b[0m\u001b[0moptions\u001b[0m\u001b[1;33m[\u001b[0m\u001b[1;34m'has_index_names'\u001b[0m\u001b[1;33m]\u001b[0m \u001b[1;33m=\u001b[0m \u001b[0mkwds\u001b[0m\u001b[1;33m[\u001b[0m\u001b[1;34m'has_index_names'\u001b[0m\u001b[1;33m]\u001b[0m\u001b[1;33m\u001b[0m\u001b[0m\n\u001b[0;32m    786\u001b[0m \u001b[1;33m\u001b[0m\u001b[0m\n\u001b[1;32m--> 787\u001b[1;33m         \u001b[0mself\u001b[0m\u001b[1;33m.\u001b[0m\u001b[0m_make_engine\u001b[0m\u001b[1;33m(\u001b[0m\u001b[0mself\u001b[0m\u001b[1;33m.\u001b[0m\u001b[0mengine\u001b[0m\u001b[1;33m)\u001b[0m\u001b[1;33m\u001b[0m\u001b[0m\n\u001b[0m\u001b[0;32m    788\u001b[0m \u001b[1;33m\u001b[0m\u001b[0m\n\u001b[0;32m    789\u001b[0m     \u001b[1;32mdef\u001b[0m \u001b[0mclose\u001b[0m\u001b[1;33m(\u001b[0m\u001b[0mself\u001b[0m\u001b[1;33m)\u001b[0m\u001b[1;33m:\u001b[0m\u001b[1;33m\u001b[0m\u001b[0m\n",
      "\u001b[1;32mc:\\users\\boble\\appdata\\local\\programs\\python\\python36-32\\lib\\site-packages\\pandas\\io\\parsers.py\u001b[0m in \u001b[0;36m_make_engine\u001b[1;34m(self, engine)\u001b[0m\n\u001b[0;32m   1012\u001b[0m     \u001b[1;32mdef\u001b[0m \u001b[0m_make_engine\u001b[0m\u001b[1;33m(\u001b[0m\u001b[0mself\u001b[0m\u001b[1;33m,\u001b[0m \u001b[0mengine\u001b[0m\u001b[1;33m=\u001b[0m\u001b[1;34m'c'\u001b[0m\u001b[1;33m)\u001b[0m\u001b[1;33m:\u001b[0m\u001b[1;33m\u001b[0m\u001b[0m\n\u001b[0;32m   1013\u001b[0m         \u001b[1;32mif\u001b[0m \u001b[0mengine\u001b[0m \u001b[1;33m==\u001b[0m \u001b[1;34m'c'\u001b[0m\u001b[1;33m:\u001b[0m\u001b[1;33m\u001b[0m\u001b[0m\n\u001b[1;32m-> 1014\u001b[1;33m             \u001b[0mself\u001b[0m\u001b[1;33m.\u001b[0m\u001b[0m_engine\u001b[0m \u001b[1;33m=\u001b[0m \u001b[0mCParserWrapper\u001b[0m\u001b[1;33m(\u001b[0m\u001b[0mself\u001b[0m\u001b[1;33m.\u001b[0m\u001b[0mf\u001b[0m\u001b[1;33m,\u001b[0m \u001b[1;33m**\u001b[0m\u001b[0mself\u001b[0m\u001b[1;33m.\u001b[0m\u001b[0moptions\u001b[0m\u001b[1;33m)\u001b[0m\u001b[1;33m\u001b[0m\u001b[0m\n\u001b[0m\u001b[0;32m   1015\u001b[0m         \u001b[1;32melse\u001b[0m\u001b[1;33m:\u001b[0m\u001b[1;33m\u001b[0m\u001b[0m\n\u001b[0;32m   1016\u001b[0m             \u001b[1;32mif\u001b[0m \u001b[0mengine\u001b[0m \u001b[1;33m==\u001b[0m \u001b[1;34m'python'\u001b[0m\u001b[1;33m:\u001b[0m\u001b[1;33m\u001b[0m\u001b[0m\n",
      "\u001b[1;32mc:\\users\\boble\\appdata\\local\\programs\\python\\python36-32\\lib\\site-packages\\pandas\\io\\parsers.py\u001b[0m in \u001b[0;36m__init__\u001b[1;34m(self, src, **kwds)\u001b[0m\n\u001b[0;32m   1706\u001b[0m         \u001b[0mkwds\u001b[0m\u001b[1;33m[\u001b[0m\u001b[1;34m'usecols'\u001b[0m\u001b[1;33m]\u001b[0m \u001b[1;33m=\u001b[0m \u001b[0mself\u001b[0m\u001b[1;33m.\u001b[0m\u001b[0musecols\u001b[0m\u001b[1;33m\u001b[0m\u001b[0m\n\u001b[0;32m   1707\u001b[0m \u001b[1;33m\u001b[0m\u001b[0m\n\u001b[1;32m-> 1708\u001b[1;33m         \u001b[0mself\u001b[0m\u001b[1;33m.\u001b[0m\u001b[0m_reader\u001b[0m \u001b[1;33m=\u001b[0m \u001b[0mparsers\u001b[0m\u001b[1;33m.\u001b[0m\u001b[0mTextReader\u001b[0m\u001b[1;33m(\u001b[0m\u001b[0msrc\u001b[0m\u001b[1;33m,\u001b[0m \u001b[1;33m**\u001b[0m\u001b[0mkwds\u001b[0m\u001b[1;33m)\u001b[0m\u001b[1;33m\u001b[0m\u001b[0m\n\u001b[0m\u001b[0;32m   1709\u001b[0m \u001b[1;33m\u001b[0m\u001b[0m\n\u001b[0;32m   1710\u001b[0m         \u001b[0mpassed_names\u001b[0m \u001b[1;33m=\u001b[0m \u001b[0mself\u001b[0m\u001b[1;33m.\u001b[0m\u001b[0mnames\u001b[0m \u001b[1;32mis\u001b[0m \u001b[1;32mNone\u001b[0m\u001b[1;33m\u001b[0m\u001b[0m\n",
      "\u001b[1;32mpandas\\_libs\\parsers.pyx\u001b[0m in \u001b[0;36mpandas._libs.parsers.TextReader.__cinit__\u001b[1;34m()\u001b[0m\n",
      "\u001b[1;32mpandas\\_libs\\parsers.pyx\u001b[0m in \u001b[0;36mpandas._libs.parsers.TextReader._setup_parser_source\u001b[1;34m()\u001b[0m\n",
      "\u001b[1;31mFileNotFoundError\u001b[0m: File b'Food_prizes_MiddleEast_processed.csv' does not exist"
     ]
    }
   ],
   "source": [
    "# Laat zien wat de gemiddelde prijs van een product in een land in het Midden Oosten is\n",
    "middle_east=pd.read_csv(\"Food_prizes_MiddleEast_processed.csv\", encoding= \"latin1\")\n",
    "\n",
    "def plotprice(country, product):\n",
    "    # kies land \n",
    "    me_country = middle_east.loc[middle_east['adm0_name'] == country]\n",
    "    \n",
    "    #maak een lijst van de markten in dat land\n",
    "    markets = me_country.groupby('mkt_name')['adm0_name']\n",
    "    market_list = markets.count()\n",
    "    markets_in_country = market_list.index.tolist()\n",
    "    \n",
    "    # itereer over markten\n",
    "    for market in markets_in_country:\n",
    "        markt = me_country.loc[middle_east['mkt_name'] == market]\n",
    "        eten = markt.loc[markt['cm_name'] == product]\n",
    "        prijs = eten['mp_price']\n",
    "        \n",
    "        # plot de grafiek\n",
    "        x_values = eten['Year']\n",
    "        y_values = prijs\n",
    "        plt.plot(x_values, y_values)\n",
    "        \n",
    "plotprice('Afghanistan', 'Bread')"
   ]
  },
  {
   "cell_type": "code",
   "execution_count": 6,
   "metadata": {},
   "outputs": [
    {
     "name": "stdout",
     "output_type": "stream",
     "text": [
      "['Maize (local)' 'Sorghum' 'Millet' 'Groundnuts (unshelled)'\n",
      " 'Groundnuts (shelled)' 'Rice (long grain, imported)'\n",
      " 'Rice (medium grain, imported)' 'Rice (small grain, imported)']\n",
      "['Maize' 'Bread' 'Maize (local)' 'Oil (palm)' 'Sorghum' 'Cassava' 'Millet'\n",
      " 'Maize flour' 'Milk' 'Sweet potatoes' 'Eggs' 'Meat (chicken)'\n",
      " 'Oil (vegetable)' 'Sugar' 'Fonio' 'Garlic' 'Tomatoes'\n",
      " 'Rice (paddy, long grain, local)' 'Groundnuts (unshelled)'\n",
      " 'Groundnuts (shelled)' 'Rice (basmati, broken)' 'Meat (beef)'\n",
      " 'Potatoes (Irish)' 'Fish (bonga)' 'Carrots' 'Cashew' 'Fish (dry)'\n",
      " 'Onions' 'Cabbage' 'Meat (mutton)' 'Salt' 'Coffee (instant)'\n",
      " 'Peas (green, dry)' 'Rice (long grain, imported)'\n",
      " 'Rice (medium grain, imported)' 'Rice (small grain, imported)'\n",
      " 'Apples (red)' 'Milk (powder)' 'Oranges (big size)' 'Bananas'\n",
      " 'Beans (dry)' 'Tea' 'Fuel (kerosene)' 'Fuel (diesel)'\n",
      " 'Fuel (petrol-gasoline)']\n",
      "['Maize' 'Bread' 'Maize (local)' 'Oil (palm)' 'Sorghum' 'Cassava' 'Millet'\n",
      " 'Milk' 'Sweet potatoes' 'Eggs' 'Meat (chicken)' 'Oil (vegetable)' 'Sugar'\n",
      " 'Fonio' 'Garlic' 'Tomatoes' 'Rice (paddy, long grain, local)'\n",
      " 'Groundnuts (unshelled)' 'Groundnuts (shelled)' 'Meat (beef)'\n",
      " 'Potatoes (Irish)' 'Fish (bonga)' 'Carrots' 'Fish (dry)' 'Onions'\n",
      " 'Cabbage' 'Meat (mutton)' 'Salt' 'Coffee (instant)' 'Peas (green, dry)'\n",
      " 'Rice (long grain, imported)' 'Rice (medium grain, imported)'\n",
      " 'Rice (small grain, imported)' 'Apples (red)' 'Milk (powder)'\n",
      " 'Oranges (big size)' 'Bananas' 'Beans (dry)' 'Tea' 'Fuel (diesel)'\n",
      " 'Fuel (petrol-gasoline)']\n",
      "['Maize' 'Bread' 'Maize (local)' 'Oil (palm)' 'Sorghum' 'Cassava' 'Millet'\n",
      " 'Maize flour' 'Milk' 'Sweet potatoes' 'Eggs' 'Meat (chicken)'\n",
      " 'Oil (vegetable)' 'Sugar' 'Fonio' 'Garlic' 'Tomatoes'\n",
      " 'Rice (paddy, long grain, local)' 'Groundnuts (unshelled)'\n",
      " 'Groundnuts (shelled)' 'Rice (basmati, broken)' 'Meat (beef)'\n",
      " 'Potatoes (Irish)' 'Fish (bonga)' 'Carrots' 'Cashew' 'Fish (dry)'\n",
      " 'Onions' 'Cabbage' 'Meat (mutton)' 'Salt' 'Coffee (instant)'\n",
      " 'Peas (green, dry)' 'Rice (long grain, imported)'\n",
      " 'Rice (medium grain, imported)' 'Rice (small grain, imported)'\n",
      " 'Apples (red)' 'Milk (powder)' 'Oranges (big size)' 'Oil (groundnut)'\n",
      " 'Bananas' 'Beans (dry)' 'Tea' 'Fuel (kerosene)' 'Fuel (diesel)'\n",
      " 'Fuel (petrol-gasoline)']\n",
      "['Maize' 'Bread' 'Maize (local)' 'Oil (palm)' 'Sorghum' 'Cassava' 'Millet'\n",
      " 'Maize flour' 'Milk' 'Sweet potatoes' 'Eggs' 'Meat (chicken)'\n",
      " 'Oil (vegetable)' 'Sugar' 'Fonio' 'Garlic' 'Tomatoes'\n",
      " 'Rice (paddy, long grain, local)' 'Groundnuts (unshelled)'\n",
      " 'Groundnuts (shelled)' 'Rice (basmati, broken)' 'Meat (beef)'\n",
      " 'Potatoes (Irish)' 'Fish (bonga)' 'Carrots' 'Cashew' 'Fish (dry)'\n",
      " 'Onions' 'Cabbage' 'Meat (mutton)' 'Salt' 'Coffee (instant)'\n",
      " 'Peas (green, dry)' 'Rice (long grain, imported)'\n",
      " 'Rice (medium grain, imported)' 'Rice (small grain, imported)'\n",
      " 'Apples (red)' 'Milk (powder)' 'Oranges (big size)' 'Bananas'\n",
      " 'Beans (dry)' 'Tea' 'Fuel (kerosene)' 'Fuel (diesel)'\n",
      " 'Fuel (petrol-gasoline)']\n",
      "['Maize (local)' 'Sorghum' 'Millet' 'Rice (paddy, long grain, local)'\n",
      " 'Groundnuts (unshelled)' 'Groundnuts (shelled)'\n",
      " 'Rice (long grain, imported)' 'Rice (medium grain, imported)'\n",
      " 'Rice (small grain, imported)']\n",
      "['Maize (local)' 'Sorghum' 'Millet' 'Groundnuts (unshelled)'\n",
      " 'Groundnuts (shelled)' 'Rice (long grain, imported)'\n",
      " 'Rice (medium grain, imported)' 'Rice (small grain, imported)']\n",
      "['Maize' 'Bread' 'Maize (local)' 'Oil (palm)' 'Sorghum' 'Cassava' 'Millet'\n",
      " 'Maize flour' 'Milk' 'Sweet potatoes' 'Eggs' 'Meat (chicken)'\n",
      " 'Oil (vegetable)' 'Sugar' 'Fonio' 'Garlic' 'Tomatoes'\n",
      " 'Rice (paddy, long grain, local)' 'Groundnuts (unshelled)'\n",
      " 'Groundnuts (shelled)' 'Rice (basmati, broken)' 'Meat (beef)'\n",
      " 'Potatoes (Irish)' 'Fish (bonga)' 'Carrots' 'Cashew' 'Fish (dry)'\n",
      " 'Onions' 'Cabbage' 'Meat (mutton)' 'Salt' 'Coffee (instant)'\n",
      " 'Peas (green, dry)' 'Rice (long grain, imported)'\n",
      " 'Rice (medium grain, imported)' 'Rice (small grain, imported)'\n",
      " 'Apples (red)' 'Milk (powder)' 'Oranges (big size)' 'Oil (groundnut)'\n",
      " 'Bananas' 'Beans (dry)' 'Tea' 'Fuel (kerosene)' 'Fuel (diesel)'\n",
      " 'Fuel (petrol-gasoline)']\n",
      "['Maize' 'Bread' 'Maize (local)' 'Oil (palm)' 'Sorghum' 'Cassava' 'Millet'\n",
      " 'Maize flour' 'Milk' 'Sweet potatoes' 'Eggs' 'Meat (chicken)'\n",
      " 'Oil (vegetable)' 'Sugar' 'Fonio' 'Garlic' 'Tomatoes'\n",
      " 'Rice (paddy, long grain, local)' 'Groundnuts (unshelled)'\n",
      " 'Groundnuts (shelled)' 'Meat (beef)' 'Potatoes (Irish)' 'Fish (bonga)'\n",
      " 'Carrots' 'Cashew' 'Fish (dry)' 'Onions' 'Cabbage' 'Meat (mutton)' 'Salt'\n",
      " 'Coffee (instant)' 'Rice (long grain, imported)'\n",
      " 'Rice (medium grain, imported)' 'Rice (small grain, imported)'\n",
      " 'Apples (red)' 'Milk (powder)' 'Oranges (big size)' 'Oil (groundnut)'\n",
      " 'Bananas' 'Beans (dry)' 'Tea' 'Fuel (kerosene)' 'Fuel (diesel)'\n",
      " 'Fuel (petrol-gasoline)']\n",
      "['Maize (local)' 'Sorghum' 'Millet' 'Groundnuts (unshelled)'\n",
      " 'Groundnuts (shelled)' 'Rice (long grain, imported)'\n",
      " 'Rice (medium grain, imported)' 'Rice (small grain, imported)']\n",
      "['Groundnuts (unshelled)' 'Groundnuts (shelled)'\n",
      " 'Rice (long grain, imported)' 'Rice (medium grain, imported)'\n",
      " 'Rice (small grain, imported)']\n",
      "['Rice (paddy, long grain, local)' 'Groundnuts (unshelled)'\n",
      " 'Groundnuts (shelled)' 'Rice (long grain, imported)'\n",
      " 'Rice (medium grain, imported)' 'Rice (small grain, imported)']\n",
      "['Groundnuts (unshelled)' 'Groundnuts (shelled)'\n",
      " 'Rice (long grain, imported)' 'Rice (medium grain, imported)'\n",
      " 'Rice (small grain, imported)']\n",
      "['Maize (local)' 'Sorghum' 'Millet' 'Groundnuts (unshelled)'\n",
      " 'Groundnuts (shelled)' 'Rice (long grain, imported)'\n",
      " 'Rice (medium grain, imported)' 'Rice (small grain, imported)']\n",
      "['Maize (local)' 'Sorghum' 'Millet' 'Rice (paddy, long grain, local)'\n",
      " 'Groundnuts (unshelled)' 'Groundnuts (shelled)'\n",
      " 'Rice (long grain, imported)' 'Rice (medium grain, imported)'\n",
      " 'Rice (small grain, imported)']\n",
      "['Maize (local)' 'Sorghum' 'Millet' 'Rice (paddy, long grain, local)'\n",
      " 'Groundnuts (unshelled)' 'Groundnuts (shelled)'\n",
      " 'Rice (long grain, imported)' 'Rice (medium grain, imported)'\n",
      " 'Rice (small grain, imported)']\n",
      "['Maize (local)' 'Sorghum' 'Millet' 'Rice (paddy, long grain, local)'\n",
      " 'Groundnuts (unshelled)' 'Groundnuts (shelled)'\n",
      " 'Rice (long grain, imported)' 'Rice (medium grain, imported)'\n",
      " 'Rice (small grain, imported)']\n",
      "['Maize (local)' 'Sorghum' 'Millet' 'Groundnuts (unshelled)'\n",
      " 'Groundnuts (shelled)' 'Rice (long grain, imported)'\n",
      " 'Rice (medium grain, imported)' 'Rice (small grain, imported)']\n",
      "['Maize' 'Bread' 'Maize (local)' 'Oil (palm)' 'Sorghum' 'Cassava' 'Millet'\n",
      " 'Maize flour' 'Milk' 'Sweet potatoes' 'Eggs' 'Meat (chicken)'\n",
      " 'Oil (vegetable)' 'Sugar' 'Fonio' 'Garlic' 'Tomatoes'\n",
      " 'Rice (paddy, long grain, local)' 'Groundnuts (unshelled)'\n",
      " 'Groundnuts (shelled)' 'Rice (basmati, broken)' 'Meat (beef)'\n",
      " 'Potatoes (Irish)' 'Fish (bonga)' 'Carrots' 'Cashew' 'Fish (dry)'\n",
      " 'Onions' 'Cabbage' 'Meat (mutton)' 'Salt' 'Coffee (instant)'\n",
      " 'Peas (green, dry)' 'Rice (long grain, imported)'\n",
      " 'Rice (medium grain, imported)' 'Rice (small grain, imported)'\n",
      " 'Apples (red)' 'Milk (powder)' 'Oranges (big size)' 'Bananas'\n",
      " 'Beans (dry)' 'Tea' 'Fuel (kerosene)' 'Fuel (diesel)'\n",
      " 'Fuel (petrol-gasoline)']\n",
      "['Maize (local)' 'Sorghum' 'Millet' 'Groundnuts (unshelled)'\n",
      " 'Groundnuts (shelled)' 'Rice (long grain, imported)'\n",
      " 'Rice (medium grain, imported)' 'Rice (small grain, imported)']\n",
      "['Maize' 'Bread' 'Maize (local)' 'Oil (palm)' 'Sorghum' 'Cassava' 'Millet'\n",
      " 'Maize flour' 'Milk' 'Sweet potatoes' 'Eggs' 'Meat (chicken)'\n",
      " 'Oil (vegetable)' 'Sugar' 'Fonio' 'Garlic' 'Tomatoes'\n",
      " 'Rice (paddy, long grain, local)' 'Groundnuts (unshelled)'\n",
      " 'Groundnuts (shelled)' 'Rice (basmati, broken)' 'Meat (beef)'\n",
      " 'Potatoes (Irish)' 'Fish (bonga)' 'Carrots' 'Fish (dry)' 'Onions'\n",
      " 'Cabbage' 'Meat (mutton)' 'Salt' 'Coffee (instant)' 'Peas (green, dry)'\n",
      " 'Rice (long grain, imported)' 'Rice (medium grain, imported)'\n",
      " 'Rice (small grain, imported)' 'Apples (red)' 'Milk (powder)'\n",
      " 'Oranges (big size)' 'Bananas' 'Beans (dry)' 'Tea' 'Fuel (kerosene)'\n",
      " 'Fuel (diesel)' 'Fuel (petrol-gasoline)']\n",
      "['Maize (local)' 'Sorghum' 'Millet' 'Rice (paddy, long grain, local)'\n",
      " 'Groundnuts (unshelled)' 'Groundnuts (shelled)'\n",
      " 'Rice (long grain, imported)' 'Rice (medium grain, imported)'\n",
      " 'Rice (small grain, imported)']\n",
      "['Maize (local)' 'Sorghum' 'Millet' 'Rice (paddy, long grain, local)'\n",
      " 'Groundnuts (unshelled)' 'Groundnuts (shelled)'\n",
      " 'Rice (long grain, imported)' 'Rice (medium grain, imported)'\n",
      " 'Rice (small grain, imported)']\n"
     ]
    }
   ],
   "source": [
    "# laat zien welke producten er in een bepaald land te koop zijn\n",
    "\n",
    "def products_country(country):\n",
    "    af_country = africa.loc[africa['adm0_name'] == country]\n",
    "    markets = af_country.groupby('mkt_name')['adm0_name']\n",
    "    market_list = markets.count()\n",
    "    markets_in_country = market_list.index.tolist()\n",
    "    for market in markets_in_country:\n",
    "        markt = af_country.loc[africa['mkt_name'] == market]\n",
    "        eten = markt['cm_name'].unique()\n",
    "        print(eten)\n",
    "products_country('Gambia')"
   ]
  },
  {
   "cell_type": "code",
   "execution_count": 24,
   "metadata": {},
   "outputs": [
    {
     "name": "stdout",
     "output_type": "stream",
     "text": [
      "('A', 'B')\n"
     ]
    }
   ],
   "source": [
    "def test():\n",
    "    return('A', 'B')\n",
    "\n",
    "print(test())"
   ]
  }
 ],
 "metadata": {
  "kernelspec": {
   "display_name": "Python 3",
   "language": "python",
   "name": "python3"
  },
  "language_info": {
   "codemirror_mode": {
    "name": "ipython",
    "version": 3
   },
   "file_extension": ".py",
   "mimetype": "text/x-python",
   "name": "python",
   "nbconvert_exporter": "python",
   "pygments_lexer": "ipython3",
   "version": "3.6.5"
  }
 },
 "nbformat": 4,
 "nbformat_minor": 2
}
