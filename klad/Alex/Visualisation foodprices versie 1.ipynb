{
 "cells": [
  {
   "cell_type": "code",
   "execution_count": 2,
   "metadata": {},
   "outputs": [],
   "source": [
    "import pandas as pd\n",
    "import matplotlib.pyplot as plt"
   ]
  },
  {
   "cell_type": "markdown",
   "metadata": {},
   "source": [
    "# Afrika"
   ]
  },
  {
   "cell_type": "code",
   "execution_count": 3,
   "metadata": {},
   "outputs": [
    {
     "name": "stdout",
     "output_type": "stream",
     "text": [
      "['Maize meal' 'Wheat flour' 'Bread (brown)' 'Peas (split, dry)'\n",
      " 'Oil (sunflower)' 'Beans (sugar-red)']\n",
      "['Maize meal' 'Wheat flour' 'Bread (brown)' 'Peas (split, dry)'\n",
      " 'Oil (sunflower)' 'Beans (sugar-red)']\n",
      "['Maize meal' 'Wheat flour' 'Bread (brown)' 'Peas (split, dry)'\n",
      " 'Oil (sunflower)' 'Beans (sugar-red)']\n",
      "['Maize meal' 'Wheat flour' 'Bread (brown)' 'Peas (split, dry)'\n",
      " 'Oil (sunflower)' 'Beans (sugar-red)']\n",
      "['Maize meal' 'Wheat flour' 'Bread (brown)' 'Peas (split, dry)'\n",
      " 'Oil (sunflower)' 'Beans (sugar-red)']\n",
      "['Maize meal' 'Wheat flour' 'Bread (brown)' 'Peas (split, dry)'\n",
      " 'Oil (sunflower)' 'Beans (sugar-red)']\n",
      "['Maize meal' 'Wheat flour' 'Bread (brown)' 'Peas (split, dry)'\n",
      " 'Oil (sunflower)' 'Beans (sugar-red)']\n",
      "['Maize meal' 'Wheat flour' 'Bread (brown)' 'Peas (split, dry)'\n",
      " 'Oil (sunflower)' 'Beans (sugar-red)']\n",
      "['Maize meal' 'Wheat flour' 'Bread (brown)' 'Peas (split, dry)'\n",
      " 'Oil (sunflower)' 'Beans (sugar-red)']\n",
      "['Maize meal' 'Wheat flour' 'Bread (brown)' 'Peas (split, dry)'\n",
      " 'Oil (sunflower)' 'Beans (sugar-red)']\n"
     ]
    },
    {
     "data": {
      "image/png": "[encoded data removed]",
      "text/plain": [
       "<matplotlib.figure.Figure at 0x1fe7a825278>"
      ]
     },
     "metadata": {},
     "output_type": "display_data"
    }
   ],
   "source": [
    "\n",
    "africa=pd.read_csv(\"Food_prizes_Africa_processed.csv\", encoding= \"latin1\")\n",
    "def plotprice(country, product):\n",
    "    prijslijst = []\n",
    "    # kies land \n",
    "    af_country = africa.loc[africa['adm0_name'] == country]\n",
    "    #maak een lijst van de markten in dat land\n",
    "    markets = af_country.groupby('mkt_name')['adm0_name']\n",
    "    market_list = markets.count()\n",
    "    markets_in_country = market_list.index.tolist()\n",
    "    # itereer over markten\n",
    "    for market in markets_in_country:\n",
    "        markt = af_country.loc[africa['mkt_name'] == market]\n",
    "        eten = markt.loc[markt['cm_name'] == product]\n",
    "        prijs = eten['mp_price']\n",
    "        prijslijst.append(prijs)\n",
    "    y_values = (sum(prijslijst)/len(prijslijst))\n",
    "    x_values = eten['Year']\n",
    "    y_values = prijs\n",
    "    plt.plot(x_values, y_values)\n",
    "plotprice('Lesotho', 'Maize meal')"
   ]
  },
  {
   "cell_type": "code",
   "execution_count": 5,
   "metadata": {},
   "outputs": [
    {
     "name": "stdout",
     "output_type": "stream",
     "text": [
      "['Maize meal' 'Wheat flour' 'Bread (brown)' 'Peas (split, dry)'\n",
      " 'Oil (sunflower)' 'Beans (sugar-red)']\n",
      "['Maize meal' 'Wheat flour' 'Bread (brown)' 'Peas (split, dry)'\n",
      " 'Oil (sunflower)' 'Beans (sugar-red)']\n",
      "['Maize meal' 'Wheat flour' 'Bread (brown)' 'Peas (split, dry)'\n",
      " 'Oil (sunflower)' 'Beans (sugar-red)']\n",
      "['Maize meal' 'Wheat flour' 'Bread (brown)' 'Peas (split, dry)'\n",
      " 'Oil (sunflower)' 'Beans (sugar-red)']\n",
      "['Maize meal' 'Wheat flour' 'Bread (brown)' 'Peas (split, dry)'\n",
      " 'Oil (sunflower)' 'Beans (sugar-red)']\n",
      "['Maize meal' 'Wheat flour' 'Bread (brown)' 'Peas (split, dry)'\n",
      " 'Oil (sunflower)' 'Beans (sugar-red)']\n",
      "['Maize meal' 'Wheat flour' 'Bread (brown)' 'Peas (split, dry)'\n",
      " 'Oil (sunflower)' 'Beans (sugar-red)']\n",
      "['Maize meal' 'Wheat flour' 'Bread (brown)' 'Peas (split, dry)'\n",
      " 'Oil (sunflower)' 'Beans (sugar-red)']\n",
      "['Maize meal' 'Wheat flour' 'Bread (brown)' 'Peas (split, dry)'\n",
      " 'Oil (sunflower)' 'Beans (sugar-red)']\n",
      "['Maize meal' 'Wheat flour' 'Bread (brown)' 'Peas (split, dry)'\n",
      " 'Oil (sunflower)' 'Beans (sugar-red)']\n"
     ]
    }
   ],
   "source": [
    "# laat zien welke producten er in een land zijn\n",
    "def products_country(country):\n",
    "    af_country = africa.loc[africa['adm0_name'] == country]\n",
    "    markets = af_country.groupby('mkt_name')['adm0_name']\n",
    "    market_list = markets.count()\n",
    "    markets_in_country = market_list.index.tolist()\n",
    "    for market in markets_in_country:\n",
    "        markt = af_country.loc[africa['mkt_name'] == market]\n",
    "        eten = markt['cm_name'].unique()\n",
    "        print(eten)\n",
    "products_country('Lesotho')"
   ]
  },
  {
   "cell_type": "code",
   "execution_count": 4,
   "metadata": {},
   "outputs": [
    {
     "name": "stdout",
     "output_type": "stream",
     "text": [
      "['Maize' 'Sorghum' 'Millet' 'Beans (niebe)']\n",
      "['Maize' 'Sorghum' 'Millet' 'Beans (niebe)']\n",
      "['Maize' 'Sorghum' 'Millet' 'Beans (niebe)']\n",
      "['Maize' 'Sorghum' 'Millet' 'Beans (niebe)']\n",
      "['Maize' 'Sorghum' 'Millet' 'Beans (niebe)']\n",
      "['Maize' 'Sorghum' 'Millet' 'Beans (niebe)']\n",
      "['Maize' 'Sorghum' 'Millet' 'Beans (niebe)']\n",
      "['Sorghum' 'Millet']\n",
      "['Maize' 'Sorghum' 'Millet' 'Beans (niebe)']\n",
      "['Maize' 'Millet' 'Beans (niebe)']\n",
      "['Maize' 'Rice' 'Sorghum' 'Millet']\n",
      "['Maize' 'Sorghum' 'Millet' 'Beans (niebe)']\n",
      "['Maize' 'Sorghum' 'Millet' 'Beans (niebe)']\n",
      "['Maize' 'Sorghum' 'Millet' 'Beans (niebe)']\n",
      "['Maize' 'Sorghum' 'Millet' 'Beans (niebe)']\n",
      "['Maize' 'Rice (imported)' 'Sorghum' 'Millet']\n",
      "['Maize' 'Sorghum' 'Millet' 'Beans (niebe)']\n",
      "['Maize' 'Sorghum' 'Millet' 'Beans (niebe)']\n",
      "['Maize' 'Sorghum' 'Millet' 'Beans (niebe)']\n",
      "['Maize' 'Sorghum' 'Millet' 'Beans (niebe)']\n",
      "['Maize' 'Sorghum' 'Millet' 'Beans (niebe)']\n",
      "['Maize' 'Sorghum' 'Millet' 'Beans (niebe)']\n"
     ]
    },
    {
     "data": {
      "image/png": "[encoded data removed]",
      "text/plain": [
       "<matplotlib.figure.Figure at 0x1fe023a37b8>"
      ]
     },
     "metadata": {},
     "output_type": "display_data"
    }
   ],
   "source": [
    "middle_east=pd.read_csv(\"Food_prizes_MiddleEast_processed.csv\", encoding= \"latin1\")\n",
    "def plotprice(country, product):\n",
    "    # kies land \n",
    "    me_country = middle_east.loc[middle_east['adm0_name'] == country]\n",
    "    #maak een lijst van de markten in dat land\n",
    "    markets = me_country.groupby('mkt_name')['adm0_name']\n",
    "    market_list = markets.count()\n",
    "    markets_in_country = market_list.index.tolist()\n",
    "    # itereer over markten\n",
    "    for market in markets_in_country:\n",
    "        markt = me_country.loc[middle_east['mkt_name'] == market]\n",
    "        eten = markt.loc[markt['cm_name'] == product]\n",
    "        prijs = eten['mp_price']\n",
    "        x_values = eten['Year']\n",
    "        y_values = prijs\n",
    "        plt.plot(x_values, y_values)\n",
    "plotprice('Afghanistan', 'Bread')"
   ]
  },
  {
   "cell_type": "code",
   "execution_count": 6,
   "metadata": {},
   "outputs": [
    {
     "name": "stdout",
     "output_type": "stream",
     "text": [
      "['Maize' 'Sorghum' 'Millet' 'Beans (niebe)']\n",
      "['Maize' 'Sorghum' 'Millet' 'Beans (niebe)']\n",
      "['Maize' 'Sorghum' 'Millet' 'Beans (niebe)']\n",
      "['Maize' 'Sorghum' 'Millet' 'Beans (niebe)']\n",
      "['Maize' 'Sorghum' 'Millet' 'Beans (niebe)']\n",
      "['Maize' 'Sorghum' 'Millet' 'Beans (niebe)']\n",
      "['Maize' 'Sorghum' 'Millet' 'Beans (niebe)']\n",
      "['Sorghum' 'Millet']\n",
      "['Maize' 'Sorghum' 'Millet' 'Beans (niebe)']\n",
      "['Maize' 'Millet' 'Beans (niebe)']\n",
      "['Maize' 'Rice' 'Sorghum' 'Millet']\n",
      "['Maize' 'Sorghum' 'Millet' 'Beans (niebe)']\n",
      "['Maize' 'Sorghum' 'Millet' 'Beans (niebe)']\n",
      "['Maize' 'Sorghum' 'Millet' 'Beans (niebe)']\n",
      "['Maize' 'Sorghum' 'Millet' 'Beans (niebe)']\n",
      "['Maize' 'Rice (imported)' 'Sorghum' 'Millet']\n",
      "['Maize' 'Sorghum' 'Millet' 'Beans (niebe)']\n",
      "['Maize' 'Sorghum' 'Millet' 'Beans (niebe)']\n",
      "['Maize' 'Sorghum' 'Millet' 'Beans (niebe)']\n",
      "['Maize' 'Sorghum' 'Millet' 'Beans (niebe)']\n",
      "['Maize' 'Sorghum' 'Millet' 'Beans (niebe)']\n",
      "['Maize' 'Sorghum' 'Millet' 'Beans (niebe)']\n"
     ]
    }
   ],
   "source": [
    "def products_country(country):\n",
    "    af_country = africa.loc[africa['adm0_name'] == country]\n",
    "    markets = af_country.groupby('mkt_name')['adm0_name']\n",
    "    market_list = markets.count()\n",
    "    markets_in_country = market_list.index.tolist()\n",
    "    for market in markets_in_country:\n",
    "        markt = af_country.loc[africa['mkt_name'] == market]\n",
    "        eten = markt['cm_name'].unique()\n",
    "        print(eten)\n",
    "products_country('Burkina Faso')"
   ]
  }
 ],
 "metadata": {
  "kernelspec": {
   "display_name": "Python 3",
   "language": "python",
   "name": "python3"
  },
  "language_info": {
   "codemirror_mode": {
    "name": "ipython",
    "version": 3
   },
   "file_extension": ".py",
   "mimetype": "text/x-python",
   "name": "python",
   "nbconvert_exporter": "python",
   "pygments_lexer": "ipython3",
   "version": "3.6.3"
  }
 },
 "nbformat": 4,
 "nbformat_minor": 2
}
