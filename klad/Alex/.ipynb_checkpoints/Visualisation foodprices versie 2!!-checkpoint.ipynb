{
 "cells": [
  {
   "cell_type": "code",
   "execution_count": 1,
   "metadata": {},
   "outputs": [],
   "source": [
    "import pandas as pd\n",
    "import matplotlib.pyplot as plt\n",
    "from bokeh.plotting import figure\n",
    "from bokeh.io import output_file, show, save\n",
    "foodprices = pd.read_csv(\"Food_prizes_MiddleEast_and_Africa_processed.csv\", encoding= \"latin1\")"
   ]
  },
  {
   "cell_type": "markdown",
   "metadata": {},
   "source": [
    "# Producten per land"
   ]
  },
  {
   "cell_type": "markdown",
   "metadata": {},
   "source": [
    "# Midden Oosten"
   ]
  },
  {
   "cell_type": "code",
   "execution_count": 2,
   "metadata": {},
   "outputs": [],
   "source": [
    "# Laat zien wat de gemiddelde prijs van een product in een land in het Midden Oosten is\n",
    "middle_east=pd.read_csv(\"Food_prizes_MiddleEast_processed.csv\", encoding= \"latin1\")\n",
    "\n",
    "def plotprice(country, product):\n",
    "    # kies land \n",
    "    me_country = middle_east.loc[middle_east['adm0_name'] == country]\n",
    "    \n",
    "    #maak een lijst van de markten in dat land\n",
    "    markets = me_country.groupby('mkt_name')['adm0_name']\n",
    "    market_list = markets.count()\n",
    "    markets_in_country = market_list.index.tolist()\n",
    "    \n",
    "    # itereer over markten\n",
    "    for market in markets_in_country:\n",
    "        markt = me_country.loc[middle_east['mkt_name'] == market]\n",
    "        eten = markt.loc[markt['cm_name'] == product]\n",
    "        prijs = eten['mp_price']\n",
    "        \n",
    "        # plot de grafiek\n",
    "        x_values = eten['Year']\n",
    "        y_values = prijs\n",
    "        f = figure(plot_width=600, plot_height=600)\n",
    "        f.line(x_values, y_values)\n",
    "        output_file(\"prijzen_me.html\")\n",
    "        save(f)"
   ]
  },
  {
   "cell_type": "code",
   "execution_count": 3,
   "metadata": {},
   "outputs": [],
   "source": [
    "plotprice('State of Palestine', 'Potatoes (medium size)')"
   ]
  },
  {
   "cell_type": "code",
   "execution_count": 62,
   "metadata": {},
   "outputs": [
    {
     "data": {
      "text/plain": [
       "['Beans (dry)',\n",
       " 'Bread',\n",
       " 'Fuel (diesel)',\n",
       " 'Fuel (kerosene)',\n",
       " 'Fuel (petrol-gasoline)',\n",
       " 'Maize (white)',\n",
       " 'Milk (cow, pasteurized)',\n",
       " 'Oil (vegetable)',\n",
       " 'Potatoes (Irish)',\n",
       " 'Sorghum']"
      ]
     },
     "execution_count": 62,
     "metadata": {},
     "output_type": "execute_result"
    }
   ],
   "source": [
    "# laat zien welke producten er in een bepaald land te koop zijn\n",
    "\n",
    "# laat zien welke producten er in een bepaald land te koop zijn voor een bepaalde input_data\n",
    "def products_country(input_data, country):\n",
    "    products = []\n",
    "    fp_country = foodprices.loc[input_data['adm0_name'] == country]\n",
    "    products_total = fp_country['cm_name']\n",
    "    product_list = products_total.tolist()\n",
    "    for item in product_list:\n",
    "        if item not in products:\n",
    "            products.append(item)\n",
    "    return(sorted(products))\n",
    "products_country(foodprices, 'Kenya')"
   ]
  },
  {
   "cell_type": "code",
   "execution_count": 5,
   "metadata": {},
   "outputs": [
    {
     "name": "stdout",
     "output_type": "stream",
     "text": [
      "('A', 'B')\n"
     ]
    }
   ],
   "source": [
    "def test():\n",
    "    return('A', 'B')\n",
    "\n",
    "print(test())"
   ]
  }
 ],
 "metadata": {
  "kernelspec": {
   "display_name": "Python 3",
   "language": "python",
   "name": "python3"
  },
  "language_info": {
   "codemirror_mode": {
    "name": "ipython",
    "version": 3
   },
   "file_extension": ".py",
   "mimetype": "text/x-python",
   "name": "python",
   "nbconvert_exporter": "python",
   "pygments_lexer": "ipython3",
   "version": "3.6.3"
  }
 },
 "nbformat": 4,
 "nbformat_minor": 2
}
