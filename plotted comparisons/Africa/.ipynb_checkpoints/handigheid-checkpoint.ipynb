{
 "cells": [
  {
   "cell_type": "code",
   "execution_count": 8,
   "metadata": {
    "scrolled": true
   },
   "outputs": [
    {
     "name": "stdout",
     "output_type": "stream",
     "text": [
      "C:\\Users\\krull\\Desktop\\School\\Dataverwerking & Visualisatie\\Github\\DataProcessing1\\plotted comparisons\\regression_plots\n",
      "<div class=\"mySlides fade\">\n",
      "<div class=\"numbertext\">1 / 14</div>\n",
      "<iframe src=\"../plotted comparisons/regression_plots/South Sudan/South Sudan_Beans (red).html\"style=\"width:100%\"></iframe>\n",
      "</div>\n",
      "\n",
      "<div class=\"mySlides fade\">\n",
      "<div class=\"numbertext\">2 / 14</div>\n",
      "<iframe src=\"../plotted comparisons/regression_plots/South Sudan/South Sudan_Cassava (dry).html\"style=\"width:100%\"></iframe>\n",
      "</div>\n",
      "\n",
      "<div class=\"mySlides fade\">\n",
      "<div class=\"numbertext\">3 / 14</div>\n",
      "<iframe src=\"../plotted comparisons/regression_plots/South Sudan/South Sudan_Cassava.html\"style=\"width:100%\"></iframe>\n",
      "</div>\n",
      "\n",
      "<div class=\"mySlides fade\">\n",
      "<div class=\"numbertext\">4 / 14</div>\n",
      "<iframe src=\"../plotted comparisons/regression_plots/South Sudan/South Sudan_Exchange rate (unofficial).html\"style=\"width:100%\"></iframe>\n",
      "</div>\n",
      "\n",
      "<div class=\"mySlides fade\">\n",
      "<div class=\"numbertext\">5 / 14</div>\n",
      "<iframe src=\"../plotted comparisons/regression_plots/South Sudan/South Sudan_Exchange rate.html\"style=\"width:100%\"></iframe>\n",
      "</div>\n",
      "\n",
      "<div class=\"mySlides fade\">\n",
      "<div class=\"numbertext\">6 / 14</div>\n",
      "<iframe src=\"../plotted comparisons/regression_plots/South Sudan/South Sudan_Fuel (diesel).html\"style=\"width:100%\"></iframe>\n",
      "</div>\n",
      "\n",
      "<div class=\"mySlides fade\">\n",
      "<div class=\"numbertext\">7 / 14</div>\n",
      "<iframe src=\"../plotted comparisons/regression_plots/South Sudan/South Sudan_Fuel (petrol-gasoline).html\"style=\"width:100%\"></iframe>\n",
      "</div>\n",
      "\n",
      "<div class=\"mySlides fade\">\n",
      "<div class=\"numbertext\">8 / 14</div>\n",
      "<iframe src=\"../plotted comparisons/regression_plots/South Sudan/South Sudan_Groundnuts (shelled).html\"style=\"width:100%\"></iframe>\n",
      "</div>\n",
      "\n",
      "<div class=\"mySlides fade\">\n",
      "<div class=\"numbertext\">9 / 14</div>\n",
      "<iframe src=\"../plotted comparisons/regression_plots/South Sudan/South Sudan_Maize (white).html\"style=\"width:100%\"></iframe>\n",
      "</div>\n",
      "\n",
      "<div class=\"mySlides fade\">\n",
      "<div class=\"numbertext\">10 / 14</div>\n",
      "<iframe src=\"../plotted comparisons/regression_plots/South Sudan/South Sudan_Millet (white).html\"style=\"width:100%\"></iframe>\n",
      "</div>\n",
      "\n",
      "<div class=\"mySlides fade\">\n",
      "<div class=\"numbertext\">11 / 14</div>\n",
      "<iframe src=\"../plotted comparisons/regression_plots/South Sudan/South Sudan_Oil (vegetable).html\"style=\"width:100%\"></iframe>\n",
      "</div>\n",
      "\n",
      "<div class=\"mySlides fade\">\n",
      "<div class=\"numbertext\">12 / 14</div>\n",
      "<iframe src=\"../plotted comparisons/regression_plots/South Sudan/South Sudan_Sesame.html\"style=\"width:100%\"></iframe>\n",
      "</div>\n",
      "\n",
      "<div class=\"mySlides fade\">\n",
      "<div class=\"numbertext\">13 / 14</div>\n",
      "<iframe src=\"../plotted comparisons/regression_plots/South Sudan/South Sudan_Sorghum (white).html\"style=\"width:100%\"></iframe>\n",
      "</div>\n",
      "\n",
      "<div class=\"mySlides fade\">\n",
      "<div class=\"numbertext\">14 / 14</div>\n",
      "<iframe src=\"../plotted comparisons/regression_plots/South Sudan/South Sudan_Wheat flour.html\"style=\"width:100%\"></iframe>\n",
      "</div>\n",
      "\n"
     ]
    }
   ],
   "source": [
    "import os\n",
    "print(os.getcwd())\n",
    "i=0\n",
    "dirlist = os.listdir(\"Niger\")\n",
    "\n",
    "for items in dirlist:\n",
    "    i +=1\n",
    "    print('<div class=\"mySlides fade\">') \n",
    "    print('<div class=\"numbertext\">{} / {}</div>'.format(i,len(dirlist)))\n",
    "    print('<iframe src=\"../plotted comparisons/regression_plots/Niger/{}\"style=\"width:100%\"></iframe>'.format(items))\n",
    "    print('</div>')\n",
    "    print(\"\")"
   ]
  },
  {
   "cell_type": "code",
   "execution_count": 2,
   "metadata": {},
   "outputs": [
    {
     "name": "stdout",
     "output_type": "stream",
     "text": [
      "<span class=\"dot\" onclick=\"currentSlide(1)\"></span>\n",
      "<span class=\"dot\" onclick=\"currentSlide(2)\"></span>\n",
      "<span class=\"dot\" onclick=\"currentSlide(3)\"></span>\n",
      "<span class=\"dot\" onclick=\"currentSlide(4)\"></span>\n",
      "<span class=\"dot\" onclick=\"currentSlide(5)\"></span>\n",
      "<span class=\"dot\" onclick=\"currentSlide(6)\"></span>\n",
      "<span class=\"dot\" onclick=\"currentSlide(7)\"></span>\n",
      "<span class=\"dot\" onclick=\"currentSlide(8)\"></span>\n",
      "<span class=\"dot\" onclick=\"currentSlide(9)\"></span>\n",
      "<span class=\"dot\" onclick=\"currentSlide(10)\"></span>\n",
      "<span class=\"dot\" onclick=\"currentSlide(11)\"></span>\n",
      "<span class=\"dot\" onclick=\"currentSlide(12)\"></span>\n",
      "<span class=\"dot\" onclick=\"currentSlide(13)\"></span>\n",
      "<span class=\"dot\" onclick=\"currentSlide(14)\"></span>\n"
     ]
    }
   ],
   "source": [
    "i = 0\n",
    "for items in dirlist:\n",
    "    i +=1\n",
    "    print('<span class=\"dot\" onclick=\"currentSlide({})\"></span>'.format(i))"
   ]
  }
 ],
 "metadata": {
  "kernelspec": {
   "display_name": "Python 3",
   "language": "python",
   "name": "python3"
  },
  "language_info": {
   "codemirror_mode": {
    "name": "ipython",
    "version": 3
   },
   "file_extension": ".py",
   "mimetype": "text/x-python",
   "name": "python",
   "nbconvert_exporter": "python",
   "pygments_lexer": "ipython3",
   "version": "3.6.3"
  }
 },
 "nbformat": 4,
 "nbformat_minor": 2
}
