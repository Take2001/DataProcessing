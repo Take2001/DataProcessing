{
 "cells": [
  {
   "cell_type": "code",
   "execution_count": 10,
   "metadata": {
    "scrolled": true
   },
   "outputs": [
    {
     "name": "stdout",
     "output_type": "stream",
     "text": [
      "C:\\Users\\krull\\Desktop\\School\\Dataverwerking & Visualisatie\\Github\\DataProcessing1\\plotted comparisons\\regression_plots\n",
      "<div class=\"mySlides fade\">\n",
      "<div class=\"numbertext\">1 / 12</div>\n",
      "<iframe src=\"../plotted comparisons/regression_plots/Central African Republic/Central African Republic_Beans (niebe).html\"style=\"width:100%\"></iframe>\n",
      "</div>\n",
      "\n",
      "<div class=\"mySlides fade\">\n",
      "<div class=\"numbertext\">2 / 12</div>\n",
      "<iframe src=\"../plotted comparisons/regression_plots/Central African Republic/Central African Republic_Cassava (cossette).html\"style=\"width:100%\"></iframe>\n",
      "</div>\n",
      "\n",
      "<div class=\"mySlides fade\">\n",
      "<div class=\"numbertext\">3 / 12</div>\n",
      "<iframe src=\"../plotted comparisons/regression_plots/Central African Republic/Central African Republic_Groundnuts (unshelled).html\"style=\"width:100%\"></iframe>\n",
      "</div>\n",
      "\n",
      "<div class=\"mySlides fade\">\n",
      "<div class=\"numbertext\">4 / 12</div>\n",
      "<iframe src=\"../plotted comparisons/regression_plots/Central African Republic/Central African Republic_Maize.html\"style=\"width:100%\"></iframe>\n",
      "</div>\n",
      "\n",
      "<div class=\"mySlides fade\">\n",
      "<div class=\"numbertext\">5 / 12</div>\n",
      "<iframe src=\"../plotted comparisons/regression_plots/Central African Republic/Central African Republic_Meat (beef).html\"style=\"width:100%\"></iframe>\n",
      "</div>\n",
      "\n",
      "<div class=\"mySlides fade\">\n",
      "<div class=\"numbertext\">6 / 12</div>\n",
      "<iframe src=\"../plotted comparisons/regression_plots/Central African Republic/Central African Republic_Millet.html\"style=\"width:100%\"></iframe>\n",
      "</div>\n",
      "\n",
      "<div class=\"mySlides fade\">\n",
      "<div class=\"numbertext\">7 / 12</div>\n",
      "<iframe src=\"../plotted comparisons/regression_plots/Central African Republic/Central African Republic_Oil (groundnut).html\"style=\"width:100%\"></iframe>\n",
      "</div>\n",
      "\n",
      "<div class=\"mySlides fade\">\n",
      "<div class=\"numbertext\">8 / 12</div>\n",
      "<iframe src=\"../plotted comparisons/regression_plots/Central African Republic/Central African Republic_Oil (palm).html\"style=\"width:100%\"></iframe>\n",
      "</div>\n",
      "\n",
      "<div class=\"mySlides fade\">\n",
      "<div class=\"numbertext\">9 / 12</div>\n",
      "<iframe src=\"../plotted comparisons/regression_plots/Central African Republic/Central African Republic_Rice.html\"style=\"width:100%\"></iframe>\n",
      "</div>\n",
      "\n",
      "<div class=\"mySlides fade\">\n",
      "<div class=\"numbertext\">10 / 12</div>\n",
      "<iframe src=\"../plotted comparisons/regression_plots/Central African Republic/Central African Republic_Sesame.html\"style=\"width:100%\"></iframe>\n",
      "</div>\n",
      "\n",
      "<div class=\"mySlides fade\">\n",
      "<div class=\"numbertext\">11 / 12</div>\n",
      "<iframe src=\"../plotted comparisons/regression_plots/Central African Republic/Central African Republic_Sorghum.html\"style=\"width:100%\"></iframe>\n",
      "</div>\n",
      "\n",
      "<div class=\"mySlides fade\">\n",
      "<div class=\"numbertext\">12 / 12</div>\n",
      "<iframe src=\"../plotted comparisons/regression_plots/Central African Republic/Central African Republic_Wheat flour.html\"style=\"width:100%\"></iframe>\n",
      "</div>\n",
      "\n"
     ]
    }
   ],
   "source": [
    "import os\n",
    "print(os.getcwd())\n",
    "i=0\n",
    "dirlist = os.listdir(\"Central African Republic\")\n",
    "\n",
    "for items in dirlist:\n",
    "    i +=1\n",
    "    print('<div class=\"mySlides fade\">') \n",
    "    print('<div class=\"numbertext\">{} / {}</div>'.format(i,len(dirlist)))\n",
    "    print('<iframe src=\"../plotted comparisons/regression_plots/Central African Republic/{}\"style=\"width:100%\"></iframe>'.format(items))\n",
    "    print('</div>')\n",
    "    print(\"\")"
   ]
  },
  {
   "cell_type": "code",
   "execution_count": 11,
   "metadata": {},
   "outputs": [
    {
     "name": "stdout",
     "output_type": "stream",
     "text": [
      "<span class=\"dot\" onclick=\"currentSlide(1)\"></span>\n",
      "<span class=\"dot\" onclick=\"currentSlide(2)\"></span>\n",
      "<span class=\"dot\" onclick=\"currentSlide(3)\"></span>\n",
      "<span class=\"dot\" onclick=\"currentSlide(4)\"></span>\n",
      "<span class=\"dot\" onclick=\"currentSlide(5)\"></span>\n",
      "<span class=\"dot\" onclick=\"currentSlide(6)\"></span>\n",
      "<span class=\"dot\" onclick=\"currentSlide(7)\"></span>\n",
      "<span class=\"dot\" onclick=\"currentSlide(8)\"></span>\n",
      "<span class=\"dot\" onclick=\"currentSlide(9)\"></span>\n",
      "<span class=\"dot\" onclick=\"currentSlide(10)\"></span>\n",
      "<span class=\"dot\" onclick=\"currentSlide(11)\"></span>\n",
      "<span class=\"dot\" onclick=\"currentSlide(12)\"></span>\n"
     ]
    }
   ],
   "source": [
    "i = 0\n",
    "for items in dirlist:\n",
    "    i +=1\n",
    "    print('<span class=\"dot\" onclick=\"currentSlide({})\"></span>'.format(i))"
   ]
  }
 ],
 "metadata": {
  "kernelspec": {
   "display_name": "Python 3",
   "language": "python",
   "name": "python3"
  },
  "language_info": {
   "codemirror_mode": {
    "name": "ipython",
    "version": 3
   },
   "file_extension": ".py",
   "mimetype": "text/x-python",
   "name": "python",
   "nbconvert_exporter": "python",
   "pygments_lexer": "ipython3",
   "version": "3.6.3"
  }
 },
 "nbformat": 4,
 "nbformat_minor": 2
}
