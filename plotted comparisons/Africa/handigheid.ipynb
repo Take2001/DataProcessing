{
 "cells": [
  {
   "cell_type": "code",
   "execution_count": 61,
   "metadata": {},
   "outputs": [
    {
     "name": "stdout",
     "output_type": "stream",
     "text": [
      "C:\\Users\\krull\\Desktop\\School\\Dataverwerking & Visualisatie\\Github\\DataProcessing1\\plotted comparisons\\Middle_east\n",
      "<div class=\"mySlides fade\">\n",
      "<div class=\"numbertext\">1 / 5</div>\n",
      "<iframe src=\"../plotted comparisons/Middle_East/Iran/compare_refugees_Iraq_and_price_of_Bread (khoboz).html\"style=\"width:100%\"></iframe>\n",
      "</div>\n",
      "\n",
      "<div class=\"mySlides fade\">\n",
      "<div class=\"numbertext\">2 / 5</div>\n",
      "<iframe src=\"../plotted comparisons/Middle_East/Iran/compare_refugees_Iraq_and_price_of_Oil (vegetable).html\"style=\"width:100%\"></iframe>\n",
      "</div>\n",
      "\n",
      "<div class=\"mySlides fade\">\n",
      "<div class=\"numbertext\">3 / 5</div>\n",
      "<iframe src=\"../plotted comparisons/Middle_East/Iran/compare_refugees_Iraq_and_price_of_Rice.html\"style=\"width:100%\"></iframe>\n",
      "</div>\n",
      "\n",
      "<div class=\"mySlides fade\">\n",
      "<div class=\"numbertext\">4 / 5</div>\n",
      "<iframe src=\"../plotted comparisons/Middle_East/Iran/compare_refugees_Iraq_and_price_of_Sugar.html\"style=\"width:100%\"></iframe>\n",
      "</div>\n",
      "\n",
      "<div class=\"mySlides fade\">\n",
      "<div class=\"numbertext\">5 / 5</div>\n",
      "<iframe src=\"../plotted comparisons/Middle_East/Iran/compare_refugees_Iraq_and_price_of_Wheat flour.html\"style=\"width:100%\"></iframe>\n",
      "</div>\n",
      "\n"
     ]
    }
   ],
   "source": [
    "import os\n",
    "print(os.getcwd())\n",
    "i=0\n",
    "dirlist = os.listdir(\"Iraq\")\n",
    "for items in dirlist:\n",
    "    i +=1\n",
    "    print('<div class=\"mySlides fade\">') \n",
    "    print('<div class=\"numbertext\">{} / {}</div>'.format(i,len(dirlist)))\n",
    "    print('<iframe src=\"../plotted comparisons/Middle_East/Iraq/{}\"style=\"width:100%\"></iframe>'.format(items))\n",
    "    print('</div>')\n",
    "    print(\"\")"
   ]
  },
  {
   "cell_type": "code",
   "execution_count": 60,
   "metadata": {},
   "outputs": [
    {
     "name": "stdout",
     "output_type": "stream",
     "text": [
      "<span class=\"dot\" onclick=\"currentSlide(1)\"></span>\n",
      "<span class=\"dot\" onclick=\"currentSlide(2)\"></span>\n",
      "<span class=\"dot\" onclick=\"currentSlide(3)\"></span>\n",
      "<span class=\"dot\" onclick=\"currentSlide(4)\"></span>\n",
      "<span class=\"dot\" onclick=\"currentSlide(5)\"></span>\n"
     ]
    }
   ],
   "source": [
    "i = 0\n",
    "for items in dirlist:\n",
    "    i +=1\n",
    "    print('<span class=\"dot\" onclick=\"currentSlide({})\"></span>'.format(i))"
   ]
  }
 ],
 "metadata": {
  "kernelspec": {
   "display_name": "Python 3",
   "language": "python",
   "name": "python3"
  },
  "language_info": {
   "codemirror_mode": {
    "name": "ipython",
    "version": 3
   },
   "file_extension": ".py",
   "mimetype": "text/x-python",
   "name": "python",
   "nbconvert_exporter": "python",
   "pygments_lexer": "ipython3",
   "version": "3.6.3"
  }
 },
 "nbformat": 4,
 "nbformat_minor": 2
}
