{
 "cells": [
  {
   "cell_type": "code",
   "execution_count": 58,
   "metadata": {},
   "outputs": [
    {
     "name": "stdout",
     "output_type": "stream",
     "text": [
      "C:\\Users\\krull\\Desktop\\School\\Dataverwerking & Visualisatie\\Github\\DataProcessing1\\plotted comparisons\\Middle_east\n",
      "<div class=\"mySlides fade\">\n",
      "<div class=\"numbertext\">1 / 8</div>\n",
      "<iframe src=\"../plotted comparisons/Middle_East/Afghanistan/compare_refugees_Afghanistan_and_price_of_Bread.html\"style=\"width:100%\"></iframe>\n",
      "</div>\n",
      "\n",
      "<div class=\"mySlides fade\">\n",
      "<div class=\"numbertext\">2 / 8</div>\n",
      "<iframe src=\"../plotted comparisons/Middle_East/Afghanistan/compare_refugees_Afghanistan_and_price_of_Exchange rate.html\"style=\"width:100%\"></iframe>\n",
      "</div>\n",
      "\n",
      "<div class=\"mySlides fade\">\n",
      "<div class=\"numbertext\">3 / 8</div>\n",
      "<iframe src=\"../plotted comparisons/Middle_East/Afghanistan/compare_refugees_Afghanistan_and_price_of_Fuel (diesel).html\"style=\"width:100%\"></iframe>\n",
      "</div>\n",
      "\n",
      "<div class=\"mySlides fade\">\n",
      "<div class=\"numbertext\">4 / 8</div>\n",
      "<iframe src=\"../plotted comparisons/Middle_East/Afghanistan/compare_refugees_Afghanistan_and_price_of_Livestock (sheep, one-year-old alive female).html\"style=\"width:100%\"></iframe>\n",
      "</div>\n",
      "\n",
      "<div class=\"mySlides fade\">\n",
      "<div class=\"numbertext\">5 / 8</div>\n",
      "<iframe src=\"../plotted comparisons/Middle_East/Afghanistan/compare_refugees_Afghanistan_and_price_of_Rice (low quality).html\"style=\"width:100%\"></iframe>\n",
      "</div>\n",
      "\n",
      "<div class=\"mySlides fade\">\n",
      "<div class=\"numbertext\">6 / 8</div>\n",
      "<iframe src=\"../plotted comparisons/Middle_East/Afghanistan/compare_refugees_Afghanistan_and_price_of_Wage (non-qualified labour, non-agricultural).html\"style=\"width:100%\"></iframe>\n",
      "</div>\n",
      "\n",
      "<div class=\"mySlides fade\">\n",
      "<div class=\"numbertext\">7 / 8</div>\n",
      "<iframe src=\"../plotted comparisons/Middle_East/Afghanistan/compare_refugees_Afghanistan_and_price_of_Wage (qualified labour).html\"style=\"width:100%\"></iframe>\n",
      "</div>\n",
      "\n",
      "<div class=\"mySlides fade\">\n",
      "<div class=\"numbertext\">8 / 8</div>\n",
      "<iframe src=\"../plotted comparisons/Middle_East/Afghanistan/compare_refugees_Afghanistan_and_price_of_Wheat.html\"style=\"width:100%\"></iframe>\n",
      "</div>\n",
      "\n"
     ]
    }
   ],
   "source": [
    "import os\n",
    "print(os.getcwd())\n",
    "i=0\n",
    "dirlist = os.listdir(\"Afghanistan\")\n",
    "for items in dirlist:\n",
    "    i +=1\n",
    "    print('<div class=\"mySlides fade\">') \n",
    "    print('<div class=\"numbertext\">{} / {}</div>'.format(i,len(dirlist)))\n",
    "    print('<iframe src=\"../plotted comparisons/Middle_East/Afghanistan/{}\"style=\"width:100%\"></iframe>'.format(items))\n",
    "    print('</div>')\n",
    "    print(\"\")"
   ]
  },
  {
   "cell_type": "code",
   "execution_count": 18,
   "metadata": {},
   "outputs": [
    {
     "name": "stdout",
     "output_type": "stream",
     "text": [
      "<span class=\"dot\" onclick=\"currentSlide(1)\"></span>\n",
      "<span class=\"dot\" onclick=\"currentSlide(2)\"></span>\n",
      "<span class=\"dot\" onclick=\"currentSlide(3)\"></span>\n",
      "<span class=\"dot\" onclick=\"currentSlide(4)\"></span>\n",
      "<span class=\"dot\" onclick=\"currentSlide(5)\"></span>\n",
      "<span class=\"dot\" onclick=\"currentSlide(6)\"></span>\n",
      "<span class=\"dot\" onclick=\"currentSlide(7)\"></span>\n",
      "<span class=\"dot\" onclick=\"currentSlide(8)\"></span>\n",
      "<span class=\"dot\" onclick=\"currentSlide(9)\"></span>\n",
      "<span class=\"dot\" onclick=\"currentSlide(10)\"></span>\n",
      "<span class=\"dot\" onclick=\"currentSlide(11)\"></span>\n",
      "<span class=\"dot\" onclick=\"currentSlide(12)\"></span>\n",
      "<span class=\"dot\" onclick=\"currentSlide(13)\"></span>\n",
      "<span class=\"dot\" onclick=\"currentSlide(14)\"></span>\n",
      "<span class=\"dot\" onclick=\"currentSlide(15)\"></span>\n",
      "<span class=\"dot\" onclick=\"currentSlide(16)\"></span>\n",
      "<span class=\"dot\" onclick=\"currentSlide(17)\"></span>\n",
      "<span class=\"dot\" onclick=\"currentSlide(18)\"></span>\n",
      "<span class=\"dot\" onclick=\"currentSlide(19)\"></span>\n",
      "<span class=\"dot\" onclick=\"currentSlide(20)\"></span>\n",
      "<span class=\"dot\" onclick=\"currentSlide(21)\"></span>\n",
      "<span class=\"dot\" onclick=\"currentSlide(22)\"></span>\n",
      "<span class=\"dot\" onclick=\"currentSlide(23)\"></span>\n",
      "<span class=\"dot\" onclick=\"currentSlide(24)\"></span>\n",
      "<span class=\"dot\" onclick=\"currentSlide(25)\"></span>\n",
      "<span class=\"dot\" onclick=\"currentSlide(26)\"></span>\n",
      "<span class=\"dot\" onclick=\"currentSlide(27)\"></span>\n",
      "<span class=\"dot\" onclick=\"currentSlide(28)\"></span>\n",
      "<span class=\"dot\" onclick=\"currentSlide(29)\"></span>\n",
      "<span class=\"dot\" onclick=\"currentSlide(30)\"></span>\n",
      "<span class=\"dot\" onclick=\"currentSlide(31)\"></span>\n",
      "<span class=\"dot\" onclick=\"currentSlide(32)\"></span>\n",
      "<span class=\"dot\" onclick=\"currentSlide(33)\"></span>\n",
      "<span class=\"dot\" onclick=\"currentSlide(34)\"></span>\n",
      "<span class=\"dot\" onclick=\"currentSlide(35)\"></span>\n",
      "<span class=\"dot\" onclick=\"currentSlide(36)\"></span>\n",
      "<span class=\"dot\" onclick=\"currentSlide(37)\"></span>\n",
      "<span class=\"dot\" onclick=\"currentSlide(38)\"></span>\n",
      "<span class=\"dot\" onclick=\"currentSlide(39)\"></span>\n",
      "<span class=\"dot\" onclick=\"currentSlide(40)\"></span>\n",
      "<span class=\"dot\" onclick=\"currentSlide(41)\"></span>\n",
      "<span class=\"dot\" onclick=\"currentSlide(42)\"></span>\n",
      "<span class=\"dot\" onclick=\"currentSlide(43)\"></span>\n",
      "<span class=\"dot\" onclick=\"currentSlide(44)\"></span>\n",
      "<span class=\"dot\" onclick=\"currentSlide(45)\"></span>\n",
      "<span class=\"dot\" onclick=\"currentSlide(46)\"></span>\n",
      "<span class=\"dot\" onclick=\"currentSlide(47)\"></span>\n",
      "<span class=\"dot\" onclick=\"currentSlide(48)\"></span>\n",
      "<span class=\"dot\" onclick=\"currentSlide(49)\"></span>\n",
      "<span class=\"dot\" onclick=\"currentSlide(50)\"></span>\n",
      "<span class=\"dot\" onclick=\"currentSlide(51)\"></span>\n",
      "<span class=\"dot\" onclick=\"currentSlide(52)\"></span>\n",
      "<span class=\"dot\" onclick=\"currentSlide(53)\"></span>\n",
      "<span class=\"dot\" onclick=\"currentSlide(54)\"></span>\n",
      "<span class=\"dot\" onclick=\"currentSlide(55)\"></span>\n"
     ]
    }
   ],
   "source": [
    "i = 0\n",
    "for items in dirlist:\n",
    "    i +=1\n",
    "    print('<span class=\"dot\" onclick=\"currentSlide({})\"></span>'.format(i))"
   ]
  }
 ],
 "metadata": {
  "kernelspec": {
   "display_name": "Python 3",
   "language": "python",
   "name": "python3"
  },
  "language_info": {
   "codemirror_mode": {
    "name": "ipython",
    "version": 3
   },
   "file_extension": ".py",
   "mimetype": "text/x-python",
   "name": "python",
   "nbconvert_exporter": "python",
   "pygments_lexer": "ipython3",
   "version": "3.6.3"
  }
 },
 "nbformat": 4,
 "nbformat_minor": 2
}
