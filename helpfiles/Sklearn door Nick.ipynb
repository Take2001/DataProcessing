{
 "cells": [
  {
   "cell_type": "markdown",
   "metadata": {
    "collapsed": true
   },
   "source": [
    "# Scikit-learn\n",
    "\n",
    "Machine learning is a very broad field, and you will get a more detailed course on this in your second year. We will provide some minor background information, but as time is limited we will only focus on Linear regression and K-means Clustering.\n",
    "\n",
    "Most techniques within Machine Learning can be divided within two groups (although there are many of these splits that you could make, e.g. supervised vs. unsupervised). Those being Regression algorithms and Classification algorithims. These two type of algorithms tackle two distinct problems.\n",
    "\n",
    "Throughout the notebook you will find some links to videos of Andrew Ng (some of his videos can safely be viewed at 1.5x speed). Here they use $\\theta$ to refer to the parameters you learn, so apart from notation, the material is the same.\n",
    "\n",
    "## Regression\n",
    "With regression you assume that the values come from some sort of function, and you try to find this function. Most techniques will try to fit some mathematical function that describes a curve, such that the curve passes as close as possible to all the data points. \n",
    "\n",
    "## Classification\n",
    "Classification is discrete, an object belongs to precisely one class, and the set of all classes covers all posibilities. You have no values in-between classes. \n",
    "\n",
    "## Supervised Learning\n",
    "Can be applied to data that has both features and labels. Your task usually exsits of contructing an estimator which is able to predict the label of an object given its features.\n",
    "\n",
    "Useful video: \n",
    "* [Supervised Learning](https://www.youtube.com/watch?v=ls7Ke48jCt8&list=PLZ9qNFMHZ-A4rycgrgOYma6zxF4BZGGPW&index=3)\n",
    "* [Linear Regression](https://www.youtube.com/watch?v=PBZUjnGuXjA&index=5&list=PLZ9qNFMHZ-A4rycgrgOYma6zxF4BZGGPW)\n",
    "\n",
    "## Unsupervised Learning\n",
    "Can be applies to data that has no labels, and with these techniques we attempt to find interesting similarities between the objects. You are essentially trying to discover labels yourself.\n",
    "\n",
    "Useful video: [Unsupervised Learning](https://www.youtube.com/watch?v=qHfUlFHGG08&index=4&list=PLZ9qNFMHZ-A4rycgrgOYma6zxF4BZGGPW)"
   ]
  },
  {
   "cell_type": "markdown",
   "metadata": {},
   "source": [
    "# Linear Regression\n",
    "\n",
    "We will be going over how to use the scikit-learn regression model, as well as how to train the regressor using the `fit()` method, and how to predict new labels using the `predict()` method. From time to time we might introduce some mathematics as well, but the intention is to focus on implementation details.\n",
    "\n",
    "If you're interested in the deeper mathematics of linear regession methods, check out the [wikipedia page](http://en.wikipedia.org/wiki/Linear_regression)."
   ]
  },
  {
   "cell_type": "markdown",
   "metadata": {},
   "source": [
    "## Setup and Data\n",
    "For the following examples we will be using a built-in data set (quite convenient) containing housing prices of Boston. The following code will contain the imports for numpy, bokeh, pandas and the dataset from sklearn."
   ]
  },
  {
   "cell_type": "code",
   "execution_count": 1,
   "metadata": {},
   "outputs": [
    {
     "data": {
      "text/html": [
       "\n",
       "    <div class=\"bk-root\">\n",
       "        <a href=\"https://bokeh.pydata.org\" target=\"_blank\" class=\"bk-logo bk-logo-small bk-logo-notebook\"></a>\n",
       "        <span id=\"4b8d5032-02c7-4d73-a777-d78dcf828acb\">Loading BokehJS ...</span>\n",
       "    </div>"
      ]
     },
     "metadata": {},
     "output_type": "display_data"
    },
    {
     "data": {
      "application/javascript": [
       "\n",
       "(function(root) {\n",
       "  function now() {\n",
       "    return new Date();\n",
       "  }\n",
       "\n",
       "  var force = true;\n",
       "\n",
       "  if (typeof (root._bokeh_onload_callbacks) === \"undefined\" || force === true) {\n",
       "    root._bokeh_onload_callbacks = [];\n",
       "    root._bokeh_is_loading = undefined;\n",
       "  }\n",
       "\n",
       "  var JS_MIME_TYPE = 'application/javascript';\n",
       "  var HTML_MIME_TYPE = 'text/html';\n",
       "  var EXEC_MIME_TYPE = 'application/vnd.bokehjs_exec.v0+json';\n",
       "  var CLASS_NAME = 'output_bokeh rendered_html';\n",
       "\n",
       "  /**\n",
       "   * Render data to the DOM node\n",
       "   */\n",
       "  function render(props, node) {\n",
       "    var script = document.createElement(\"script\");\n",
       "    node.appendChild(script);\n",
       "  }\n",
       "\n",
       "  /**\n",
       "   * Handle when an output is cleared or removed\n",
       "   */\n",
       "  function handleClearOutput(event, handle) {\n",
       "    var cell = handle.cell;\n",
       "\n",
       "    var id = cell.output_area._bokeh_element_id;\n",
       "    var server_id = cell.output_area._bokeh_server_id;\n",
       "    // Clean up Bokeh references\n",
       "    if (id !== undefined) {\n",
       "      Bokeh.index[id].model.document.clear();\n",
       "      delete Bokeh.index[id];\n",
       "    }\n",
       "\n",
       "    if (server_id !== undefined) {\n",
       "      // Clean up Bokeh references\n",
       "      var cmd = \"from bokeh.io.state import curstate; print(curstate().uuid_to_server['\" + server_id + \"'].get_sessions()[0].document.roots[0]._id)\";\n",
       "      cell.notebook.kernel.execute(cmd, {\n",
       "        iopub: {\n",
       "          output: function(msg) {\n",
       "            var element_id = msg.content.text.trim();\n",
       "            Bokeh.index[element_id].model.document.clear();\n",
       "            delete Bokeh.index[element_id];\n",
       "          }\n",
       "        }\n",
       "      });\n",
       "      // Destroy server and session\n",
       "      var cmd = \"import bokeh.io.notebook as ion; ion.destroy_server('\" + server_id + \"')\";\n",
       "      cell.notebook.kernel.execute(cmd);\n",
       "    }\n",
       "  }\n",
       "\n",
       "  /**\n",
       "   * Handle when a new output is added\n",
       "   */\n",
       "  function handleAddOutput(event, handle) {\n",
       "    var output_area = handle.output_area;\n",
       "    var output = handle.output;\n",
       "\n",
       "    // limit handleAddOutput to display_data with EXEC_MIME_TYPE content only\n",
       "    if ((output.output_type != \"display_data\") || (!output.data.hasOwnProperty(EXEC_MIME_TYPE))) {\n",
       "      return\n",
       "    }\n",
       "\n",
       "    var toinsert = output_area.element.find(\".\" + CLASS_NAME.split(' ')[0]);\n",
       "\n",
       "    if (output.metadata[EXEC_MIME_TYPE][\"id\"] !== undefined) {\n",
       "      toinsert[toinsert.length - 1].firstChild.textContent = output.data[JS_MIME_TYPE];\n",
       "      // store reference to embed id on output_area\n",
       "      output_area._bokeh_element_id = output.metadata[EXEC_MIME_TYPE][\"id\"];\n",
       "    }\n",
       "    if (output.metadata[EXEC_MIME_TYPE][\"server_id\"] !== undefined) {\n",
       "      var bk_div = document.createElement(\"div\");\n",
       "      bk_div.innerHTML = output.data[HTML_MIME_TYPE];\n",
       "      var script_attrs = bk_div.children[0].attributes;\n",
       "      for (var i = 0; i < script_attrs.length; i++) {\n",
       "        toinsert[toinsert.length - 1].firstChild.setAttribute(script_attrs[i].name, script_attrs[i].value);\n",
       "      }\n",
       "      // store reference to server id on output_area\n",
       "      output_area._bokeh_server_id = output.metadata[EXEC_MIME_TYPE][\"server_id\"];\n",
       "    }\n",
       "  }\n",
       "\n",
       "  function register_renderer(events, OutputArea) {\n",
       "\n",
       "    function append_mime(data, metadata, element) {\n",
       "      // create a DOM node to render to\n",
       "      var toinsert = this.create_output_subarea(\n",
       "        metadata,\n",
       "        CLASS_NAME,\n",
       "        EXEC_MIME_TYPE\n",
       "      );\n",
       "      this.keyboard_manager.register_events(toinsert);\n",
       "      // Render to node\n",
       "      var props = {data: data, metadata: metadata[EXEC_MIME_TYPE]};\n",
       "      render(props, toinsert[toinsert.length - 1]);\n",
       "      element.append(toinsert);\n",
       "      return toinsert\n",
       "    }\n",
       "\n",
       "    /* Handle when an output is cleared or removed */\n",
       "    events.on('clear_output.CodeCell', handleClearOutput);\n",
       "    events.on('delete.Cell', handleClearOutput);\n",
       "\n",
       "    /* Handle when a new output is added */\n",
       "    events.on('output_added.OutputArea', handleAddOutput);\n",
       "\n",
       "    /**\n",
       "     * Register the mime type and append_mime function with output_area\n",
       "     */\n",
       "    OutputArea.prototype.register_mime_type(EXEC_MIME_TYPE, append_mime, {\n",
       "      /* Is output safe? */\n",
       "      safe: true,\n",
       "      /* Index of renderer in `output_area.display_order` */\n",
       "      index: 0\n",
       "    });\n",
       "  }\n",
       "\n",
       "  // register the mime type if in Jupyter Notebook environment and previously unregistered\n",
       "  if (root.Jupyter !== undefined) {\n",
       "    var events = require('base/js/events');\n",
       "    var OutputArea = require('notebook/js/outputarea').OutputArea;\n",
       "\n",
       "    if (OutputArea.prototype.mime_types().indexOf(EXEC_MIME_TYPE) == -1) {\n",
       "      register_renderer(events, OutputArea);\n",
       "    }\n",
       "  }\n",
       "\n",
       "  \n",
       "  if (typeof (root._bokeh_timeout) === \"undefined\" || force === true) {\n",
       "    root._bokeh_timeout = Date.now() + 5000;\n",
       "    root._bokeh_failed_load = false;\n",
       "  }\n",
       "\n",
       "  var NB_LOAD_WARNING = {'data': {'text/html':\n",
       "     \"<div style='background-color: #fdd'>\\n\"+\n",
       "     \"<p>\\n\"+\n",
       "     \"BokehJS does not appear to have successfully loaded. If loading BokehJS from CDN, this \\n\"+\n",
       "     \"may be due to a slow or bad network connection. Possible fixes:\\n\"+\n",
       "     \"</p>\\n\"+\n",
       "     \"<ul>\\n\"+\n",
       "     \"<li>re-rerun `output_notebook()` to attempt to load from CDN again, or</li>\\n\"+\n",
       "     \"<li>use INLINE resources instead, as so:</li>\\n\"+\n",
       "     \"</ul>\\n\"+\n",
       "     \"<code>\\n\"+\n",
       "     \"from bokeh.resources import INLINE\\n\"+\n",
       "     \"output_notebook(resources=INLINE)\\n\"+\n",
       "     \"</code>\\n\"+\n",
       "     \"</div>\"}};\n",
       "\n",
       "  function display_loaded() {\n",
       "    var el = document.getElementById(\"4b8d5032-02c7-4d73-a777-d78dcf828acb\");\n",
       "    if (el != null) {\n",
       "      el.textContent = \"BokehJS is loading...\";\n",
       "    }\n",
       "    if (root.Bokeh !== undefined) {\n",
       "      if (el != null) {\n",
       "        el.textContent = \"BokehJS \" + root.Bokeh.version + \" successfully loaded.\";\n",
       "      }\n",
       "    } else if (Date.now() < root._bokeh_timeout) {\n",
       "      setTimeout(display_loaded, 100)\n",
       "    }\n",
       "  }\n",
       "\n",
       "\n",
       "  function run_callbacks() {\n",
       "    try {\n",
       "      root._bokeh_onload_callbacks.forEach(function(callback) { callback() });\n",
       "    }\n",
       "    finally {\n",
       "      delete root._bokeh_onload_callbacks\n",
       "    }\n",
       "    console.info(\"Bokeh: all callbacks have finished\");\n",
       "  }\n",
       "\n",
       "  function load_libs(js_urls, callback) {\n",
       "    root._bokeh_onload_callbacks.push(callback);\n",
       "    if (root._bokeh_is_loading > 0) {\n",
       "      console.log(\"Bokeh: BokehJS is being loaded, scheduling callback at\", now());\n",
       "      return null;\n",
       "    }\n",
       "    if (js_urls == null || js_urls.length === 0) {\n",
       "      run_callbacks();\n",
       "      return null;\n",
       "    }\n",
       "    console.log(\"Bokeh: BokehJS not loaded, scheduling load and callback at\", now());\n",
       "    root._bokeh_is_loading = js_urls.length;\n",
       "    for (var i = 0; i < js_urls.length; i++) {\n",
       "      var url = js_urls[i];\n",
       "      var s = document.createElement('script');\n",
       "      s.src = url;\n",
       "      s.async = false;\n",
       "      s.onreadystatechange = s.onload = function() {\n",
       "        root._bokeh_is_loading--;\n",
       "        if (root._bokeh_is_loading === 0) {\n",
       "          console.log(\"Bokeh: all BokehJS libraries loaded\");\n",
       "          run_callbacks()\n",
       "        }\n",
       "      };\n",
       "      s.onerror = function() {\n",
       "        console.warn(\"failed to load library \" + url);\n",
       "      };\n",
       "      console.log(\"Bokeh: injecting script tag for BokehJS library: \", url);\n",
       "      document.getElementsByTagName(\"head\")[0].appendChild(s);\n",
       "    }\n",
       "  };var element = document.getElementById(\"4b8d5032-02c7-4d73-a777-d78dcf828acb\");\n",
       "  if (element == null) {\n",
       "    console.log(\"Bokeh: ERROR: autoload.js configured with elementid '4b8d5032-02c7-4d73-a777-d78dcf828acb' but no matching script tag was found. \")\n",
       "    return false;\n",
       "  }\n",
       "\n",
       "  var js_urls = [\"https://cdn.pydata.org/bokeh/release/bokeh-0.12.16.min.js\", \"https://cdn.pydata.org/bokeh/release/bokeh-widgets-0.12.16.min.js\", \"https://cdn.pydata.org/bokeh/release/bokeh-tables-0.12.16.min.js\", \"https://cdn.pydata.org/bokeh/release/bokeh-gl-0.12.16.min.js\"];\n",
       "\n",
       "  var inline_js = [\n",
       "    function(Bokeh) {\n",
       "      Bokeh.set_log_level(\"info\");\n",
       "    },\n",
       "    \n",
       "    function(Bokeh) {\n",
       "      \n",
       "    },\n",
       "    function(Bokeh) {\n",
       "      console.log(\"Bokeh: injecting CSS: https://cdn.pydata.org/bokeh/release/bokeh-0.12.16.min.css\");\n",
       "      Bokeh.embed.inject_css(\"https://cdn.pydata.org/bokeh/release/bokeh-0.12.16.min.css\");\n",
       "      console.log(\"Bokeh: injecting CSS: https://cdn.pydata.org/bokeh/release/bokeh-widgets-0.12.16.min.css\");\n",
       "      Bokeh.embed.inject_css(\"https://cdn.pydata.org/bokeh/release/bokeh-widgets-0.12.16.min.css\");\n",
       "      console.log(\"Bokeh: injecting CSS: https://cdn.pydata.org/bokeh/release/bokeh-tables-0.12.16.min.css\");\n",
       "      Bokeh.embed.inject_css(\"https://cdn.pydata.org/bokeh/release/bokeh-tables-0.12.16.min.css\");\n",
       "    }\n",
       "  ];\n",
       "\n",
       "  function run_inline_js() {\n",
       "    \n",
       "    if ((root.Bokeh !== undefined) || (force === true)) {\n",
       "      for (var i = 0; i < inline_js.length; i++) {\n",
       "        inline_js[i].call(root, root.Bokeh);\n",
       "      }if (force === true) {\n",
       "        display_loaded();\n",
       "      }} else if (Date.now() < root._bokeh_timeout) {\n",
       "      setTimeout(run_inline_js, 100);\n",
       "    } else if (!root._bokeh_failed_load) {\n",
       "      console.log(\"Bokeh: BokehJS failed to load within specified timeout.\");\n",
       "      root._bokeh_failed_load = true;\n",
       "    } else if (force !== true) {\n",
       "      var cell = $(document.getElementById(\"4b8d5032-02c7-4d73-a777-d78dcf828acb\")).parents('.cell').data().cell;\n",
       "      cell.output_area.append_execute_result(NB_LOAD_WARNING)\n",
       "    }\n",
       "\n",
       "  }\n",
       "\n",
       "  if (root._bokeh_is_loading === 0) {\n",
       "    console.log(\"Bokeh: BokehJS loaded, going straight to plotting\");\n",
       "    run_inline_js();\n",
       "  } else {\n",
       "    load_libs(js_urls, function() {\n",
       "      console.log(\"Bokeh: BokehJS plotting callback run at\", now());\n",
       "      run_inline_js();\n",
       "    });\n",
       "  }\n",
       "}(window));"
      ],
      "application/vnd.bokehjs_load.v0+json": "\n(function(root) {\n  function now() {\n    return new Date();\n  }\n\n  var force = true;\n\n  if (typeof (root._bokeh_onload_callbacks) === \"undefined\" || force === true) {\n    root._bokeh_onload_callbacks = [];\n    root._bokeh_is_loading = undefined;\n  }\n\n  \n\n  \n  if (typeof (root._bokeh_timeout) === \"undefined\" || force === true) {\n    root._bokeh_timeout = Date.now() + 5000;\n    root._bokeh_failed_load = false;\n  }\n\n  var NB_LOAD_WARNING = {'data': {'text/html':\n     \"<div style='background-color: #fdd'>\\n\"+\n     \"<p>\\n\"+\n     \"BokehJS does not appear to have successfully loaded. If loading BokehJS from CDN, this \\n\"+\n     \"may be due to a slow or bad network connection. Possible fixes:\\n\"+\n     \"</p>\\n\"+\n     \"<ul>\\n\"+\n     \"<li>re-rerun `output_notebook()` to attempt to load from CDN again, or</li>\\n\"+\n     \"<li>use INLINE resources instead, as so:</li>\\n\"+\n     \"</ul>\\n\"+\n     \"<code>\\n\"+\n     \"from bokeh.resources import INLINE\\n\"+\n     \"output_notebook(resources=INLINE)\\n\"+\n     \"</code>\\n\"+\n     \"</div>\"}};\n\n  function display_loaded() {\n    var el = document.getElementById(\"4b8d5032-02c7-4d73-a777-d78dcf828acb\");\n    if (el != null) {\n      el.textContent = \"BokehJS is loading...\";\n    }\n    if (root.Bokeh !== undefined) {\n      if (el != null) {\n        el.textContent = \"BokehJS \" + root.Bokeh.version + \" successfully loaded.\";\n      }\n    } else if (Date.now() < root._bokeh_timeout) {\n      setTimeout(display_loaded, 100)\n    }\n  }\n\n\n  function run_callbacks() {\n    try {\n      root._bokeh_onload_callbacks.forEach(function(callback) { callback() });\n    }\n    finally {\n      delete root._bokeh_onload_callbacks\n    }\n    console.info(\"Bokeh: all callbacks have finished\");\n  }\n\n  function load_libs(js_urls, callback) {\n    root._bokeh_onload_callbacks.push(callback);\n    if (root._bokeh_is_loading > 0) {\n      console.log(\"Bokeh: BokehJS is being loaded, scheduling callback at\", now());\n      return null;\n    }\n    if (js_urls == null || js_urls.length === 0) {\n      run_callbacks();\n      return null;\n    }\n    console.log(\"Bokeh: BokehJS not loaded, scheduling load and callback at\", now());\n    root._bokeh_is_loading = js_urls.length;\n    for (var i = 0; i < js_urls.length; i++) {\n      var url = js_urls[i];\n      var s = document.createElement('script');\n      s.src = url;\n      s.async = false;\n      s.onreadystatechange = s.onload = function() {\n        root._bokeh_is_loading--;\n        if (root._bokeh_is_loading === 0) {\n          console.log(\"Bokeh: all BokehJS libraries loaded\");\n          run_callbacks()\n        }\n      };\n      s.onerror = function() {\n        console.warn(\"failed to load library \" + url);\n      };\n      console.log(\"Bokeh: injecting script tag for BokehJS library: \", url);\n      document.getElementsByTagName(\"head\")[0].appendChild(s);\n    }\n  };var element = document.getElementById(\"4b8d5032-02c7-4d73-a777-d78dcf828acb\");\n  if (element == null) {\n    console.log(\"Bokeh: ERROR: autoload.js configured with elementid '4b8d5032-02c7-4d73-a777-d78dcf828acb' but no matching script tag was found. \")\n    return false;\n  }\n\n  var js_urls = [\"https://cdn.pydata.org/bokeh/release/bokeh-0.12.16.min.js\", \"https://cdn.pydata.org/bokeh/release/bokeh-widgets-0.12.16.min.js\", \"https://cdn.pydata.org/bokeh/release/bokeh-tables-0.12.16.min.js\", \"https://cdn.pydata.org/bokeh/release/bokeh-gl-0.12.16.min.js\"];\n\n  var inline_js = [\n    function(Bokeh) {\n      Bokeh.set_log_level(\"info\");\n    },\n    \n    function(Bokeh) {\n      \n    },\n    function(Bokeh) {\n      console.log(\"Bokeh: injecting CSS: https://cdn.pydata.org/bokeh/release/bokeh-0.12.16.min.css\");\n      Bokeh.embed.inject_css(\"https://cdn.pydata.org/bokeh/release/bokeh-0.12.16.min.css\");\n      console.log(\"Bokeh: injecting CSS: https://cdn.pydata.org/bokeh/release/bokeh-widgets-0.12.16.min.css\");\n      Bokeh.embed.inject_css(\"https://cdn.pydata.org/bokeh/release/bokeh-widgets-0.12.16.min.css\");\n      console.log(\"Bokeh: injecting CSS: https://cdn.pydata.org/bokeh/release/bokeh-tables-0.12.16.min.css\");\n      Bokeh.embed.inject_css(\"https://cdn.pydata.org/bokeh/release/bokeh-tables-0.12.16.min.css\");\n    }\n  ];\n\n  function run_inline_js() {\n    \n    if ((root.Bokeh !== undefined) || (force === true)) {\n      for (var i = 0; i < inline_js.length; i++) {\n        inline_js[i].call(root, root.Bokeh);\n      }if (force === true) {\n        display_loaded();\n      }} else if (Date.now() < root._bokeh_timeout) {\n      setTimeout(run_inline_js, 100);\n    } else if (!root._bokeh_failed_load) {\n      console.log(\"Bokeh: BokehJS failed to load within specified timeout.\");\n      root._bokeh_failed_load = true;\n    } else if (force !== true) {\n      var cell = $(document.getElementById(\"4b8d5032-02c7-4d73-a777-d78dcf828acb\")).parents('.cell').data().cell;\n      cell.output_area.append_execute_result(NB_LOAD_WARNING)\n    }\n\n  }\n\n  if (root._bokeh_is_loading === 0) {\n    console.log(\"Bokeh: BokehJS loaded, going straight to plotting\");\n    run_inline_js();\n  } else {\n    load_libs(js_urls, function() {\n      console.log(\"Bokeh: BokehJS plotting callback run at\", now());\n      run_inline_js();\n    });\n  }\n}(window));"
     },
     "metadata": {},
     "output_type": "display_data"
    }
   ],
   "source": [
    "import numpy as np\n",
    "\n",
    "import pandas as pd\n",
    "from pandas import Series,DataFrame\n",
    "from bokeh.layouts import gridplot, row, column\n",
    "\n",
    "from bokeh.io import push_notebook, show, output_notebook\n",
    "from bokeh.plotting import figure\n",
    "\n",
    "from sklearn.datasets import load_boston\n",
    "\n",
    "# For very simple visualizations (without too much interaction, output_notebook works too, which we enable here)\n",
    "output_notebook()"
   ]
  },
  {
   "cell_type": "code",
   "execution_count": 2,
   "metadata": {},
   "outputs": [
    {
     "name": "stdout",
     "output_type": "stream",
     "text": [
      "dict_keys(['data', 'target', 'feature_names', 'DESCR'])\n",
      "Boston House Prices dataset\n",
      "===========================\n",
      "\n",
      "Notes\n",
      "------\n",
      "Data Set Characteristics:  \n",
      "\n",
      "    :Number of Instances: 506 \n",
      "\n",
      "    :Number of Attributes: 13 numeric/categorical predictive\n",
      "    \n",
      "    :Median Value (attribute 14) is usually the target\n",
      "\n",
      "    :Attribute Information (in order):\n",
      "        - CRIM     per capita crime rate by town\n",
      "        - ZN       proportion of residential land zoned for lots over 25,000 sq.ft.\n",
      "        - INDUS    proportion of non-retail business acres per town\n",
      "        - CHAS     Charles River dummy variable (= 1 if tract bounds river; 0 otherwise)\n",
      "        - NOX      nitric oxides concentration (parts per 10 million)\n",
      "        - RM       average number of rooms per dwelling\n",
      "        - AGE      proportion of owner-occupied units built prior to 1940\n",
      "        - DIS      weighted distances to five Boston employment centres\n",
      "        - RAD      index of accessibility to radial highways\n",
      "        - TAX      full-value property-tax rate per $10,000\n",
      "        - PTRATIO  pupil-teacher ratio by town\n",
      "        - B        1000(Bk - 0.63)^2 where Bk is the proportion of blacks by town\n",
      "        - LSTAT    % lower status of the population\n",
      "        - MEDV     Median value of owner-occupied homes in $1000's\n",
      "\n",
      "    :Missing Attribute Values: None\n",
      "\n",
      "    :Creator: Harrison, D. and Rubinfeld, D.L.\n",
      "\n",
      "This is a copy of UCI ML housing dataset.\n",
      "http://archive.ics.uci.edu/ml/datasets/Housing\n",
      "\n",
      "\n",
      "This dataset was taken from the StatLib library which is maintained at Carnegie Mellon University.\n",
      "\n",
      "The Boston house-price data of Harrison, D. and Rubinfeld, D.L. 'Hedonic\n",
      "prices and the demand for clean air', J. Environ. Economics & Management,\n",
      "vol.5, 81-102, 1978.   Used in Belsley, Kuh & Welsch, 'Regression diagnostics\n",
      "...', Wiley, 1980.   N.B. Various transformations are used in the table on\n",
      "pages 244-261 of the latter.\n",
      "\n",
      "The Boston house-price data has been used in many machine learning papers that address regression\n",
      "problems.   \n",
      "     \n",
      "**References**\n",
      "\n",
      "   - Belsley, Kuh & Welsch, 'Regression diagnostics: Identifying Influential Data and Sources of Collinearity', Wiley, 1980. 244-261.\n",
      "   - Quinlan,R. (1993). Combining Instance-Based and Model-Based Learning. In Proceedings on the Tenth International Conference of Machine Learning, 236-243, University of Massachusetts, Amherst. Morgan Kaufmann.\n",
      "   - many more! (see http://archive.ics.uci.edu/ml/datasets/Housing)\n",
      "\n"
     ]
    }
   ],
   "source": [
    "# Load the housing dataset - a dictionary\n",
    "boston = load_boston()\n",
    "print(boston.keys())\n",
    "# Let's see some details\n",
    "print(boston.DESCR)"
   ]
  },
  {
   "cell_type": "markdown",
   "metadata": {},
   "source": [
    "So with the above information we deduce that we have some variables stored under de `data` key, the names of each of these features stored in `feature_names`, and that we have their expected prices stored in `target`. We might as well whip the `data` into a DataFrame as well, while we are at it."
   ]
  },
  {
   "cell_type": "code",
   "execution_count": 3,
   "metadata": {},
   "outputs": [
    {
     "data": {
      "text/html": [
       "<div>\n",
       "<style scoped>\n",
       "    .dataframe tbody tr th:only-of-type {\n",
       "        vertical-align: middle;\n",
       "    }\n",
       "\n",
       "    .dataframe tbody tr th {\n",
       "        vertical-align: top;\n",
       "    }\n",
       "\n",
       "    .dataframe thead th {\n",
       "        text-align: right;\n",
       "    }\n",
       "</style>\n",
       "<table border=\"1\" class=\"dataframe\">\n",
       "  <thead>\n",
       "    <tr style=\"text-align: right;\">\n",
       "      <th></th>\n",
       "      <th>CRIM</th>\n",
       "      <th>ZN</th>\n",
       "      <th>INDUS</th>\n",
       "      <th>CHAS</th>\n",
       "      <th>NOX</th>\n",
       "      <th>RM</th>\n",
       "      <th>AGE</th>\n",
       "      <th>DIS</th>\n",
       "      <th>RAD</th>\n",
       "      <th>TAX</th>\n",
       "      <th>PTRATIO</th>\n",
       "      <th>B</th>\n",
       "      <th>LSTAT</th>\n",
       "      <th>Price</th>\n",
       "    </tr>\n",
       "  </thead>\n",
       "  <tbody>\n",
       "    <tr>\n",
       "      <th>0</th>\n",
       "      <td>0.00632</td>\n",
       "      <td>18.0</td>\n",
       "      <td>2.31</td>\n",
       "      <td>0.0</td>\n",
       "      <td>0.538</td>\n",
       "      <td>6.575</td>\n",
       "      <td>65.2</td>\n",
       "      <td>4.0900</td>\n",
       "      <td>1.0</td>\n",
       "      <td>296.0</td>\n",
       "      <td>15.3</td>\n",
       "      <td>396.90</td>\n",
       "      <td>4.98</td>\n",
       "      <td>24.0</td>\n",
       "    </tr>\n",
       "    <tr>\n",
       "      <th>1</th>\n",
       "      <td>0.02731</td>\n",
       "      <td>0.0</td>\n",
       "      <td>7.07</td>\n",
       "      <td>0.0</td>\n",
       "      <td>0.469</td>\n",
       "      <td>6.421</td>\n",
       "      <td>78.9</td>\n",
       "      <td>4.9671</td>\n",
       "      <td>2.0</td>\n",
       "      <td>242.0</td>\n",
       "      <td>17.8</td>\n",
       "      <td>396.90</td>\n",
       "      <td>9.14</td>\n",
       "      <td>21.6</td>\n",
       "    </tr>\n",
       "    <tr>\n",
       "      <th>2</th>\n",
       "      <td>0.02729</td>\n",
       "      <td>0.0</td>\n",
       "      <td>7.07</td>\n",
       "      <td>0.0</td>\n",
       "      <td>0.469</td>\n",
       "      <td>7.185</td>\n",
       "      <td>61.1</td>\n",
       "      <td>4.9671</td>\n",
       "      <td>2.0</td>\n",
       "      <td>242.0</td>\n",
       "      <td>17.8</td>\n",
       "      <td>392.83</td>\n",
       "      <td>4.03</td>\n",
       "      <td>34.7</td>\n",
       "    </tr>\n",
       "    <tr>\n",
       "      <th>3</th>\n",
       "      <td>0.03237</td>\n",
       "      <td>0.0</td>\n",
       "      <td>2.18</td>\n",
       "      <td>0.0</td>\n",
       "      <td>0.458</td>\n",
       "      <td>6.998</td>\n",
       "      <td>45.8</td>\n",
       "      <td>6.0622</td>\n",
       "      <td>3.0</td>\n",
       "      <td>222.0</td>\n",
       "      <td>18.7</td>\n",
       "      <td>394.63</td>\n",
       "      <td>2.94</td>\n",
       "      <td>33.4</td>\n",
       "    </tr>\n",
       "    <tr>\n",
       "      <th>4</th>\n",
       "      <td>0.06905</td>\n",
       "      <td>0.0</td>\n",
       "      <td>2.18</td>\n",
       "      <td>0.0</td>\n",
       "      <td>0.458</td>\n",
       "      <td>7.147</td>\n",
       "      <td>54.2</td>\n",
       "      <td>6.0622</td>\n",
       "      <td>3.0</td>\n",
       "      <td>222.0</td>\n",
       "      <td>18.7</td>\n",
       "      <td>396.90</td>\n",
       "      <td>5.33</td>\n",
       "      <td>36.2</td>\n",
       "    </tr>\n",
       "  </tbody>\n",
       "</table>\n",
       "</div>"
      ],
      "text/plain": [
       "      CRIM    ZN  INDUS  CHAS    NOX     RM   AGE     DIS  RAD    TAX  \\\n",
       "0  0.00632  18.0   2.31   0.0  0.538  6.575  65.2  4.0900  1.0  296.0   \n",
       "1  0.02731   0.0   7.07   0.0  0.469  6.421  78.9  4.9671  2.0  242.0   \n",
       "2  0.02729   0.0   7.07   0.0  0.469  7.185  61.1  4.9671  2.0  242.0   \n",
       "3  0.03237   0.0   2.18   0.0  0.458  6.998  45.8  6.0622  3.0  222.0   \n",
       "4  0.06905   0.0   2.18   0.0  0.458  7.147  54.2  6.0622  3.0  222.0   \n",
       "\n",
       "   PTRATIO       B  LSTAT  Price  \n",
       "0     15.3  396.90   4.98   24.0  \n",
       "1     17.8  396.90   9.14   21.6  \n",
       "2     17.8  392.83   4.03   34.7  \n",
       "3     18.7  394.63   2.94   33.4  \n",
       "4     18.7  396.90   5.33   36.2  "
      ]
     },
     "execution_count": 3,
     "metadata": {},
     "output_type": "execute_result"
    }
   ],
   "source": [
    "# set data as pandas DataFrame\n",
    "boston_df = DataFrame(boston.data)\n",
    "\n",
    "# label columns\n",
    "boston_df.columns = boston.feature_names\n",
    "\n",
    "# Add target prices\n",
    "boston_df['Price'] = boston.target\n",
    "\n",
    "#show\n",
    "boston_df.head()"
   ]
  },
  {
   "cell_type": "markdown",
   "metadata": {},
   "source": [
    "Let us now do an initial visualisation, to explore to some degree what we have"
   ]
  },
  {
   "cell_type": "code",
   "execution_count": 4,
   "metadata": {},
   "outputs": [
    {
     "data": {
      "text/html": [
       "\n",
       "<div class=\"bk-root\">\n",
       "    <div class=\"bk-plotdiv\" id=\"3992a380-ae7d-479d-9ccb-e669836cd712\"></div>\n",
       "</div>"
      ]
     },
     "metadata": {},
     "output_type": "display_data"
    },
    {
     "data": {
      "application/javascript": [
       "(function(root) {\n",
       "  function embed_document(root) {\n",
       "    \n",
       "  var docs_json = {\"135cabad-7e27-4a5e-8b33-ca2647881e3a\":{\"roots\":{\"references\":[{\"attributes\":{},\"id\":\"9f55c65a-ba60-4da8-8ebd-6b16dd67d572\",\"type\":\"HelpTool\"},{\"attributes\":{\"bottom_units\":\"screen\",\"fill_alpha\":{\"value\":0.5},\"fill_color\":{\"value\":\"lightgrey\"},\"left_units\":\"screen\",\"level\":\"overlay\",\"line_alpha\":{\"value\":1.0},\"line_color\":{\"value\":\"black\"},\"line_dash\":[4,4],\"line_width\":{\"value\":2},\"plot\":null,\"render_mode\":\"css\",\"right_units\":\"screen\",\"top_units\":\"screen\"},\"id\":\"e17f2e23-a39e-4990-a49e-a4085bc2e0ed\",\"type\":\"BoxAnnotation\"},{\"attributes\":{\"bottom\":{\"value\":0},\"fill_color\":{\"value\":\"#036564\"},\"left\":{\"field\":\"left\"},\"line_color\":{\"value\":\"#033649\"},\"right\":{\"field\":\"right\"},\"top\":{\"field\":\"top\"}},\"id\":\"56e7a573-3d74-445b-aea6-687663b330f4\",\"type\":\"Quad\"},{\"attributes\":{\"active_drag\":\"auto\",\"active_inspect\":\"auto\",\"active_scroll\":\"auto\",\"active_tap\":\"auto\",\"tools\":[{\"id\":\"b97108df-c758-484f-b8e7-0c99db79ac4b\",\"type\":\"PanTool\"},{\"id\":\"142b614e-8868-4790-ade8-502ae34c07f1\",\"type\":\"WheelZoomTool\"},{\"id\":\"a2c6ef27-cb53-427d-8188-caf7061d94e5\",\"type\":\"BoxZoomTool\"},{\"id\":\"41be69dd-d465-4d5a-bb65-4cd91cceec34\",\"type\":\"SaveTool\"},{\"id\":\"421dbc6c-f98f-4e8f-9269-05f22f8f8a9e\",\"type\":\"ResetTool\"},{\"id\":\"9f55c65a-ba60-4da8-8ebd-6b16dd67d572\",\"type\":\"HelpTool\"}]},\"id\":\"0bd11490-1b17-4eca-bc51-45376f697257\",\"type\":\"Toolbar\"},{\"attributes\":{\"callback\":null},\"id\":\"983a927f-2061-4414-91a8-b8c5fb888193\",\"type\":\"DataRange1d\"},{\"attributes\":{\"bottom\":{\"value\":0},\"fill_alpha\":{\"value\":0.1},\"fill_color\":{\"value\":\"#1f77b4\"},\"left\":{\"field\":\"left\"},\"line_alpha\":{\"value\":0.1},\"line_color\":{\"value\":\"#1f77b4\"},\"right\":{\"field\":\"right\"},\"top\":{\"field\":\"top\"}},\"id\":\"0def64bc-b5b6-426d-bebb-60c061e843e4\",\"type\":\"Quad\"},{\"attributes\":{\"callback\":null},\"id\":\"187d064d-b8d5-44af-8f72-cd0f6b7047c8\",\"type\":\"DataRange1d\"},{\"attributes\":{},\"id\":\"cb42eedf-8fec-40a4-87b1-287e47457ffe\",\"type\":\"UnionRenderers\"},{\"attributes\":{\"axis_label\":\"Number of houses\",\"formatter\":{\"id\":\"4c7bb54b-e2cb-4be7-aebc-c53fc282ff39\",\"type\":\"BasicTickFormatter\"},\"plot\":{\"id\":\"95ce898c-3890-436f-b3c1-ed36cb10b8aa\",\"subtype\":\"Figure\",\"type\":\"Plot\"},\"ticker\":{\"id\":\"48c96a57-2468-4ca7-be4b-16acde6a1104\",\"type\":\"BasicTicker\"}},\"id\":\"954143fb-e489-4115-897f-44f1d669cbfb\",\"type\":\"LinearAxis\"},{\"attributes\":{\"axis_label\":\"Price in $1000s\",\"formatter\":{\"id\":\"436967ba-fed9-45d4-a7bf-ce8090586b38\",\"type\":\"BasicTickFormatter\"},\"plot\":{\"id\":\"95ce898c-3890-436f-b3c1-ed36cb10b8aa\",\"subtype\":\"Figure\",\"type\":\"Plot\"},\"ticker\":{\"id\":\"782201ec-6dbd-43a3-832e-bcfdc223d356\",\"type\":\"BasicTicker\"}},\"id\":\"814c8c51-ebdd-4642-b9ae-4c6f79d2aa10\",\"type\":\"LinearAxis\"},{\"attributes\":{},\"id\":\"cbf55d2f-d6ba-4128-b689-6724528d73cf\",\"type\":\"LinearScale\"},{\"attributes\":{},\"id\":\"fa057218-ea31-4767-a42f-b030a520c395\",\"type\":\"LinearScale\"},{\"attributes\":{\"plot\":null,\"text\":\"\"},\"id\":\"2bbe8e43-bda0-4bfe-8380-24e6ff13901e\",\"type\":\"Title\"},{\"attributes\":{\"source\":{\"id\":\"e3b2b388-1d95-4a13-ad15-c5439ca475ad\",\"type\":\"ColumnDataSource\"}},\"id\":\"587a2b89-4e00-4c12-b614-85a68cd3f714\",\"type\":\"CDSView\"},{\"attributes\":{},\"id\":\"436967ba-fed9-45d4-a7bf-ce8090586b38\",\"type\":\"BasicTickFormatter\"},{\"attributes\":{\"plot\":{\"id\":\"95ce898c-3890-436f-b3c1-ed36cb10b8aa\",\"subtype\":\"Figure\",\"type\":\"Plot\"},\"ticker\":{\"id\":\"782201ec-6dbd-43a3-832e-bcfdc223d356\",\"type\":\"BasicTicker\"}},\"id\":\"830afd0c-3ffd-45c6-a0db-30794afcbf95\",\"type\":\"Grid\"},{\"attributes\":{},\"id\":\"782201ec-6dbd-43a3-832e-bcfdc223d356\",\"type\":\"BasicTicker\"},{\"attributes\":{},\"id\":\"4c7bb54b-e2cb-4be7-aebc-c53fc282ff39\",\"type\":\"BasicTickFormatter\"},{\"attributes\":{\"dimension\":1,\"plot\":{\"id\":\"95ce898c-3890-436f-b3c1-ed36cb10b8aa\",\"subtype\":\"Figure\",\"type\":\"Plot\"},\"ticker\":{\"id\":\"48c96a57-2468-4ca7-be4b-16acde6a1104\",\"type\":\"BasicTicker\"}},\"id\":\"8d5038e1-73b4-44bf-8c0d-e363fc00f64f\",\"type\":\"Grid\"},{\"attributes\":{},\"id\":\"48c96a57-2468-4ca7-be4b-16acde6a1104\",\"type\":\"BasicTicker\"},{\"attributes\":{\"data_source\":{\"id\":\"e3b2b388-1d95-4a13-ad15-c5439ca475ad\",\"type\":\"ColumnDataSource\"},\"glyph\":{\"id\":\"56e7a573-3d74-445b-aea6-687663b330f4\",\"type\":\"Quad\"},\"hover_glyph\":null,\"muted_glyph\":null,\"nonselection_glyph\":{\"id\":\"0def64bc-b5b6-426d-bebb-60c061e843e4\",\"type\":\"Quad\"},\"selection_glyph\":null,\"view\":{\"id\":\"587a2b89-4e00-4c12-b614-85a68cd3f714\",\"type\":\"CDSView\"}},\"id\":\"f76ada6b-45f3-46f9-9daa-99037596704a\",\"type\":\"GlyphRenderer\"},{\"attributes\":{},\"id\":\"b97108df-c758-484f-b8e7-0c99db79ac4b\",\"type\":\"PanTool\"},{\"attributes\":{},\"id\":\"142b614e-8868-4790-ade8-502ae34c07f1\",\"type\":\"WheelZoomTool\"},{\"attributes\":{\"overlay\":{\"id\":\"e17f2e23-a39e-4990-a49e-a4085bc2e0ed\",\"type\":\"BoxAnnotation\"}},\"id\":\"a2c6ef27-cb53-427d-8188-caf7061d94e5\",\"type\":\"BoxZoomTool\"},{\"attributes\":{\"below\":[{\"id\":\"814c8c51-ebdd-4642-b9ae-4c6f79d2aa10\",\"type\":\"LinearAxis\"}],\"left\":[{\"id\":\"954143fb-e489-4115-897f-44f1d669cbfb\",\"type\":\"LinearAxis\"}],\"plot_height\":250,\"plot_width\":400,\"renderers\":[{\"id\":\"814c8c51-ebdd-4642-b9ae-4c6f79d2aa10\",\"type\":\"LinearAxis\"},{\"id\":\"830afd0c-3ffd-45c6-a0db-30794afcbf95\",\"type\":\"Grid\"},{\"id\":\"954143fb-e489-4115-897f-44f1d669cbfb\",\"type\":\"LinearAxis\"},{\"id\":\"8d5038e1-73b4-44bf-8c0d-e363fc00f64f\",\"type\":\"Grid\"},{\"id\":\"e17f2e23-a39e-4990-a49e-a4085bc2e0ed\",\"type\":\"BoxAnnotation\"},{\"id\":\"f76ada6b-45f3-46f9-9daa-99037596704a\",\"type\":\"GlyphRenderer\"}],\"title\":{\"id\":\"2bbe8e43-bda0-4bfe-8380-24e6ff13901e\",\"type\":\"Title\"},\"toolbar\":{\"id\":\"0bd11490-1b17-4eca-bc51-45376f697257\",\"type\":\"Toolbar\"},\"x_range\":{\"id\":\"983a927f-2061-4414-91a8-b8c5fb888193\",\"type\":\"DataRange1d\"},\"x_scale\":{\"id\":\"cbf55d2f-d6ba-4128-b689-6724528d73cf\",\"type\":\"LinearScale\"},\"y_range\":{\"id\":\"187d064d-b8d5-44af-8f72-cd0f6b7047c8\",\"type\":\"DataRange1d\"},\"y_scale\":{\"id\":\"fa057218-ea31-4767-a42f-b030a520c395\",\"type\":\"LinearScale\"}},\"id\":\"95ce898c-3890-436f-b3c1-ed36cb10b8aa\",\"subtype\":\"Figure\",\"type\":\"Plot\"},{\"attributes\":{},\"id\":\"f4b2732b-689b-485f-a907-67178ea85a50\",\"type\":\"Selection\"},{\"attributes\":{\"callback\":null,\"data\":{\"left\":{\"__ndarray__\":\"AAAAAAAAFECamZmZmZkXQDMzMzMzMxtAzczMzMzMHkAzMzMzMzMhQAAAAAAAACNAzczMzMzMJECamZmZmZkmQGZmZmZmZihAMzMzMzMzKkAAAAAAAAAsQM3MzMzMzC1AmpmZmZmZL0A0MzMzM7MwQJqZmZmZmTFAAAAAAACAMkBmZmZmZmYzQM3MzMzMTDRAMzMzMzMzNUCamZmZmRk2QAAAAAAAADdAZ2ZmZmbmN0DNzMzMzMw4QDMzMzMzszlAmpmZmZmZOkAAAAAAAIA7QGdmZmZmZjxAzczMzMxMPUAzMzMzMzM+QJqZmZmZGT9AAAAAAAAAQEA0MzMzM3NAQGZmZmZm5kBAmpmZmZlZQUDNzMzMzMxBQAAAAAAAQEJAMzMzMzOzQkBnZmZmZiZDQJqZmZmZmUNAzczMzMwMREAAAAAAAIBEQDMzMzMz80RAZ2ZmZmZmRUCamZmZmdlFQM3MzMzMTEZAAAAAAADARkAzMzMzMzNHQGdmZmZmpkdAmpmZmZkZSEDNzMzMzIxIQA==\",\"dtype\":\"float64\",\"shape\":[50]},\"right\":{\"__ndarray__\":\"mpmZmZmZF0AzMzMzMzMbQM3MzMzMzB5AMzMzMzMzIUAAAAAAAAAjQM3MzMzMzCRAmpmZmZmZJkBmZmZmZmYoQDMzMzMzMypAAAAAAAAALEDNzMzMzMwtQJqZmZmZmS9ANDMzMzOzMECamZmZmZkxQAAAAAAAgDJAZmZmZmZmM0DNzMzMzEw0QDMzMzMzMzVAmpmZmZkZNkAAAAAAAAA3QGdmZmZm5jdAzczMzMzMOEAzMzMzM7M5QJqZmZmZmTpAAAAAAACAO0BnZmZmZmY8QM3MzMzMTD1AMzMzMzMzPkCamZmZmRk/QAAAAAAAAEBANDMzMzNzQEBmZmZmZuZAQJqZmZmZWUFAzczMzMzMQUAAAAAAAEBCQDMzMzMzs0JAZ2ZmZmYmQ0CamZmZmZlDQM3MzMzMDERAAAAAAACAREAzMzMzM/NEQGdmZmZmZkVAmpmZmZnZRUDNzMzMzExGQAAAAAAAwEZAMzMzMzMzR0BnZmZmZqZHQJqZmZmZGUhAzczMzMyMSEAAAAAAAABJQA==\",\"dtype\":\"float64\",\"shape\":[50]},\"top\":{\"__ndarray__\":\"fkc0g537ej8Ehc2sE/1hP76oZ27ieo8/xqhnbuJ6jz9+RzSDnft6P35HNIOd+4o//4TNrBP9kT9L5gCYWHyWP/+EzawT/ZE/L29nSMzbqT+vrAByQt2gP+8NNF2HXKU/rKhnbuJ6nz8Jhc2sE/2hP6o1ZyK2PKQ/z6hnbuJ6rz+UNWcitjy0P5BAmtRZTbA/HPEzSvyMsj/PqGdu4nqvP7uhzb+ezLQ/nL7N0imcpz+4rAByQt2gP/WEzawT/YE/z6hnbuJ6jz/QlpoN+7uYP6o1ZyK2PJQ/qjVnIrY8lD8y5gCYWHyGP8+oZ27ieo8/iqhnbuJ6jz8xhc2sE/2RP+GEzawT/XE/CYXNrBP9kT9L5gCYWHyGPwmFzawT/YE/4YTNrBP9cT8Jhc2sE/1hPwmFzawT/WE/AAAAAAAAAAAJhc2sE/1xP+GEzawT/XE/CYXNrBP9cT8Jhc2sE/1xPwmFzawT/XE/CYXNrBP9YT/hhM2sE/1hPwAAAAAAAAAAjkc0g537ej8Jhc2sE/2hPw==\",\"dtype\":\"float64\",\"shape\":[50]}},\"selected\":{\"id\":\"f4b2732b-689b-485f-a907-67178ea85a50\",\"type\":\"Selection\"},\"selection_policy\":{\"id\":\"cb42eedf-8fec-40a4-87b1-287e47457ffe\",\"type\":\"UnionRenderers\"}},\"id\":\"e3b2b388-1d95-4a13-ad15-c5439ca475ad\",\"type\":\"ColumnDataSource\"},{\"attributes\":{},\"id\":\"421dbc6c-f98f-4e8f-9269-05f22f8f8a9e\",\"type\":\"ResetTool\"},{\"attributes\":{},\"id\":\"41be69dd-d465-4d5a-bb65-4cd91cceec34\",\"type\":\"SaveTool\"}],\"root_ids\":[\"95ce898c-3890-436f-b3c1-ed36cb10b8aa\"]},\"title\":\"Bokeh Application\",\"version\":\"0.12.16\"}};\n",
       "  var render_items = [{\"docid\":\"135cabad-7e27-4a5e-8b33-ca2647881e3a\",\"elementid\":\"3992a380-ae7d-479d-9ccb-e669836cd712\",\"modelid\":\"95ce898c-3890-436f-b3c1-ed36cb10b8aa\"}];\n",
       "  root.Bokeh.embed.embed_items_notebook(docs_json, render_items);\n",
       "\n",
       "  }\n",
       "  if (root.Bokeh !== undefined) {\n",
       "    embed_document(root);\n",
       "  } else {\n",
       "    var attempts = 0;\n",
       "    var timer = setInterval(function(root) {\n",
       "      if (root.Bokeh !== undefined) {\n",
       "        embed_document(root);\n",
       "        clearInterval(timer);\n",
       "      }\n",
       "      attempts++;\n",
       "      if (attempts > 100) {\n",
       "        console.log(\"Bokeh: ERROR: Unable to run BokehJS code because BokehJS library is missing\")\n",
       "        clearInterval(timer);\n",
       "      }\n",
       "    }, 10, root)\n",
       "  }\n",
       "})(window);"
      ],
      "application/vnd.bokehjs_exec.v0+json": ""
     },
     "metadata": {
      "application/vnd.bokehjs_exec.v0+json": {
       "id": "95ce898c-3890-436f-b3c1-ed36cb10b8aa"
      }
     },
     "output_type": "display_data"
    }
   ],
   "source": [
    "# Create the figure object\n",
    "f = figure(plot_width=400, plot_height=250)\n",
    "\n",
    "# Make a histogram\n",
    "hist, edges = np.histogram(boston_df[\"Price\"], density=True, bins=50)\n",
    "\n",
    "f.quad(top=hist, bottom=0, left=edges[:-1], right=edges[1:],\n",
    "        fill_color=\"#036564\", line_color=\"#033649\")\n",
    "\n",
    "## Add some axis information (after all, a plot without axis descriptions is nothing more than abstract art)\n",
    "f.xaxis.axis_label = \"Price in $1000s\"\n",
    "f.yaxis.axis_label = \"Number of houses\"\n",
    "\n",
    "show(f)"
   ]
  },
  {
   "cell_type": "markdown",
   "metadata": {},
   "source": [
    "I suppose it appears number of houses are quite dense near the $20.000 mark. Let us look into it a little further (before we actually start looking at the linear regression). We will plot the features, to see if we can find any correlation that could potential be used to predict the price with. We will inspect the first 6 features. Namely:\n",
    "\n",
    "* CRIM:     per capita crime rate by town\n",
    "* ZN:       proportion of residential land zoned for lots over 25,000 sq.ft.\n",
    "* INDUS:    proportion of non-retail business acres per town\n",
    "* CHAS:     Charles River dummy variable (= 1 if tract bounds river; 0 otherwise)\n",
    "* NOX:      nitric oxides concentration (parts per 10 million)\n",
    "* RM:       average number of rooms per dwelling"
   ]
  },
  {
   "cell_type": "code",
   "execution_count": 5,
   "metadata": {},
   "outputs": [
    {
     "name": "stdout",
     "output_type": "stream",
     "text": [
      "['CRIM' 'ZN' 'INDUS' 'CHAS' 'NOX' 'RM']\n"
     ]
    },
    {
     "data": {
      "text/html": [
       "\n",
       "<div class=\"bk-root\">\n",
       "    <div class=\"bk-plotdiv\" id=\"cf3895e6-541b-4b64-8605-3b4f357e921a\"></div>\n",
       "</div>"
      ]
     },
     "metadata": {},
     "output_type": "display_data"
    },
    {
     "data": {
      "application/javascript": [
       "(function(root) {\n",
       "  function embed_document(root) {\n",
       "    \n",
       "  var docs_json = {\"3bc01bc5-fe4c-409b-ab25-637a7b056321\":{\"roots\":{\"references\":[{\"attributes\":{\"callback\":null},\"id\":\"e45f3977-6d7f-4e19-a685-b2e27b3e54d9\",\"type\":\"DataRange1d\"},{\"attributes\":{},\"id\":\"61810d7e-fc6f-462c-b1f2-1281c0c27073\",\"type\":\"UnionRenderers\"},{\"attributes\":{\"active_drag\":\"auto\",\"active_inspect\":\"auto\",\"active_scroll\":\"auto\",\"active_tap\":\"auto\",\"tools\":[{\"id\":\"67c6694b-954a-4511-9022-46de315b5ac8\",\"type\":\"PanTool\"},{\"id\":\"eed9285e-0984-4c0b-bcef-9d6f957179a7\",\"type\":\"WheelZoomTool\"},{\"id\":\"6aa7815f-7521-4cb7-ab69-900e63e6d4a0\",\"type\":\"BoxZoomTool\"},{\"id\":\"8ad8f046-d196-476d-8ad2-a832f0affb2c\",\"type\":\"SaveTool\"},{\"id\":\"805785e4-ce32-4a1f-8e7a-e32e42ee9eab\",\"type\":\"ResetTool\"},{\"id\":\"6f20e0f9-9580-4e16-bb10-50948696e8a1\",\"type\":\"HelpTool\"}]},\"id\":\"224a094b-3ca6-4649-990c-81e0911e2db7\",\"type\":\"Toolbar\"},{\"attributes\":{\"plot\":null,\"text\":\"\"},\"id\":\"8015a7f9-e77b-4d7f-a5c7-30c817118383\",\"type\":\"Title\"},{\"attributes\":{},\"id\":\"b7739563-74fd-498d-9e8a-c2873c5db1f4\",\"type\":\"LinearScale\"},{\"attributes\":{},\"id\":\"bc62a15d-4aab-4432-b93c-21147e04ef1d\",\"type\":\"BasicTickFormatter\"},{\"attributes\":{\"axis_label\":\"CHAS\",\"formatter\":{\"id\":\"89bdf985-dd11-4702-a360-59d15909a593\",\"type\":\"BasicTickFormatter\"},\"plot\":{\"id\":\"582f66ae-be90-4923-8fcb-d050216a4a39\",\"subtype\":\"Figure\",\"type\":\"Plot\"},\"ticker\":{\"id\":\"72f2dfc1-5168-4aab-9641-5abbf863f7d8\",\"type\":\"BasicTicker\"}},\"id\":\"82d6f7b3-a2df-4a20-a6f7-11323fe968e9\",\"type\":\"LinearAxis\"},{\"attributes\":{},\"id\":\"d7389ea1-ff74-4733-892f-b0e695b56f5b\",\"type\":\"PanTool\"},{\"attributes\":{},\"id\":\"43ac4a0c-976f-48d8-a625-5617bf30a0ad\",\"type\":\"Selection\"},{\"attributes\":{},\"id\":\"80a53654-8b16-4800-9307-5daeb6751a1c\",\"type\":\"WheelZoomTool\"},{\"attributes\":{\"overlay\":{\"id\":\"d91afd34-f512-41d7-b8aa-ce26cc51b548\",\"type\":\"BoxAnnotation\"}},\"id\":\"8ec9923c-fa64-491a-b092-321a7777439e\",\"type\":\"BoxZoomTool\"},{\"attributes\":{},\"id\":\"655690da-5084-4568-bc28-2b78d16644f3\",\"type\":\"SaveTool\"},{\"attributes\":{},\"id\":\"e4d41514-06bc-470f-99b1-1515998ad420\",\"type\":\"BasicTickFormatter\"},{\"attributes\":{},\"id\":\"05dc6fab-7846-4f85-a2dc-a63dbca11a6a\",\"type\":\"ResetTool\"},{\"attributes\":{\"callback\":null},\"id\":\"cd2a0365-ab22-4e76-8e42-29734b82b7b9\",\"type\":\"DataRange1d\"},{\"attributes\":{\"axis_label\":\"NOX\",\"formatter\":{\"id\":\"581e8534-449c-48e0-beea-b6aa6589fd59\",\"type\":\"BasicTickFormatter\"},\"plot\":{\"id\":\"4600c072-3fb6-4643-bd18-83ee6fc335a8\",\"subtype\":\"Figure\",\"type\":\"Plot\"},\"ticker\":{\"id\":\"3b4173c9-a8b8-4827-8b00-3cea2c90caaf\",\"type\":\"BasicTicker\"}},\"id\":\"b96e967d-f7b2-4af9-b6cd-13ff69e638d9\",\"type\":\"LinearAxis\"},{\"attributes\":{\"plot\":{\"id\":\"582f66ae-be90-4923-8fcb-d050216a4a39\",\"subtype\":\"Figure\",\"type\":\"Plot\"},\"ticker\":{\"id\":\"72f2dfc1-5168-4aab-9641-5abbf863f7d8\",\"type\":\"BasicTicker\"}},\"id\":\"82584f14-9e9a-4a66-a345-4ff5a576bc3e\",\"type\":\"Grid\"},{\"attributes\":{},\"id\":\"781c19df-4e27-4255-b91a-cefebabc5b8f\",\"type\":\"HelpTool\"},{\"attributes\":{\"bottom_units\":\"screen\",\"fill_alpha\":{\"value\":0.5},\"fill_color\":{\"value\":\"lightgrey\"},\"left_units\":\"screen\",\"level\":\"overlay\",\"line_alpha\":{\"value\":1.0},\"line_color\":{\"value\":\"black\"},\"line_dash\":[4,4],\"line_width\":{\"value\":2},\"plot\":null,\"render_mode\":\"css\",\"right_units\":\"screen\",\"top_units\":\"screen\"},\"id\":\"d91afd34-f512-41d7-b8aa-ce26cc51b548\",\"type\":\"BoxAnnotation\"},{\"attributes\":{},\"id\":\"72f2dfc1-5168-4aab-9641-5abbf863f7d8\",\"type\":\"BasicTicker\"},{\"attributes\":{},\"id\":\"be6c555e-0e17-4a00-80fb-680942aa1c48\",\"type\":\"Selection\"},{\"attributes\":{\"callback\":null},\"id\":\"9c30dda4-9975-47f7-ba0c-4b36d554227f\",\"type\":\"DataRange1d\"},{\"attributes\":{\"active_drag\":\"auto\",\"active_inspect\":\"auto\",\"active_scroll\":\"auto\",\"active_tap\":\"auto\",\"tools\":[{\"id\":\"0f9c0c59-2f01-48dc-bf6c-eab78d78818b\",\"type\":\"PanTool\"},{\"id\":\"1b105806-e885-473a-9f53-965b37aa5d7d\",\"type\":\"WheelZoomTool\"},{\"id\":\"fc40b021-ad67-42e9-bc32-8093c95c9364\",\"type\":\"BoxZoomTool\"},{\"id\":\"3535b7fa-2225-4198-88d4-65b4f6001400\",\"type\":\"SaveTool\"},{\"id\":\"7d085869-aa99-4aa2-96bd-e1656d3606db\",\"type\":\"ResetTool\"},{\"id\":\"8bc22803-9305-4496-81e6-b8c2f9733792\",\"type\":\"HelpTool\"}]},\"id\":\"80bc5859-62e5-49b5-a7c3-6486dcc5108e\",\"type\":\"Toolbar\"},{\"attributes\":{},\"id\":\"91955cbc-f87f-4b8c-a132-23641ad8b2dd\",\"type\":\"LinearScale\"},{\"attributes\":{\"dimension\":1,\"plot\":{\"id\":\"582f66ae-be90-4923-8fcb-d050216a4a39\",\"subtype\":\"Figure\",\"type\":\"Plot\"},\"ticker\":{\"id\":\"e2e1f42a-796b-45a1-9285-c3d21e8e227d\",\"type\":\"BasicTicker\"}},\"id\":\"0e57c9f7-374f-4557-8a2c-d911b4190da5\",\"type\":\"Grid\"},{\"attributes\":{\"axis_label\":\"Price in $1000s\",\"formatter\":{\"id\":\"628c3a64-6b62-43ca-9722-1b19bc22afdd\",\"type\":\"BasicTickFormatter\"},\"plot\":{\"id\":\"582f66ae-be90-4923-8fcb-d050216a4a39\",\"subtype\":\"Figure\",\"type\":\"Plot\"},\"ticker\":{\"id\":\"e2e1f42a-796b-45a1-9285-c3d21e8e227d\",\"type\":\"BasicTicker\"}},\"id\":\"746632f8-715e-4d89-8f67-ef7e2f1ca33e\",\"type\":\"LinearAxis\"},{\"attributes\":{},\"id\":\"e2e1f42a-796b-45a1-9285-c3d21e8e227d\",\"type\":\"BasicTicker\"},{\"attributes\":{\"axis_label\":\"RM\",\"formatter\":{\"id\":\"bc62a15d-4aab-4432-b93c-21147e04ef1d\",\"type\":\"BasicTickFormatter\"},\"plot\":{\"id\":\"b54013cf-55a0-4a10-b992-8853fe23badb\",\"subtype\":\"Figure\",\"type\":\"Plot\"},\"ticker\":{\"id\":\"6e242953-6cec-4a40-9a91-7110ee4fbd57\",\"type\":\"BasicTicker\"}},\"id\":\"12bc9864-cbec-45f2-9c6c-6d56035ac68c\",\"type\":\"LinearAxis\"},{\"attributes\":{},\"id\":\"773364d8-cf39-415a-beac-25e01001e565\",\"type\":\"LinearScale\"},{\"attributes\":{},\"id\":\"67c6694b-954a-4511-9022-46de315b5ac8\",\"type\":\"PanTool\"},{\"attributes\":{},\"id\":\"eed9285e-0984-4c0b-bcef-9d6f957179a7\",\"type\":\"WheelZoomTool\"},{\"attributes\":{\"overlay\":{\"id\":\"22a227b7-3e4a-4310-84ed-b44672bcacfd\",\"type\":\"BoxAnnotation\"}},\"id\":\"6aa7815f-7521-4cb7-ab69-900e63e6d4a0\",\"type\":\"BoxZoomTool\"},{\"attributes\":{},\"id\":\"8ad8f046-d196-476d-8ad2-a832f0affb2c\",\"type\":\"SaveTool\"},{\"attributes\":{},\"id\":\"805785e4-ce32-4a1f-8e7a-e32e42ee9eab\",\"type\":\"ResetTool\"},{\"attributes\":{\"callback\":null},\"id\":\"14fd7764-081f-44f6-a5f2-e75e6064bc87\",\"type\":\"DataRange1d\"},{\"attributes\":{},\"id\":\"9e492e47-1541-43d2-a1d2-da0f9db99aa1\",\"type\":\"LinearScale\"},{\"attributes\":{\"plot\":{\"id\":\"4600c072-3fb6-4643-bd18-83ee6fc335a8\",\"subtype\":\"Figure\",\"type\":\"Plot\"},\"ticker\":{\"id\":\"3b4173c9-a8b8-4827-8b00-3cea2c90caaf\",\"type\":\"BasicTicker\"}},\"id\":\"0388f880-3094-4a77-b2fb-94fbcd6ab964\",\"type\":\"Grid\"},{\"attributes\":{},\"id\":\"6f20e0f9-9580-4e16-bb10-50948696e8a1\",\"type\":\"HelpTool\"},{\"attributes\":{\"bottom_units\":\"screen\",\"fill_alpha\":{\"value\":0.5},\"fill_color\":{\"value\":\"lightgrey\"},\"left_units\":\"screen\",\"level\":\"overlay\",\"line_alpha\":{\"value\":1.0},\"line_color\":{\"value\":\"black\"},\"line_dash\":[4,4],\"line_width\":{\"value\":2},\"plot\":null,\"render_mode\":\"css\",\"right_units\":\"screen\",\"top_units\":\"screen\"},\"id\":\"22a227b7-3e4a-4310-84ed-b44672bcacfd\",\"type\":\"BoxAnnotation\"},{\"attributes\":{\"active_drag\":\"auto\",\"active_inspect\":\"auto\",\"active_scroll\":\"auto\",\"active_tap\":\"auto\",\"tools\":[{\"id\":\"6185d85d-f1aa-42ea-a023-afaa9bb2d712\",\"type\":\"PanTool\"},{\"id\":\"1046aee1-a1f4-4bbf-8e62-cb8e0701ee3a\",\"type\":\"WheelZoomTool\"},{\"id\":\"22768ce8-86c7-4c3b-9315-1c92ff8d5008\",\"type\":\"BoxZoomTool\"},{\"id\":\"ba6fb0a6-376b-4046-9588-3cae72606e44\",\"type\":\"SaveTool\"},{\"id\":\"7b299aac-9dec-4268-b65e-5bee3326ceb6\",\"type\":\"ResetTool\"},{\"id\":\"39f09960-65dd-4cd2-8ac7-261b32c043f0\",\"type\":\"HelpTool\"}]},\"id\":\"86c019b4-a36f-4a82-95f3-df2be97bc4da\",\"type\":\"Toolbar\"},{\"attributes\":{\"below\":[{\"id\":\"12bc9864-cbec-45f2-9c6c-6d56035ac68c\",\"type\":\"LinearAxis\"}],\"left\":[{\"id\":\"ee8bd9ff-37bd-4c01-9a3a-5a6987e4391d\",\"type\":\"LinearAxis\"}],\"plot_height\":250,\"plot_width\":400,\"renderers\":[{\"id\":\"12bc9864-cbec-45f2-9c6c-6d56035ac68c\",\"type\":\"LinearAxis\"},{\"id\":\"e5985746-3234-4e50-a1f5-68bf3e104ee7\",\"type\":\"Grid\"},{\"id\":\"ee8bd9ff-37bd-4c01-9a3a-5a6987e4391d\",\"type\":\"LinearAxis\"},{\"id\":\"5edbafb0-712d-4de2-bfca-04c6b76f19f4\",\"type\":\"Grid\"},{\"id\":\"fe0f766c-2a20-4885-a97f-26b5b3e7495f\",\"type\":\"BoxAnnotation\"},{\"id\":\"3a9305db-af07-46b5-b392-ca6ebbdaf1c7\",\"type\":\"GlyphRenderer\"}],\"title\":{\"id\":\"8015a7f9-e77b-4d7f-a5c7-30c817118383\",\"type\":\"Title\"},\"toolbar\":{\"id\":\"86c019b4-a36f-4a82-95f3-df2be97bc4da\",\"type\":\"Toolbar\"},\"toolbar_location\":null,\"x_range\":{\"id\":\"8a846b17-6665-40cf-80c3-d4bcb89f6053\",\"type\":\"DataRange1d\"},\"x_scale\":{\"id\":\"f3c59a5b-bad3-49ce-a388-22a41e70036c\",\"type\":\"LinearScale\"},\"y_range\":{\"id\":\"dbe53c9f-4bba-43f9-80f0-4a8447c16664\",\"type\":\"DataRange1d\"},\"y_scale\":{\"id\":\"28cae21e-4d8a-4d36-8a19-3a3c1e52cce1\",\"type\":\"LinearScale\"}},\"id\":\"b54013cf-55a0-4a10-b992-8853fe23badb\",\"subtype\":\"Figure\",\"type\":\"Plot\"},{\"attributes\":{},\"id\":\"28cae21e-4d8a-4d36-8a19-3a3c1e52cce1\",\"type\":\"LinearScale\"},{\"attributes\":{},\"id\":\"3b4173c9-a8b8-4827-8b00-3cea2c90caaf\",\"type\":\"BasicTicker\"},{\"attributes\":{\"children\":[{\"id\":\"7c22f432-1fac-4c10-91ac-1677246a41d0\",\"subtype\":\"Figure\",\"type\":\"Plot\"},{\"id\":\"582f66ae-be90-4923-8fcb-d050216a4a39\",\"subtype\":\"Figure\",\"type\":\"Plot\"}]},\"id\":\"bdfb1351-ccf8-4e8d-a53e-fcb8ece34a3b\",\"type\":\"Row\"},{\"attributes\":{\"dimension\":1,\"plot\":{\"id\":\"4600c072-3fb6-4643-bd18-83ee6fc335a8\",\"subtype\":\"Figure\",\"type\":\"Plot\"},\"ticker\":{\"id\":\"13be5054-8336-4a51-9966-0bc99e6236f6\",\"type\":\"BasicTicker\"}},\"id\":\"903a282b-39e0-4462-a488-ac7a69efe633\",\"type\":\"Grid\"},{\"attributes\":{\"axis_label\":\"Price in $1000s\",\"formatter\":{\"id\":\"b6a75844-5f0e-4eec-b7e1-f8cfe3069d60\",\"type\":\"BasicTickFormatter\"},\"plot\":{\"id\":\"4600c072-3fb6-4643-bd18-83ee6fc335a8\",\"subtype\":\"Figure\",\"type\":\"Plot\"},\"ticker\":{\"id\":\"13be5054-8336-4a51-9966-0bc99e6236f6\",\"type\":\"BasicTicker\"}},\"id\":\"6fcecbbd-ecbb-4e46-a564-3417129cba52\",\"type\":\"LinearAxis\"},{\"attributes\":{},\"id\":\"13be5054-8336-4a51-9966-0bc99e6236f6\",\"type\":\"BasicTicker\"},{\"attributes\":{\"below\":[{\"id\":\"00863af7-169e-40de-8c73-0aaae0422a5e\",\"type\":\"LinearAxis\"}],\"left\":[{\"id\":\"3d594142-e9e2-4166-9918-8ec8c1c819b3\",\"type\":\"LinearAxis\"}],\"plot_height\":250,\"plot_width\":400,\"renderers\":[{\"id\":\"00863af7-169e-40de-8c73-0aaae0422a5e\",\"type\":\"LinearAxis\"},{\"id\":\"dba8b717-df96-42d6-9e94-85e6cc7d2c2e\",\"type\":\"Grid\"},{\"id\":\"3d594142-e9e2-4166-9918-8ec8c1c819b3\",\"type\":\"LinearAxis\"},{\"id\":\"67d9ca01-ada9-4c70-87c9-df5e302e62ae\",\"type\":\"Grid\"},{\"id\":\"c976f9a6-6405-4d31-969b-23a02ff02330\",\"type\":\"BoxAnnotation\"},{\"id\":\"0cf10da6-5b70-4025-8252-787151213f5a\",\"type\":\"GlyphRenderer\"}],\"title\":{\"id\":\"ec7d69be-dca8-48f5-ad18-867653e8a61f\",\"type\":\"Title\"},\"toolbar\":{\"id\":\"1367b77e-4001-43b3-9ff4-fe8398698be0\",\"type\":\"Toolbar\"},\"toolbar_location\":null,\"x_range\":{\"id\":\"0879f8ef-e81f-4a04-92f4-9dff33819ab2\",\"type\":\"DataRange1d\"},\"x_scale\":{\"id\":\"62459b74-5e2d-43af-aec8-ead499b04d78\",\"type\":\"LinearScale\"},\"y_range\":{\"id\":\"cf37572f-62dd-478a-90cf-15519b3cc4d4\",\"type\":\"DataRange1d\"},\"y_scale\":{\"id\":\"9920d9a8-5aed-4bc5-b403-1059e6934d32\",\"type\":\"LinearScale\"}},\"id\":\"4b7677f1-3a56-4cea-967f-ac1781a73f60\",\"subtype\":\"Figure\",\"type\":\"Plot\"},{\"attributes\":{\"callback\":null},\"id\":\"dbe53c9f-4bba-43f9-80f0-4a8447c16664\",\"type\":\"DataRange1d\"},{\"attributes\":{},\"id\":\"0f9c0c59-2f01-48dc-bf6c-eab78d78818b\",\"type\":\"PanTool\"},{\"attributes\":{},\"id\":\"1b105806-e885-473a-9f53-965b37aa5d7d\",\"type\":\"WheelZoomTool\"},{\"attributes\":{\"overlay\":{\"id\":\"adc23127-4a72-49f9-9151-cd8ab35c04c4\",\"type\":\"BoxAnnotation\"}},\"id\":\"fc40b021-ad67-42e9-bc32-8093c95c9364\",\"type\":\"BoxZoomTool\"},{\"attributes\":{},\"id\":\"3535b7fa-2225-4198-88d4-65b4f6001400\",\"type\":\"SaveTool\"},{\"attributes\":{},\"id\":\"7d085869-aa99-4aa2-96bd-e1656d3606db\",\"type\":\"ResetTool\"},{\"attributes\":{\"plot\":{\"id\":\"b54013cf-55a0-4a10-b992-8853fe23badb\",\"subtype\":\"Figure\",\"type\":\"Plot\"},\"ticker\":{\"id\":\"6e242953-6cec-4a40-9a91-7110ee4fbd57\",\"type\":\"BasicTicker\"}},\"id\":\"e5985746-3234-4e50-a1f5-68bf3e104ee7\",\"type\":\"Grid\"},{\"attributes\":{},\"id\":\"d24c6b7e-079a-4c81-882e-ce4ab31a28d7\",\"type\":\"BasicTicker\"},{\"attributes\":{\"callback\":null},\"id\":\"8a846b17-6665-40cf-80c3-d4bcb89f6053\",\"type\":\"DataRange1d\"},{\"attributes\":{\"children\":[{\"id\":\"4600c072-3fb6-4643-bd18-83ee6fc335a8\",\"subtype\":\"Figure\",\"type\":\"Plot\"},{\"id\":\"b54013cf-55a0-4a10-b992-8853fe23badb\",\"subtype\":\"Figure\",\"type\":\"Plot\"}]},\"id\":\"adb638fb-c991-48e0-bab6-0c777c2eeec4\",\"type\":\"Row\"},{\"attributes\":{},\"id\":\"8bc22803-9305-4496-81e6-b8c2f9733792\",\"type\":\"HelpTool\"},{\"attributes\":{\"bottom_units\":\"screen\",\"fill_alpha\":{\"value\":0.5},\"fill_color\":{\"value\":\"lightgrey\"},\"left_units\":\"screen\",\"level\":\"overlay\",\"line_alpha\":{\"value\":1.0},\"line_color\":{\"value\":\"black\"},\"line_dash\":[4,4],\"line_width\":{\"value\":2},\"plot\":null,\"render_mode\":\"css\",\"right_units\":\"screen\",\"top_units\":\"screen\"},\"id\":\"adc23127-4a72-49f9-9151-cd8ab35c04c4\",\"type\":\"BoxAnnotation\"},{\"attributes\":{\"active_drag\":\"auto\",\"active_inspect\":\"auto\",\"active_scroll\":\"auto\",\"active_tap\":\"auto\",\"tools\":[{\"id\":\"d20f8476-fcfd-4052-bdb2-0afe94e2eab6\",\"type\":\"PanTool\"},{\"id\":\"95ebda31-fa04-4fbd-a095-6abf5f8d0341\",\"type\":\"WheelZoomTool\"},{\"id\":\"bc22e7b9-61c6-4319-8d23-879cefb56ccb\",\"type\":\"BoxZoomTool\"},{\"id\":\"34f83057-d4e9-4305-af23-e36cd66d05e7\",\"type\":\"SaveTool\"},{\"id\":\"beddfe41-ea2e-45eb-b334-0dc29fd810f3\",\"type\":\"ResetTool\"},{\"id\":\"684f2a01-8c10-4f64-a96b-067eea81ce0a\",\"type\":\"HelpTool\"}]},\"id\":\"1367b77e-4001-43b3-9ff4-fe8398698be0\",\"type\":\"Toolbar\"},{\"attributes\":{},\"id\":\"f3c59a5b-bad3-49ce-a388-22a41e70036c\",\"type\":\"LinearScale\"},{\"attributes\":{\"data_source\":{\"id\":\"7e2d6b14-c1fe-4125-8006-6de4316f3e0e\",\"type\":\"ColumnDataSource\"},\"glyph\":{\"id\":\"8472e2dd-2fae-4129-bd48-70ad8396fe75\",\"type\":\"Circle\"},\"hover_glyph\":null,\"muted_glyph\":null,\"nonselection_glyph\":{\"id\":\"c42f5ea1-b18d-4688-95b7-e5de59ea30f2\",\"type\":\"Circle\"},\"selection_glyph\":null,\"view\":{\"id\":\"2ef4781b-f381-4a30-9b80-9f8e89b3f7c3\",\"type\":\"CDSView\"}},\"id\":\"0cf10da6-5b70-4025-8252-787151213f5a\",\"type\":\"GlyphRenderer\"},{\"attributes\":{\"callback\":null},\"id\":\"0879f8ef-e81f-4a04-92f4-9dff33819ab2\",\"type\":\"DataRange1d\"},{\"attributes\":{\"callback\":null,\"data\":{\"x\":{\"__ndarray__\":\"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\",\"dtype\":\"float64\",\"shape\":[506]},\"y\":{\"__ndarray__\":\"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\",\"dtype\":\"float64\",\"shape\":[506]}},\"selected\":{\"id\":\"be6c555e-0e17-4a00-80fb-680942aa1c48\",\"type\":\"Selection\"},\"selection_policy\":{\"id\":\"9b823b82-b42b-4110-9a94-57c1a59613cf\",\"type\":\"UnionRenderers\"}},\"id\":\"c048d5d7-ca9c-4be2-872d-c8236b0d7e2e\",\"type\":\"ColumnDataSource\"},{\"attributes\":{},\"id\":\"6e242953-6cec-4a40-9a91-7110ee4fbd57\",\"type\":\"BasicTicker\"},{\"attributes\":{\"fill_color\":{\"value\":\"#1f77b4\"},\"line_color\":{\"value\":\"#1f77b4\"},\"x\":{\"field\":\"x\"},\"y\":{\"field\":\"y\"}},\"id\":\"adf408ee-4b11-4863-ba6e-94977a5f7744\",\"type\":\"Circle\"},{\"attributes\":{\"axis_label\":\"Price in $1000s\",\"formatter\":{\"id\":\"e4d41514-06bc-470f-99b1-1515998ad420\",\"type\":\"BasicTickFormatter\"},\"plot\":{\"id\":\"b54013cf-55a0-4a10-b992-8853fe23badb\",\"subtype\":\"Figure\",\"type\":\"Plot\"},\"ticker\":{\"id\":\"535bbc8f-a2d6-4ed1-a883-1bc5b4227716\",\"type\":\"BasicTicker\"}},\"id\":\"ee8bd9ff-37bd-4c01-9a3a-5a6987e4391d\",\"type\":\"LinearAxis\"},{\"attributes\":{\"dimension\":1,\"plot\":{\"id\":\"b54013cf-55a0-4a10-b992-8853fe23badb\",\"subtype\":\"Figure\",\"type\":\"Plot\"},\"ticker\":{\"id\":\"535bbc8f-a2d6-4ed1-a883-1bc5b4227716\",\"type\":\"BasicTicker\"}},\"id\":\"5edbafb0-712d-4de2-bfca-04c6b76f19f4\",\"type\":\"Grid\"},{\"attributes\":{\"children\":[{\"id\":\"4b7677f1-3a56-4cea-967f-ac1781a73f60\",\"subtype\":\"Figure\",\"type\":\"Plot\"},{\"id\":\"30bcad57-e777-46ff-b525-182615e57e04\",\"subtype\":\"Figure\",\"type\":\"Plot\"}]},\"id\":\"6b5aa5b9-bbf9-43a7-a02c-2e3bd44c40c1\",\"type\":\"Row\"},{\"attributes\":{\"callback\":null,\"data\":{\"x\":{\"__ndarray__\":\"ibX4FADjeT8QQGoTJ/ebPzUHCObo8Zs/3ze+9sySoD/M7snDQq2xP1R0JJf/kJ4/0VeQZiyatj+qglFJnYDCP32zzY3pCcs/+YOB597DxT+3RZkNMsnMP8PYQpCDEr4/UtUEUfcBuD/Xhopx/ibkP0P/BBcrauQ/T8x6MZQT5D9bXyS05dzwPw6+MJkqGOk/VoLF4cyv6T9E+u3rwDnnP4Fbd/NUB/Q/a0jcY+lD6z9j0XR2MrjzPzdUjPM3oe8/GedvQiEC6D/ZWl8ktOXqPxxfe2ZJgOU/9u6P96qV7j8/UkSGVbzoP9IA3gIJCvA/D9b/OcwX8j8+y/Pg7qz1P/fMkgA1NfY/zGJi83Ft8j8DWyVYHM75P8xiYvNxbbA/Un5S7dPxuD/59xkXDoS0PysYldQJaMY/s82N6QlLnD/f/fFetTKhPwDjGTT0T8A/6SYxCKwcwj8SMSWS6GXEP2LWi6GcaL8/U67wLhfxxT+V8e8zLhzIPw0a+ie4WM0/j9/b9Gc/0D9vKlJhbCHMP4KQLGACt7Y/TUpBt5c0pj9TliGOdXGrP40LB0KygKk/XwfOGVHaiz+aJQFqatmKP+wvuycPC5U/wARu3c1TjT9pAG+BBMXDP420VN6OcLo/lMFR8uocwz9ftTLhl/rFPwrcupunOrw//tR46SYxwD+Yo8fvbfqTP9L7xteeWaI/QZ/Ik6Rrpj/A54cRwqOtPyhhpu1fWcE/1uJTAIxnwD+AgosVNZi2P+Db9Gc/UsQ/hGQBE7h1tz+Kk/sdigLJP2Yxsfm4NrQ/mQ0yychZuD/nGJC93v25P9F0djI4SrY/R3cQO1PorD+4kh0bgXi1P5DaxMn9DqU/8bp+wW7Ypj/Opbiq7LuiP8qmXOFdLqI/LWACt+7mqT8+6Nms+lytP6sJou4DkKo/A0NWt3pOsj9CPujZrPqsP/ZdEfxvJas/QQ5KmGn7pz/9TShEwCGkP77Z5sb0hKU/cT0K16NwnT8jZ2FPO/ylP3XIzXADPr8/3lm77UJzvT+RLGACt+6+P2gFhqxu9bQ/AG+BBMWPsT8Plxx3SgfDPzJaR1UTRL0/1QRR9wFIzT/11sBWCRbLP8rDQq1p3sE/mdNlMbH5wD8noImw4enFP2CwG7YtysA/F/GdmPViwD+PpQ9dUN/QPxrdQexMobs/je4gdqbQuT/HgOz17o+/P3XN5Jttbsw/umbyzTY3wj/mkT8YeO7FPw9iZwqd18A/bM8sCVBTwz+7fsFu2LbAP0ht4uR+h8I/KETAIVSpsT+BJsKGp1eyP+fj2lAxzrc/Onr83qY/wz+CqPsApDa5P4pZL4ZyosU/J8KGp1fK2D+gibDh6ZXQPzLJyFnY09Q/MzMzMzMz7D9rYKsEi8PVP59x4UBIFvM/UiegibDh4j8kRWRYxRvVPyLDKt7IPO8/t5xLcVXZ4T+DaRg+IqbUP1uU2SCTjNY/7zhFR3L5zz/NkgA1tWzhP3UCmggbntI/rVEP0egO+j/hC5OpgpEKQIiFWtO8YxBAdxA7U+g8BkBihPBo4wgDQFr1udqKPQFAUDblCu/yAkCgbMoV3qUCQAH20akr3wVAjNtoAG+B+j+NnIU97fD3Py0+BcB4BvI//bypSIUxAUCQMXctIZ/2P4FDqFKzRwxA3ze+9sySA0CHokCfyJPzP5UrvMtFfPU/sFWCxeHM9j8AOsyXF2D0P5lk5Czsafc/uiwmNh9X/T/LhF/q5034P1XejnBa8AFAMQisHFpkB0BN+KV+3hQAQD1Jumbyzfw/SL99HThnAkAqkUQvo5gDQMSUSKKXUfM/F7fRAN6CAkBXYMjqVs/BPwJIbeLkfrc/HT1+b9OftT8e/pqsUQ+xP0Ruhhvw+bE/LbKd76fGqz/G4cyv5gCxP9Xnaiv2l60/BOJ1/YLdsD/8NVmjHqKxPwRz9Pi9Tbc/dNL7xteeuT9NofMau0S1P706x4Ds9a4/5gXYR6eurD8pXI/C9Si0P7b4FADjGcA/6Nms+lxttT9JumbyzTa3P3CZ02UxsbE/PIOG/gkutj8w2A3bFmWWP7iSHRuBeI0/RrHc0mpIjD/TMHxETImkP2sOEMzR46c/CTNt/8pKoz9U46WbxCCgP9ttF5rrNJI/M8SxLm6joT/tuyL430qWPw3gLZCg+KE/URToE3mSlD/ZmULnNXbBP0rvG197Zs0/jdE6qpog0D9q9kArMGTBP/uRIjKs4ts/huY6jbRUxj+Uap+OxwzYP7BVgsXhzMs/sYo3Mo/8wT+coiO5/IfSPw0a+ie4WMk/1CtlGeJYpz9O7ncoCvSxP4OG/gkuVrw/c2iR7Xw/vT+0k8FR8urWP2QjEK/rF9o/FQDjGTT04z8IPZtVn6vjP8qmXOFdLtQ/PwCpTZzc4D+FlJ9U+3TYPxWRYRVvZNo/oaF/gosV0z9nuAGfH0bcP8l2vp8aL+E/U8vW+iKh3T8p6PaSxmjiP0m6ZvLNNtU/e0ljtI6q3D8Spb3BFybVPyp0XmOXqOA/4pLjTulg4D972uGvyRq1P+XVOQZkr7c/OL72zJIAvT/RlnMpriq7P4EmwoanV7o/MbH5uDZUwD//CS5W1GDKP+gwX16Afcg/j8cMVMa/1T/T9q+sNCnJP18M5US7CsU/ttsuNNdpyD+FfNCzWfXBPyxIMxZNZ8s/CHdn7bYLtT9b64uEtpzXPwYN/RNcrKg/JvxSP28qoj8djxmojH+PP1JEhlW8keM/7DTSUnk75T+IY13cRgPlPw3DR8SUSOE/83aE04IX4T8U7Sqk/KTgP39N1qiHaOo/0VeQZiya4T86WP/nMF/oP03zjlN0JOk/Gf8+48KB4j+yne+nxkvhP/fkYaHWNLc/9l0R/G8l0z85Yi0+BcDEPy0hH/RsVr0/LXjRV5BmzD/ZWl8ktOWsP2ebG9MTlrg/lN43vvbMuj/Jq3MMyF6vPyP430p2bLQ/6MHdWbvtyj+LprOTwVGiP5wzorQ3+KI/NsgkI2dhrz+TV+cYkL2OP1k0nZ0MjoI/UWaDTDJyhj+QMXctIR+UP/1qDhDM0aM/OdbFbTSApz/HEWvxKQCmP1luaTUk7qE/VWr2QCswtD9uNIC3QIKiP7ivA+eMKLU/r1qZ8Ev9tD8E/1vJjo3AP+FASBYwgas/6J/gYkUNwj8E/1vJjo2wPyk/qfbpeKw/WrvtQnOdpj/O34RCBByiP2O5pdWQuLc/mpmZmZmZuT9bsb/snjysP6+xS1RvDaw/hQg4hCo1sz8c0xOWeECpP8xAZfz7jN8/zTtO0ZFc1j+9GMqJdhUFQLPNjekJS+k/5CzsaYe/0D8hk4ychT3RP4y5awn5oNc/fLjkuFM60D8fEVMiiV7UP4idKXReY88/e6AVGLK62T/nqQ65GW7eP/mgZ7Pqc8U/A+yjU1c+xz/wUBToE3nWP12Kq8q+K9I/aoe/JmvU1T87jbRU3o7IP7JLVG8NbNM/tWytLxLazj8c8PlhhPCwP4Ko+wCkNrE/a0jcY+lDpz+AYI4ev7epP61u9Zz0vqE/SrVPx2MGqj+kiAyreCOjPytqMA3DR6Q/XcR3YtaLoT8yrOKNzCOfP5OMnIU97aA/hbGFIAclrD/nAMEcPX6vPxTtKqT8pIo/v2A3bFuUmT/uX1lpUgqaP5uPa0PFOJ8/46qy74rgnz8/HY8ZqIyvPxKlvcEXJpM/k1fnGJC9jj+r56T3ja+dP7BVgsXhzK8/JzEIrBxatD/sF+yGbYuyP3LEWnwKgJE/oUrNHmgFpj/TpBR0e0m7P2WNeohG9yFAI0p7gy/MDkB0QX3LnM4UQJZ4QNmUCxFAezGUE+0qEkCL4H8r2bEOQOnxe5v+bA1Aa9RDNLrjEEDPLAlQU8sLQGFPO/w1ORJA3pOHhVqTDUBB8WPMXQsrQNZz0vvGlxNAdeWzPA+uFkBkkpGzsCcaQLu4jQbwdiJARrbz/dSIIEAsZRniWDcmQAHeAgmKfzJAXf5D+u2bM0D6fmq8dJMuQIQqNXugpSNAZ0Rpb/ClN0B2cRsN4N0xQLyWkA96PlZAqz5XW7G/L0BWZd8VwV8iQH+8V61M+B9AL26jAbwVNECP5PIf0s8wQDAqqRPQZDhADXGsi9uYNkC0WfW52qosQHb9gt2wTSBAt2J/2T3ZG0AHX5hMFSwVQIC3QILiJydAtYmT+x1KIUCcM6K0N7gqQOXQItv5biFAPujZrPp8F0AcCMkCJrAeQMxdS8gHLUNAMEymCkbVI0B5WKg1zQs5QGKh1jTveCxA4syv5gAxI0AFNBE2PM04QIiFWtO8w0RACYofY+76UEAsZRniWLc0QIJzRpT25idAy7kUV5WdHUBxrIvbaOAsQP5l9+RhkUlAfdCzWfUZLEBWDi2ync8yQIC3QILipzxA1sVtNIDfRkDZPXlYqBUyQHqlLEMcqyVAG55eKcvwOUDKMsSxLmJSQOQUHcnlnydAP1dbsb8sJkDX3TzVIRccQJtVn6utGChA3UHsTKEzHEDaA63AkJUhQGN/2T15uC9AdCSX/5B+KEB4nKIjudRCQGQjEK/rdx1ABOJ1/YKtIkDOwp52+PsgQOQUHcnlHyRAuycPC7XGGUA0v5oDBFMWQDJVMCqp0ytAio7k8h9SJkBIUPwYc9csQNCzWfW5Wi5A0NVW7C9bK0BHrMWnAMgiQFvTvOMUDTZAptWQuMdyI0BfJLTlXKoWQDuNtFTe7iNAXynLEMeaKUBWfa62Yn/lP7vVc9L7JhlARGlv8IXZI0Cc4QZ8fqgiQNF5jV2iGh5AkL3e/fHeGkBr1EM0usMVQD9SRIZVXBRA5e0IpwV/IEAsfeiC+gYjQFH3AUhtAhNAsFWCxeGsEkCfdvhrsmYgQMNHxJRIAh9AMSWS6GU0G0DkZrgBnz8TQJY+dEF9iw1AO/w1WaOeGkANcayL20gXQM+Du7N2Wx9AOwFNhA1PCUDBbti2KDMOQP8EFytqsBFASZ2AJsImL0D129eBcyYqQPevrDQpZRFAgVt381QnEEA/HY8ZqIwMQBFwCFVqlhJAP+PCgZAcIEA0nZ0MjpIZQCOhLedSfBNA63O1FfsLLkCe76fGS3ckQLRZ9bnaqixAz04GR8lLF0ChuU4jLdUWQM2SADW17BZAlZo90AqMBkBI+Um1TwcDQN1e0hitYw1AMQisHFrEFkBI/mDguVcTQMgkI2dhT8M/f6SIDKt4xz9ZNJ2dDI7KP8QI4dHGEbs/OgZkr3d/vD/l7QinBS/GP4ZVvJF55NE/KdAn8iTpxj9/+zpwzojSP3ehuU4jLdE/CObo8Xubzj/6sx8pIsPGP38w8Nx7uMw/Y5y/CYUIsD/L1voioS2nP+tWz0nvG68/y/j3GRcOvD9nuAGfH0aoPw==\",\"dtype\":\"float64\",\"shape\":[506]},\"y\":{\"__ndarray__\":\"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\",\"dtype\":\"float64\",\"shape\":[506]}},\"selected\":{\"id\":\"bdae80fc-808e-44be-93a3-5850b6ac84be\",\"type\":\"Selection\"},\"selection_policy\":{\"id\":\"0d4793a9-6cd2-48b3-9d59-5e90c9b9f6e7\",\"type\":\"UnionRenderers\"}},\"id\":\"7e2d6b14-c1fe-4125-8006-6de4316f3e0e\",\"type\":\"ColumnDataSource\"},{\"attributes\":{},\"id\":\"535bbc8f-a2d6-4ed1-a883-1bc5b4227716\",\"type\":\"BasicTicker\"},{\"attributes\":{\"axis_label\":\"Price in $1000s\",\"formatter\":{\"id\":\"b3131a1e-eaee-4424-b021-0fb596d1fdf7\",\"type\":\"BasicTickFormatter\"},\"plot\":{\"id\":\"4b7677f1-3a56-4cea-967f-ac1781a73f60\",\"subtype\":\"Figure\",\"type\":\"Plot\"},\"ticker\":{\"id\":\"7cb8a555-8648-4764-9292-45a62640c467\",\"type\":\"BasicTicker\"}},\"id\":\"3d594142-e9e2-4166-9918-8ec8c1c819b3\",\"type\":\"LinearAxis\"},{\"attributes\":{\"fill_color\":{\"value\":\"#1f77b4\"},\"line_color\":{\"value\":\"#1f77b4\"},\"x\":{\"field\":\"x\"},\"y\":{\"field\":\"y\"}},\"id\":\"8472e2dd-2fae-4129-bd48-70ad8396fe75\",\"type\":\"Circle\"},{\"attributes\":{},\"id\":\"62459b74-5e2d-43af-aec8-ead499b04d78\",\"type\":\"LinearScale\"},{\"attributes\":{\"source\":{\"id\":\"b4e4c5b2-7ddb-4dac-a851-6c84df25e79f\",\"type\":\"ColumnDataSource\"}},\"id\":\"d72e468c-0026-4a93-9dd4-0ea608cc4926\",\"type\":\"CDSView\"},{\"attributes\":{},\"id\":\"94ae3ee2-e969-4918-9a58-bac684b59eb2\",\"type\":\"BasicTicker\"},{\"attributes\":{},\"id\":\"6185d85d-f1aa-42ea-a023-afaa9bb2d712\",\"type\":\"PanTool\"},{\"attributes\":{\"callback\":null},\"id\":\"5a397fa5-e566-4fd8-a776-94b0700eca37\",\"type\":\"DataRange1d\"},{\"attributes\":{},\"id\":\"1046aee1-a1f4-4bbf-8e62-cb8e0701ee3a\",\"type\":\"WheelZoomTool\"},{\"attributes\":{},\"id\":\"9920d9a8-5aed-4bc5-b403-1059e6934d32\",\"type\":\"LinearScale\"},{\"attributes\":{\"overlay\":{\"id\":\"fe0f766c-2a20-4885-a97f-26b5b3e7495f\",\"type\":\"BoxAnnotation\"}},\"id\":\"22768ce8-86c7-4c3b-9315-1c92ff8d5008\",\"type\":\"BoxZoomTool\"},{\"attributes\":{\"plot\":{\"id\":\"4b7677f1-3a56-4cea-967f-ac1781a73f60\",\"subtype\":\"Figure\",\"type\":\"Plot\"},\"ticker\":{\"id\":\"94ae3ee2-e969-4918-9a58-bac684b59eb2\",\"type\":\"BasicTicker\"}},\"id\":\"dba8b717-df96-42d6-9e94-85e6cc7d2c2e\",\"type\":\"Grid\"},{\"attributes\":{},\"id\":\"ba6fb0a6-376b-4046-9588-3cae72606e44\",\"type\":\"SaveTool\"},{\"attributes\":{\"active_drag\":\"auto\",\"active_inspect\":\"auto\",\"active_scroll\":\"auto\",\"active_tap\":\"auto\",\"tools\":[{\"id\":\"cd7b84d3-cc25-4df3-b6ea-b924e7a0b49f\",\"type\":\"PanTool\"},{\"id\":\"c5ded7b6-b33d-4f3f-84b2-099cd9c646e4\",\"type\":\"WheelZoomTool\"},{\"id\":\"8f34aaec-3420-42aa-8654-ca1024526241\",\"type\":\"BoxZoomTool\"},{\"id\":\"3d448c54-4b34-40bb-8496-759b4467befa\",\"type\":\"SaveTool\"},{\"id\":\"f1099c1e-b07a-43f2-a855-04bf3b3bf99d\",\"type\":\"ResetTool\"},{\"id\":\"b8998f91-d48f-411f-b1fe-09d52a99e0ce\",\"type\":\"HelpTool\"}]},\"id\":\"b81a5bf4-8e82-4494-b0d3-b8c670a8db06\",\"type\":\"Toolbar\"},{\"attributes\":{},\"id\":\"7b299aac-9dec-4268-b65e-5bee3326ceb6\",\"type\":\"ResetTool\"},{\"attributes\":{\"callback\":null},\"id\":\"cf37572f-62dd-478a-90cf-15519b3cc4d4\",\"type\":\"DataRange1d\"},{\"attributes\":{\"fill_alpha\":{\"value\":0.1},\"fill_color\":{\"value\":\"#1f77b4\"},\"line_alpha\":{\"value\":0.1},\"line_color\":{\"value\":\"#1f77b4\"},\"x\":{\"field\":\"x\"},\"y\":{\"field\":\"y\"}},\"id\":\"c42f5ea1-b18d-4688-95b7-e5de59ea30f2\",\"type\":\"Circle\"},{\"attributes\":{\"axis_label\":\"CRIM\",\"formatter\":{\"id\":\"a16dfff6-fa9b-47e2-80e5-2eb00e03bd26\",\"type\":\"BasicTickFormatter\"},\"plot\":{\"id\":\"4b7677f1-3a56-4cea-967f-ac1781a73f60\",\"subtype\":\"Figure\",\"type\":\"Plot\"},\"ticker\":{\"id\":\"94ae3ee2-e969-4918-9a58-bac684b59eb2\",\"type\":\"BasicTicker\"}},\"id\":\"00863af7-169e-40de-8c73-0aaae0422a5e\",\"type\":\"LinearAxis\"},{\"attributes\":{\"callback\":null,\"data\":{\"x\":{\"__ndarray__\":\"AAAAAAAAMkAAAAAAAAAAAAAAAAAAAAAAAAAAAAAAAAAAAAAAAAAAAAAAAAAAAAAAAAAAAAAAKUAAAAAAAAApQAAAAAAAAClAAAAAAAAAKUAAAAAAAAApQAAAAAAAAClAAAAAAAAAKUAAAAAAAAAAAAAAAAAAAAAAAAAAAAAAAAAAAAAAAAAAAAAAAAAAAAAAAAAAAAAAAAAAAAAAAAAAAAAAAAAAAAAAAAAAAAAAAAAAAAAAAAAAAAAAAAAAAAAAAAAAAAAAAAAAAAAAAAAAAAAAAAAAAAAAAAAAAAAAAAAAAAAAAAAAAAAAAAAAAAAAAAAAAAAAAAAAAAAAAAAAAAAAAAAAAAAAAAAAAAAAAAAAAAAAAAAAAAAAAAAAAAAAAAAAAAAAAAAAAAAAAAAAAAAAAAAAAAAAAAAAAADAUkAAAAAAAMBSQAAAAAAAAAAAAAAAAAAAAAAAAAAAAAAAAAAAAAAAAAAAAAAAAAAAAAAAAAAAAAAAAAAAAAAAAAAAAAAAAAAAAAAAAAAAAAAAAAAAAAAAADVAAAAAAAAANUAAAAAAAAA1QAAAAAAAADVAAAAAAADAUkAAAAAAAIBWQAAAAAAAQFVAAAAAAAAAWUAAAAAAAAA5QAAAAAAAADlAAAAAAAAAOUAAAAAAAAA5QAAAAAAAADlAAAAAAAAAOUAAAAAAAIAxQAAAAAAAAFRAAAAAAAAAVEAAAAAAAAApQAAAAAAAAClAAAAAAAAAKUAAAAAAAAAAAAAAAAAAAAAAAAAAAAAAAAAAAAAAAAAAAAAAAAAAAAAAAAAAAAAAAAAAAAAAAAAAAAAAAAAAAAAAAAAAAAAAAAAAAAAAAAAAAAAAAAAAADlAAAAAAAAAOUAAAAAAAAA5QAAAAAAAADlAAAAAAAAAAAAAAAAAAAAAAAAAAAAAAAAAAAAAAAAAAAAAAAAAAAAAAAAAAAAAAAAAAAAAAAAAAAAAAAAAAAAAAAAAAAAAADxAAAAAAAAAPEAAAAAAAAA8QAAAAAAAAAAAAAAAAAAAAAAAAAAAAAAAAAAAAAAAAAAAAAAAAAAAAAAAAAAAAAAAAAAAAAAAAAAAAAAAAAAAAAAAAAAAAAAAAAAAAAAAAAAAAAAAAAAAAAAAAAAAAAAAAAAAAAAAAAAAAAAAAAAAAAAAAAAAAAAAAAAAAAAAAAAAAAAAAAAAAAAAAAAAAAAAAAAAAAAAAAAAAAAAAAAAAAAAAAAAAAAAAAAAAAAAAAAAAAAAAAAAAAAAAAAAAAAAAAAAAAAAAAAAAAAAAAAAAAAAAAAAAAAAAAAAAAAAAAAAAAAAAAAAAAAAAAAAAAAAAAAAAAAAAAAAAAAAAAAAAAAAAAAAAAAAAAAAAAAAAAAAAAAAAAAAAAAAAAAAAAAAAAAAAAAAAAAAAAAAAAAAAAAAAAAAAAAAAAAAAAAAAAAAAAAAAAAAAAAAAAAAAAAAAAAAAAAAAAAAAAAAAAAAAAAAAAAAAAAAAAAAAAAAAAAAAAAAAAAAAAAAAAAAAAAAAAAAAAAAAAAAAAAAAAAAAAAAAAAAAAAAAAAAAAAAAAAAAAAAAAAAAAAAAAAAAAAAAAAAAAAAAAAAAAAAAAAAAAAAAAAAAAAAAAAAAAAAAAAAAAAAAAAAAAAAAAAAAAAAAAAAAAAAAAAAAAAAAAAAAAAAAAAAAAAAAAAAAAAAAAAAAAAAAAAAAAAAAAAAAAAAAAAAAAAAAAAAAAAAAAAAAAAAAAAAAAAAAAAAAAAAAAAAAAAAAAAAAAAAAAAAAAAAAAAAAAAAAAAAAAAAAAAAAAAAAAAAAAAAAAAAAAAAAAAAAAAAAAAAAAAAAAAAAAAAAAAAAAAAAAAAAAAAAAAAAAAAAAAAAAAAAAAAAAAAAAAAAAAAAAAAAAAAAAAAAAAAAAAAAAAAAAAAAAAAAAAAAAAAAAAAAAAAAAAAAAAAAAAAAAAAAAAAAAAAAAAAAAAAAAAAAAAAAAAAAAAAAAAAAAAAAAAAAIBGQAAAAAAAgEZAAAAAAACARkAAAAAAAIBGQAAAAAAAgEZAAAAAAACARkAAAAAAAABOQAAAAAAAAE5AAAAAAAAAVEAAAAAAAABUQAAAAAAAAFRAAAAAAAAAVEAAAAAAAMBXQAAAAAAAwFdAAAAAAACgVEAAAAAAAKBUQAAAAAAAwFdAAAAAAADAV0AAAAAAAAAAAAAAAAAAAAAAAAAAAAAAAAAAAAAAAAAAAAAAAAAAAAAAAAAAAAAAAAAAAAAAAAAAAAAAAAAAAAAAAAAAAAAAAAAAAAAAAAAAAAAAAAAAAAAAAAAAAAAAAAAAAAAAAAAAAAAAAAAAAAAAAAAAAAAAAAAAAAAAAAAAAAAAAAAAAAAAAAAAAAAAAAAAAAAAAAAAAAAAAAAAAAAAAAAAAAAAAAAAAAAAAAAAAAAAAAAAAAAAAAAAAAAAAAAAAAAAAAAAAAAAAAAAAAAAAAAAAAAAAAAAAAAAAAAAAAAAAAAAAAAAAAAAAAAAAAAAAAAAAAAAAAAAAAAAAAAAAAAAAAAAAAAAAAAAAAA+QAAAAAAAAD5AAAAAAAAAPkAAAAAAAAA+QAAAAAAAAD5AAAAAAAAAPkAAAAAAAAA2QAAAAAAAADZAAAAAAAAANkAAAAAAAAA2QAAAAAAAADZAAAAAAAAANkAAAAAAAAA2QAAAAAAAADZAAAAAAAAANkAAAAAAAAA2QAAAAAAAAFRAAAAAAAAAVEAAAAAAAIBWQAAAAAAAADRAAAAAAAAANEAAAAAAAAA0QAAAAAAAADRAAAAAAAAANEAAAAAAAAA0QAAAAAAAADRAAAAAAAAANEAAAAAAAAA0QAAAAAAAADRAAAAAAAAANEAAAAAAAAA0QAAAAAAAADRAAAAAAAAANEAAAAAAAAA0QAAAAAAAADRAAAAAAAAANEAAAAAAAABEQAAAAAAAAERAAAAAAAAAREAAAAAAAABEQAAAAAAAAERAAAAAAAAANEAAAAAAAAA0QAAAAAAAADRAAAAAAAAANEAAAAAAAIBWQAAAAAAAgFZAAAAAAACAS0AAAAAAAABUQAAAAAAAQEpAAAAAAABASkAAAAAAAEBKQAAAAAAAAFRAAAAAAAAAVEAAAAAAAABUQAAAAAAAAAAAAAAAAAAAAAAAAAAAAAAAAAAAAAAAAAAAAAAAAAAAAAAAAAAAAIBRQAAAAAAAgFFAAAAAAACAUUAAAAAAAABBQAAAAAAAAEFAAAAAAAAAQUAAAAAAAIBAQAAAAAAAgEBAAAAAAACAQEAAAAAAAIBAQAAAAAAAAAAAAAAAAAAAAAAAAAAAAAAAAAAAAAAAAAAAAAAAAAAAAAAAAAAAAAAAAAAAAAAAAAAAAAAAAAAAAAAAAAAAAAAAAAAAAAAAAAAAAAAAAAAAAAAAAAAAAAAAAAAAAAAAAAAAAAAAAAAAAAAAAAAAAAAAAAAAAAAAAAAAAAAAAAAAAAAAAAAAAAAAAAAAAAAAAAAAAAAAAAAAAAAAAAAAAAAAAAAAAAAAAAAAAAAAAAAAAAAAAAAAAIBBQAAAAAAAgEFAAAAAAAAAAAAAAAAAAAAAAAAAAAAAAAAAAAAAAAAAAAAAAAAAAAAAAAAAAAAAAAAAAAAAAAAAAAAAAAAAAAAAAAAAAAAAgEFAAAAAAAAAAAAAAAAAAIBLQAAAAAAAgEtAAAAAAAAAAAAAAAAAAAAAAAAAAAAAQFVAAAAAAAAAVEAAAAAAAABEQAAAAAAAAERAAAAAAAAATkAAAAAAAABOQAAAAAAAgFZAAAAAAAAAVEAAAAAAAABUQAAAAAAAAAAAAAAAAAAAAAAAAAAAAAAAAAAAAAAAAAAAAAAAAAAAAAAAAAAAAAAAAAAAAAAAAAAAAAAAAAAAAAAAAAAAAAAAAAAAAAAAAAAAAAAAAAAAAAAAAAAAAAAAAAAAAAAAAAAAAAAAAAAAAAAAAAAAAAAAAAAAAAAAAAAAAAAAAAAAAAAAAAAAAAAAAAAAAAAAAAAAAAAAAAAAAAAAAAAAAAAAAAAAAAAAAAAAAAAAAAAAAAAAAAAAAAAAAAAAAAAAAAAAAAAAAAAAAAAAAAAAAAAAAAAAAAAAAAAAAAAAAAAAAAAAAAAAAAAAAAAAAAAAAAAAAAAAAAAAAAAAAAAAAAAAAAAAAAAAAAAAAAAAAAAAAAAAAAAAAAAAAAAAAAAAAAAAAAAAAAAAAAAAAAAAAAAAAAAAAAAAAAAAAAAAAAAAAAAAAAAAAAAAAAAAAAAAAAAAAAAAAAAAAAAAAAAAAAAAAAAAAAAAAAAAAAAAAAAAAAAAAAAAAAAAAAAAAAAAAAAAAAAAAAAAAAAAAAAAAAAAAAAAAAAAAAAAAAAAAAAAAAAAAAAAAAAAAAAAAAAAAAAAAAAAAAAAAAAAAAAAAAAAAAAAAAAAAAAAAAAAAAAAAAAAAAAAAAAAAAAAAAAAAAAAAAAAAAAAAAAAAAAAAAAAAAAAAAAAAAAAAAAAAAAAAAAAAAAAAAAAAAAAAAAAAAAAAAAAAAAAAAAAAAAAAAAAAAAAAAAAAAAAAAAAAAAAAAAAAAAAAAAAAAAAAAAAAAAAAAAAAAAAAAAAAAAAAAAAAAAAAAAAAAAAAAAAAAAAAAAAAAAAAAAAAAAAAAAAAAAAAAAAAAAAAAAAAAAAAAAAAAAAAAAAAAAAAAAAAAAAAAAAAAAAAAAAAAAAAAAAAAAAAAAAAAAAAAAAAAAAAAAAAAAAAAAAAAAAAAAAAAAAAAAAAAAAAAAAAAAAAAAAAAAAAAAAAAAAAAAAAAAAAAAAAAAAAAAAAAAAAAAAAAAAAAAAAAAAAAAAAAAAAAAAAAAAAAAAAAAAAAAAAAAAAAAAAAAAAAAAAAAAAAAAAAAAAAAAAAAAAAAAAAAAAAAAAAAAAAAAAAAAAAAAAAAAAAAAAAAAAAAAAAAAAAAAAAAAAAAAAAAAAAAAAAAAAAAAAAAAAAAAAAAAAAAAAAAAAAAAAAAAAAAAAAAAAAAAAAAAAAAAAAAAAAAAAAAAAAAAAAAAAAAAAAAAAAAAAAAAAAAAAAAAAAAAAAAAAAAAAAAAAAAAAAAAAAAAAAAAAAAAAAAAAAAAAAAAAAAAAAAAAAAAAAAAAAAAAAAAAAAAAAAAAAAAAAAAAAAAAAAAAAAAAAAAAAAAAAAAAAAAAAAAAAAAAAAAAAAAAAAAAAAAAAAAAAAAAAAAAAAAAAAAAAAAAAAAAAAAAAAAAAAAAAAAAAAAAAAAAAAAAAAAAAAAAAAAAAAAAAAAAAAAAAAAAAAAAAAAAAAAAAAAAAAAAAAAAAAAAAAAAAAAAAAAAAAAAAAAAAAAAAAAAAAAAAAAAAAAAAAAAAAAAAAAAAAAAAAAAAAAAAAAAAAAAAAAAAAAAAAAAAAAAAAAAAAAAA==\",\"dtype\":\"float64\",\"shape\":[506]},\"y\":{\"__ndarray__\":\"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\",\"dtype\":\"float64\",\"shape\":[506]}},\"selected\":{\"id\":\"53155845-2aac-42b5-bc14-0c617b990cfd\",\"type\":\"Selection\"},\"selection_policy\":{\"id\":\"b81160a9-0567-45b8-b4df-635a8cb866df\",\"type\":\"UnionRenderers\"}},\"id\":\"b4e4c5b2-7ddb-4dac-a851-6c84df25e79f\",\"type\":\"ColumnDataSource\"},{\"attributes\":{\"data_source\":{\"id\":\"b4e4c5b2-7ddb-4dac-a851-6c84df25e79f\",\"type\":\"ColumnDataSource\"},\"glyph\":{\"id\":\"e5ca546c-3a65-4f84-80b1-abe85b63c8dd\",\"type\":\"Circle\"},\"hover_glyph\":null,\"muted_glyph\":null,\"nonselection_glyph\":{\"id\":\"ea17247d-d759-40f5-b58c-e4e2807fbfb5\",\"type\":\"Circle\"},\"selection_glyph\":null,\"view\":{\"id\":\"d72e468c-0026-4a93-9dd4-0ea608cc4926\",\"type\":\"CDSView\"}},\"id\":\"6f5c744e-48a3-4002-8a19-324b8a7253c9\",\"type\":\"GlyphRenderer\"},{\"attributes\":{},\"id\":\"7cb8a555-8648-4764-9292-45a62640c467\",\"type\":\"BasicTicker\"},{\"attributes\":{},\"id\":\"beddfe41-ea2e-45eb-b334-0dc29fd810f3\",\"type\":\"ResetTool\"},{\"attributes\":{},\"id\":\"39f09960-65dd-4cd2-8ac7-261b32c043f0\",\"type\":\"HelpTool\"},{\"attributes\":{\"below\":[{\"id\":\"fecb5bbb-64db-4974-a506-0fb21449412d\",\"type\":\"LinearAxis\"}],\"left\":[{\"id\":\"3f616589-8b7d-4d7c-ae81-e6b15e7a8f3e\",\"type\":\"LinearAxis\"}],\"plot_height\":250,\"plot_width\":400,\"renderers\":[{\"id\":\"fecb5bbb-64db-4974-a506-0fb21449412d\",\"type\":\"LinearAxis\"},{\"id\":\"89516670-e6a6-4326-92b1-9b27c097069e\",\"type\":\"Grid\"},{\"id\":\"3f616589-8b7d-4d7c-ae81-e6b15e7a8f3e\",\"type\":\"LinearAxis\"},{\"id\":\"ea68c0cc-6f3d-4378-8936-b3780e991c80\",\"type\":\"Grid\"},{\"id\":\"8306a7cd-eda2-422f-a8ca-3c54a3be0c17\",\"type\":\"BoxAnnotation\"},{\"id\":\"6f5c744e-48a3-4002-8a19-324b8a7253c9\",\"type\":\"GlyphRenderer\"}],\"title\":{\"id\":\"460a4fd8-9285-456d-b234-43c9989f1837\",\"type\":\"Title\"},\"toolbar\":{\"id\":\"b81a5bf4-8e82-4494-b0d3-b8c670a8db06\",\"type\":\"Toolbar\"},\"toolbar_location\":null,\"x_range\":{\"id\":\"5a397fa5-e566-4fd8-a776-94b0700eca37\",\"type\":\"DataRange1d\"},\"x_scale\":{\"id\":\"ab169b99-9d0a-4791-9d38-5cef64379db2\",\"type\":\"LinearScale\"},\"y_range\":{\"id\":\"60ebfe6b-515d-451b-b78f-0747eef3ddc4\",\"type\":\"DataRange1d\"},\"y_scale\":{\"id\":\"350d9108-21fe-44f1-8b77-08c15d871b75\",\"type\":\"LinearScale\"}},\"id\":\"30bcad57-e777-46ff-b525-182615e57e04\",\"subtype\":\"Figure\",\"type\":\"Plot\"},{\"attributes\":{\"bottom_units\":\"screen\",\"fill_alpha\":{\"value\":0.5},\"fill_color\":{\"value\":\"lightgrey\"},\"left_units\":\"screen\",\"level\":\"overlay\",\"line_alpha\":{\"value\":1.0},\"line_color\":{\"value\":\"black\"},\"line_dash\":[4,4],\"line_width\":{\"value\":2},\"plot\":null,\"render_mode\":\"css\",\"right_units\":\"screen\",\"top_units\":\"screen\"},\"id\":\"fe0f766c-2a20-4885-a97f-26b5b3e7495f\",\"type\":\"BoxAnnotation\"},{\"attributes\":{\"callback\":null,\"data\":{\"x\":{\"__ndarray__\":\"AAAAAAAAAAAAAAAAAAAAAAAAAAAAAAAAAAAAAAAAAAAAAAAAAAAAAAAAAAAAAAAAAAAAAAAAAAAAAAAAAAAAAAAAAAAAAAAAAAAAAAAAAAAAAAAAAAAAAAAAAAAAAAAAAAAAAAAAAAAAAAAAAAAAAAAAAAAAAAAAAAAAAAAAAAAAAAAAAAAAAAAAAAAAAAAAAAAAAAAAAAAAAAAAAAAAAAAAAAAAAAAAAAAAAAAAAAAAAAAAAAAAAAAAAAAAAAAAAAAAAAAAAAAAAAAAAAAAAAAAAAAAAAAAAAAAAAAAAAAAAAAAAAAAAAAAAAAAAAAAAAAAAAAAAAAAAAAAAAAAAAAAAAAAAAAAAAAAAAAAAAAAAAAAAAAAAAAAAAAAAAAAAAAAAAAAAAAAAAAAAAAAAAAAAAAAAAAAAAAAAAAAAAAAAAAAAAAAAAAAAAAAAAAAAAAAAAAAAAAAAAAAAAAAAAAAAAAAAAAAAAAAAAAAAAAAAAAAAAAAAAAAAAAAAAAAAAAAAAAAAAAAAAAAAAAAAAAAAAAAAAAAAAAAAAAAAAAAAAAAAAAAAAAAAAAAAAAAAAAAAAAAAAAAAAAAAAAAAAAAAAAAAAAAAAAAAAAAAAAAAAAAAAAAAAAAAAAAAAAAAAAAAAAAAAAAAAAAAAAAAAAAAAAAAAAAAAAAAAAAAAAAAAAAAAAAAAAAAAAAAAAAAAAAAAAAAAAAAAAAAAAAAAAAAAAAAAAAAAAAAAAAAAAAAAAAAAAAAAAAAAAAAAAAAAAAAAAAAAAAAAAAAAAAAAAAAAAAAAAAAAAAAAAAAAAAAAAAAAAAAAAAAAAAAAAAAAAAAAAAAAAAAAAAAAAAAAAAAAAAAAAAAAAAAAAAAAAAAAAAAAAAAAAAAAAAAAAAAAAAAAAAAAAAAAAAAAAAAAAAAAAAAAAAAAAAAAAAAAAAAAAAAAAAAAAAAAAAAAAAAAAAAAAAAAAAAAAAAAAAAAAAAAAAAAAAAAAAAAAAAAAAAAAAAAAAAAAAAAAAAAAAAAAAAAAAAAAAAAAAAAAAAAAAAAAAAAAAAAAAAAAAAAAAAAAAAAAAAAAAAAAAAAAAAAAAAAAAAAAAAAAAAAAAAAAAAAAAAAAAAAAAAAAAAAAAAAAAAAAAAAAAAAAAAAAAAAAAAAAAAAAAAAAAAAAAAAAAAAAAAAAAAAAAAAAAAAAAAAAAAAAAAAAAAAAAAAAAAAAAAAAAAAAAAAAAAAAAAAAAAAAAAAAAAAAAAAAAAAAAAAAAAAAAAAAAAAAAAAAAAAAAAAAAAAAAAAAAAAAAAAAAAAAAAAAAAAAAAAAAAAAAAAAAAAAAAAAAAAAAAAAAAAAAAAAAAAAAAAAAAAAAAAAAAAAAAAAAAAAAAAAAAAAAAAAAAAAAAAAAAAAAAAAAAAAAAAAAAAAAAAAAAAAAAAAAAAAAAAAAAAAAAAAAAAAAAAAAAAAAAAAAAAAAAAAAAAAAAAAAAAAAAAAAAAAAAAAAAAAAAAAAAAAAAAAAAAAAAAAAAADwPwAAAAAAAAAAAAAAAAAAAAAAAAAAAAAAAAAAAAAAAAAAAAAAAAAAAAAAAAAAAAAAAAAAAAAAAAAAAAAAAAAAAAAAAAAAAAAAAAAAAAAAAPA/AAAAAAAAAAAAAAAAAADwPwAAAAAAAPA/AAAAAAAAAAAAAAAAAAAAAAAAAAAAAAAAAAAAAAAAAAAAAAAAAADwPwAAAAAAAAAAAAAAAAAA8D8AAAAAAADwPwAAAAAAAAAAAAAAAAAAAAAAAAAAAAAAAAAAAAAAAAAAAAAAAAAAAAAAAAAAAAAAAAAAAAAAAAAAAAAAAAAAAAAAAAAAAAAAAAAAAAAAAAAAAAAAAAAAAAAAAAAAAAAAAAAAAAAAAAAAAAAAAAAAAAAAAAAAAAAAAAAAAAAAAAAAAAAAAAAAAAAAAAAAAAAAAAAAAAAAAAAAAAAAAAAAAAAAAAAAAAAAAAAAAAAAAAAAAAAAAAAAAAAAAAAAAAAAAAAAAAAAAAAAAAAAAAAAAAAAAAAAAAAAAAAAAAAAAAAAAAAAAAAAAAAAAAAAAAAAAAAAAAAAAAAAAAAAAAAAAAAAAAAAAAAAAAAAAAAAAAAAAAAAAAAAAAAAAAAAAAAAAAAAAAAAAAAAAAAAAAAAAAAAAAAAAAAAAAAAAAAAAAAAAAAAAAAAAAAAAAAAAAAAAAAAAAAAAAAAAAAAAAAAAAAAAAAAAADwPwAAAAAAAPA/AAAAAAAA8D8AAAAAAADwPwAAAAAAAPA/AAAAAAAAAAAAAAAAAAAAAAAAAAAAAAAAAAAAAAAA8D8AAAAAAAAAAAAAAAAAAPA/AAAAAAAA8D8AAAAAAADwPwAAAAAAAPA/AAAAAAAA8D8AAAAAAAAAAAAAAAAAAAAAAAAAAAAAAAAAAAAAAAAAAAAAAAAAAAAAAAAAAAAAAAAAAAAAAAAAAAAAAAAAAAAAAAAAAAAAAAAAAAAAAAAAAAAAAAAAAAAAAAAAAAAA8D8AAAAAAAAAAAAAAAAAAPA/AAAAAAAAAAAAAAAAAAAAAAAAAAAAAAAAAAAAAAAAAAAAAAAAAAAAAAAAAAAAAAAAAAAAAAAAAAAAAAAAAAAAAAAAAAAAAAAAAAAAAAAAAAAAAAAAAAAAAAAAAAAAAAAAAAAAAAAAAAAAAAAAAAAAAAAAAAAAAAAAAAAAAAAAAAAAAAAAAAAAAAAAAAAAAAAAAAAAAAAAAAAAAAAAAAAAAAAAAAAAAAAAAAAAAAAAAAAAAAAAAAAAAAAAAAAAAAAAAAAAAAAAAAAAAAAAAAAAAAAAAAAAAAAAAAAAAAAAAAAAAAAAAAAAAAAAAAAAAAAAAAAAAAAAAAAAAAAAAAAAAAAAAAAAAPA/AAAAAAAAAAAAAAAAAAAAAAAAAAAAAAAAAAAAAAAA8D8AAAAAAADwPwAAAAAAAAAAAAAAAAAA8D8AAAAAAADwPwAAAAAAAAAAAAAAAAAAAAAAAAAAAAAAAAAAAAAAAAAAAAAAAAAA8D8AAAAAAADwPwAAAAAAAAAAAAAAAAAAAAAAAAAAAAAAAAAAAAAAAAAAAAAAAAAAAAAAAAAAAAAAAAAAAAAAAAAAAAAAAAAAAAAAAAAAAAAAAAAAAAAAAAAAAAAAAAAAAAAAAAAAAAAAAAAAAAAAAAAAAAAAAAAAAAAAAAAAAAAAAAAAAAAAAAAAAAAAAAAAAAAAAAAAAAAAAAAAAAAAAAAAAAAAAAAAAAAAAAAAAAAAAAAAAAAAAAAAAAAAAAAAAAAAAAAAAAAAAAAAAAAAAAAAAAAAAAAAAAAAAAAAAAAAAAAAAAAAAAAAAAAAAAAAAAAAAAAAAAAAAAAAAAAAAAAAAAAAAAAAAAAAAAAAAAAAAAAAAAAAAAAAAAAAAAAAAAAAAAAAAAAAAAAAAAAAAAAAAAAAAAAAAAAAAAAAAAAAAAAAAAAAAAAAAAAAAAAAAAAAAAAAAAAAAAAAAAAAAAAAAAAAAAAAAAAAAAAAAAAAAAAAAAAAAAAAAAAAAAAAAAAAAAAAAAAAAAAAAAAAAAAAAAAAAAAAAAAAAAAAAAAAAAAAAAAAAAAAAAAAAAAAAAAAAAAAAAAAAAAAAAAAAAAAAAAAAAAAAAAAAAAAAAAAAAAAAAAAAAAAAAAAAAAAAAAAAAAAAAAAAAAAAAAAAAAAAAAAAAAAAAAAAAAAAAAAAAAAAAAAAAAAAAAAAAAAAAAAAAAAAAAAAAAAAAAAAAAAAAAAAAAAAAAAAAAAAAAAAAAAAAAAAAAAAAAAAAAAAAAAAAAAAAAAAAAAAAAAAPA/AAAAAAAA8D8AAAAAAADwPwAAAAAAAAAAAAAAAAAAAAAAAAAAAAAAAAAAAAAAAAAAAAAAAAAA8D8AAAAAAADwPwAAAAAAAAAAAAAAAAAAAAAAAAAAAAAAAAAAAAAAAAAAAAAAAAAA8D8AAAAAAADwPwAAAAAAAAAAAAAAAAAA8D8AAAAAAAAAAAAAAAAAAAAAAAAAAAAAAAAAAAAAAAAAAAAAAAAAAAAAAAAAAAAAAAAAAAAAAAAAAAAAAAAAAAAAAAAAAAAAAAAAAAAAAAAAAAAAAAAAAAAAAAAAAAAAAAAAAAAAAAAAAAAAAAAAAAAAAAAAAAAAAAAAAAAAAAAAAAAAAAAAAAAAAAAAAAAAAAAAAAAAAAAAAAAAAAAAAAAAAAAAAAAAAAAAAAAAAAAAAAAAAAAAAAAAAAAAAAAAAAAAAAAAAAAAAAAAAAAAAAAAAAAAAAAAAAAAAAAAAAAAAAAAAAAAAAAAAAAAAAAAAAAAAAAAAAAAAAAAAAAAAAAAAAAAAAAAAAAAAAAAAAAAAAAAAAAAAAAAAAAAAAAAAAAAAAAAAAAAAAAAAAAAAAAAAAAAAAAAAAAAAAAAAAAAAAAAAAAAAAAAAAAAAAAAAAAAAAAAAAAAAAAAAAAAAAAAAAAAAAAAAAAAAAAAAAAAAAAAAAAAAAAAAAAAAAAAAAAAAAAAAAAAAAAAAAAAAAAAAAAAAAAAAAAAAAAAAAAAAAAAAAAAAAAAAAAAAAAAAAAAAAAAAAAAAAAAAAAAAAAAAAAAAAAAAAAAAAAAAAAAAAAAAAAAAAAAAAAAAAAAAAAAAAAAAAAAAAAAAAAAAAAAAAAAAAAAAAAAAAAAAAAAAAAAAAAAAAAAAAAAAAAAAAAAAAAAAAAAAAAAAAAAAAAAAAAAAAAAAAAAAAAAAAAAAAAAAAAAAAAAAAAAAAAAAAAAAAAAAAAAAAAAAAAAAAAAAAAAAAAAAAAAAAAAAAAAAAAAAAAAAAAAAAAAAAAAAAAAAAAAAAAAAAAAAAAAAAAAAAAAAAAAAAAAAAAAAAAAAAAAAAAAAAAAAAAAAAAAAAAAAAAAAAAAAAAAAAAAAAAAAAAAAAAAAAAAAAAAAAAAAAAAAAAAAAAAAAAAAAAAAAAAAAAAAAAAAAAAAAAAAAAAAAAAAAAAAAAAAAAAAAAAAAAAAAAAAAAAAAAAAAAAAAAAAAAAAAAAAAAAAAAAAAAAAAAAAAAAAAAAAAAAAAAAAAAAAAAAAAAAAAAAAAAAAAAAAAAAAAAAAAAAAAAAAAAAAAAAAAAAAAAAAAAAAAAAAAAAAAAAAAAAAAAAAAAAAAAAAAAAAAAAAAAAAAAAAAAAAAAAAAAAAAAAAAAAAAAAAAAAAAAAAAAAAAAAAAAAAAAAAAAAAAAAAAAAAAAAAAAAAAAAAAAAAAAAAAAAAAAAAAAAAAAAAAAAAAAAAAAAAAAAAAAAAAAAAAAAAAAAAAAAAAAAAAAAAAAAAAAAAAAAAAAAAAAAAAAAAAAAAAAAAAAAAAAAAAAAAAAAAAAAAAAAAAAAAAAAAAAAAAAAAAAAAAAAAAAAAAAAAAAAAAAAAAAAAAAAAAAAAA==\",\"dtype\":\"float64\",\"shape\":[506]},\"y\":{\"__ndarray__\":\"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\",\"dtype\":\"float64\",\"shape\":[506]}},\"selected\":{\"id\":\"4fd0d1cb-5940-48c0-a50b-baf694dc3f24\",\"type\":\"Selection\"},\"selection_policy\":{\"id\":\"89ef1d23-a64f-4370-adc0-6e9e3700a43f\",\"type\":\"UnionRenderers\"}},\"id\":\"1ecd0218-c400-485a-a2c7-3b7a88c89f6f\",\"type\":\"ColumnDataSource\"},{\"attributes\":{\"plot\":{\"id\":\"7c22f432-1fac-4c10-91ac-1677246a41d0\",\"subtype\":\"Figure\",\"type\":\"Plot\"},\"ticker\":{\"id\":\"bc7555ee-01ae-4e44-b6ee-1d826df57092\",\"type\":\"BasicTicker\"}},\"id\":\"28460c64-75a5-4dec-a6ca-a30ff58d4389\",\"type\":\"Grid\"},{\"attributes\":{\"source\":{\"id\":\"7e2d6b14-c1fe-4125-8006-6de4316f3e0e\",\"type\":\"ColumnDataSource\"}},\"id\":\"2ef4781b-f381-4a30-9b80-9f8e89b3f7c3\",\"type\":\"CDSView\"},{\"attributes\":{\"dimension\":1,\"plot\":{\"id\":\"4b7677f1-3a56-4cea-967f-ac1781a73f60\",\"subtype\":\"Figure\",\"type\":\"Plot\"},\"ticker\":{\"id\":\"7cb8a555-8648-4764-9292-45a62640c467\",\"type\":\"BasicTicker\"}},\"id\":\"67d9ca01-ada9-4c70-87c9-df5e302e62ae\",\"type\":\"Grid\"},{\"attributes\":{\"overlay\":{\"id\":\"c976f9a6-6405-4d31-969b-23a02ff02330\",\"type\":\"BoxAnnotation\"}},\"id\":\"bc22e7b9-61c6-4319-8d23-879cefb56ccb\",\"type\":\"BoxZoomTool\"},{\"attributes\":{\"source\":{\"id\":\"1ecd0218-c400-485a-a2c7-3b7a88c89f6f\",\"type\":\"ColumnDataSource\"}},\"id\":\"a1dcd16e-0257-4a16-95c8-6d3721c3c6b2\",\"type\":\"CDSView\"},{\"attributes\":{},\"id\":\"f3e9a523-17bb-4bda-96af-d2c43d80f91c\",\"type\":\"BasicTicker\"},{\"attributes\":{\"fill_alpha\":{\"value\":0.1},\"fill_color\":{\"value\":\"#1f77b4\"},\"line_alpha\":{\"value\":0.1},\"line_color\":{\"value\":\"#1f77b4\"},\"x\":{\"field\":\"x\"},\"y\":{\"field\":\"y\"}},\"id\":\"94b6c65f-e76e-441e-b2fe-b48221f3681e\",\"type\":\"Circle\"},{\"attributes\":{\"plot\":null,\"text\":\"\"},\"id\":\"ec7d69be-dca8-48f5-ad18-867653e8a61f\",\"type\":\"Title\"},{\"attributes\":{},\"id\":\"95ebda31-fa04-4fbd-a095-6abf5f8d0341\",\"type\":\"WheelZoomTool\"},{\"attributes\":{\"data_source\":{\"id\":\"c048d5d7-ca9c-4be2-872d-c8236b0d7e2e\",\"type\":\"ColumnDataSource\"},\"glyph\":{\"id\":\"adf408ee-4b11-4863-ba6e-94977a5f7744\",\"type\":\"Circle\"},\"hover_glyph\":null,\"muted_glyph\":null,\"nonselection_glyph\":{\"id\":\"94b6c65f-e76e-441e-b2fe-b48221f3681e\",\"type\":\"Circle\"},\"selection_glyph\":null,\"view\":{\"id\":\"03d36947-c26d-4bd5-ae18-2a5997f55ce7\",\"type\":\"CDSView\"}},\"id\":\"d8676abb-3489-4ab7-b0f2-8210b7426f83\",\"type\":\"GlyphRenderer\"},{\"attributes\":{},\"id\":\"d20f8476-fcfd-4052-bdb2-0afe94e2eab6\",\"type\":\"PanTool\"},{\"attributes\":{},\"id\":\"ab169b99-9d0a-4791-9d38-5cef64379db2\",\"type\":\"LinearScale\"},{\"attributes\":{\"source\":{\"id\":\"c048d5d7-ca9c-4be2-872d-c8236b0d7e2e\",\"type\":\"ColumnDataSource\"}},\"id\":\"03d36947-c26d-4bd5-ae18-2a5997f55ce7\",\"type\":\"CDSView\"},{\"attributes\":{},\"id\":\"34f83057-d4e9-4305-af23-e36cd66d05e7\",\"type\":\"SaveTool\"},{\"attributes\":{\"fill_color\":{\"value\":\"#1f77b4\"},\"line_color\":{\"value\":\"#1f77b4\"},\"x\":{\"field\":\"x\"},\"y\":{\"field\":\"y\"}},\"id\":\"3eacb82d-5936-4dc0-8a1b-2843ff0e6186\",\"type\":\"Circle\"},{\"attributes\":{\"callback\":null},\"id\":\"16d311ed-a65d-4105-a086-5753c37b2dfb\",\"type\":\"DataRange1d\"},{\"attributes\":{},\"id\":\"350d9108-21fe-44f1-8b77-08c15d871b75\",\"type\":\"LinearScale\"},{\"attributes\":{\"data_source\":{\"id\":\"1ecd0218-c400-485a-a2c7-3b7a88c89f6f\",\"type\":\"ColumnDataSource\"},\"glyph\":{\"id\":\"3eacb82d-5936-4dc0-8a1b-2843ff0e6186\",\"type\":\"Circle\"},\"hover_glyph\":null,\"muted_glyph\":null,\"nonselection_glyph\":{\"id\":\"4d6facd6-3087-4bb0-b289-4882c40e2a79\",\"type\":\"Circle\"},\"selection_glyph\":null,\"view\":{\"id\":\"a1dcd16e-0257-4a16-95c8-6d3721c3c6b2\",\"type\":\"CDSView\"}},\"id\":\"b70d4455-f3bc-43c2-96f0-c79b082b1e3a\",\"type\":\"GlyphRenderer\"},{\"attributes\":{\"callback\":null},\"id\":\"60ebfe6b-515d-451b-b78f-0747eef3ddc4\",\"type\":\"DataRange1d\"},{\"attributes\":{},\"id\":\"0716b9aa-7fdf-4840-8783-1ef609624ea1\",\"type\":\"Selection\"},{\"attributes\":{},\"id\":\"684f2a01-8c10-4f64-a96b-067eea81ce0a\",\"type\":\"HelpTool\"},{\"attributes\":{},\"id\":\"3e1d4086-98bb-4d7a-be2f-adacfe2410a3\",\"type\":\"UnionRenderers\"},{\"attributes\":{\"axis_label\":\"ZN\",\"formatter\":{\"id\":\"9e907182-0a1f-4e22-a760-11928f06ba64\",\"type\":\"BasicTickFormatter\"},\"plot\":{\"id\":\"30bcad57-e777-46ff-b525-182615e57e04\",\"subtype\":\"Figure\",\"type\":\"Plot\"},\"ticker\":{\"id\":\"f3e9a523-17bb-4bda-96af-d2c43d80f91c\",\"type\":\"BasicTicker\"}},\"id\":\"fecb5bbb-64db-4974-a506-0fb21449412d\",\"type\":\"LinearAxis\"},{\"attributes\":{},\"id\":\"89bdf985-dd11-4702-a360-59d15909a593\",\"type\":\"BasicTickFormatter\"},{\"attributes\":{\"fill_alpha\":{\"value\":0.1},\"fill_color\":{\"value\":\"#1f77b4\"},\"line_alpha\":{\"value\":0.1},\"line_color\":{\"value\":\"#1f77b4\"},\"x\":{\"field\":\"x\"},\"y\":{\"field\":\"y\"}},\"id\":\"ea17247d-d759-40f5-b58c-e4e2807fbfb5\",\"type\":\"Circle\"},{\"attributes\":{\"fill_alpha\":{\"value\":0.1},\"fill_color\":{\"value\":\"#1f77b4\"},\"line_alpha\":{\"value\":0.1},\"line_color\":{\"value\":\"#1f77b4\"},\"x\":{\"field\":\"x\"},\"y\":{\"field\":\"y\"}},\"id\":\"4d6facd6-3087-4bb0-b289-4882c40e2a79\",\"type\":\"Circle\"},{\"attributes\":{\"plot\":{\"id\":\"30bcad57-e777-46ff-b525-182615e57e04\",\"subtype\":\"Figure\",\"type\":\"Plot\"},\"ticker\":{\"id\":\"f3e9a523-17bb-4bda-96af-d2c43d80f91c\",\"type\":\"BasicTicker\"}},\"id\":\"89516670-e6a6-4326-92b1-9b27c097069e\",\"type\":\"Grid\"},{\"attributes\":{\"callback\":null,\"data\":{\"x\":{\"__ndarray__\":\"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\",\"dtype\":\"float64\",\"shape\":[506]},\"y\":{\"__ndarray__\":\"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\",\"dtype\":\"float64\",\"shape\":[506]}},\"selected\":{\"id\":\"43ac4a0c-976f-48d8-a625-5617bf30a0ad\",\"type\":\"Selection\"},\"selection_policy\":{\"id\":\"61810d7e-fc6f-462c-b1f2-1281c0c27073\",\"type\":\"UnionRenderers\"}},\"id\":\"2f7eaeba-3462-481c-a69d-d56d10042089\",\"type\":\"ColumnDataSource\"},{\"attributes\":{\"bottom_units\":\"screen\",\"fill_alpha\":{\"value\":0.5},\"fill_color\":{\"value\":\"lightgrey\"},\"left_units\":\"screen\",\"level\":\"overlay\",\"line_alpha\":{\"value\":1.0},\"line_color\":{\"value\":\"black\"},\"line_dash\":[4,4],\"line_width\":{\"value\":2},\"plot\":null,\"render_mode\":\"css\",\"right_units\":\"screen\",\"top_units\":\"screen\"},\"id\":\"c976f9a6-6405-4d31-969b-23a02ff02330\",\"type\":\"BoxAnnotation\"},{\"attributes\":{\"callback\":null,\"data\":{\"x\":{\"__ndarray__\":\"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\",\"dtype\":\"float64\",\"shape\":[506]},\"y\":{\"__ndarray__\":\"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\",\"dtype\":\"float64\",\"shape\":[506]}},\"selected\":{\"id\":\"0716b9aa-7fdf-4840-8783-1ef609624ea1\",\"type\":\"Selection\"},\"selection_policy\":{\"id\":\"3e1d4086-98bb-4d7a-be2f-adacfe2410a3\",\"type\":\"UnionRenderers\"}},\"id\":\"dd7c842f-4e37-4b9f-907c-381df010dbb0\",\"type\":\"ColumnDataSource\"},{\"attributes\":{\"fill_color\":{\"value\":\"#1f77b4\"},\"line_color\":{\"value\":\"#1f77b4\"},\"x\":{\"field\":\"x\"},\"y\":{\"field\":\"y\"}},\"id\":\"0d97ac93-ac31-48ed-a5be-de558d62184c\",\"type\":\"Circle\"},{\"attributes\":{\"axis_label\":\"Price in $1000s\",\"formatter\":{\"id\":\"5b3c8f26-c707-4451-be56-0334329d2951\",\"type\":\"BasicTickFormatter\"},\"plot\":{\"id\":\"30bcad57-e777-46ff-b525-182615e57e04\",\"subtype\":\"Figure\",\"type\":\"Plot\"},\"ticker\":{\"id\":\"79046315-75ba-4f7d-bd95-88d8f36f335a\",\"type\":\"BasicTicker\"}},\"id\":\"3f616589-8b7d-4d7c-ae81-e6b15e7a8f3e\",\"type\":\"LinearAxis\"},{\"attributes\":{\"data_source\":{\"id\":\"dd7c842f-4e37-4b9f-907c-381df010dbb0\",\"type\":\"ColumnDataSource\"},\"glyph\":{\"id\":\"0d97ac93-ac31-48ed-a5be-de558d62184c\",\"type\":\"Circle\"},\"hover_glyph\":null,\"muted_glyph\":null,\"nonselection_glyph\":{\"id\":\"cffb584f-48a8-4e00-968e-2547deb0b6a2\",\"type\":\"Circle\"},\"selection_glyph\":null,\"view\":{\"id\":\"18435f70-25e3-44f2-9e3b-72fd5bb7b81c\",\"type\":\"CDSView\"}},\"id\":\"c0c03f2d-7290-4070-8f40-a58bcf3984fc\",\"type\":\"GlyphRenderer\"},{\"attributes\":{\"below\":[{\"id\":\"b96e967d-f7b2-4af9-b6cd-13ff69e638d9\",\"type\":\"LinearAxis\"}],\"left\":[{\"id\":\"6fcecbbd-ecbb-4e46-a564-3417129cba52\",\"type\":\"LinearAxis\"}],\"plot_height\":250,\"plot_width\":400,\"renderers\":[{\"id\":\"b96e967d-f7b2-4af9-b6cd-13ff69e638d9\",\"type\":\"LinearAxis\"},{\"id\":\"0388f880-3094-4a77-b2fb-94fbcd6ab964\",\"type\":\"Grid\"},{\"id\":\"6fcecbbd-ecbb-4e46-a564-3417129cba52\",\"type\":\"LinearAxis\"},{\"id\":\"903a282b-39e0-4462-a488-ac7a69efe633\",\"type\":\"Grid\"},{\"id\":\"adc23127-4a72-49f9-9151-cd8ab35c04c4\",\"type\":\"BoxAnnotation\"},{\"id\":\"c0c03f2d-7290-4070-8f40-a58bcf3984fc\",\"type\":\"GlyphRenderer\"}],\"title\":{\"id\":\"78f53d40-1c16-42f0-99de-d7a8ee98f048\",\"type\":\"Title\"},\"toolbar\":{\"id\":\"80bc5859-62e5-49b5-a7c3-6486dcc5108e\",\"type\":\"Toolbar\"},\"toolbar_location\":null,\"x_range\":{\"id\":\"9c30dda4-9975-47f7-ba0c-4b36d554227f\",\"type\":\"DataRange1d\"},\"x_scale\":{\"id\":\"773364d8-cf39-415a-beac-25e01001e565\",\"type\":\"LinearScale\"},\"y_range\":{\"id\":\"14fd7764-081f-44f6-a5f2-e75e6064bc87\",\"type\":\"DataRange1d\"},\"y_scale\":{\"id\":\"9e492e47-1541-43d2-a1d2-da0f9db99aa1\",\"type\":\"LinearScale\"}},\"id\":\"4600c072-3fb6-4643-bd18-83ee6fc335a8\",\"subtype\":\"Figure\",\"type\":\"Plot\"},{\"attributes\":{},\"id\":\"b81160a9-0567-45b8-b4df-635a8cb866df\",\"type\":\"UnionRenderers\"},{\"attributes\":{\"dimension\":1,\"plot\":{\"id\":\"30bcad57-e777-46ff-b525-182615e57e04\",\"subtype\":\"Figure\",\"type\":\"Plot\"},\"ticker\":{\"id\":\"79046315-75ba-4f7d-bd95-88d8f36f335a\",\"type\":\"BasicTicker\"}},\"id\":\"ea68c0cc-6f3d-4378-8936-b3780e991c80\",\"type\":\"Grid\"},{\"attributes\":{\"fill_alpha\":{\"value\":0.1},\"fill_color\":{\"value\":\"#1f77b4\"},\"line_alpha\":{\"value\":0.1},\"line_color\":{\"value\":\"#1f77b4\"},\"x\":{\"field\":\"x\"},\"y\":{\"field\":\"y\"}},\"id\":\"cffb584f-48a8-4e00-968e-2547deb0b6a2\",\"type\":\"Circle\"},{\"attributes\":{\"active_drag\":\"auto\",\"active_inspect\":\"auto\",\"active_scroll\":\"auto\",\"active_tap\":\"auto\",\"tools\":[{\"id\":\"d7389ea1-ff74-4733-892f-b0e695b56f5b\",\"type\":\"PanTool\"},{\"id\":\"80a53654-8b16-4800-9307-5daeb6751a1c\",\"type\":\"WheelZoomTool\"},{\"id\":\"8ec9923c-fa64-491a-b092-321a7777439e\",\"type\":\"BoxZoomTool\"},{\"id\":\"655690da-5084-4568-bc28-2b78d16644f3\",\"type\":\"SaveTool\"},{\"id\":\"05dc6fab-7846-4f85-a2dc-a63dbca11a6a\",\"type\":\"ResetTool\"},{\"id\":\"781c19df-4e27-4255-b91a-cefebabc5b8f\",\"type\":\"HelpTool\"}]},\"id\":\"833a54b4-4343-4783-8512-8a0d2e896697\",\"type\":\"Toolbar\"},{\"attributes\":{\"source\":{\"id\":\"dd7c842f-4e37-4b9f-907c-381df010dbb0\",\"type\":\"ColumnDataSource\"}},\"id\":\"18435f70-25e3-44f2-9e3b-72fd5bb7b81c\",\"type\":\"CDSView\"},{\"attributes\":{},\"id\":\"79046315-75ba-4f7d-bd95-88d8f36f335a\",\"type\":\"BasicTicker\"},{\"attributes\":{\"fill_color\":{\"value\":\"#1f77b4\"},\"line_color\":{\"value\":\"#1f77b4\"},\"x\":{\"field\":\"x\"},\"y\":{\"field\":\"y\"}},\"id\":\"0fb8f74e-f494-4edf-a609-207ea9be8769\",\"type\":\"Circle\"},{\"attributes\":{\"below\":[{\"id\":\"47fa91a1-b961-41d1-b18c-49a12605983a\",\"type\":\"LinearAxis\"}],\"left\":[{\"id\":\"1d2f866b-c7a4-42b8-baf3-d98148d9a921\",\"type\":\"LinearAxis\"}],\"plot_height\":250,\"plot_width\":400,\"renderers\":[{\"id\":\"47fa91a1-b961-41d1-b18c-49a12605983a\",\"type\":\"LinearAxis\"},{\"id\":\"28460c64-75a5-4dec-a6ca-a30ff58d4389\",\"type\":\"Grid\"},{\"id\":\"1d2f866b-c7a4-42b8-baf3-d98148d9a921\",\"type\":\"LinearAxis\"},{\"id\":\"a0d3ee36-1de9-428f-9ad6-0685c51dc0bd\",\"type\":\"Grid\"},{\"id\":\"d91afd34-f512-41d7-b8aa-ce26cc51b548\",\"type\":\"BoxAnnotation\"},{\"id\":\"d8676abb-3489-4ab7-b0f2-8210b7426f83\",\"type\":\"GlyphRenderer\"}],\"title\":{\"id\":\"070e88e6-e9af-41cf-9e14-25e95560a437\",\"type\":\"Title\"},\"toolbar\":{\"id\":\"833a54b4-4343-4783-8512-8a0d2e896697\",\"type\":\"Toolbar\"},\"toolbar_location\":null,\"x_range\":{\"id\":\"16d311ed-a65d-4105-a086-5753c37b2dfb\",\"type\":\"DataRange1d\"},\"x_scale\":{\"id\":\"fbe44e4b-a2e9-427c-80f3-6f8e7d85f6f7\",\"type\":\"LinearScale\"},\"y_range\":{\"id\":\"ef588164-2fa1-464f-9b62-bbba7fee4681\",\"type\":\"DataRange1d\"},\"y_scale\":{\"id\":\"6c630e02-7cf9-47a5-bfe5-daa4efeab4ef\",\"type\":\"LinearScale\"}},\"id\":\"7c22f432-1fac-4c10-91ac-1677246a41d0\",\"subtype\":\"Figure\",\"type\":\"Plot\"},{\"attributes\":{},\"id\":\"6c630e02-7cf9-47a5-bfe5-daa4efeab4ef\",\"type\":\"LinearScale\"},{\"attributes\":{\"data_source\":{\"id\":\"2f7eaeba-3462-481c-a69d-d56d10042089\",\"type\":\"ColumnDataSource\"},\"glyph\":{\"id\":\"0fb8f74e-f494-4edf-a609-207ea9be8769\",\"type\":\"Circle\"},\"hover_glyph\":null,\"muted_glyph\":null,\"nonselection_glyph\":{\"id\":\"376f1853-820a-4f03-aee1-277bdc7118ef\",\"type\":\"Circle\"},\"selection_glyph\":null,\"view\":{\"id\":\"87e27e47-2eae-4e6f-a067-a14e919d19d5\",\"type\":\"CDSView\"}},\"id\":\"3a9305db-af07-46b5-b392-ca6ebbdaf1c7\",\"type\":\"GlyphRenderer\"},{\"attributes\":{},\"id\":\"0d4793a9-6cd2-48b3-9d59-5e90c9b9f6e7\",\"type\":\"UnionRenderers\"},{\"attributes\":{\"axis_label\":\"INDUS\",\"formatter\":{\"id\":\"a175f1c5-6fdd-4065-b623-5fde23f01594\",\"type\":\"BasicTickFormatter\"},\"plot\":{\"id\":\"7c22f432-1fac-4c10-91ac-1677246a41d0\",\"subtype\":\"Figure\",\"type\":\"Plot\"},\"ticker\":{\"id\":\"bc7555ee-01ae-4e44-b6ee-1d826df57092\",\"type\":\"BasicTicker\"}},\"id\":\"47fa91a1-b961-41d1-b18c-49a12605983a\",\"type\":\"LinearAxis\"},{\"attributes\":{\"fill_alpha\":{\"value\":0.1},\"fill_color\":{\"value\":\"#1f77b4\"},\"line_alpha\":{\"value\":0.1},\"line_color\":{\"value\":\"#1f77b4\"},\"x\":{\"field\":\"x\"},\"y\":{\"field\":\"y\"}},\"id\":\"376f1853-820a-4f03-aee1-277bdc7118ef\",\"type\":\"Circle\"},{\"attributes\":{\"below\":[{\"id\":\"82d6f7b3-a2df-4a20-a6f7-11323fe968e9\",\"type\":\"LinearAxis\"}],\"left\":[{\"id\":\"746632f8-715e-4d89-8f67-ef7e2f1ca33e\",\"type\":\"LinearAxis\"}],\"plot_height\":250,\"plot_width\":400,\"renderers\":[{\"id\":\"82d6f7b3-a2df-4a20-a6f7-11323fe968e9\",\"type\":\"LinearAxis\"},{\"id\":\"82584f14-9e9a-4a66-a345-4ff5a576bc3e\",\"type\":\"Grid\"},{\"id\":\"746632f8-715e-4d89-8f67-ef7e2f1ca33e\",\"type\":\"LinearAxis\"},{\"id\":\"0e57c9f7-374f-4557-8a2c-d911b4190da5\",\"type\":\"Grid\"},{\"id\":\"22a227b7-3e4a-4310-84ed-b44672bcacfd\",\"type\":\"BoxAnnotation\"},{\"id\":\"b70d4455-f3bc-43c2-96f0-c79b082b1e3a\",\"type\":\"GlyphRenderer\"}],\"title\":{\"id\":\"21aa71d3-2ea5-4eb3-b4f0-628fa4a81435\",\"type\":\"Title\"},\"toolbar\":{\"id\":\"224a094b-3ca6-4649-990c-81e0911e2db7\",\"type\":\"Toolbar\"},\"toolbar_location\":null,\"x_range\":{\"id\":\"e45f3977-6d7f-4e19-a685-b2e27b3e54d9\",\"type\":\"DataRange1d\"},\"x_scale\":{\"id\":\"b7739563-74fd-498d-9e8a-c2873c5db1f4\",\"type\":\"LinearScale\"},\"y_range\":{\"id\":\"cd2a0365-ab22-4e76-8e42-29734b82b7b9\",\"type\":\"DataRange1d\"},\"y_scale\":{\"id\":\"91955cbc-f87f-4b8c-a132-23641ad8b2dd\",\"type\":\"LinearScale\"}},\"id\":\"582f66ae-be90-4923-8fcb-d050216a4a39\",\"subtype\":\"Figure\",\"type\":\"Plot\"},{\"attributes\":{\"source\":{\"id\":\"2f7eaeba-3462-481c-a69d-d56d10042089\",\"type\":\"ColumnDataSource\"}},\"id\":\"87e27e47-2eae-4e6f-a067-a14e919d19d5\",\"type\":\"CDSView\"},{\"attributes\":{\"bottom_units\":\"screen\",\"fill_alpha\":{\"value\":0.5},\"fill_color\":{\"value\":\"lightgrey\"},\"left_units\":\"screen\",\"level\":\"overlay\",\"line_alpha\":{\"value\":1.0},\"line_color\":{\"value\":\"black\"},\"line_dash\":[4,4],\"line_width\":{\"value\":2},\"plot\":null,\"render_mode\":\"css\",\"right_units\":\"screen\",\"top_units\":\"screen\"},\"id\":\"8306a7cd-eda2-422f-a8ca-3c54a3be0c17\",\"type\":\"BoxAnnotation\"},{\"attributes\":{},\"id\":\"9b823b82-b42b-4110-9a94-57c1a59613cf\",\"type\":\"UnionRenderers\"},{\"attributes\":{\"plot\":null,\"text\":\"\"},\"id\":\"070e88e6-e9af-41cf-9e14-25e95560a437\",\"type\":\"Title\"},{\"attributes\":{},\"id\":\"bc7555ee-01ae-4e44-b6ee-1d826df57092\",\"type\":\"BasicTicker\"},{\"attributes\":{},\"id\":\"a16dfff6-fa9b-47e2-80e5-2eb00e03bd26\",\"type\":\"BasicTickFormatter\"},{\"attributes\":{},\"id\":\"b8998f91-d48f-411f-b1fe-09d52a99e0ce\",\"type\":\"HelpTool\"},{\"attributes\":{},\"id\":\"89ef1d23-a64f-4370-adc0-6e9e3700a43f\",\"type\":\"UnionRenderers\"},{\"attributes\":{},\"id\":\"c5ded7b6-b33d-4f3f-84b2-099cd9c646e4\",\"type\":\"WheelZoomTool\"},{\"attributes\":{},\"id\":\"ef88445e-ab8e-4880-9213-0b3533bf7542\",\"type\":\"BasicTickFormatter\"},{\"attributes\":{\"dimension\":1,\"plot\":{\"id\":\"7c22f432-1fac-4c10-91ac-1677246a41d0\",\"subtype\":\"Figure\",\"type\":\"Plot\"},\"ticker\":{\"id\":\"d24c6b7e-079a-4c81-882e-ce4ab31a28d7\",\"type\":\"BasicTicker\"}},\"id\":\"a0d3ee36-1de9-428f-9ad6-0685c51dc0bd\",\"type\":\"Grid\"},{\"attributes\":{},\"id\":\"9e907182-0a1f-4e22-a760-11928f06ba64\",\"type\":\"BasicTickFormatter\"},{\"attributes\":{\"callback\":null},\"id\":\"ef588164-2fa1-464f-9b62-bbba7fee4681\",\"type\":\"DataRange1d\"},{\"attributes\":{},\"id\":\"bdae80fc-808e-44be-93a3-5850b6ac84be\",\"type\":\"Selection\"},{\"attributes\":{\"plot\":null,\"text\":\"\"},\"id\":\"78f53d40-1c16-42f0-99de-d7a8ee98f048\",\"type\":\"Title\"},{\"attributes\":{},\"id\":\"f1099c1e-b07a-43f2-a855-04bf3b3bf99d\",\"type\":\"ResetTool\"},{\"attributes\":{\"plot\":null,\"text\":\"\"},\"id\":\"460a4fd8-9285-456d-b234-43c9989f1837\",\"type\":\"Title\"},{\"attributes\":{},\"id\":\"3d448c54-4b34-40bb-8496-759b4467befa\",\"type\":\"SaveTool\"},{\"attributes\":{},\"id\":\"b3131a1e-eaee-4424-b021-0fb596d1fdf7\",\"type\":\"BasicTickFormatter\"},{\"attributes\":{\"overlay\":{\"id\":\"8306a7cd-eda2-422f-a8ca-3c54a3be0c17\",\"type\":\"BoxAnnotation\"}},\"id\":\"8f34aaec-3420-42aa-8654-ca1024526241\",\"type\":\"BoxZoomTool\"},{\"attributes\":{\"axis_label\":\"Price in $1000s\",\"formatter\":{\"id\":\"ef88445e-ab8e-4880-9213-0b3533bf7542\",\"type\":\"BasicTickFormatter\"},\"plot\":{\"id\":\"7c22f432-1fac-4c10-91ac-1677246a41d0\",\"subtype\":\"Figure\",\"type\":\"Plot\"},\"ticker\":{\"id\":\"d24c6b7e-079a-4c81-882e-ce4ab31a28d7\",\"type\":\"BasicTicker\"}},\"id\":\"1d2f866b-c7a4-42b8-baf3-d98148d9a921\",\"type\":\"LinearAxis\"},{\"attributes\":{},\"id\":\"a175f1c5-6fdd-4065-b623-5fde23f01594\",\"type\":\"BasicTickFormatter\"},{\"attributes\":{},\"id\":\"cd7b84d3-cc25-4df3-b6ea-b924e7a0b49f\",\"type\":\"PanTool\"},{\"attributes\":{},\"id\":\"628c3a64-6b62-43ca-9722-1b19bc22afdd\",\"type\":\"BasicTickFormatter\"},{\"attributes\":{},\"id\":\"fbe44e4b-a2e9-427c-80f3-6f8e7d85f6f7\",\"type\":\"LinearScale\"},{\"attributes\":{},\"id\":\"4fd0d1cb-5940-48c0-a50b-baf694dc3f24\",\"type\":\"Selection\"},{\"attributes\":{},\"id\":\"53155845-2aac-42b5-bc14-0c617b990cfd\",\"type\":\"Selection\"},{\"attributes\":{},\"id\":\"5b3c8f26-c707-4451-be56-0334329d2951\",\"type\":\"BasicTickFormatter\"},{\"attributes\":{\"fill_color\":{\"value\":\"#1f77b4\"},\"line_color\":{\"value\":\"#1f77b4\"},\"x\":{\"field\":\"x\"},\"y\":{\"field\":\"y\"}},\"id\":\"e5ca546c-3a65-4f84-80b1-abe85b63c8dd\",\"type\":\"Circle\"},{\"attributes\":{},\"id\":\"581e8534-449c-48e0-beea-b6aa6589fd59\",\"type\":\"BasicTickFormatter\"},{\"attributes\":{\"children\":[{\"id\":\"6b5aa5b9-bbf9-43a7-a02c-2e3bd44c40c1\",\"type\":\"Row\"},{\"id\":\"bdfb1351-ccf8-4e8d-a53e-fcb8ece34a3b\",\"type\":\"Row\"},{\"id\":\"adb638fb-c991-48e0-bab6-0c777c2eeec4\",\"type\":\"Row\"}]},\"id\":\"086eeac3-a54c-47e8-8eea-d6b64e2ce1b4\",\"type\":\"Column\"},{\"attributes\":{\"plot\":null,\"text\":\"\"},\"id\":\"21aa71d3-2ea5-4eb3-b4f0-628fa4a81435\",\"type\":\"Title\"},{\"attributes\":{},\"id\":\"b6a75844-5f0e-4eec-b7e1-f8cfe3069d60\",\"type\":\"BasicTickFormatter\"}],\"root_ids\":[\"086eeac3-a54c-47e8-8eea-d6b64e2ce1b4\"]},\"title\":\"Bokeh Application\",\"version\":\"0.12.16\"}};\n",
       "  var render_items = [{\"docid\":\"3bc01bc5-fe4c-409b-ab25-637a7b056321\",\"elementid\":\"cf3895e6-541b-4b64-8605-3b4f357e921a\",\"modelid\":\"086eeac3-a54c-47e8-8eea-d6b64e2ce1b4\"}];\n",
       "  root.Bokeh.embed.embed_items_notebook(docs_json, render_items);\n",
       "\n",
       "  }\n",
       "  if (root.Bokeh !== undefined) {\n",
       "    embed_document(root);\n",
       "  } else {\n",
       "    var attempts = 0;\n",
       "    var timer = setInterval(function(root) {\n",
       "      if (root.Bokeh !== undefined) {\n",
       "        embed_document(root);\n",
       "        clearInterval(timer);\n",
       "      }\n",
       "      attempts++;\n",
       "      if (attempts > 100) {\n",
       "        console.log(\"Bokeh: ERROR: Unable to run BokehJS code because BokehJS library is missing\")\n",
       "        clearInterval(timer);\n",
       "      }\n",
       "    }, 10, root)\n",
       "  }\n",
       "})(window);"
      ],
      "application/vnd.bokehjs_exec.v0+json": ""
     },
     "metadata": {
      "application/vnd.bokehjs_exec.v0+json": {
       "id": "086eeac3-a54c-47e8-8eea-d6b64e2ce1b4"
      }
     },
     "output_type": "display_data"
    }
   ],
   "source": [
    "# You can see what these names mean in the description that we printed at the start\n",
    "print(boston.feature_names[:6])\n",
    "\n",
    "figures = [figure() for _ in range(6)]\n",
    "for index, fig in enumerate(figures):\n",
    "    # Create a scatter-plot\n",
    "    fig.scatter(boston_df[boston.feature_names[index]], boston_df[\"Price\"])\n",
    "    \n",
    "    ## Add some axis information\n",
    "    fig.xaxis.axis_label = boston.feature_names[index]\n",
    "    fig.yaxis.axis_label = \"Price in $1000s\"\n",
    "\n",
    "    \n",
    "show(gridplot(figures, ncols=2, plot_width=400, plot_height=250, toolbar_location=None))"
   ]
  },
  {
   "cell_type": "markdown",
   "metadata": {},
   "source": [
    "So out of the plotted variables RM looks quite promising to perhaps be fitted by a linear function. So let's go with that one for now for our linear regression example.\n",
    "\n",
    "For the sake of this initial example, I will first plot the fitted line using a simple univariate linear regression using Numpy, to explain the theorie. Afterwards we will run through multivariate regression using scikit-learn."
   ]
  },
  {
   "cell_type": "markdown",
   "metadata": {},
   "source": [
    "### Univariate Linear Regression (Using Numpy)\n",
    "\n",
    "Numpy requires us to create two (N, 1) shaped arrays, that will act as the X and Y values. Where X represents the attribute (feature) and the Y represents the target. There are a few ways to do this, but an easy way to do this is by using numpy's built-in vertical stack tool, vstack.\n"
   ]
  },
  {
   "cell_type": "code",
   "execution_count": 49,
   "metadata": {},
   "outputs": [],
   "source": [
    "# Set up X as median room values and use Use vstack to make X two-dimensional\n",
    "# Remember that X normally is (N,) instead of (N,1).\n",
    "X = np.vstack(boston_df.RM)\n",
    "\n",
    "# Set up Y as the target price of the houses.\n",
    "Y = boston_df.Price\n",
    "\n",
    "# print(Y)"
   ]
  },
  {
   "cell_type": "markdown",
   "metadata": {},
   "source": [
    "Now that we have our X and Y, let's go ahead and use numpy to create the single variable linear regression.\n",
    "\n",
    "We know that a line has the equation:\n",
    "$$y=ax+b$$\n",
    "which we can rewrite using matrices:\n",
    "$$y=Mp$$\n",
    "where:\n",
    "$$M = \\begin{bmatrix}x & 1\\end{bmatrix}$$\n",
    "and\n",
    "$$p= \\begin{bmatrix}a \\\\b\\end{bmatrix}$$\n",
    "\n",
    "This is the same as the first equation if you carry out the linear algebra. \n",
    "So we'll start by creating the M matrix using numpy. We'll do this by creating a matrix in the form [X 1], so we'll call every value in our original X using a list comprehension and then set up an array in the form [X 1]\n",
    "\n",
    "Side Note: In most literature the variables $y$, $a$, and $b$ are referred to differently, to make them more generalizable, namely $h(x)$ (derived from the word hypothesis), $\\theta_1$, and $\\theta_0$ respectively. We will keep them as $y$, $a$, and $b$ for the univariate example, as this notation is most hopefully more familiar/intuitive to you."
   ]
  },
  {
   "cell_type": "code",
   "execution_count": 54,
   "metadata": {},
   "outputs": [
    {
     "name": "stdout",
     "output_type": "stream",
     "text": [
      "9.102108981180313 -34.670620776438575\n"
     ]
    },
    {
     "name": "stderr",
     "output_type": "stream",
     "text": [
      "c:\\users\\boble\\appdata\\local\\programs\\python\\python36-32\\lib\\site-packages\\ipykernel_launcher.py:6: FutureWarning: `rcond` parameter will change to the default of machine precision times ``max(M, N)`` where M and N are the input matrix dimensions.\n",
      "To use the future default and silence this warning we advise to pass `rcond=None`, to keep using the old, explicitly pass `rcond=-1`.\n",
      "  \n"
     ]
    }
   ],
   "source": [
    "# Creating [X 1] (remember the useful np.ones function from the first notebook?)\n",
    "X = np.vstack(boston_df.RM)\n",
    "X = np.column_stack((X, np.ones(X.shape[0])))\n",
    "\n",
    "# Now get out m and b values for our best fit line\n",
    "a, b = np.linalg.lstsq(X, Y)[0]\n",
    "print(a, b)\n",
    "\n",
    "# print(X)\n",
    "# print(Y)"
   ]
  },
  {
   "cell_type": "markdown",
   "metadata": {},
   "source": [
    "We now have all the ingredients to plot a line using:\n",
    "$$y = ax + b$$"
   ]
  },
  {
   "cell_type": "code",
   "execution_count": 15,
   "metadata": {},
   "outputs": [
    {
     "data": {
      "text/html": [
       "\n",
       "<div class=\"bk-root\">\n",
       "    <div class=\"bk-plotdiv\" id=\"3c714569-1d92-4a3b-8614-286c4f29aaad\"></div>\n",
       "</div>"
      ]
     },
     "metadata": {},
     "output_type": "display_data"
    },
    {
     "data": {
      "application/javascript": [
       "(function(root) {\n",
       "  function embed_document(root) {\n",
       "    \n",
       "  var docs_json = {\"5139fa55-e764-466d-98b8-4e16268a100d\":{\"roots\":{\"references\":[{\"attributes\":{\"fill_color\":{\"value\":\"#1f77b4\"},\"line_color\":{\"value\":\"#1f77b4\"},\"x\":{\"field\":\"x\"},\"y\":{\"field\":\"y\"}},\"id\":\"4deaa709-4cf3-4369-ac1e-243689f8c077\",\"type\":\"Circle\"},{\"attributes\":{\"below\":[{\"id\":\"e6a88367-3b83-47cd-89af-3f6461ab9a1f\",\"type\":\"LinearAxis\"}],\"left\":[{\"id\":\"61bf5ee9-cae0-420d-8d7d-6ddf4b134b90\",\"type\":\"LinearAxis\"}],\"plot_height\":250,\"plot_width\":400,\"renderers\":[{\"id\":\"e6a88367-3b83-47cd-89af-3f6461ab9a1f\",\"type\":\"LinearAxis\"},{\"id\":\"df179a23-ec18-4ce7-a1b6-ea13af6f46cf\",\"type\":\"Grid\"},{\"id\":\"61bf5ee9-cae0-420d-8d7d-6ddf4b134b90\",\"type\":\"LinearAxis\"},{\"id\":\"d9b9731f-3bcd-4817-9c71-0c19cc81cd57\",\"type\":\"Grid\"},{\"id\":\"76cae764-7d36-448e-9e3c-4fd7963fc3b6\",\"type\":\"BoxAnnotation\"},{\"id\":\"2b26539e-8c74-4395-9295-2df3faac6637\",\"type\":\"GlyphRenderer\"},{\"id\":\"760837da-f6c5-472c-b141-9eaf3fb8f8e1\",\"type\":\"GlyphRenderer\"}],\"title\":{\"id\":\"4572b9dc-e879-4f73-b300-e60cf5faacf2\",\"type\":\"Title\"},\"toolbar\":{\"id\":\"7e8e0234-ff96-4d42-b285-51c9f88a4c80\",\"type\":\"Toolbar\"},\"x_range\":{\"id\":\"8f9f9229-dc73-4c22-bf7c-8630bc5b2dfc\",\"type\":\"DataRange1d\"},\"x_scale\":{\"id\":\"296839bb-067a-47c6-b0f1-91d170175a03\",\"type\":\"LinearScale\"},\"y_range\":{\"id\":\"010bb93a-40b5-4be4-a61a-5bcb7059df87\",\"type\":\"DataRange1d\"},\"y_scale\":{\"id\":\"c5a03ab2-961e-4076-93f7-075e3180b721\",\"type\":\"LinearScale\"}},\"id\":\"68bfa75f-7094-4193-adfa-77865cbefc06\",\"subtype\":\"Figure\",\"type\":\"Plot\"},{\"attributes\":{\"callback\":null,\"data\":{\"x\":{\"__ndarray__\":\"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\",\"dtype\":\"float64\",\"shape\":[506]},\"y\":{\"__ndarray__\":\"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\",\"dtype\":\"float64\",\"shape\":[506]}},\"selected\":{\"id\":\"3b550017-4aeb-405c-adc2-439d2728f804\",\"type\":\"Selection\"},\"selection_policy\":{\"id\":\"188f3b25-27cf-411f-bc90-084a241a4e99\",\"type\":\"UnionRenderers\"}},\"id\":\"32953a29-86b3-431c-ae30-e79846e068a2\",\"type\":\"ColumnDataSource\"},{\"attributes\":{\"active_drag\":\"auto\",\"active_inspect\":\"auto\",\"active_scroll\":\"auto\",\"active_tap\":\"auto\",\"tools\":[{\"id\":\"37292375-4ffb-47c2-bf5c-7f367c3ae56e\",\"type\":\"PanTool\"},{\"id\":\"48e27700-ee63-4687-9517-75db12740231\",\"type\":\"WheelZoomTool\"},{\"id\":\"c20c6f48-ae6a-41b8-971c-ad08c49957f0\",\"type\":\"BoxZoomTool\"},{\"id\":\"2ee6845c-89fb-4a53-bf5f-ab5fe42c493d\",\"type\":\"SaveTool\"},{\"id\":\"cf943d59-8d94-4ba1-ade5-b44046ea609f\",\"type\":\"ResetTool\"},{\"id\":\"e41e1e16-bc0e-459d-80bb-811b283a1b9a\",\"type\":\"HelpTool\"}]},\"id\":\"7e8e0234-ff96-4d42-b285-51c9f88a4c80\",\"type\":\"Toolbar\"},{\"attributes\":{\"callback\":null},\"id\":\"8f9f9229-dc73-4c22-bf7c-8630bc5b2dfc\",\"type\":\"DataRange1d\"},{\"attributes\":{\"callback\":null},\"id\":\"010bb93a-40b5-4be4-a61a-5bcb7059df87\",\"type\":\"DataRange1d\"},{\"attributes\":{\"plot\":{\"id\":\"68bfa75f-7094-4193-adfa-77865cbefc06\",\"subtype\":\"Figure\",\"type\":\"Plot\"},\"ticker\":{\"id\":\"ff54d8d4-24c8-4f62-8729-8ef2eacf98ff\",\"type\":\"BasicTicker\"}},\"id\":\"df179a23-ec18-4ce7-a1b6-ea13af6f46cf\",\"type\":\"Grid\"},{\"attributes\":{},\"id\":\"c5a03ab2-961e-4076-93f7-075e3180b721\",\"type\":\"LinearScale\"},{\"attributes\":{\"line_color\":\"red\",\"x\":{\"field\":\"x\"},\"y\":{\"field\":\"y\"}},\"id\":\"90724d0a-13fb-4362-a3b5-47218401958e\",\"type\":\"Line\"},{\"attributes\":{},\"id\":\"ff54d8d4-24c8-4f62-8729-8ef2eacf98ff\",\"type\":\"BasicTicker\"},{\"attributes\":{\"axis_label\":\"RM\",\"formatter\":{\"id\":\"978c7630-550c-4984-a318-d38a6f71228b\",\"type\":\"BasicTickFormatter\"},\"plot\":{\"id\":\"68bfa75f-7094-4193-adfa-77865cbefc06\",\"subtype\":\"Figure\",\"type\":\"Plot\"},\"ticker\":{\"id\":\"ff54d8d4-24c8-4f62-8729-8ef2eacf98ff\",\"type\":\"BasicTicker\"}},\"id\":\"e6a88367-3b83-47cd-89af-3f6461ab9a1f\",\"type\":\"LinearAxis\"},{\"attributes\":{},\"id\":\"296839bb-067a-47c6-b0f1-91d170175a03\",\"type\":\"LinearScale\"},{\"attributes\":{\"data_source\":{\"id\":\"354d234c-f99a-4cb4-92ba-77638d9bf704\",\"type\":\"ColumnDataSource\"},\"glyph\":{\"id\":\"4deaa709-4cf3-4369-ac1e-243689f8c077\",\"type\":\"Circle\"},\"hover_glyph\":null,\"muted_glyph\":null,\"nonselection_glyph\":{\"id\":\"8a8a1501-ca0d-4d8c-8bd0-81b4fee94054\",\"type\":\"Circle\"},\"selection_glyph\":null,\"view\":{\"id\":\"5c7f1f6a-8d27-466a-86fa-5a6ca4c422af\",\"type\":\"CDSView\"}},\"id\":\"2b26539e-8c74-4395-9295-2df3faac6637\",\"type\":\"GlyphRenderer\"},{\"attributes\":{\"axis_label\":\"Price in $1000s\",\"formatter\":{\"id\":\"b1a660a5-5941-4326-8537-3f7c4aaac68f\",\"type\":\"BasicTickFormatter\"},\"plot\":{\"id\":\"68bfa75f-7094-4193-adfa-77865cbefc06\",\"subtype\":\"Figure\",\"type\":\"Plot\"},\"ticker\":{\"id\":\"b142089f-f0ff-46e0-aeb8-c1bbc737176f\",\"type\":\"BasicTicker\"}},\"id\":\"61bf5ee9-cae0-420d-8d7d-6ddf4b134b90\",\"type\":\"LinearAxis\"},{\"attributes\":{\"dimension\":1,\"plot\":{\"id\":\"68bfa75f-7094-4193-adfa-77865cbefc06\",\"subtype\":\"Figure\",\"type\":\"Plot\"},\"ticker\":{\"id\":\"b142089f-f0ff-46e0-aeb8-c1bbc737176f\",\"type\":\"BasicTicker\"}},\"id\":\"d9b9731f-3bcd-4817-9c71-0c19cc81cd57\",\"type\":\"Grid\"},{\"attributes\":{\"callback\":null,\"data\":{\"x\":{\"__ndarray__\":\"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\",\"dtype\":\"float64\",\"shape\":[506]},\"y\":{\"__ndarray__\":\"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\",\"dtype\":\"float64\",\"shape\":[506]}},\"selected\":{\"id\":\"536476b4-d7e8-45f5-9f41-a9e980f1225d\",\"type\":\"Selection\"},\"selection_policy\":{\"id\":\"6231e36f-d479-4db4-8177-7fc3168081ce\",\"type\":\"UnionRenderers\"}},\"id\":\"354d234c-f99a-4cb4-92ba-77638d9bf704\",\"type\":\"ColumnDataSource\"},{\"attributes\":{},\"id\":\"b142089f-f0ff-46e0-aeb8-c1bbc737176f\",\"type\":\"BasicTicker\"},{\"attributes\":{},\"id\":\"3b550017-4aeb-405c-adc2-439d2728f804\",\"type\":\"Selection\"},{\"attributes\":{},\"id\":\"37292375-4ffb-47c2-bf5c-7f367c3ae56e\",\"type\":\"PanTool\"},{\"attributes\":{},\"id\":\"b1a660a5-5941-4326-8537-3f7c4aaac68f\",\"type\":\"BasicTickFormatter\"},{\"attributes\":{},\"id\":\"48e27700-ee63-4687-9517-75db12740231\",\"type\":\"WheelZoomTool\"},{\"attributes\":{\"overlay\":{\"id\":\"76cae764-7d36-448e-9e3c-4fd7963fc3b6\",\"type\":\"BoxAnnotation\"}},\"id\":\"c20c6f48-ae6a-41b8-971c-ad08c49957f0\",\"type\":\"BoxZoomTool\"},{\"attributes\":{},\"id\":\"6231e36f-d479-4db4-8177-7fc3168081ce\",\"type\":\"UnionRenderers\"},{\"attributes\":{},\"id\":\"2ee6845c-89fb-4a53-bf5f-ab5fe42c493d\",\"type\":\"SaveTool\"},{\"attributes\":{},\"id\":\"cf943d59-8d94-4ba1-ade5-b44046ea609f\",\"type\":\"ResetTool\"},{\"attributes\":{\"fill_alpha\":{\"value\":0.1},\"fill_color\":{\"value\":\"#1f77b4\"},\"line_alpha\":{\"value\":0.1},\"line_color\":{\"value\":\"#1f77b4\"},\"x\":{\"field\":\"x\"},\"y\":{\"field\":\"y\"}},\"id\":\"8a8a1501-ca0d-4d8c-8bd0-81b4fee94054\",\"type\":\"Circle\"},{\"attributes\":{},\"id\":\"536476b4-d7e8-45f5-9f41-a9e980f1225d\",\"type\":\"Selection\"},{\"attributes\":{\"source\":{\"id\":\"32953a29-86b3-431c-ae30-e79846e068a2\",\"type\":\"ColumnDataSource\"}},\"id\":\"99e4f30e-cc15-4c23-afcc-e776d7c2f4e1\",\"type\":\"CDSView\"},{\"attributes\":{},\"id\":\"978c7630-550c-4984-a318-d38a6f71228b\",\"type\":\"BasicTickFormatter\"},{\"attributes\":{},\"id\":\"e41e1e16-bc0e-459d-80bb-811b283a1b9a\",\"type\":\"HelpTool\"},{\"attributes\":{\"plot\":null,\"text\":\"\"},\"id\":\"4572b9dc-e879-4f73-b300-e60cf5faacf2\",\"type\":\"Title\"},{\"attributes\":{\"bottom_units\":\"screen\",\"fill_alpha\":{\"value\":0.5},\"fill_color\":{\"value\":\"lightgrey\"},\"left_units\":\"screen\",\"level\":\"overlay\",\"line_alpha\":{\"value\":1.0},\"line_color\":{\"value\":\"black\"},\"line_dash\":[4,4],\"line_width\":{\"value\":2},\"plot\":null,\"render_mode\":\"css\",\"right_units\":\"screen\",\"top_units\":\"screen\"},\"id\":\"76cae764-7d36-448e-9e3c-4fd7963fc3b6\",\"type\":\"BoxAnnotation\"},{\"attributes\":{},\"id\":\"188f3b25-27cf-411f-bc90-084a241a4e99\",\"type\":\"UnionRenderers\"},{\"attributes\":{\"data_source\":{\"id\":\"32953a29-86b3-431c-ae30-e79846e068a2\",\"type\":\"ColumnDataSource\"},\"glyph\":{\"id\":\"90724d0a-13fb-4362-a3b5-47218401958e\",\"type\":\"Line\"},\"hover_glyph\":null,\"muted_glyph\":null,\"nonselection_glyph\":{\"id\":\"cd842d6b-abec-43b5-8662-ea90d4e223e0\",\"type\":\"Line\"},\"selection_glyph\":null,\"view\":{\"id\":\"99e4f30e-cc15-4c23-afcc-e776d7c2f4e1\",\"type\":\"CDSView\"}},\"id\":\"760837da-f6c5-472c-b141-9eaf3fb8f8e1\",\"type\":\"GlyphRenderer\"},{\"attributes\":{\"source\":{\"id\":\"354d234c-f99a-4cb4-92ba-77638d9bf704\",\"type\":\"ColumnDataSource\"}},\"id\":\"5c7f1f6a-8d27-466a-86fa-5a6ca4c422af\",\"type\":\"CDSView\"},{\"attributes\":{\"line_alpha\":0.1,\"line_color\":\"#1f77b4\",\"x\":{\"field\":\"x\"},\"y\":{\"field\":\"y\"}},\"id\":\"cd842d6b-abec-43b5-8662-ea90d4e223e0\",\"type\":\"Line\"}],\"root_ids\":[\"68bfa75f-7094-4193-adfa-77865cbefc06\"]},\"title\":\"Bokeh Application\",\"version\":\"0.12.16\"}};\n",
       "  var render_items = [{\"docid\":\"5139fa55-e764-466d-98b8-4e16268a100d\",\"elementid\":\"3c714569-1d92-4a3b-8614-286c4f29aaad\",\"modelid\":\"68bfa75f-7094-4193-adfa-77865cbefc06\"}];\n",
       "  root.Bokeh.embed.embed_items_notebook(docs_json, render_items);\n",
       "\n",
       "  }\n",
       "  if (root.Bokeh !== undefined) {\n",
       "    embed_document(root);\n",
       "  } else {\n",
       "    var attempts = 0;\n",
       "    var timer = setInterval(function(root) {\n",
       "      if (root.Bokeh !== undefined) {\n",
       "        embed_document(root);\n",
       "        clearInterval(timer);\n",
       "      }\n",
       "      attempts++;\n",
       "      if (attempts > 100) {\n",
       "        console.log(\"Bokeh: ERROR: Unable to run BokehJS code because BokehJS library is missing\")\n",
       "        clearInterval(timer);\n",
       "      }\n",
       "    }, 10, root)\n",
       "  }\n",
       "})(window);"
      ],
      "application/vnd.bokehjs_exec.v0+json": ""
     },
     "metadata": {
      "application/vnd.bokehjs_exec.v0+json": {
       "id": "68bfa75f-7094-4193-adfa-77865cbefc06"
      }
     },
     "output_type": "display_data"
    }
   ],
   "source": [
    "f = figure(plot_width=400, plot_height=250)\n",
    "\n",
    "# Create a scatter-plot\n",
    "f.scatter(boston_df[\"RM\"], boston_df[\"Price\"])\n",
    "    \n",
    "# Create the line\n",
    "x = boston_df[\"RM\"]\n",
    "f.line(x, a * x + b, color='red')\n",
    "\n",
    "## Add some axis information\n",
    "f.xaxis.axis_label = boston.feature_names[index]\n",
    "f.yaxis.axis_label = \"Price in $1000s\"\n",
    "\n",
    "show(f)"
   ]
  },
  {
   "cell_type": "markdown",
   "metadata": {},
   "source": [
    "### Computing the error\n",
    "So we see that this line obviously does not cover all the points in our dataset. To determine how good our solution is, we compute an error measure. In order to see what error measure makes sense, we must also see what the least squares method actually tries to minimize:\n",
    "\n",
    "If we recall that we want to make a line $\\mathbf{y}=a\\mathbf{x} +b$ that fits the data best. We want to minimize the distance of all points to this line (on the y scale). So if we assume that $\\mathbf{r}$ is the real value of the data point, we could determine the error by taking the average of the sum of differences between the vectors $\\mathbf{r}$ and $\\mathbf{y}$ to determine how far our estimation deviates from the truth, naively this would look like:\n",
    "\n",
    "$$J(a, b) = \\frac{1}{N}\\sum\\limits_{i = 1}^{N} (r(i) - y(i) ),$$\n",
    "\n",
    "where $y(i) = ax(i) + b$. As the above could also result into negative errors and we also kinda want to punish larger distances more, we square this error.\n",
    "\n",
    "$$J(a, b) = \\frac{1}{N}\\sum\\limits_{i = 1}^{N} (r(i) - y(i) )^2$$\n",
    "\n",
    "The above is also referred to as the Mean Squared Error (MSE), and this is one of the most used error functions for regression problems. Sometimes you also see it defined slightly differently, with a $\\frac{1}{2}$ added infront of the algorithm:\n",
    "\n",
    "$$J(a, b) = \\frac{1}{2N}\\sum\\limits_{i = 1}^{N} (r(i) - y(i) )^2$$\n",
    "\n",
    "this is just to make certain mathematical tricks easier for other problems. This does not change it's function though, as minimizing the half of a certain cost function, essentially does the same as minimizing just the cost function.\n",
    "\n",
    "We also have another cost function, called Root Mean Squared Error (RMSE), which is really just the following:\n",
    "\n",
    "$$ \\sqrt{MSE}$$\n",
    "\n",
    "This function might be nice to use, because it is very similar to computing the standard deviation.\n",
    "\n",
    "The goal of the algorithm in our univariate example is to minimize the cost function over $a$ and $b$. Which means that we want to find the best solution, while only modifying $a$ and $b$.\n",
    "\n",
    "*These videos are great for building intuition on the relation between the hypothesis function and the associated cost of that hypothesis for the data.*\n",
    "* [Cost function 1](https://www.youtube.com/watch?v=EANr4YttXIQ&list=PLZ9qNFMHZ-A4rycgrgOYma6zxF4BZGGPW&index=6)\n",
    "* [Cost function 2](https://www.youtube.com/watch?v=J5vJFwQWOaY&list=PLZ9qNFMHZ-A4rycgrgOYma6zxF4BZGGPW&index=7)"
   ]
  },
  {
   "cell_type": "markdown",
   "metadata": {},
   "source": [
    "So if we now want to compute this error for our example, we need a vector with the real prices, and the vector with our estimation.\n"
   ]
  },
  {
   "cell_type": "code",
   "execution_count": 16,
   "metadata": {},
   "outputs": [
    {
     "name": "stdout",
     "output_type": "stream",
     "text": [
      "506\n",
      "43.60055177116957\n",
      "6.603071389222562\n"
     ]
    }
   ],
   "source": [
    "r = np.array(boston_df[\"Price\"])\n",
    "x = np.array(boston_df[\"RM\"])\n",
    "y = a * x + b\n",
    "\n",
    "print(len(x))\n",
    "mse = sum((r-y) **2) / len(x)\n",
    "print(mse)\n",
    "rmse = np.sqrt(mse)\n",
    "print(rmse)"
   ]
  },
  {
   "cell_type": "markdown",
   "metadata": {},
   "source": [
    "Since the root mean square error (RMSE) corresponds approximately to the standard deviation we can now say that the price of a house won't vary more than 2 times the RMSE 95% of the time. [RMSE](https://en.wikipedia.org/wiki/Root-mean-square_deviation) and some additional [Theory](https://en.wikipedia.org/wiki/68%E2%80%9395%E2%80%9399.7_rule)\n",
    "\n",
    "Thus we can reasonably expect a house price to be within $13,200 of our line fit."
   ]
  },
  {
   "cell_type": "code",
   "execution_count": 17,
   "metadata": {},
   "outputs": [
    {
     "name": "stdout",
     "output_type": "stream",
     "text": [
      "43.60055177116956\n"
     ]
    }
   ],
   "source": [
    "# Or just cheat and use built-ins to compute the MSE (but now you atleast know how it's done):\n",
    "from sklearn.metrics import mean_squared_error\n",
    "mse = mean_squared_error(r, y)\n",
    "print(mse)"
   ]
  },
  {
   "cell_type": "markdown",
   "metadata": {},
   "source": [
    "## Multivariate Regression\n",
    "As promised, we will not just stick to univariate regression. For multivariate regression we will maintain a similar strategy, but now we will use scikit-learn to use more than one feature.\n",
    "\n",
    "We'll start by importing the [linear regression library](http://scikit-learn.org/stable/modules/generated/sklearn.linear_model.LinearRegression.html) from the sklearn module.\n",
    "\n",
    "The sklearn.linear_model.LinearRegression class is an estimator. Estimators predict a value based on the observed data. In scikit-learn, all estimators implement the `fit()` and `predict()` methods. The former method is used to learn the parameters of a model, and the latter method is used to predict the value of a response variable for an explanatory variable using the learned parameters. It is easy to experiment with different models using scikit-learn because all estimators implement the fit and predict methods (more re-usable code!!)."
   ]
  },
  {
   "cell_type": "code",
   "execution_count": 18,
   "metadata": {},
   "outputs": [],
   "source": [
    "# Import for Linear Regression\n",
    "import sklearn\n",
    "from sklearn.linear_model import LinearRegression"
   ]
  },
  {
   "cell_type": "code",
   "execution_count": 19,
   "metadata": {},
   "outputs": [],
   "source": [
    "# Create a LinearRegression Object\n",
    "lreg = LinearRegression()"
   ]
  },
  {
   "cell_type": "markdown",
   "metadata": {},
   "source": [
    "The functions we will be using are:\n",
    "\n",
    "* `lreg.fit()` which fits a linear model\n",
    "* `reg.predict()` which is used to predict Y using the linear model with estimated coefficients\n",
    "* `lreg.score()` which returns the coefficient of determination (R^2). A measure of how well observed outcomes are replicated by the model, learn more about it [here](http://en.wikipedia.org/wiki/Coefficient_of_determination)\n"
   ]
  },
  {
   "cell_type": "markdown",
   "metadata": {},
   "source": [
    "\n",
    "But first we will split our DataFrame into data and target (pretty much going back to how we were handed the data originally, but now in a DataFrame). We then feed this data into the fit function."
   ]
  },
  {
   "cell_type": "code",
   "execution_count": 55,
   "metadata": {},
   "outputs": [
    {
     "data": {
      "text/plain": [
       "LinearRegression(copy_X=True, fit_intercept=True, n_jobs=1, normalize=False)"
      ]
     },
     "execution_count": 55,
     "metadata": {},
     "output_type": "execute_result"
    }
   ],
   "source": [
    "# Data Columns\n",
    "X_multi = boston_df.drop('Price',1)\n",
    "\n",
    "# Targets\n",
    "Y_target = boston_df.Price\n",
    "\n",
    "# Implement Linear Regression\n",
    "lreg.fit(X_multi,Y_target)"
   ]
  },
  {
   "cell_type": "markdown",
   "metadata": {},
   "source": [
    "We can now also see how many of the variables were actually used for this prediction"
   ]
  },
  {
   "cell_type": "code",
   "execution_count": 21,
   "metadata": {},
   "outputs": [
    {
     "name": "stdout",
     "output_type": "stream",
     "text": [
      " The estimated intercept coefficient is 36.49\n",
      " The number of coefficients used was 13\n"
     ]
    }
   ],
   "source": [
    "# What is our constant? (b in univariate regression)\n",
    "print(' The estimated intercept coefficient is {0:.2f}'.format(lreg.intercept_))\n",
    "\n",
    "print(' The number of coefficients used was {0:d}'.format(len(lreg.coef_)))"
   ]
  },
  {
   "cell_type": "markdown",
   "metadata": {},
   "source": [
    "Here we see that 13 coefficients were used this time (the same amount as the columns in our feature set). Where with univariate we used only 1 ($a$). So this time we get:\n",
    "\n",
    "$$ y(w,x) = w_0 + w_1 x_1 + ... + w_p x_p $$\n",
    "\n",
    "Where \n",
    "\n",
    "$$w = (w_1, ...w_p)$$ \n",
    "\n",
    "as the coefficients and $ w_0 $ as the intercept "
   ]
  },
  {
   "cell_type": "markdown",
   "metadata": {},
   "source": [
    "We can also easily see these variables:"
   ]
  },
  {
   "cell_type": "code",
   "execution_count": 22,
   "metadata": {},
   "outputs": [
    {
     "data": {
      "text/html": [
       "<div>\n",
       "<style scoped>\n",
       "    .dataframe tbody tr th:only-of-type {\n",
       "        vertical-align: middle;\n",
       "    }\n",
       "\n",
       "    .dataframe tbody tr th {\n",
       "        vertical-align: top;\n",
       "    }\n",
       "\n",
       "    .dataframe thead th {\n",
       "        text-align: right;\n",
       "    }\n",
       "</style>\n",
       "<table border=\"1\" class=\"dataframe\">\n",
       "  <thead>\n",
       "    <tr style=\"text-align: right;\">\n",
       "      <th></th>\n",
       "      <th>Features</th>\n",
       "      <th>Coefficient Estimate</th>\n",
       "    </tr>\n",
       "  </thead>\n",
       "  <tbody>\n",
       "    <tr>\n",
       "      <th>5</th>\n",
       "      <td>RM</td>\n",
       "      <td>3.804752</td>\n",
       "    </tr>\n",
       "    <tr>\n",
       "      <th>3</th>\n",
       "      <td>CHAS</td>\n",
       "      <td>2.688561</td>\n",
       "    </tr>\n",
       "    <tr>\n",
       "      <th>8</th>\n",
       "      <td>RAD</td>\n",
       "      <td>0.305655</td>\n",
       "    </tr>\n",
       "    <tr>\n",
       "      <th>1</th>\n",
       "      <td>ZN</td>\n",
       "      <td>0.046395</td>\n",
       "    </tr>\n",
       "    <tr>\n",
       "      <th>2</th>\n",
       "      <td>INDUS</td>\n",
       "      <td>0.020860</td>\n",
       "    </tr>\n",
       "    <tr>\n",
       "      <th>11</th>\n",
       "      <td>B</td>\n",
       "      <td>0.009393</td>\n",
       "    </tr>\n",
       "    <tr>\n",
       "      <th>6</th>\n",
       "      <td>AGE</td>\n",
       "      <td>0.000751</td>\n",
       "    </tr>\n",
       "    <tr>\n",
       "      <th>9</th>\n",
       "      <td>TAX</td>\n",
       "      <td>-0.012329</td>\n",
       "    </tr>\n",
       "    <tr>\n",
       "      <th>0</th>\n",
       "      <td>CRIM</td>\n",
       "      <td>-0.107171</td>\n",
       "    </tr>\n",
       "    <tr>\n",
       "      <th>12</th>\n",
       "      <td>LSTAT</td>\n",
       "      <td>-0.525467</td>\n",
       "    </tr>\n",
       "    <tr>\n",
       "      <th>10</th>\n",
       "      <td>PTRATIO</td>\n",
       "      <td>-0.953464</td>\n",
       "    </tr>\n",
       "    <tr>\n",
       "      <th>7</th>\n",
       "      <td>DIS</td>\n",
       "      <td>-1.475759</td>\n",
       "    </tr>\n",
       "    <tr>\n",
       "      <th>4</th>\n",
       "      <td>NOX</td>\n",
       "      <td>-17.795759</td>\n",
       "    </tr>\n",
       "  </tbody>\n",
       "</table>\n",
       "</div>"
      ],
      "text/plain": [
       "   Features  Coefficient Estimate\n",
       "5        RM              3.804752\n",
       "3      CHAS              2.688561\n",
       "8       RAD              0.305655\n",
       "1        ZN              0.046395\n",
       "2     INDUS              0.020860\n",
       "11        B              0.009393\n",
       "6       AGE              0.000751\n",
       "9       TAX             -0.012329\n",
       "0      CRIM             -0.107171\n",
       "12    LSTAT             -0.525467\n",
       "10  PTRATIO             -0.953464\n",
       "7       DIS             -1.475759\n",
       "4       NOX            -17.795759"
      ]
     },
     "execution_count": 22,
     "metadata": {},
     "output_type": "execute_result"
    }
   ],
   "source": [
    "# Set a DataFrame from the Features\n",
    "coeff_df = DataFrame(boston_df.drop('Price', 1).columns)\n",
    "coeff_df.columns = ['Features']\n",
    "\n",
    "# Set a new column lining up the coefficients from the linear regression\n",
    "coeff_df[\"Coefficient Estimate\"] = pd.Series(lreg.coef_)\n",
    "\n",
    "# Show\n",
    "coeff_df.sort_values(by='Coefficient Estimate', ascending=False)"
   ]
  },
  {
   "cell_type": "markdown",
   "metadata": {},
   "source": [
    "Here we see that our number of rooms, is also the feature that has the highest positive correlation with the house price (What a coincidence that we totally randomly picked this column!)"
   ]
  },
  {
   "cell_type": "markdown",
   "metadata": {},
   "source": [
    "## Training and Test set\n",
    "This time we used all data for training (fitting). An annoying side-effect is that we now can no longer used this training data for testing (else it would be cheating). Hence we have to make seperate train and test set. The correct way to pick out samples from your dataset to be part either the training or test (also called validation) set is *randomly*.\n",
    "\n",
    "Fortunately, scikit learn has a built in function specifically for this called train_test_split.\n",
    "\n",
    "The parameters passed are your X and Y, then optionally test_size parameter, representing the proportion of the dataset to include in the test split. As well a train_size parameter. you can learn more about these parameters [here](http://scikit-learn.org/stable/modules/generated/sklearn.cross_validation.train_test_split.html)"
   ]
  },
  {
   "cell_type": "code",
   "execution_count": 56,
   "metadata": {},
   "outputs": [
    {
     "name": "stdout",
     "output_type": "stream",
     "text": [
      "(379, 2) (127, 2) (379,) (127,)\n",
      "[[6.98  1.   ]\n",
      " [7.147 1.   ]\n",
      " [5.57  1.   ]\n",
      " [3.561 1.   ]\n",
      " [5.841 1.   ]\n",
      " [6.618 1.   ]\n",
      " [5.349 1.   ]\n",
      " [5.404 1.   ]\n",
      " [6.431 1.   ]\n",
      " [6.852 1.   ]\n",
      " [6.122 1.   ]\n",
      " [5.608 1.   ]\n",
      " [7.203 1.   ]\n",
      " [5.87  1.   ]\n",
      " [6.047 1.   ]\n",
      " [6.312 1.   ]\n",
      " [5.889 1.   ]\n",
      " [6.226 1.   ]\n",
      " [6.23  1.   ]\n",
      " [6.552 1.   ]\n",
      " [6.849 1.   ]\n",
      " [6.416 1.   ]\n",
      " [6.059 1.   ]\n",
      " [6.701 1.   ]\n",
      " [5.856 1.   ]\n",
      " [6.459 1.   ]\n",
      " [5.913 1.   ]\n",
      " [5.936 1.   ]\n",
      " [6.816 1.   ]\n",
      " [6.453 1.   ]\n",
      " [7.327 1.   ]\n",
      " [6.425 1.   ]\n",
      " [5.    1.   ]\n",
      " [5.961 1.   ]\n",
      " [6.152 1.   ]\n",
      " [6.456 1.   ]\n",
      " [5.878 1.   ]\n",
      " [7.061 1.   ]\n",
      " [6.513 1.   ]\n",
      " [6.229 1.   ]\n",
      " [6.382 1.   ]\n",
      " [6.03  1.   ]\n",
      " [6.373 1.   ]\n",
      " [7.024 1.   ]\n",
      " [7.686 1.   ]\n",
      " [5.888 1.   ]\n",
      " [5.569 1.   ]\n",
      " [6.326 1.   ]\n",
      " [6.182 1.   ]\n",
      " [5.709 1.   ]\n",
      " [5.928 1.   ]\n",
      " [5.705 1.   ]\n",
      " [5.875 1.   ]\n",
      " [7.178 1.   ]\n",
      " [6.454 1.   ]\n",
      " [6.726 1.   ]\n",
      " [6.968 1.   ]\n",
      " [6.404 1.   ]\n",
      " [6.345 1.   ]\n",
      " [6.674 1.   ]\n",
      " [6.096 1.   ]\n",
      " [5.399 1.   ]\n",
      " [6.051 1.   ]\n",
      " [6.393 1.   ]\n",
      " [5.727 1.   ]\n",
      " [6.301 1.   ]\n",
      " [6.086 1.   ]\n",
      " [6.372 1.   ]\n",
      " [5.627 1.   ]\n",
      " [7.148 1.   ]\n",
      " [6.027 1.   ]\n",
      " [6.943 1.   ]\n",
      " [6.398 1.   ]\n",
      " [6.495 1.   ]\n",
      " [7.041 1.   ]\n",
      " [6.208 1.   ]\n",
      " [5.95  1.   ]\n",
      " [6.405 1.   ]\n",
      " [6.38  1.   ]\n",
      " [8.069 1.   ]\n",
      " [6.02  1.   ]\n",
      " [7.416 1.   ]\n",
      " [6.75  1.   ]\n",
      " [6.113 1.   ]\n",
      " [6.417 1.   ]\n",
      " [5.936 1.   ]\n",
      " [5.593 1.   ]\n",
      " [6.595 1.   ]\n",
      " [5.787 1.   ]\n",
      " [6.556 1.   ]\n",
      " [6.998 1.   ]\n",
      " [4.97  1.   ]\n",
      " [6.411 1.   ]\n",
      " [5.637 1.   ]\n",
      " [6.635 1.   ]\n",
      " [6.127 1.   ]\n",
      " [5.67  1.   ]\n",
      " [5.706 1.   ]\n",
      " [7.267 1.   ]\n",
      " [5.731 1.   ]\n",
      " [5.757 1.   ]\n",
      " [5.942 1.   ]\n",
      " [6.152 1.   ]\n",
      " [6.635 1.   ]\n",
      " [6.012 1.   ]\n",
      " [7.52  1.   ]\n",
      " [6.376 1.   ]\n",
      " [5.963 1.   ]\n",
      " [7.287 1.   ]\n",
      " [6.341 1.   ]\n",
      " [6.718 1.   ]\n",
      " [6.495 1.   ]\n",
      " [8.78  1.   ]\n",
      " [5.896 1.   ]\n",
      " [5.403 1.   ]\n",
      " [5.834 1.   ]\n",
      " [5.96  1.   ]\n",
      " [6.833 1.   ]\n",
      " [7.454 1.   ]\n",
      " [7.358 1.   ]\n",
      " [6.696 1.   ]\n",
      " [6.86  1.   ]\n",
      " [6.29  1.   ]\n",
      " [7.929 1.   ]\n",
      " [5.701 1.   ]\n",
      " [5.981 1.   ]\n",
      " [5.818 1.   ]\n",
      " [6.728 1.   ]\n",
      " [7.82  1.   ]\n",
      " [6.209 1.   ]\n",
      " [5.837 1.   ]\n",
      " [5.304 1.   ]\n",
      " [6.326 1.   ]\n",
      " [7.489 1.   ]\n",
      " [4.652 1.   ]\n",
      " [6.019 1.   ]\n",
      " [6.174 1.   ]\n",
      " [6.101 1.   ]\n",
      " [6.657 1.   ]\n",
      " [6.25  1.   ]\n",
      " [6.066 1.   ]\n",
      " [6.939 1.   ]\n",
      " [6.251 1.   ]\n",
      " [5.983 1.   ]\n",
      " [5.986 1.   ]\n",
      " [5.807 1.   ]\n",
      " [6.162 1.   ]\n",
      " [5.631 1.   ]\n",
      " [6.749 1.   ]\n",
      " [6.348 1.   ]\n",
      " [8.266 1.   ]\n",
      " [5.186 1.   ]\n",
      " [6.782 1.   ]\n",
      " [7.82  1.   ]\n",
      " [6.092 1.   ]\n",
      " [6.458 1.   ]\n",
      " [5.88  1.   ]\n",
      " [6.383 1.   ]\n",
      " [6.229 1.   ]\n",
      " [5.935 1.   ]\n",
      " [6.968 1.   ]\n",
      " [6.525 1.   ]\n",
      " [7.206 1.   ]\n",
      " [6.242 1.   ]\n",
      " [5.713 1.   ]\n",
      " [6.98  1.   ]\n",
      " [6.232 1.   ]\n",
      " [6.358 1.   ]\n",
      " [7.802 1.   ]\n",
      " [5.617 1.   ]\n",
      " [7.249 1.   ]\n",
      " [5.884 1.   ]\n",
      " [6.739 1.   ]\n",
      " [5.012 1.   ]\n",
      " [6.249 1.   ]\n",
      " [6.286 1.   ]\n",
      " [6.59  1.   ]\n",
      " [5.741 1.   ]\n",
      " [5.304 1.   ]\n",
      " [6.163 1.   ]\n",
      " [7.412 1.   ]\n",
      " [6.211 1.   ]\n",
      " [5.972 1.   ]\n",
      " [5.822 1.   ]\n",
      " [6.202 1.   ]\n",
      " [5.933 1.   ]\n",
      " [6.333 1.   ]\n",
      " [6.879 1.   ]\n",
      " [5.155 1.   ]\n",
      " [5.874 1.   ]\n",
      " [6.982 1.   ]\n",
      " [7.831 1.   ]\n",
      " [5.713 1.   ]\n",
      " [6.377 1.   ]\n",
      " [6.167 1.   ]\n",
      " [6.474 1.   ]\n",
      " [6.151 1.   ]\n",
      " [6.461 1.   ]\n",
      " [6.482 1.   ]\n",
      " [6.957 1.   ]\n",
      " [5.531 1.   ]\n",
      " [6.266 1.   ]\n",
      " [7.875 1.   ]\n",
      " [8.04  1.   ]\n",
      " [5.983 1.   ]\n",
      " [5.404 1.   ]\n",
      " [4.903 1.   ]\n",
      " [5.985 1.   ]\n",
      " [8.247 1.   ]\n",
      " [5.898 1.   ]\n",
      " [5.456 1.   ]\n",
      " [6.389 1.   ]\n",
      " [5.872 1.   ]\n",
      " [6.122 1.   ]\n",
      " [6.014 1.   ]\n",
      " [6.642 1.   ]\n",
      " [5.987 1.   ]\n",
      " [7.333 1.   ]\n",
      " [6.216 1.   ]\n",
      " [4.628 1.   ]\n",
      " [7.241 1.   ]\n",
      " [6.251 1.   ]\n",
      " [6.223 1.   ]\n",
      " [7.185 1.   ]\n",
      " [5.272 1.   ]\n",
      " [6.481 1.   ]\n",
      " [6.563 1.   ]\n",
      " [5.565 1.   ]\n",
      " [6.421 1.   ]\n",
      " [7.088 1.   ]\n",
      " [5.344 1.   ]\n",
      " [5.869 1.   ]\n",
      " [7.313 1.   ]\n",
      " [7.007 1.   ]\n",
      " [6.375 1.   ]\n",
      " [6.209 1.   ]\n",
      " [7.014 1.   ]\n",
      " [7.236 1.   ]\n",
      " [6.824 1.   ]\n",
      " [5.52  1.   ]\n",
      " [5.572 1.   ]\n",
      " [6.631 1.   ]\n",
      " [6.169 1.   ]\n",
      " [7.691 1.   ]\n",
      " [6.193 1.   ]\n",
      " [6.319 1.   ]\n",
      " [6.63  1.   ]\n",
      " [7.104 1.   ]\n",
      " [6.108 1.   ]\n",
      " [6.728 1.   ]\n",
      " [5.362 1.   ]\n",
      " [5.604 1.   ]\n",
      " [6.115 1.   ]\n",
      " [5.536 1.   ]\n",
      " [6.434 1.   ]\n",
      " [6.438 1.   ]\n",
      " [6.861 1.   ]\n",
      " [6.167 1.   ]\n",
      " [5.79  1.   ]\n",
      " [7.016 1.   ]\n",
      " [5.597 1.   ]\n",
      " [5.957 1.   ]\n",
      " [6.575 1.   ]\n",
      " [6.279 1.   ]\n",
      " [6.114 1.   ]\n",
      " [6.108 1.   ]\n",
      " [5.708 1.   ]\n",
      " [6.127 1.   ]\n",
      " [8.704 1.   ]\n",
      " [6.431 1.   ]\n",
      " [8.297 1.   ]\n",
      " [5.857 1.   ]\n",
      " [5.871 1.   ]\n",
      " [6.006 1.   ]\n",
      " [5.56  1.   ]\n",
      " [6.762 1.   ]\n",
      " [5.851 1.   ]\n",
      " [7.135 1.   ]\n",
      " [6.874 1.   ]\n",
      " [4.138 1.   ]\n",
      " [5.682 1.   ]\n",
      " [6.211 1.   ]\n",
      " [6.683 1.   ]\n",
      " [6.015 1.   ]\n",
      " [6.037 1.   ]\n",
      " [5.813 1.   ]\n",
      " [5.713 1.   ]\n",
      " [6.137 1.   ]\n",
      " [6.405 1.   ]\n",
      " [6.164 1.   ]\n",
      " [6.426 1.   ]\n",
      " [6.127 1.   ]\n",
      " [5.914 1.   ]\n",
      " [6.316 1.   ]\n",
      " [6.121 1.   ]\n",
      " [6.63  1.   ]\n",
      " [6.616 1.   ]\n",
      " [6.245 1.   ]\n",
      " [6.629 1.   ]\n",
      " [6.782 1.   ]\n",
      " [6.395 1.   ]\n",
      " [6.096 1.   ]\n",
      " [5.613 1.   ]\n",
      " [4.519 1.   ]\n",
      " [6.484 1.   ]\n",
      " [5.39  1.   ]\n",
      " [6.095 1.   ]\n",
      " [5.599 1.   ]\n",
      " [7.163 1.   ]\n",
      " [6.442 1.   ]\n",
      " [7.61  1.   ]\n",
      " [6.49  1.   ]\n",
      " [5.707 1.   ]\n",
      " [6.162 1.   ]\n",
      " [5.036 1.   ]\n",
      " [5.794 1.   ]\n",
      " [6.254 1.   ]\n",
      " [6.172 1.   ]\n",
      " [6.009 1.   ]\n",
      " [6.144 1.   ]\n",
      " [6.041 1.   ]\n",
      " [6.727 1.   ]\n",
      " [6.715 1.   ]\n",
      " [6.976 1.   ]\n",
      " [6.516 1.   ]\n",
      " [6.003 1.   ]\n",
      " [6.951 1.   ]\n",
      " [5.454 1.   ]\n",
      " [5.836 1.   ]\n",
      " [6.77  1.   ]\n",
      " [5.875 1.   ]\n",
      " [6.436 1.   ]\n",
      " [5.602 1.   ]\n",
      " [8.725 1.   ]\n",
      " [5.885 1.   ]\n",
      " [6.54  1.   ]\n",
      " [7.645 1.   ]\n",
      " [5.019 1.   ]\n",
      " [6.021 1.   ]\n",
      " [6.842 1.   ]\n",
      " [5.468 1.   ]\n",
      " [6.871 1.   ]\n",
      " [6.312 1.   ]\n",
      " [6.112 1.   ]\n",
      " [4.138 1.   ]\n",
      " [6.144 1.   ]\n",
      " [7.47  1.   ]\n",
      " [6.142 1.   ]\n",
      " [6.655 1.   ]\n",
      " [6.13  1.   ]\n",
      " [6.009 1.   ]\n",
      " [5.924 1.   ]\n",
      " [6.343 1.   ]\n",
      " [5.783 1.   ]\n",
      " [6.12  1.   ]\n",
      " [6.604 1.   ]\n",
      " [6.195 1.   ]\n",
      " [6.185 1.   ]\n",
      " [6.854 1.   ]\n",
      " [5.966 1.   ]\n",
      " [5.968 1.   ]\n",
      " [4.906 1.   ]\n",
      " [6.229 1.   ]\n",
      " [6.565 1.   ]\n",
      " [6.678 1.   ]\n",
      " [6.297 1.   ]\n",
      " [5.762 1.   ]\n",
      " [8.034 1.   ]\n",
      " [6.064 1.   ]\n",
      " [6.8   1.   ]\n",
      " [5.859 1.   ]\n",
      " [5.683 1.   ]\n",
      " [5.414 1.   ]\n",
      " [8.337 1.   ]\n",
      " [5.965 1.   ]\n",
      " [6.004 1.   ]\n",
      " [5.412 1.   ]\n",
      " [5.868 1.   ]\n",
      " [6.727 1.   ]]\n"
     ]
    }
   ],
   "source": [
    "import sklearn.model_selection\n",
    "# Grab the output and set as X and Y test and train data sets!\n",
    "X_train, X_test, Y_train, Y_test = sklearn.model_selection.train_test_split(X,boston_df.Price)\n",
    "\n",
    "# Print shapes of the training and testing data sets\n",
    "print(X_train.shape, X_test.shape, Y_train.shape, Y_test.shape)\n",
    "print(X_train)"
   ]
  },
  {
   "cell_type": "markdown",
   "metadata": {},
   "source": [
    "Now that we fixed this minor inconvenience of not having a train/test set, we can actually get started with the predictions!"
   ]
  },
  {
   "cell_type": "markdown",
   "metadata": {},
   "source": [
    "## The Prediction"
   ]
  },
  {
   "cell_type": "code",
   "execution_count": 61,
   "metadata": {},
   "outputs": [
    {
     "data": {
      "text/plain": [
       "LinearRegression(copy_X=True, fit_intercept=True, n_jobs=1, normalize=False)"
      ]
     },
     "execution_count": 61,
     "metadata": {},
     "output_type": "execute_result"
    }
   ],
   "source": [
    "# Create our regression object\n",
    "lreg = LinearRegression()\n",
    "\n",
    "# Once again do a linear regression, except only on the training sets this time\n",
    "lreg.fit(X_train,Y_train)"
   ]
  },
  {
   "cell_type": "code",
   "execution_count": 62,
   "metadata": {},
   "outputs": [],
   "source": [
    "# Predictions on training and testing sets\n",
    "pred_train = lreg.predict(X_train)\n",
    "pred_test = lreg.predict(X_test)"
   ]
  },
  {
   "cell_type": "code",
   "execution_count": 63,
   "metadata": {},
   "outputs": [
    {
     "ename": "ValueError",
     "evalue": "Found input variables with inconsistent numbers of samples: [506, 150]",
     "output_type": "error",
     "traceback": [
      "\u001b[1;31m---------------------------------------------------------------------------\u001b[0m",
      "\u001b[1;31mValueError\u001b[0m                                Traceback (most recent call last)",
      "\u001b[1;32m<ipython-input-63-e86940e5bc7f>\u001b[0m in \u001b[0;36m<module>\u001b[1;34m()\u001b[0m\n\u001b[0;32m      1\u001b[0m \u001b[1;32mfrom\u001b[0m \u001b[0msklearn\u001b[0m\u001b[1;33m.\u001b[0m\u001b[0mmetrics\u001b[0m \u001b[1;32mimport\u001b[0m \u001b[0mmean_squared_error\u001b[0m\u001b[1;33m\u001b[0m\u001b[0m\n\u001b[1;32m----> 2\u001b[1;33m \u001b[0mmse\u001b[0m \u001b[1;33m=\u001b[0m \u001b[0mmean_squared_error\u001b[0m\u001b[1;33m(\u001b[0m\u001b[0mr\u001b[0m\u001b[1;33m,\u001b[0m \u001b[0my\u001b[0m\u001b[1;33m)\u001b[0m\u001b[1;33m\u001b[0m\u001b[0m\n\u001b[0m\u001b[0;32m      3\u001b[0m \u001b[1;33m\u001b[0m\u001b[0m\n\u001b[0;32m      4\u001b[0m \u001b[0mprint\u001b[0m\u001b[1;33m(\u001b[0m\u001b[1;34m\"Fit a model X_train, and calculate MSE with Y_train: {0:.2f}\"\u001b[0m\u001b[1;33m.\u001b[0m\u001b[0mformat\u001b[0m\u001b[1;33m(\u001b[0m\u001b[0mmean_squared_error\u001b[0m\u001b[1;33m(\u001b[0m\u001b[0mY_train\u001b[0m\u001b[1;33m,\u001b[0m \u001b[0mpred_train\u001b[0m\u001b[1;33m)\u001b[0m\u001b[1;33m)\u001b[0m\u001b[1;33m)\u001b[0m\u001b[1;33m\u001b[0m\u001b[0m\n\u001b[0;32m      5\u001b[0m \u001b[1;33m\u001b[0m\u001b[0m\n",
      "\u001b[1;32mc:\\users\\boble\\appdata\\local\\programs\\python\\python36-32\\lib\\site-packages\\sklearn\\metrics\\regression.py\u001b[0m in \u001b[0;36mmean_squared_error\u001b[1;34m(y_true, y_pred, sample_weight, multioutput)\u001b[0m\n\u001b[0;32m    236\u001b[0m     \"\"\"\n\u001b[0;32m    237\u001b[0m     y_type, y_true, y_pred, multioutput = _check_reg_targets(\n\u001b[1;32m--> 238\u001b[1;33m         y_true, y_pred, multioutput)\n\u001b[0m\u001b[0;32m    239\u001b[0m     output_errors = np.average((y_true - y_pred) ** 2, axis=0,\n\u001b[0;32m    240\u001b[0m                                weights=sample_weight)\n",
      "\u001b[1;32mc:\\users\\boble\\appdata\\local\\programs\\python\\python36-32\\lib\\site-packages\\sklearn\\metrics\\regression.py\u001b[0m in \u001b[0;36m_check_reg_targets\u001b[1;34m(y_true, y_pred, multioutput)\u001b[0m\n\u001b[0;32m     73\u001b[0m \u001b[1;33m\u001b[0m\u001b[0m\n\u001b[0;32m     74\u001b[0m     \"\"\"\n\u001b[1;32m---> 75\u001b[1;33m     \u001b[0mcheck_consistent_length\u001b[0m\u001b[1;33m(\u001b[0m\u001b[0my_true\u001b[0m\u001b[1;33m,\u001b[0m \u001b[0my_pred\u001b[0m\u001b[1;33m)\u001b[0m\u001b[1;33m\u001b[0m\u001b[0m\n\u001b[0m\u001b[0;32m     76\u001b[0m     \u001b[0my_true\u001b[0m \u001b[1;33m=\u001b[0m \u001b[0mcheck_array\u001b[0m\u001b[1;33m(\u001b[0m\u001b[0my_true\u001b[0m\u001b[1;33m,\u001b[0m \u001b[0mensure_2d\u001b[0m\u001b[1;33m=\u001b[0m\u001b[1;32mFalse\u001b[0m\u001b[1;33m)\u001b[0m\u001b[1;33m\u001b[0m\u001b[0m\n\u001b[0;32m     77\u001b[0m     \u001b[0my_pred\u001b[0m \u001b[1;33m=\u001b[0m \u001b[0mcheck_array\u001b[0m\u001b[1;33m(\u001b[0m\u001b[0my_pred\u001b[0m\u001b[1;33m,\u001b[0m \u001b[0mensure_2d\u001b[0m\u001b[1;33m=\u001b[0m\u001b[1;32mFalse\u001b[0m\u001b[1;33m)\u001b[0m\u001b[1;33m\u001b[0m\u001b[0m\n",
      "\u001b[1;32mc:\\users\\boble\\appdata\\local\\programs\\python\\python36-32\\lib\\site-packages\\sklearn\\utils\\validation.py\u001b[0m in \u001b[0;36mcheck_consistent_length\u001b[1;34m(*arrays)\u001b[0m\n\u001b[0;32m    202\u001b[0m     \u001b[1;32mif\u001b[0m \u001b[0mlen\u001b[0m\u001b[1;33m(\u001b[0m\u001b[0muniques\u001b[0m\u001b[1;33m)\u001b[0m \u001b[1;33m>\u001b[0m \u001b[1;36m1\u001b[0m\u001b[1;33m:\u001b[0m\u001b[1;33m\u001b[0m\u001b[0m\n\u001b[0;32m    203\u001b[0m         raise ValueError(\"Found input variables with inconsistent numbers of\"\n\u001b[1;32m--> 204\u001b[1;33m                          \" samples: %r\" % [int(l) for l in lengths])\n\u001b[0m\u001b[0;32m    205\u001b[0m \u001b[1;33m\u001b[0m\u001b[0m\n\u001b[0;32m    206\u001b[0m \u001b[1;33m\u001b[0m\u001b[0m\n",
      "\u001b[1;31mValueError\u001b[0m: Found input variables with inconsistent numbers of samples: [506, 150]"
     ]
    }
   ],
   "source": [
    "from sklearn.metrics import mean_squared_error\n",
    "mse = mean_squared_error(r, y)\n",
    "\n",
    "print(\"Fit a model X_train, and calculate MSE with Y_train: {0:.2f}\".format(mean_squared_error(Y_train, pred_train)))\n",
    "    \n",
    "print(\"Fit a model X_train, and calculate MSE with X_test and Y_test: {0:.2f}\".format(mean_squared_error(Y_test, pred_test)))"
   ]
  },
  {
   "cell_type": "markdown",
   "metadata": {},
   "source": [
    "# K-Means Clustering"
   ]
  },
  {
   "cell_type": "markdown",
   "metadata": {},
   "source": [
    "K-means is a clustering algorithm that tries to partition a set of points into K sets (clusters) such that the points in each cluster tend to be near each other. It is unsupervised because the points have no external classification."
   ]
  },
  {
   "cell_type": "code",
   "execution_count": 64,
   "metadata": {},
   "outputs": [],
   "source": [
    "import matplotlib.pyplot as plt\n",
    "from sklearn import datasets\n",
    "from sklearn.cluster import KMeans\n",
    "import sklearn.metrics as sm\n",
    " \n",
    "import pandas as pd\n",
    "import numpy as np\n",
    " \n",
    "# Only needed if you want to display your plots inline if using Notebook\n",
    "# change inline to auto if you have Spyder installed\n",
    "%matplotlib inline"
   ]
  },
  {
   "cell_type": "markdown",
   "metadata": {},
   "source": [
    "Now we will use a familiar face again, the Iris dataset. Can you think of a reason why we might not want to take the boston dataset as an example for K-Means clustering?"
   ]
  },
  {
   "cell_type": "code",
   "execution_count": 65,
   "metadata": {},
   "outputs": [],
   "source": [
    "# import some data to play with\n",
    "iris = datasets.load_iris()"
   ]
  },
  {
   "cell_type": "markdown",
   "metadata": {},
   "source": [
    "I love Pandas, hence you shall come to love it too (and it simply makes some things just a lot easier)."
   ]
  },
  {
   "cell_type": "code",
   "execution_count": 66,
   "metadata": {},
   "outputs": [],
   "source": [
    "# Store the inputs as a Pandas Dataframe and set the column names\n",
    "x = pd.DataFrame(iris.data)\n",
    "x.columns = ['Sepal_Length','Sepal_Width','Petal_Length','Petal_Width']\n",
    " \n",
    "y = pd.DataFrame(iris.target)\n",
    "y.columns = ['Targets']"
   ]
  },
  {
   "cell_type": "markdown",
   "metadata": {},
   "source": [
    "Although we have seen this dataset before, it is always good to visualize the dataset before working with it. Hence we shall do so again. Similar to before, we will do this by using a scatter plot. We will also set it to use some colours so it is clearer what the official classes are."
   ]
  },
  {
   "cell_type": "code",
   "execution_count": 31,
   "metadata": {},
   "outputs": [
    {
     "data": {
      "text/plain": [
       "Text(0,0.5,'Petal Width')"
      ]
     },
     "execution_count": 31,
     "metadata": {},
     "output_type": "execute_result"
    },
    {
     "data": {
      "image/png": "[encoded data removed]",
      "text/plain": [
       "<Figure size 504x504 with 1 Axes>"
      ]
     },
     "metadata": {},
     "output_type": "display_data"
    }
   ],
   "source": [
    "# Set the size of the plot\n",
    "plt.figure(figsize=(7,7))\n",
    " \n",
    "# Create a colormap\n",
    "colormap = np.array(['red', 'lime', 'black'])\n",
    " \n",
    "# Plotting the petals\n",
    " \n",
    "plt.scatter(x.Petal_Length, x.Petal_Width, c=colormap[y.Targets], s=40)\n",
    "plt.title('Petal')\n",
    "plt.xlabel('Petal Length')\n",
    "plt.ylabel('Petal Width')"
   ]
  },
  {
   "cell_type": "markdown",
   "metadata": {},
   "source": [
    "### K-Means model\n",
    "\n",
    "Setting up the K-Means model is pretty simple with scikit-learn. The simplest approach really just needs one variable, namely the number of clusters.\n",
    "\n",
    "For an initial display, we create the model and specify the number of clusters the model should find (n_clusters=3) next we fit the model to the data."
   ]
  },
  {
   "cell_type": "code",
   "execution_count": 32,
   "metadata": {},
   "outputs": [
    {
     "data": {
      "text/plain": [
       "array([0, 0, 0, 0, 0, 0, 0, 0, 0, 0, 0, 0, 0, 0, 0, 0, 0, 0, 0, 0, 0, 0,\n",
       "       0, 0, 0, 0, 0, 0, 0, 0, 0, 0, 0, 0, 0, 0, 0, 0, 0, 0, 0, 0, 0, 0,\n",
       "       0, 0, 0, 0, 0, 0, 1, 1, 2, 1, 1, 1, 1, 1, 1, 1, 1, 1, 1, 1, 1, 1,\n",
       "       1, 1, 1, 1, 1, 1, 1, 1, 1, 1, 1, 2, 1, 1, 1, 1, 1, 1, 1, 1, 1, 1,\n",
       "       1, 1, 1, 1, 1, 1, 1, 1, 1, 1, 1, 1, 2, 1, 2, 2, 2, 2, 1, 2, 2, 2,\n",
       "       2, 2, 2, 1, 1, 2, 2, 2, 2, 1, 2, 1, 2, 1, 2, 2, 1, 1, 2, 2, 2, 2,\n",
       "       2, 1, 2, 2, 2, 2, 1, 2, 2, 2, 1, 2, 2, 2, 1, 2, 2, 1])"
      ]
     },
     "execution_count": 32,
     "metadata": {},
     "output_type": "execute_result"
    }
   ],
   "source": [
    "# K Means Cluster\n",
    "model = KMeans(n_clusters=3)\n",
    "model.fit(x)\n",
    "\n",
    "# This is what KMeans thought\n",
    "model.labels_"
   ]
  },
  {
   "cell_type": "markdown",
   "metadata": {},
   "source": [
    "## Well... that sure tells us a lot... not. Let us try visualising once more!"
   ]
  },
  {
   "cell_type": "code",
   "execution_count": 33,
   "metadata": {},
   "outputs": [
    {
     "data": {
      "image/png": "[encoded data removed]",
      "text/plain": [
       "<Figure size 1008x504 with 2 Axes>"
      ]
     },
     "metadata": {},
     "output_type": "display_data"
    }
   ],
   "source": [
    "# View the results\n",
    "# Set the size of the plot\n",
    "plt.figure(figsize=(14,7))\n",
    " \n",
    "# Create a colormap\n",
    "colormap = np.array(['red', 'lime', 'black'])\n",
    " \n",
    "# Plot the Original Classifications\n",
    "plt.subplot(1, 2, 1)\n",
    "plt.scatter(x.Petal_Length, x.Petal_Width, c=colormap[y.Targets], s=40)\n",
    "plt.title('Real Classification')\n",
    " \n",
    "# Plot the Models Classifications\n",
    "plt.subplot(1, 2, 2)\n",
    "plt.scatter(x.Petal_Length, x.Petal_Width, c=colormap[model.labels_], s=40)\n",
    "plt.title('K Mean Classification')\n",
    "predY = model.labels_"
   ]
  },
  {
   "cell_type": "markdown",
   "metadata": {},
   "source": [
    "The order of colors might be messed up. The perfectionists that we are, we can not let this slide! Now because the approach is unsupervised, the nubmer assignment can be different every time. Hence the code below might have to be different for you to correct the colors."
   ]
  },
  {
   "cell_type": "code",
   "execution_count": 34,
   "metadata": {},
   "outputs": [
    {
     "name": "stdout",
     "output_type": "stream",
     "text": [
      "[0, 0, 0, 0, 0, 0, 0, 0, 0, 0, 0, 0, 0, 0, 0, 0, 0, 0, 0, 0, 0, 0, 0, 0, 0, 0, 0, 0, 0, 0, 0, 0, 0, 0, 0, 0, 0, 0, 0, 0, 0, 0, 0, 0, 0, 0, 0, 0, 0, 0, 1, 1, 1, 1, 1, 1, 1, 1, 1, 1, 1, 1, 1, 1, 1, 1, 1, 1, 1, 1, 1, 1, 1, 1, 1, 1, 1, 1, 1, 1, 1, 1, 1, 1, 1, 1, 1, 1, 1, 1, 1, 1, 1, 1, 1, 1, 1, 1, 1, 1, 2, 2, 2, 2, 2, 2, 2, 2, 2, 2, 2, 2, 2, 2, 2, 2, 2, 2, 2, 2, 2, 2, 2, 2, 2, 2, 2, 2, 2, 2, 2, 2, 2, 2, 2, 2, 2, 2, 2, 2, 2, 2, 2, 2, 2, 2, 2, 2, 2, 2]\n",
      "[0 0 0 0 0 0 0 0 0 0 0 0 0 0 0 0 0 0 0 0 0 0 0 0 0 0 0 0 0 0 0 0 0 0 0 0 0\n",
      " 0 0 0 0 0 0 0 0 0 0 0 0 0 1 1 2 1 1 1 1 1 1 1 1 1 1 1 1 1 1 1 1 1 1 1 1 1\n",
      " 1 1 1 2 1 1 1 1 1 1 1 1 1 1 1 1 1 1 1 1 1 1 1 1 1 1 2 1 2 2 2 2 1 2 2 2 2\n",
      " 2 2 1 1 2 2 2 2 1 2 1 2 1 2 2 1 1 2 2 2 2 2 1 2 2 2 2 1 2 2 2 1 2 2 2 1 2\n",
      " 2 1]\n",
      "[2 2 2 2 2 2 2 2 2 2 2 2 2 2 2 2 2 2 2 2 2 2 2 2 2 2 2 2 2 2 2 2 2 2 2 2 2\n",
      " 2 2 2 2 2 2 2 2 2 2 2 2 2 0 0 1 0 0 0 0 0 0 0 0 0 0 0 0 0 0 0 0 0 0 0 0 0\n",
      " 0 0 0 1 0 0 0 0 0 0 0 0 0 0 0 0 0 0 0 0 0 0 0 0 0 0 1 0 1 1 1 1 0 1 1 1 1\n",
      " 1 1 0 0 1 1 1 1 0 1 0 1 0 1 1 0 0 1 1 1 1 1 0 1 1 1 1 0 1 1 1 0 1 1 1 0 1\n",
      " 1 0]\n"
     ]
    }
   ],
   "source": [
    "# The fix, we convert all the 0s to 2s and 1s to 0s and 2s to 1s.\n",
    "predY = np.choose(model.labels_, [2, 0, 1]).astype(np.int64)\n",
    "print(list(y.Targets))\n",
    "print (model.labels_)\n",
    "print (predY)"
   ]
  },
  {
   "cell_type": "code",
   "execution_count": 35,
   "metadata": {},
   "outputs": [
    {
     "data": {
      "text/plain": [
       "Text(0.5,1,'K Mean Classification')"
      ]
     },
     "execution_count": 35,
     "metadata": {},
     "output_type": "execute_result"
    },
    {
     "data": {
      "image/png": "[encoded data removed]",
      "text/plain": [
       "<Figure size 1008x504 with 2 Axes>"
      ]
     },
     "metadata": {},
     "output_type": "display_data"
    }
   ],
   "source": [
    "# View the results\n",
    "# Set the size of the plot\n",
    "plt.figure(figsize=(14,7))\n",
    " \n",
    "# Create a colormap\n",
    "colormap = np.array(['red', 'lime', 'black'])\n",
    "\n",
    "# Plot Orginal\n",
    "plt.subplot(1, 2, 1)\n",
    "plt.scatter(x.Petal_Length, x.Petal_Width, c=colormap[y.Targets], s=40)\n",
    "plt.title('Real Classification')\n",
    " \n",
    "# Plot Predicted with corrected values\n",
    "plt.subplot(1, 2, 2)\n",
    "plt.scatter(x.Petal_Length, x.Petal_Width, c=colormap[predY], s=40)\n",
    "plt.title('K Mean Classification')"
   ]
  },
  {
   "cell_type": "markdown",
   "metadata": {},
   "source": [
    "No we can see that the K Means classifier has identified one class correctly (red) but some blacks have been classed as greens and vice versa."
   ]
  },
  {
   "cell_type": "markdown",
   "metadata": {},
   "source": [
    "### Measuring Performance\n",
    "There are a number of ways in which we can measure a classifiers performance. Here we will calculate the accuracy and also the confusion matrix.\n",
    "\n",
    "We need to values y which is the true (original) values and predY which are the models values."
   ]
  },
  {
   "cell_type": "code",
   "execution_count": 36,
   "metadata": {},
   "outputs": [
    {
     "data": {
      "text/plain": [
       "0.013333333333333334"
      ]
     },
     "execution_count": 36,
     "metadata": {},
     "output_type": "execute_result"
    }
   ],
   "source": [
    "# Performance Metrics (All hail the built-ins!)\n",
    "sm.accuracy_score(y, predY)"
   ]
  },
  {
   "cell_type": "markdown",
   "metadata": {},
   "source": [
    "My result was 0.89, so we can say that the model has an accuracy of 89%. Seeing how the we worked with an unsupervised model, these certainly don't look like bad results! Although accuracy can be used in multi-class classification/clustering. We also often use the mean Average Precision instead (mAP, do note that `Average Precision` is a metric by itself, hence we can take the mean of it). This metrics works better with skewed data (e.g. with accuracy you can have the problem that your data consist of 90% of class 1s, your model just always predicts 1. Easy 90% accuracy. But your model is probably worthless)."
   ]
  },
  {
   "cell_type": "markdown",
   "metadata": {},
   "source": [
    "Another thing you can look at is the confusion matrix. This matrix can tell you which class has been misclassified as another class in detail.\n",
    "You can see which classes get mixed up, and hence might be messing up your results."
   ]
  },
  {
   "cell_type": "code",
   "execution_count": 37,
   "metadata": {},
   "outputs": [
    {
     "data": {
      "text/plain": [
       "array([[ 0,  0, 50],\n",
       "       [48,  2,  0],\n",
       "       [14, 36,  0]], dtype=int64)"
      ]
     },
     "execution_count": 37,
     "metadata": {},
     "output_type": "execute_result"
    }
   ],
   "source": [
    "# Confusion Matrix\n",
    "sm.confusion_matrix(y, predY)"
   ]
  },
  {
   "cell_type": "markdown",
   "metadata": {},
   "source": [
    "We can derive the following things from this matrix:\n",
    "    \n",
    "* All objects that are of class 0, have also been classified as 0.\n",
    "* 48  objects that are of class 1, have been classified as 1. 2 of those objects have been classified as class 2.\n",
    "* 36 objects of class 2 were classified correctly. 14 objects of class 2 were classified as class 1.\n"
   ]
  },
  {
   "cell_type": "markdown",
   "metadata": {},
   "source": [
    "### Are we note forgetting something?\n",
    "So in the example above we just picked the number of clusters to be equal to 3. We came to this number by simply abusing the fact that we know the dataset. But sadly we are not all-knowing, and we might encounter datasets where we do not know the number of unique classes. Which begs the question, is there a way to determina this number if you do not know the dataset? (Hint: yes)"
   ]
  },
  {
   "cell_type": "code",
   "execution_count": 38,
   "metadata": {},
   "outputs": [],
   "source": [
    "# Let's grab our example again:\n",
    "iris = datasets.load_iris()\n",
    "# Store the inputs as a Pandas Dataframe and set the column names\n",
    "x = pd.DataFrame(iris.data)\n",
    "x.columns = ['Sepal_Length','Sepal_Width','Petal_Length','Petal_Width']\n",
    " \n",
    "y = pd.DataFrame(iris.target)\n",
    "y.columns = ['Targets']"
   ]
  },
  {
   "cell_type": "markdown",
   "metadata": {},
   "source": [
    "[Paraphrased from here](https://www.datascience.com/blog/k-means-clustering)\n",
    "\n",
    "To find the number of clusters in the data, we can run the K-means clustering algorithm for a range of K values and compare the results. In general, there is no method for determining exact value of K, but an accurate estimate can be obtained using the following simple technique.\n",
    "\n",
    "One of the metrics that is commonly used to compare results across different values of K is the mean distance between data points and their cluster centroid. Since increasing the number of clusters will always reduce the distance to data points, increasing K will always decrease this metric, to the extreme of reaching zero when K is the same as the number of data points. Thus, this metric cannot be used as the sole target. Instead, mean distance to the centroid as a function of K is plotted and the `elbow point`, where the rate of decrease sharply shifts, can be used to roughly determine K."
   ]
  },
  {
   "cell_type": "code",
   "execution_count": 39,
   "metadata": {},
   "outputs": [
    {
     "name": "stdout",
     "output_type": "stream",
     "text": [
      "KMeans(algorithm='auto', copy_x=True, init='k-means++', max_iter=300,\n",
      "    n_clusters=3, n_init=10, n_jobs=1, precompute_distances='auto',\n",
      "    random_state=None, tol=0.0001, verbose=0)\n",
      "\n"
     ]
    },
    {
     "data": {
      "text/plain": [
       "78.94084142614602"
      ]
     },
     "execution_count": 39,
     "metadata": {},
     "output_type": "execute_result"
    }
   ],
   "source": [
    "# K Means Cluster\n",
    "model = KMeans(n_clusters=3)\n",
    "model.fit(x)\n",
    "\n",
    "print(model)\n",
    "print()\n",
    "\n",
    "# http://scikit-learn.org/stable/modules/generated/sklearn.cluster.KMeans.html\n",
    "\n",
    "# This is what KMeans thought\n",
    "model.inertia_"
   ]
  },
  {
   "cell_type": "code",
   "execution_count": 40,
   "metadata": {},
   "outputs": [
    {
     "name": "stdout",
     "output_type": "stream",
     "text": [
      "[680.8244, 152.36870647733906, 78.94084142614602, 57.345409315718165, 46.53558205128205, 39.27787900008488, 34.18920546865627, 29.88769644828856, 28.02262885154062]\n"
     ]
    }
   ],
   "source": [
    "inertias = []\n",
    "\n",
    "for i in range(1, 10):\n",
    "    model = KMeans(n_clusters=i)\n",
    "    model.fit(x)\n",
    "    inertias.append(model.inertia_)\n",
    "print(inertias)"
   ]
  },
  {
   "cell_type": "code",
   "execution_count": 41,
   "metadata": {},
   "outputs": [
    {
     "data": {
      "text/html": [
       "\n",
       "<div class=\"bk-root\">\n",
       "    <div class=\"bk-plotdiv\" id=\"85df7951-1545-40a8-b1a9-a2c95963c3b9\"></div>\n",
       "</div>"
      ]
     },
     "metadata": {},
     "output_type": "display_data"
    },
    {
     "data": {
      "application/javascript": [
       "(function(root) {\n",
       "  function embed_document(root) {\n",
       "    \n",
       "  var docs_json = {\"a0a09834-6c68-4aa8-8169-32aa5b687a71\":{\"roots\":{\"references\":[{\"attributes\":{\"callback\":null,\"data\":{\"x\":[1,2,3,4,5,6,7,8,9],\"y\":[680.8244,152.36870647733906,78.94084142614602,57.345409315718165,46.53558205128205,39.27787900008488,34.18920546865627,29.88769644828856,28.02262885154062]},\"selected\":{\"id\":\"9b9bbc23-0bdc-4f55-bdbf-a94d322d1072\",\"type\":\"Selection\"},\"selection_policy\":{\"id\":\"d2008df2-fc51-49a8-b739-b9525ded345f\",\"type\":\"UnionRenderers\"}},\"id\":\"5999c384-713a-4328-bc7d-47890fc444e2\",\"type\":\"ColumnDataSource\"},{\"attributes\":{\"overlay\":{\"id\":\"9f3218a0-3f39-4f6e-b7ad-38f3429d63e2\",\"type\":\"BoxAnnotation\"}},\"id\":\"3230cff0-aa28-43f1-8197-3521f49c768f\",\"type\":\"BoxZoomTool\"},{\"attributes\":{},\"id\":\"042e256d-6ae0-408f-8bac-23adb2222b55\",\"type\":\"BasicTicker\"},{\"attributes\":{},\"id\":\"78b992fe-fbea-45e5-a7c0-18890e2156ad\",\"type\":\"WheelZoomTool\"},{\"attributes\":{},\"id\":\"9b9bbc23-0bdc-4f55-bdbf-a94d322d1072\",\"type\":\"Selection\"},{\"attributes\":{},\"id\":\"ad4fb96b-bc92-4d02-ac64-234260007968\",\"type\":\"SaveTool\"},{\"attributes\":{\"below\":[{\"id\":\"f5078fbb-700f-4518-90db-9d4c8e3d4345\",\"type\":\"LinearAxis\"}],\"left\":[{\"id\":\"01bb1664-8ca0-4d15-818a-32270c49f27f\",\"type\":\"LinearAxis\"}],\"plot_height\":250,\"plot_width\":400,\"renderers\":[{\"id\":\"f5078fbb-700f-4518-90db-9d4c8e3d4345\",\"type\":\"LinearAxis\"},{\"id\":\"7d3594b3-3b2d-4a50-a987-239285b28df2\",\"type\":\"Grid\"},{\"id\":\"01bb1664-8ca0-4d15-818a-32270c49f27f\",\"type\":\"LinearAxis\"},{\"id\":\"bed83268-9995-4c96-b248-4db00dea703d\",\"type\":\"Grid\"},{\"id\":\"9f3218a0-3f39-4f6e-b7ad-38f3429d63e2\",\"type\":\"BoxAnnotation\"},{\"id\":\"4186af1d-fc07-4fc9-a579-6b2abe7d392d\",\"type\":\"GlyphRenderer\"}],\"title\":{\"id\":\"a3c1923d-eab6-4862-9d79-246bdadc552a\",\"type\":\"Title\"},\"toolbar\":{\"id\":\"29c8ac64-74b4-4530-890f-5fac64e74da7\",\"type\":\"Toolbar\"},\"x_range\":{\"id\":\"34d6ccb7-9df7-4847-950a-47e6410fb104\",\"type\":\"DataRange1d\"},\"x_scale\":{\"id\":\"958cf9c7-a520-4e82-a6f5-0d28b7976a13\",\"type\":\"LinearScale\"},\"y_range\":{\"id\":\"76816ef1-2338-43e8-93a4-fe5001c33f15\",\"type\":\"DataRange1d\"},\"y_scale\":{\"id\":\"2e780e7d-3add-4245-b160-e3330bc577c7\",\"type\":\"LinearScale\"}},\"id\":\"6371dabd-6c88-49c1-b9ac-47d92c5ea94f\",\"subtype\":\"Figure\",\"type\":\"Plot\"},{\"attributes\":{},\"id\":\"53242347-4cdf-4975-93d0-b7e782d1d49e\",\"type\":\"ResetTool\"},{\"attributes\":{\"data_source\":{\"id\":\"5999c384-713a-4328-bc7d-47890fc444e2\",\"type\":\"ColumnDataSource\"},\"glyph\":{\"id\":\"1402c149-f6a2-4c28-912a-962486351263\",\"type\":\"Line\"},\"hover_glyph\":null,\"muted_glyph\":null,\"nonselection_glyph\":{\"id\":\"a7e748a0-6a88-4717-9a41-ea846523a3a7\",\"type\":\"Line\"},\"selection_glyph\":null,\"view\":{\"id\":\"01c33aa9-705f-481a-8838-aac0ad10418c\",\"type\":\"CDSView\"}},\"id\":\"4186af1d-fc07-4fc9-a579-6b2abe7d392d\",\"type\":\"GlyphRenderer\"},{\"attributes\":{\"callback\":null},\"id\":\"76816ef1-2338-43e8-93a4-fe5001c33f15\",\"type\":\"DataRange1d\"},{\"attributes\":{},\"id\":\"5f178a71-bd6c-40d9-a7af-cddc01154d83\",\"type\":\"BasicTickFormatter\"},{\"attributes\":{\"axis_label\":\"Inertia\",\"formatter\":{\"id\":\"5f178a71-bd6c-40d9-a7af-cddc01154d83\",\"type\":\"BasicTickFormatter\"},\"plot\":{\"id\":\"6371dabd-6c88-49c1-b9ac-47d92c5ea94f\",\"subtype\":\"Figure\",\"type\":\"Plot\"},\"ticker\":{\"id\":\"37e54e85-4254-4577-8a39-b78336f05bcc\",\"type\":\"BasicTicker\"}},\"id\":\"01bb1664-8ca0-4d15-818a-32270c49f27f\",\"type\":\"LinearAxis\"},{\"attributes\":{\"dimension\":1,\"plot\":{\"id\":\"6371dabd-6c88-49c1-b9ac-47d92c5ea94f\",\"subtype\":\"Figure\",\"type\":\"Plot\"},\"ticker\":{\"id\":\"37e54e85-4254-4577-8a39-b78336f05bcc\",\"type\":\"BasicTicker\"}},\"id\":\"bed83268-9995-4c96-b248-4db00dea703d\",\"type\":\"Grid\"},{\"attributes\":{},\"id\":\"2e780e7d-3add-4245-b160-e3330bc577c7\",\"type\":\"LinearScale\"},{\"attributes\":{\"line_color\":\"#1f77b4\",\"x\":{\"field\":\"x\"},\"y\":{\"field\":\"y\"}},\"id\":\"1402c149-f6a2-4c28-912a-962486351263\",\"type\":\"Line\"},{\"attributes\":{\"source\":{\"id\":\"5999c384-713a-4328-bc7d-47890fc444e2\",\"type\":\"ColumnDataSource\"}},\"id\":\"01c33aa9-705f-481a-8838-aac0ad10418c\",\"type\":\"CDSView\"},{\"attributes\":{\"callback\":null},\"id\":\"34d6ccb7-9df7-4847-950a-47e6410fb104\",\"type\":\"DataRange1d\"},{\"attributes\":{\"active_drag\":\"auto\",\"active_inspect\":\"auto\",\"active_scroll\":\"auto\",\"active_tap\":\"auto\",\"tools\":[{\"id\":\"219de383-4c14-463c-ae7d-1ff6bcbd6591\",\"type\":\"PanTool\"},{\"id\":\"78b992fe-fbea-45e5-a7c0-18890e2156ad\",\"type\":\"WheelZoomTool\"},{\"id\":\"3230cff0-aa28-43f1-8197-3521f49c768f\",\"type\":\"BoxZoomTool\"},{\"id\":\"ad4fb96b-bc92-4d02-ac64-234260007968\",\"type\":\"SaveTool\"},{\"id\":\"53242347-4cdf-4975-93d0-b7e782d1d49e\",\"type\":\"ResetTool\"},{\"id\":\"ffe91139-dd3f-431a-99a5-1b9f28e3cc52\",\"type\":\"HelpTool\"}]},\"id\":\"29c8ac64-74b4-4530-890f-5fac64e74da7\",\"type\":\"Toolbar\"},{\"attributes\":{\"plot\":null,\"text\":\"\"},\"id\":\"a3c1923d-eab6-4862-9d79-246bdadc552a\",\"type\":\"Title\"},{\"attributes\":{\"axis_label\":\"Number of Clusters\",\"formatter\":{\"id\":\"2b7e07f4-aee3-42ae-a77d-5eb7137878b4\",\"type\":\"BasicTickFormatter\"},\"plot\":{\"id\":\"6371dabd-6c88-49c1-b9ac-47d92c5ea94f\",\"subtype\":\"Figure\",\"type\":\"Plot\"},\"ticker\":{\"id\":\"042e256d-6ae0-408f-8bac-23adb2222b55\",\"type\":\"BasicTicker\"}},\"id\":\"f5078fbb-700f-4518-90db-9d4c8e3d4345\",\"type\":\"LinearAxis\"},{\"attributes\":{\"bottom_units\":\"screen\",\"fill_alpha\":{\"value\":0.5},\"fill_color\":{\"value\":\"lightgrey\"},\"left_units\":\"screen\",\"level\":\"overlay\",\"line_alpha\":{\"value\":1.0},\"line_color\":{\"value\":\"black\"},\"line_dash\":[4,4],\"line_width\":{\"value\":2},\"plot\":null,\"render_mode\":\"css\",\"right_units\":\"screen\",\"top_units\":\"screen\"},\"id\":\"9f3218a0-3f39-4f6e-b7ad-38f3429d63e2\",\"type\":\"BoxAnnotation\"},{\"attributes\":{},\"id\":\"2b7e07f4-aee3-42ae-a77d-5eb7137878b4\",\"type\":\"BasicTickFormatter\"},{\"attributes\":{\"line_alpha\":0.1,\"line_color\":\"#1f77b4\",\"x\":{\"field\":\"x\"},\"y\":{\"field\":\"y\"}},\"id\":\"a7e748a0-6a88-4717-9a41-ea846523a3a7\",\"type\":\"Line\"},{\"attributes\":{},\"id\":\"37e54e85-4254-4577-8a39-b78336f05bcc\",\"type\":\"BasicTicker\"},{\"attributes\":{},\"id\":\"ffe91139-dd3f-431a-99a5-1b9f28e3cc52\",\"type\":\"HelpTool\"},{\"attributes\":{\"plot\":{\"id\":\"6371dabd-6c88-49c1-b9ac-47d92c5ea94f\",\"subtype\":\"Figure\",\"type\":\"Plot\"},\"ticker\":{\"id\":\"042e256d-6ae0-408f-8bac-23adb2222b55\",\"type\":\"BasicTicker\"}},\"id\":\"7d3594b3-3b2d-4a50-a987-239285b28df2\",\"type\":\"Grid\"},{\"attributes\":{},\"id\":\"d2008df2-fc51-49a8-b739-b9525ded345f\",\"type\":\"UnionRenderers\"},{\"attributes\":{},\"id\":\"958cf9c7-a520-4e82-a6f5-0d28b7976a13\",\"type\":\"LinearScale\"},{\"attributes\":{},\"id\":\"219de383-4c14-463c-ae7d-1ff6bcbd6591\",\"type\":\"PanTool\"}],\"root_ids\":[\"6371dabd-6c88-49c1-b9ac-47d92c5ea94f\"]},\"title\":\"Bokeh Application\",\"version\":\"0.12.16\"}};\n",
       "  var render_items = [{\"docid\":\"a0a09834-6c68-4aa8-8169-32aa5b687a71\",\"elementid\":\"85df7951-1545-40a8-b1a9-a2c95963c3b9\",\"modelid\":\"6371dabd-6c88-49c1-b9ac-47d92c5ea94f\"}];\n",
       "  root.Bokeh.embed.embed_items_notebook(docs_json, render_items);\n",
       "\n",
       "  }\n",
       "  if (root.Bokeh !== undefined) {\n",
       "    embed_document(root);\n",
       "  } else {\n",
       "    var attempts = 0;\n",
       "    var timer = setInterval(function(root) {\n",
       "      if (root.Bokeh !== undefined) {\n",
       "        embed_document(root);\n",
       "        clearInterval(timer);\n",
       "      }\n",
       "      attempts++;\n",
       "      if (attempts > 100) {\n",
       "        console.log(\"Bokeh: ERROR: Unable to run BokehJS code because BokehJS library is missing\")\n",
       "        clearInterval(timer);\n",
       "      }\n",
       "    }, 10, root)\n",
       "  }\n",
       "})(window);"
      ],
      "application/vnd.bokehjs_exec.v0+json": ""
     },
     "metadata": {
      "application/vnd.bokehjs_exec.v0+json": {
       "id": "6371dabd-6c88-49c1-b9ac-47d92c5ea94f"
      }
     },
     "output_type": "display_data"
    }
   ],
   "source": [
    "f = figure(plot_width=400, plot_height=250)\n",
    "\n",
    "# Create the line\n",
    "x = boston_df[\"RM\"]\n",
    "f.line(range(1, 10), inertias)\n",
    "\n",
    "## Add some axis information\n",
    "f.xaxis.axis_label = 'Number of Clusters'\n",
    "f.yaxis.axis_label = 'Inertia'\n",
    "\n",
    "show(f)"
   ]
  },
  {
   "cell_type": "markdown",
   "metadata": {},
   "source": [
    "So well, hopefully you see why we refer to a an `elbow point`. We look for a change in direction between inertia values.\n",
    "Here we see a distinct change at both 2 and 3 clusters. Normally you wouldh ave tried both, to see which fits best. But remember.. if you have knowledge of a dataset, you can choose to cheat. Just document to your reader why you chose a specific value. We do not like `Magic numbers` (values that appear out of thin air)."
   ]
  },
  {
   "cell_type": "code",
   "execution_count": null,
   "metadata": {},
   "outputs": [],
   "source": []
  }
 ],
 "metadata": {
  "kernelspec": {
   "display_name": "Python 3",
   "language": "python",
   "name": "python3"
  },
  "language_info": {
   "codemirror_mode": {
    "name": "ipython",
    "version": 3
   },
   "file_extension": ".py",
   "mimetype": "text/x-python",
   "name": "python",
   "nbconvert_exporter": "python",
   "pygments_lexer": "ipython3",
   "version": "3.6.5"
  }
 },
 "nbformat": 4,
 "nbformat_minor": 2
}
