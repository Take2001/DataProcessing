{
 "cells": [
  {
   "cell_type": "code",
   "execution_count": 10,
   "metadata": {},
   "outputs": [
    {
     "name": "stdout",
     "output_type": "stream",
     "text": [
      "C:\\Users\\boble\\Documents\\GitHub\\DataProcessing\\helpfiles\n",
      "Succesfully imported foodprices!\n",
      "Succesfully imported migration_movements!\n",
      "succesfully imported temperature_and_precipitation!\n",
      "C:\\Users\\boble\\Documents\\GitHub\\DataProcessing\\datasets\n"
     ]
    }
   ],
   "source": [
    "import pandas as pd\n",
    "import numpy as np\n",
    "import os\n",
    "from functies_voor_selectief_plotten import *"
   ]
  },
  {
   "cell_type": "code",
   "execution_count": 12,
   "metadata": {},
   "outputs": [
    {
     "name": "stdout",
     "output_type": "stream",
     "text": [
      "C:\\Users\\boble\\Documents\\GitHub\\DataProcessing\\datasets\n"
     ]
    }
   ],
   "source": [
    "# controleer altijd of je in de map helpfiles zit\n",
    "print(os.getcwd())"
   ]
  },
  {
   "cell_type": "code",
   "execution_count": 13,
   "metadata": {},
   "outputs": [
    {
     "name": "stdout",
     "output_type": "stream",
     "text": [
      "Succesfully imported foodprices!\n",
      "Succesfully imported migration_movements!\n",
      "succesfully imported temperature_and_precipitation!\n"
     ]
    }
   ],
   "source": [
    "from select_df import select_df\n",
    "\n",
    "df_foodprices = select_df(1, 'foodprices')\n",
    "df_migration = select_df(1, 'migration_movements')\n",
    "df_weather = select_df(1, 'temperature_and_precipitation')\n",
    "\n"
   ]
  },
  {
   "cell_type": "code",
   "execution_count": 17,
   "metadata": {},
   "outputs": [
    {
     "ename": "NameError",
     "evalue": "name 'select_plot_migration_movements1' is not defined",
     "output_type": "error",
     "traceback": [
      "\u001b[1;31m---------------------------------------------------------------------------\u001b[0m",
      "\u001b[1;31mNameError\u001b[0m                                 Traceback (most recent call last)",
      "\u001b[1;32m<ipython-input-17-a26e351c9712>\u001b[0m in \u001b[0;36m<module>\u001b[1;34m()\u001b[0m\n\u001b[0;32m      1\u001b[0m \u001b[1;31m# compare_refugees_Gambia_and_price_of_Rice (paddy, long grain, local)\u001b[0m\u001b[1;33m\u001b[0m\u001b[1;33m\u001b[0m\u001b[0m\n\u001b[0;32m      2\u001b[0m \u001b[1;33m\u001b[0m\u001b[0m\n\u001b[1;32m----> 3\u001b[1;33m \u001b[0mx1\u001b[0m \u001b[1;33m=\u001b[0m \u001b[0mnormalize\u001b[0m\u001b[1;33m(\u001b[0m\u001b[0mselect_plot_migration_movements1\u001b[0m\u001b[1;33m(\u001b[0m\u001b[0mdf_migration\u001b[0m\u001b[1;33m,\u001b[0m \u001b[1;34m'Zimbabwe'\u001b[0m\u001b[1;33m,\u001b[0m \u001b[1;36m2004\u001b[0m\u001b[1;33m,\u001b[0m \u001b[1;36m2018\u001b[0m\u001b[1;33m)\u001b[0m\u001b[1;33m,\u001b[0m \u001b[1;34m'Value'\u001b[0m\u001b[1;33m)\u001b[0m\u001b[1;33m[\u001b[0m\u001b[1;34m'Normalized_data'\u001b[0m\u001b[1;33m]\u001b[0m\u001b[1;33m\u001b[0m\u001b[0m\n\u001b[0m\u001b[0;32m      4\u001b[0m \u001b[0my1\u001b[0m \u001b[1;33m=\u001b[0m \u001b[0mnormalize\u001b[0m\u001b[1;33m(\u001b[0m\u001b[0mselect_plot_foodprices_average\u001b[0m\u001b[1;33m(\u001b[0m\u001b[0mdf_foodprices\u001b[0m\u001b[1;33m,\u001b[0m \u001b[1;34m'Zimbabwe'\u001b[0m\u001b[1;33m,\u001b[0m \u001b[1;34m'Cowpeas'\u001b[0m\u001b[1;33m,\u001b[0m \u001b[1;36m2004\u001b[0m\u001b[1;33m,\u001b[0m \u001b[1;36m2018\u001b[0m\u001b[1;33m)\u001b[0m\u001b[1;33m,\u001b[0m \u001b[1;34m'average_price'\u001b[0m\u001b[1;33m)\u001b[0m\u001b[1;33m[\u001b[0m\u001b[1;34m'Normalized_data'\u001b[0m\u001b[1;33m]\u001b[0m\u001b[1;33m\u001b[0m\u001b[0m\n\u001b[0;32m      5\u001b[0m \u001b[1;33m\u001b[0m\u001b[0m\n",
      "\u001b[1;31mNameError\u001b[0m: name 'select_plot_migration_movements1' is not defined"
     ]
    }
   ],
   "source": [
    "# compare_refugees_Gambia_and_price_of_Rice (paddy, long grain, local)\n",
    "\n",
    "x1 = normalize(select_plot_migration_movements(df_migration, 'Zimbabwe', 2004, 2018), 'Value')['Normalized_data']    \n",
    "y1 = normalize(select_plot_foodprices_average(df_foodprices, 'Zimbabwe', 'Cowpeas', 2004, 2018), 'average_price')['Normalized_data']  \n",
    "\n",
    "output_file(\"Line.html\")\n",
    "\n",
    "# Create a figure (that's 600x600)\n",
    "f = figure(plot_width=600, plot_height=600)\n",
    "f.xaxis.axis_label = \"Temperature and precipitation\"\n",
    "f.yaxis.axis_label = \"Average foodprices\"\n",
    "\n",
    "# Plot the line\n",
    "f.circle(x1, y1, color='red')\n",
    "\n",
    "show(f)"
   ]
  }
 ],
 "metadata": {
  "kernelspec": {
   "display_name": "Python 3",
   "language": "python",
   "name": "python3"
  },
  "language_info": {
   "codemirror_mode": {
    "name": "ipython",
    "version": 3
   },
   "file_extension": ".py",
   "mimetype": "text/x-python",
   "name": "python",
   "nbconvert_exporter": "python",
   "pygments_lexer": "ipython3",
   "version": "3.6.5"
  }
 },
 "nbformat": 4,
 "nbformat_minor": 2
}
