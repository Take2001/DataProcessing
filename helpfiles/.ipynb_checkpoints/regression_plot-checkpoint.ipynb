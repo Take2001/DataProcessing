{
 "cells": [
  {
   "cell_type": "code",
   "execution_count": 147,
   "metadata": {},
   "outputs": [],
   "source": [
    "import pandas as pd\n",
    "import numpy as np\n",
    "import os\n",
    "from bokeh.plotting import figure\n",
    "from bokeh.io import output_file, show, save\n",
    "from functies_voor_selectief_plotten import *\n",
    "from sklearn.metrics import mean_squared_error"
   ]
  },
  {
   "cell_type": "code",
   "execution_count": 148,
   "metadata": {},
   "outputs": [
    {
     "name": "stdout",
     "output_type": "stream",
     "text": [
      "C:\\Users\\boble\\Documents\\GitHub\\DataProcessing\\datasets\n"
     ]
    }
   ],
   "source": [
    "# controleer altijd of je in de map helpfiles zit\n",
    "print(os.getcwd())"
   ]
  },
  {
   "cell_type": "code",
   "execution_count": 149,
   "metadata": {},
   "outputs": [
    {
     "name": "stdout",
     "output_type": "stream",
     "text": [
      "Succesfully imported foodprices!\n",
      "Succesfully imported migration_movements!\n",
      "succesfully imported temperature_and_precipitation!\n"
     ]
    }
   ],
   "source": [
    "from select_df import select_df\n",
    "\n",
    "df_foodprices = select_df(1, 'foodprices')\n",
    "df_migration = select_df(1, 'migration_movements')\n",
    "df_weather = select_df(1, 'temperature_and_precipitation')"
   ]
  },
  {
   "cell_type": "code",
   "execution_count": 87,
   "metadata": {},
   "outputs": [
    {
     "name": "stderr",
     "output_type": "stream",
     "text": [
      "c:\\users\\boble\\appdata\\local\\programs\\python\\python36-32\\lib\\site-packages\\bokeh\\models\\sources.py:110: BokehUserWarning: ColumnDataSource's columns must be of the same length. Current lengths: ('x', 122), ('y', 157)\n",
      "  \"Current lengths: %s\" % \", \".join(sorted(str((k, len(v))) for k, v in data.items())), BokehUserWarning))\n"
     ]
    }
   ],
   "source": [
    "# compare_refugees_Gambia_and_price_of_Rice (paddy, long grain, local)\n",
    "\n",
    "def plot_scatter(country, product, year1, year2):\n",
    "    x1 = normalize(select_plot_foodprices_average(df_foodprices, country, product, year1, year2), 'average_price')['Normalized_data']  \n",
    "    y1 = normalize(select_plot_migration_movements(df_migration, country, year1, year2), 'Value')['Normalized_data']    \n",
    "   \n",
    "    output_file(\"Line.html\")\n",
    "\n",
    "    # Create a figure (that's 600x600)\n",
    "    f = figure(plot_width=600, plot_height=600)\n",
    "    \n",
    "    f.xaxis.axis_label = \"Normalised foodprices\"\n",
    "    f.yaxis.axis_label = \"Normalised migration movements\"\n",
    "\n",
    "    # Plot the line\n",
    "    f.circle(x1, y1, color='red')\n",
    "\n",
    "    show(f)\n",
    "    \n",
    "plot_scatter('Gambia', 'Rice (paddy, long grain, local)', 2005, 2018)"
   ]
  },
  {
   "cell_type": "code",
   "execution_count": 174,
   "metadata": {},
   "outputs": [
    {
     "name": "stdout",
     "output_type": "stream",
     "text": [
      "0.6942034783314577 -0.04091440372532081\n",
      "[0.013333333333333286, 0.013333333333333286, 0.013333333333333286, 0.031850666666666715, 0.031850666666666715, 0.031850666666666715, 0.031850666666666715, 0.031850666666666715, 0.031850666666666715, 0.050368000000000135, 0.050368000000000135, 0.050368000000000135, 0.050368000000000135, 0.050368000000000135, 0.050368000000000135, 0.050368000000000135, 0.050368000000000135, 0.050368000000000135, 0.050368000000000135, 0.050368000000000135, 0.0, 0.0, 0.02285714285714292, 0.02285714285714292, 0.05714285714285708, 0.02285714285714292, 0.02285714285714292, 0.02285714285714292, 0.05333333333333329, 0.02, 0.02, 0.02, 0.12, 0.0, 0.0, 0.07200000000000002, 0.07200000000000002, 0.05833200000000005, 0.05833200000000005, 0.06563999999999993, 0.14, 0.15719039999999992, 0.2933333333333333, 0.2, 0.3771428571428572, 0.32, 0.35428571428571415, 0.35428571428571415, 0.2971428571428571, 0.2971428571428571, 0.2971428571428571, 0.2971428571428571, 0.2971428571428571, 0.30801142857142866, 0.30801142857142866, 0.30801142857142866, 0.30801142857142866, 0.30801142857142866, 0.30801142857142866, 0.33086857142857157, 0.18, 0.15882400000000005, 0.3466656, 0.4, 0.25523733333333326, 0.25523733333333326, 0.25523733333333326, 0.25523733333333326, 0.28, 0.285, 0.2933333333333333, 0.2933333333333333, 0.3781818181818181, 0.4, 0.3555555555555554, 0.3657142857142858, 0.39139999999999986, 0.38599999999999995, 0.36, 0.4, 0.4177777777777777, 0.42, 0.44, 0.45306666666666673, 0.4847999999999999, 0.3950399999999999, 0.45439999999999997, 0.5167999999999998, 0.47653333333333336, 0.4309848888888888, 0.448146909090909, 0.4307693333333333, 0.5424000000000001, 0.4493714285714285, 0.5501714285714283, 0.4351999999999998, 0.5172, 0.51, 0.44400000000000034, 0.435, 0.4192000000000002, 0.4192000000000002, 0.5659428571428572, 0.5830857142857144, 0.5640000000000001, 0.58, 0.6, 0.615, 0.89, 0.73, 0.7765417142857146, 0.679481142857143, 0.6052639999999999, 0.6252639999999999, 0.7657142857142858, 0.68, 0.34666666666666657, 0.76, 0.4, 0.798422, 0.91, 0.9194739999999999, 0.87, 0.8, 0.8, 0.915, 1.0]\n"
     ]
    },
    {
     "name": "stderr",
     "output_type": "stream",
     "text": [
      "c:\\users\\boble\\appdata\\local\\programs\\python\\python36-32\\lib\\site-packages\\ipykernel_launcher.py:32: FutureWarning: `rcond` parameter will change to the default of machine precision times ``max(M, N)`` where M and N are the input matrix dimensions.\n",
      "To use the future default and silence this warning we advise to pass `rcond=None`, to keep using the old, explicitly pass `rcond=-1`.\n"
     ]
    },
    {
     "ename": "TypeError",
     "evalue": "'numpy.float64' object cannot be interpreted as an integer",
     "output_type": "error",
     "traceback": [
      "\u001b[1;31m---------------------------------------------------------------------------\u001b[0m",
      "\u001b[1;31mTypeError\u001b[0m                                 Traceback (most recent call last)",
      "\u001b[1;32m<ipython-input-174-e75e5cdf2ccd>\u001b[0m in \u001b[0;36m<module>\u001b[1;34m()\u001b[0m\n\u001b[0;32m     40\u001b[0m     \u001b[0mshow\u001b[0m\u001b[1;33m(\u001b[0m\u001b[0mf\u001b[0m\u001b[1;33m)\u001b[0m\u001b[1;33m\u001b[0m\u001b[0m\n\u001b[0;32m     41\u001b[0m \u001b[1;33m\u001b[0m\u001b[0m\n\u001b[1;32m---> 42\u001b[1;33m \u001b[0mplot_scatter_regression\u001b[0m\u001b[1;33m(\u001b[0m\u001b[1;34m'Gambia'\u001b[0m\u001b[1;33m,\u001b[0m \u001b[1;34m'Rice (paddy, long grain, local)'\u001b[0m\u001b[1;33m)\u001b[0m\u001b[1;33m\u001b[0m\u001b[0m\n\u001b[0m",
      "\u001b[1;32m<ipython-input-174-e75e5cdf2ccd>\u001b[0m in \u001b[0;36mplot_scatter_regression\u001b[1;34m(country, product)\u001b[0m\n\u001b[0;32m     36\u001b[0m     \u001b[1;31m# plot the graph\u001b[0m\u001b[1;33m\u001b[0m\u001b[1;33m\u001b[0m\u001b[0m\n\u001b[0;32m     37\u001b[0m     \u001b[0mf\u001b[0m\u001b[1;33m.\u001b[0m\u001b[0mcircle\u001b[0m\u001b[1;33m(\u001b[0m\u001b[0moutput_x\u001b[0m\u001b[1;33m,\u001b[0m \u001b[0moutput_y\u001b[0m\u001b[1;33m,\u001b[0m \u001b[0mcolor\u001b[0m\u001b[1;33m=\u001b[0m\u001b[1;34m'red'\u001b[0m\u001b[1;33m)\u001b[0m\u001b[1;33m\u001b[0m\u001b[0m\n\u001b[1;32m---> 38\u001b[1;33m     \u001b[0mf\u001b[0m\u001b[1;33m.\u001b[0m\u001b[0mline\u001b[0m\u001b[1;33m(\u001b[0m\u001b[0mx\u001b[0m\u001b[1;33m,\u001b[0m \u001b[0ma\u001b[0m \u001b[1;33m*\u001b[0m \u001b[0mx\u001b[0m \u001b[1;33m+\u001b[0m \u001b[0mb\u001b[0m\u001b[1;33m,\u001b[0m \u001b[0mcolor\u001b[0m\u001b[1;33m=\u001b[0m\u001b[1;34m'blue'\u001b[0m\u001b[1;33m)\u001b[0m\u001b[1;33m\u001b[0m\u001b[0m\n\u001b[0m\u001b[0;32m     39\u001b[0m \u001b[1;33m\u001b[0m\u001b[0m\n\u001b[0;32m     40\u001b[0m     \u001b[0mshow\u001b[0m\u001b[1;33m(\u001b[0m\u001b[0mf\u001b[0m\u001b[1;33m)\u001b[0m\u001b[1;33m\u001b[0m\u001b[0m\n",
      "\u001b[1;31mTypeError\u001b[0m: 'numpy.float64' object cannot be interpreted as an integer"
     ]
    }
   ],
   "source": [
    "def plot_scatter_regression(country, product):\n",
    "    # selecteer de input datasets\n",
    "    dataset_x = normalize(select_plot_foodprices_average(df_foodprices, country, product, 1990, 2020), 'average_price')\n",
    "    dataset_y = normalize(select_plot_migration_movements(df_migration, country, 1990, 2020), 'Value')   \n",
    "\n",
    "    # de lijsten die worden gegenereerd\n",
    "    covered_months = []\n",
    "    output_x = []\n",
    "    output_y = []\n",
    "    \n",
    "    # maak het ontwerp van de grafiek\n",
    "    f = figure(plot_width=600, plot_height=600)\n",
    "    f.title.text=\"Price of {} in {} over time\".format(product, country)\n",
    "    f.xaxis.axis_label = \"Years\"\n",
    "    f.yaxis.axis_label = \"Normalised migration movements\"\n",
    "\n",
    "    # vergelijk de mogelijke maanden en zet ze in een lijst wanneer ze gelijk zijn\n",
    "    for month_x in dataset_x.year:\n",
    "        for month_y in dataset_y.Timestamp:    \n",
    "            if round(month_x, 4) == round(month_y, 4):\n",
    "                output_x.append(float(dataset_x.loc[dataset_x['year'] == month_x]['Normalized_data']))\n",
    "                output_y.append(float(dataset_y.loc[dataset_y['Timestamp'] == month_y][0:1]['Normalized_data']))\n",
    "                covered_months.append(month_x)\n",
    "\n",
    "    # regression line    \n",
    "    regression_x = np.vstack(output_x)\n",
    "    regression_x = np.column_stack((regression_x, np.ones(regression_x.shape[0])))\n",
    "    regression_y = pd.Series(output_y)\n",
    "    \n",
    "    x = output_x\n",
    "    # Now get out m and b values for our best fit line\n",
    "    a, b = np.linalg.lstsq(regression_x, regression_y)[0]\n",
    "    \n",
    "    print(a, b)\n",
    "    print(x)\n",
    "    # plot the graph\n",
    "    f.circle(output_x, output_y, color='red')\n",
    "    f.line(x, a * x + b, color='blue')\n",
    "    \n",
    "    show(f)\n",
    "    \n",
    "plot_scatter_regression('Gambia', 'Rice (paddy, long grain, local)')\n"
   ]
  },
  {
   "cell_type": "code",
   "execution_count": 83,
   "metadata": {},
   "outputs": [
    {
     "ename": "LinAlgError",
     "evalue": "Incompatible dimensions",
     "output_type": "error",
     "traceback": [
      "\u001b[1;31m---------------------------------------------------------------------------\u001b[0m",
      "\u001b[1;31mLinAlgError\u001b[0m                               Traceback (most recent call last)",
      "\u001b[1;32m<ipython-input-83-f9343282ef98>\u001b[0m in \u001b[0;36m<module>\u001b[1;34m()\u001b[0m\n\u001b[0;32m     16\u001b[0m     \u001b[0mshow\u001b[0m\u001b[1;33m(\u001b[0m\u001b[0mf\u001b[0m\u001b[1;33m)\u001b[0m\u001b[1;33m\u001b[0m\u001b[0m\n\u001b[0;32m     17\u001b[0m \u001b[1;33m\u001b[0m\u001b[0m\n\u001b[1;32m---> 18\u001b[1;33m \u001b[0mplot_regression\u001b[0m\u001b[1;33m(\u001b[0m\u001b[1;34m'Zimbabwe'\u001b[0m\u001b[1;33m,\u001b[0m \u001b[1;34m'Maize'\u001b[0m\u001b[1;33m,\u001b[0m \u001b[1;36m2010\u001b[0m\u001b[1;33m,\u001b[0m \u001b[1;36m2014\u001b[0m\u001b[1;33m)\u001b[0m\u001b[1;33m\u001b[0m\u001b[0m\n\u001b[0m",
      "\u001b[1;32m<ipython-input-83-f9343282ef98>\u001b[0m in \u001b[0;36mplot_regression\u001b[1;34m(country, product, year1, year2)\u001b[0m\n\u001b[0;32m     11\u001b[0m \u001b[1;33m\u001b[0m\u001b[0m\n\u001b[0;32m     12\u001b[0m     \u001b[1;31m# Now get out m and b values for our best fit line\u001b[0m\u001b[1;33m\u001b[0m\u001b[1;33m\u001b[0m\u001b[0m\n\u001b[1;32m---> 13\u001b[1;33m     \u001b[0ma\u001b[0m\u001b[1;33m,\u001b[0m \u001b[0mb\u001b[0m \u001b[1;33m=\u001b[0m \u001b[0mnp\u001b[0m\u001b[1;33m.\u001b[0m\u001b[0mlinalg\u001b[0m\u001b[1;33m.\u001b[0m\u001b[0mlstsq\u001b[0m\u001b[1;33m(\u001b[0m\u001b[0mX\u001b[0m\u001b[1;33m,\u001b[0m \u001b[0mY\u001b[0m\u001b[1;33m)\u001b[0m\u001b[1;33m[\u001b[0m\u001b[1;36m0\u001b[0m\u001b[1;33m]\u001b[0m\u001b[1;33m\u001b[0m\u001b[0m\n\u001b[0m\u001b[0;32m     14\u001b[0m     \u001b[0mf\u001b[0m\u001b[1;33m.\u001b[0m\u001b[0mline\u001b[0m\u001b[1;33m(\u001b[0m\u001b[0mx\u001b[0m\u001b[1;33m,\u001b[0m \u001b[0ma\u001b[0m \u001b[1;33m*\u001b[0m \u001b[0mx\u001b[0m \u001b[1;33m+\u001b[0m \u001b[0mb\u001b[0m\u001b[1;33m,\u001b[0m \u001b[0mcolor\u001b[0m\u001b[1;33m=\u001b[0m\u001b[1;34m'red'\u001b[0m\u001b[1;33m)\u001b[0m\u001b[1;33m\u001b[0m\u001b[0m\n\u001b[0;32m     15\u001b[0m \u001b[1;33m\u001b[0m\u001b[0m\n",
      "\u001b[1;32mc:\\users\\boble\\appdata\\local\\programs\\python\\python36-32\\lib\\site-packages\\numpy\\linalg\\linalg.py\u001b[0m in \u001b[0;36mlstsq\u001b[1;34m(a, b, rcond)\u001b[0m\n\u001b[0;32m   1982\u001b[0m     \u001b[0mldb\u001b[0m \u001b[1;33m=\u001b[0m \u001b[0mmax\u001b[0m\u001b[1;33m(\u001b[0m\u001b[0mn\u001b[0m\u001b[1;33m,\u001b[0m \u001b[0mm\u001b[0m\u001b[1;33m)\u001b[0m\u001b[1;33m\u001b[0m\u001b[0m\n\u001b[0;32m   1983\u001b[0m     \u001b[1;32mif\u001b[0m \u001b[0mm\u001b[0m \u001b[1;33m!=\u001b[0m \u001b[0mb\u001b[0m\u001b[1;33m.\u001b[0m\u001b[0mshape\u001b[0m\u001b[1;33m[\u001b[0m\u001b[1;36m0\u001b[0m\u001b[1;33m]\u001b[0m\u001b[1;33m:\u001b[0m\u001b[1;33m\u001b[0m\u001b[0m\n\u001b[1;32m-> 1984\u001b[1;33m         \u001b[1;32mraise\u001b[0m \u001b[0mLinAlgError\u001b[0m\u001b[1;33m(\u001b[0m\u001b[1;34m'Incompatible dimensions'\u001b[0m\u001b[1;33m)\u001b[0m\u001b[1;33m\u001b[0m\u001b[0m\n\u001b[0m\u001b[0;32m   1985\u001b[0m \u001b[1;33m\u001b[0m\u001b[0m\n\u001b[0;32m   1986\u001b[0m     \u001b[0mt\u001b[0m\u001b[1;33m,\u001b[0m \u001b[0mresult_t\u001b[0m \u001b[1;33m=\u001b[0m \u001b[0m_commonType\u001b[0m\u001b[1;33m(\u001b[0m\u001b[0ma\u001b[0m\u001b[1;33m,\u001b[0m \u001b[0mb\u001b[0m\u001b[1;33m)\u001b[0m\u001b[1;33m\u001b[0m\u001b[0m\n",
      "\u001b[1;31mLinAlgError\u001b[0m: Incompatible dimensions"
     ]
    }
   ],
   "source": [
    "def plot_regression(country, product, year1, year2):\n",
    "    # Set up X as median room values and use Use vstack to make X two-dimensional\n",
    "    # Remember that X normally is (N,) instead of (N,1).\n",
    "    X = np.vstack(normalize(select_plot_foodprices_average(df_foodprices, country, product, year1, year2), 'average_price')['Normalized_data'])\n",
    "    X = np.column_stack((X, np.ones(X.shape[0])))\n",
    "    \n",
    "    # Set up Y as the target price of the houses.\n",
    "    Y = normalize(select_plot_migration_movements(df_migration, country, year1, year2), 'Value')['Normalized_data']\n",
    "    \n",
    "    x = normalize(select_plot_foodprices_average(df_foodprices, country, product, year1, year2), 'average_price')['Normalized_data']\n",
    "\n",
    "    # Now get out m and b values for our best fit line\n",
    "    a, b = np.linalg.lstsq(X, Y)[0]\n",
    "    f.line(x, a * x + b, color='red')\n",
    "    \n",
    "    show(f)\n",
    "\n",
    "plot_regression('Zimbabwe', 'Maize', 2010, 2014)   "
   ]
  },
  {
   "cell_type": "code",
   "execution_count": 175,
   "metadata": {},
   "outputs": [
    {
     "name": "stderr",
     "output_type": "stream",
     "text": [
      "c:\\users\\boble\\appdata\\local\\programs\\python\\python36-32\\lib\\site-packages\\ipykernel_launcher.py:14: FutureWarning: `rcond` parameter will change to the default of machine precision times ``max(M, N)`` where M and N are the input matrix dimensions.\n",
      "To use the future default and silence this warning we advise to pass `rcond=None`, to keep using the old, explicitly pass `rcond=-1`.\n",
      "  \n"
     ]
    },
    {
     "name": "stdout",
     "output_type": "stream",
     "text": [
      "0      2006.000000\n",
      "1      2006.083333\n",
      "2      2006.166667\n",
      "3      2006.250000\n",
      "4      2006.333333\n",
      "5      2006.416667\n",
      "6      2006.500000\n",
      "7      2006.583333\n",
      "8      2006.666667\n",
      "9      2006.750000\n",
      "10     2006.833333\n",
      "11     2006.916667\n",
      "12     2007.083333\n",
      "13     2007.166667\n",
      "14     2007.250000\n",
      "15     2007.333333\n",
      "16     2007.416667\n",
      "17     2007.500000\n",
      "18     2007.583333\n",
      "19     2007.666667\n",
      "20     2007.750000\n",
      "21     2007.833333\n",
      "22     2007.916667\n",
      "23     2008.000000\n",
      "24     2008.083333\n",
      "25     2008.166667\n",
      "26     2008.250000\n",
      "27     2008.333333\n",
      "28     2008.416667\n",
      "29     2008.500000\n",
      "          ...     \n",
      "92     2014.000000\n",
      "93     2014.083333\n",
      "94     2014.166667\n",
      "95     2014.250000\n",
      "96     2014.333333\n",
      "97     2014.416667\n",
      "98     2014.500000\n",
      "99     2014.583333\n",
      "100    2015.750000\n",
      "101    2015.833333\n",
      "102    2016.000000\n",
      "103    2016.166667\n",
      "104    2016.250000\n",
      "105    2016.333333\n",
      "106    2016.416667\n",
      "107    2016.500000\n",
      "108    2016.583333\n",
      "109    2016.666667\n",
      "110    2016.750000\n",
      "111    2016.833333\n",
      "112    2016.916667\n",
      "113    2017.000000\n",
      "114    2017.083333\n",
      "115    2017.166667\n",
      "116    2017.250000\n",
      "117    2017.333333\n",
      "118    2017.416667\n",
      "119    2017.500000\n",
      "120    2017.583333\n",
      "121    2017.666667\n",
      "Name: year, Length: 122, dtype: float64\n"
     ]
    }
   ],
   "source": [
    "# compare_refugees_Gambia_and_price_of_Rice (paddy, long grain, local)\n",
    "\n",
    "def plot_timeline(country, product, year1, year2):\n",
    "    # scatter\n",
    "    x1 = select_plot_foodprices_average(df_foodprices, country, product, year1, year2)['year']\n",
    "    y1 = normalize(select_plot_foodprices_average(df_foodprices, country, product, year1, year2), 'average_price')['Normalized_data']    \n",
    "    \n",
    "    # regression line    \n",
    "    x2 = np.vstack(select_plot_foodprices_average(df_foodprices, country, product, year1, year2)['year'])\n",
    "    x2 = np.column_stack((x2, np.ones(x2.shape[0])))\n",
    "    y2 = normalize(select_plot_foodprices_average(df_foodprices, country, product, year1, year2), 'average_price')['Normalized_data']\n",
    "    x = select_plot_foodprices_average(df_foodprices, country, product, year1, year2)['year']\n",
    "    # Now get out m and b values for our best fit line\n",
    "    a, b = np.linalg.lstsq(x2, y2)[0]\n",
    "\n",
    "    print(x)\n",
    "\n",
    "    # set the layout\n",
    "    f = figure(plot_width=600, plot_height=600)\n",
    "    \n",
    "    f.title.text=\"Price of {} in {} over time\".format(product, country)\n",
    "    f.xaxis.axis_label = \"Years\"\n",
    "    f.yaxis.axis_label = \"Normalised migration movements\"\n",
    "\n",
    "    # plot the graph\n",
    "    f.circle(x1, y1, color='red')\n",
    "    f.line(x, a * x + b, color='blue')\n",
    "\n",
    "    show(f)\n",
    "    \n",
    "plot_timeline('Gambia', 'Rice (paddy, long grain, local)', 2005, 2018)"
   ]
  }
 ],
 "metadata": {
  "kernelspec": {
   "display_name": "Python 3",
   "language": "python",
   "name": "python3"
  },
  "language_info": {
   "codemirror_mode": {
    "name": "ipython",
    "version": 3
   },
   "file_extension": ".py",
   "mimetype": "text/x-python",
   "name": "python",
   "nbconvert_exporter": "python",
   "pygments_lexer": "ipython3",
   "version": "3.6.5"
  }
 },
 "nbformat": 4,
 "nbformat_minor": 2
}
