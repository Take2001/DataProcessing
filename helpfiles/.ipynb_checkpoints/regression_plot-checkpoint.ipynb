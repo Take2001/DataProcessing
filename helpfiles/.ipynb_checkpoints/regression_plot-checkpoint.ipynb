{
 "cells": [
  {
   "cell_type": "code",
   "execution_count": 230,
   "metadata": {},
   "outputs": [
    {
     "ename": "ModuleNotFoundError",
     "evalue": "No module named 'products_per_country'",
     "output_type": "error",
     "traceback": [
      "\u001b[1;31m---------------------------------------------------------------------------\u001b[0m",
      "\u001b[1;31mModuleNotFoundError\u001b[0m                       Traceback (most recent call last)",
      "\u001b[1;32m<ipython-input-230-ea075a7486f6>\u001b[0m in \u001b[0;36m<module>\u001b[1;34m()\u001b[0m\n\u001b[0;32m      7\u001b[0m \u001b[1;32mfrom\u001b[0m \u001b[0msklearn\u001b[0m\u001b[1;33m.\u001b[0m\u001b[0mmetrics\u001b[0m \u001b[1;32mimport\u001b[0m \u001b[0mmean_squared_error\u001b[0m\u001b[1;33m\u001b[0m\u001b[0m\n\u001b[0;32m      8\u001b[0m \u001b[1;32mfrom\u001b[0m \u001b[0mbokeh\u001b[0m\u001b[1;33m.\u001b[0m\u001b[0mmodels\u001b[0m \u001b[1;32mimport\u001b[0m \u001b[0mHoverTool\u001b[0m\u001b[1;33m,\u001b[0m \u001b[0mBoxSelectTool\u001b[0m\u001b[1;33m\u001b[0m\u001b[0m\n\u001b[1;32m----> 9\u001b[1;33m \u001b[1;32mfrom\u001b[0m \u001b[0mproducts_per_country\u001b[0m \u001b[1;32mimport\u001b[0m \u001b[1;33m*\u001b[0m\u001b[1;33m\u001b[0m\u001b[0m\n\u001b[0m",
      "\u001b[1;31mModuleNotFoundError\u001b[0m: No module named 'products_per_country'"
     ]
    }
   ],
   "source": [
    "import pandas as pd\n",
    "import numpy as np\n",
    "import os\n",
    "from bokeh.plotting import figure\n",
    "from bokeh.io import output_file, show, save\n",
    "from functies_voor_selectief_plotten import *\n",
    "from sklearn.metrics import mean_squared_error\n",
    "from bokeh.models import HoverTool, BoxSelectTool\n",
    "from products_per_country import *"
   ]
  },
  {
   "cell_type": "code",
   "execution_count": 231,
   "metadata": {},
   "outputs": [
    {
     "name": "stdout",
     "output_type": "stream",
     "text": [
      "C:\\Users\\boble\\Documents\\GitHub\\DataProcessing\\datasets\n"
     ]
    }
   ],
   "source": [
    "# controleer altijd of je in de map helpfiles zit\n",
    "print(os.getcwd())"
   ]
  },
  {
   "cell_type": "code",
   "execution_count": 149,
   "metadata": {},
   "outputs": [
    {
     "name": "stdout",
     "output_type": "stream",
     "text": [
      "Succesfully imported foodprices!\n",
      "Succesfully imported migration_movements!\n",
      "succesfully imported temperature_and_precipitation!\n"
     ]
    }
   ],
   "source": [
    "from select_df import select_df\n",
    "\n",
    "df_foodprices = select_df(1, 'foodprices')\n",
    "df_migration = select_df(1, 'migration_movements')\n",
    "df_weather = select_df(1, 'temperature_and_precipitation')"
   ]
  },
  {
   "cell_type": "code",
   "execution_count": 228,
   "metadata": {},
   "outputs": [
    {
     "name": "stderr",
     "output_type": "stream",
     "text": [
      "c:\\users\\boble\\appdata\\local\\programs\\python\\python36-32\\lib\\site-packages\\ipykernel_launcher.py:40: FutureWarning: `rcond` parameter will change to the default of machine precision times ``max(M, N)`` where M and N are the input matrix dimensions.\n",
      "To use the future default and silence this warning we advise to pass `rcond=None`, to keep using the old, explicitly pass `rcond=-1`.\n"
     ]
    },
    {
     "name": "stdout",
     "output_type": "stream",
     "text": [
      "2762374.2784456112\n"
     ]
    }
   ],
   "source": [
    "def plot_scatter_regression(country, product):\n",
    "    # selecteer de input datasets\n",
    "    dataset_x = normalize(select_plot_foodprices_average(df_foodprices, country, product, 1990, 2020), 'average_price')\n",
    "    dataset_y = select_plot_migration_movements(df_migration, country, 1990, 2020)\n",
    "\n",
    "    # de lijsten die worden gegenereerd\n",
    "    covered_months = []\n",
    "    output_x = []\n",
    "    output_y = []\n",
    "    \n",
    "    # hovertool\n",
    "    hover = HoverTool(\n",
    "        tooltips=[\n",
    "            (\"Normalised foodprice\", \"$x{1.11}\"),\n",
    "            (\"Refugees to Europe\", \"$y{int}\"),\n",
    "#             (\"Month\", \"{}\".format(covered_months[int('$y')])),\n",
    "        ]\n",
    "    )\n",
    "    \n",
    "    # maak het ontwerp van de grafiek\n",
    "    f = figure(plot_width=600, plot_height=600, tools=[hover])\n",
    "    f.title.text=\"Correlation between {} and refugees in {}\".format(product, country)\n",
    "    f.xaxis.axis_label = \"Normalized foodprices\"\n",
    "    f.yaxis.axis_label = \"Migration movements\"\n",
    "\n",
    "    # vergelijk de mogelijke maanden en zet ze in een lijst wanneer ze gelijk zijn\n",
    "    for month_x in dataset_x.year:\n",
    "        for month_y in dataset_y.Timestamp:    \n",
    "            if round(month_x, 4) == round(month_y, 4):\n",
    "                output_x.append(float(dataset_x.loc[dataset_x['year'] == month_x]['Normalized_data']))\n",
    "                output_y.append(float(dataset_y.loc[dataset_y['Timestamp'] == month_y][0:1]['Value']))\n",
    "                covered_months.append(month_x)\n",
    "\n",
    "    # regression line    \n",
    "    regression_x = np.vstack(output_x)\n",
    "    regression_x = np.column_stack((regression_x, np.ones(regression_x.shape[0])))\n",
    "    \n",
    "    # scale\n",
    "    x = pd.Series(output_x)\n",
    "    a, b = np.linalg.lstsq(regression_x, output_y)[0]\n",
    "    \n",
    "    # plot the graph\n",
    "    f.scatter(output_x, output_y, color='red')\n",
    "    f.line(x, a * x + b, color='blue')\n",
    "    \n",
    "    # MSE\n",
    "    y = a * x + b\n",
    "    mse = mean_squared_error(output_y, y)\n",
    "    print(mse)\n",
    "    \n",
    "    show(f)\n",
    "    \n",
    "plot_scatter_regression('Nigeria', 'Yam')"
   ]
  },
  {
   "cell_type": "code",
   "execution_count": null,
   "metadata": {},
   "outputs": [],
   "source": [
    "def plot_scatter_regression_all(country, product):\n",
    "    # selecteer de input datasets\n",
    "    dataset_x = normalize(select_plot_foodprices_average(df_foodprices, country, product, 1990, 2020), 'average_price')\n",
    "    dataset_y = select_plot_migration_movements(df_migration, country, 1990, 2020)\n",
    "\n",
    "    # de lijsten die worden gegenereerd\n",
    "    covered_months = []\n",
    "    output_x = []\n",
    "    output_y = []\n",
    "    \n",
    "    # hovertool\n",
    "    hover = HoverTool(\n",
    "        tooltips=[\n",
    "            (\"Normalised foodprice\", \"$x{1.11}\"),\n",
    "            (\"Refugees to Europe\", \"$y{int}\"),\n",
    "#             (\"Month\", \"{}\".format(covered_months[int('$y')])),\n",
    "        ]\n",
    "    )\n",
    "    \n",
    "    # maak het ontwerp van de grafiek\n",
    "    f = figure(plot_width=600, plot_height=600, tools=[hover])\n",
    "    f.title.text=\"Correlation between {} and refugees in {}\".format(product, country)\n",
    "    f.xaxis.axis_label = \"Normalized foodprices\"\n",
    "    f.yaxis.axis_label = \"Migration movements\"\n",
    "\n",
    "    # vergelijk de mogelijke maanden en zet ze in een lijst wanneer ze gelijk zijn\n",
    "    for month_x in dataset_x.year:\n",
    "        for month_y in dataset_y.Timestamp:    \n",
    "            if round(month_x, 4) == round(month_y, 4):\n",
    "                output_x.append(float(dataset_x.loc[dataset_x['year'] == month_x]['Normalized_data']))\n",
    "                output_y.append(float(dataset_y.loc[dataset_y['Timestamp'] == month_y][0:1]['Value']))\n",
    "                covered_months.append(month_x)\n",
    "\n",
    "    # regression line    \n",
    "    regression_x = np.vstack(output_x)\n",
    "    regression_x = np.column_stack((regression_x, np.ones(regression_x.shape[0])))\n",
    "    \n",
    "    # scale\n",
    "    x = pd.Series(output_x)\n",
    "    a, b = np.linalg.lstsq(regression_x, output_y)[0]\n",
    "    \n",
    "    # plot the graph\n",
    "    f.scatter(output_x, output_y, color='red')\n",
    "    f.line(x, a * x + b, color='blue')\n",
    "    \n",
    "    # MSE\n",
    "    y = a * x + b\n",
    "    mse = mean_squared_error(output_y, y)\n",
    "    print(mse)\n",
    "    \n",
    "    show(f)\n",
    "    \n",
    "plot_scatter_regression_all('Nigeria', 'Yam')"
   ]
  },
  {
   "cell_type": "code",
   "execution_count": 217,
   "metadata": {},
   "outputs": [
    {
     "name": "stderr",
     "output_type": "stream",
     "text": [
      "c:\\users\\boble\\appdata\\local\\programs\\python\\python36-32\\lib\\site-packages\\ipykernel_launcher.py:31: FutureWarning: `rcond` parameter will change to the default of machine precision times ``max(M, N)`` where M and N are the input matrix dimensions.\n",
      "To use the future default and silence this warning we advise to pass `rcond=None`, to keep using the old, explicitly pass `rcond=-1`.\n"
     ]
    }
   ],
   "source": [
    "def plot_scatter_regression_normalized(country, product):\n",
    "    # selecteer de input datasets\n",
    "    dataset_x = normalize(select_plot_foodprices_average(df_foodprices, country, product, 1990, 2020), 'average_price')\n",
    "    dataset_y = normalize(select_plot_migration_movements(df_migration, country, 1990, 2020), 'Value')   \n",
    "\n",
    "    # de lijsten die worden gegenereerd\n",
    "    covered_months = []\n",
    "    output_x = []\n",
    "    output_y = []\n",
    "    \n",
    "    # maak het ontwerp van de grafiek\n",
    "    f = figure(plot_width=600, plot_height=600)\n",
    "    f.title.text=\"Correlation between {} and refugees in {}\".format(product, country)\n",
    "    f.xaxis.axis_label = \"Normalized foodprices\"\n",
    "    f.yaxis.axis_label = \"Normalized migration movements\"\n",
    "\n",
    "    # vergelijk de mogelijke maanden en zet ze in een lijst wanneer ze gelijk zijn\n",
    "    for month_x in dataset_x.year:\n",
    "        for month_y in dataset_y.Timestamp:    \n",
    "            if round(month_x, 4) == round(month_y, 4):\n",
    "                output_x.append(float(dataset_x.loc[dataset_x['year'] == month_x]['Normalized_data']))\n",
    "                output_y.append(float(dataset_y.loc[dataset_y['Timestamp'] == month_y][0:1]['Normalized_data']))\n",
    "                covered_months.append(month_x)\n",
    "\n",
    "    # regression line    \n",
    "    regression_x = np.vstack(output_x)\n",
    "    regression_x = np.column_stack((regression_x, np.ones(regression_x.shape[0])))\n",
    "    \n",
    "    # scale\n",
    "    x = pd.Series(output_x)\n",
    "    a, b = np.linalg.lstsq(regression_x, output_y)[0]\n",
    "    \n",
    "    # plot the graph\n",
    "    f.circle(output_x, output_y, color='red')\n",
    "    f.line(x, a * x + b, color='blue')\n",
    "    \n",
    "    show(f)\n",
    "    \n",
    "plot_scatter_regression_normalized('Gambia', 'Rice (paddy, long grain, local)')"
   ]
  },
  {
   "cell_type": "code",
   "execution_count": 184,
   "metadata": {},
   "outputs": [
    {
     "name": "stderr",
     "output_type": "stream",
     "text": [
      "c:\\users\\boble\\appdata\\local\\programs\\python\\python36-32\\lib\\site-packages\\ipykernel_launcher.py:14: FutureWarning: `rcond` parameter will change to the default of machine precision times ``max(M, N)`` where M and N are the input matrix dimensions.\n",
      "To use the future default and silence this warning we advise to pass `rcond=None`, to keep using the old, explicitly pass `rcond=-1`.\n",
      "  \n"
     ]
    }
   ],
   "source": [
    "# compare_refugees_Gambia_and_price_of_Rice (paddy, long grain, local)\n",
    "\n",
    "def plot_timeline(country, product, year1, year2):\n",
    "    # scatter\n",
    "    x1 = select_plot_foodprices_average(df_foodprices, country, product, year1, year2)['year']\n",
    "    y1 = normalize(select_plot_foodprices_average(df_foodprices, country, product, year1, year2), 'average_price')['Normalized_data']    \n",
    "    \n",
    "    # regression line    \n",
    "    x2 = np.vstack(select_plot_foodprices_average(df_foodprices, country, product, year1, year2)['year'])\n",
    "    x2 = np.column_stack((x2, np.ones(x2.shape[0])))\n",
    "    y2 = normalize(select_plot_foodprices_average(df_foodprices, country, product, year1, year2), 'average_price')['Normalized_data']\n",
    "    x = select_plot_foodprices_average(df_foodprices, country, product, year1, year2)['year']\n",
    "    # Now get out m and b values for our best fit line\n",
    "    a, b = np.linalg.lstsq(x2, y2)[0]\n",
    "\n",
    "    # set the layout\n",
    "    f = figure(plot_width=600, plot_height=600)\n",
    "    \n",
    "    f.title.text=\"Price of {} in {} over time\".format(product, country)\n",
    "    f.xaxis.axis_label = \"Years\"\n",
    "    f.yaxis.axis_label = \"Normalised migration movements\"\n",
    "\n",
    "    # plot the graph\n",
    "    f.circle(x1, y1, color='red')\n",
    "    f.line(x, a * x + b, color='blue')\n",
    "\n",
    "    show(f)\n",
    "    \n",
    "plot_timeline('Gambia', 'Rice (paddy, long grain, local)', 2005, 2018)"
   ]
  }
 ],
 "metadata": {
  "kernelspec": {
   "display_name": "Python 3",
   "language": "python",
   "name": "python3"
  },
  "language_info": {
   "codemirror_mode": {
    "name": "ipython",
    "version": 3
   },
   "file_extension": ".py",
   "mimetype": "text/x-python",
   "name": "python",
   "nbconvert_exporter": "python",
   "pygments_lexer": "ipython3",
   "version": "3.6.5"
  }
 },
 "nbformat": 4,
 "nbformat_minor": 2
}
