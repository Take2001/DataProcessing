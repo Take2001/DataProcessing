{
 "cells": [
  {
   "cell_type": "code",
   "execution_count": 88,
   "metadata": {},
   "outputs": [
    {
     "data": {
      "text/plain": [
       "'Error: -- hoi -- is geen beschikbare dataset. Kies uit: foodprices, migration_movements of temperature_and_precipitation'"
      ]
     },
     "execution_count": 88,
     "metadata": {},
     "output_type": "execute_result"
    }
   ],
   "source": [
    "#aantal mappen terug naar DataProcessing #de dataset die je wil importeren \n",
    "\n",
    "def select_df(folders_up, dataset):\n",
    "    import os\n",
    "    import pandas as pd\n",
    "    import numpy as np\n",
    "    \n",
    "    if dataset == 'foodprices':\n",
    "        for i in range(folders_up):\n",
    "            os.chdir(\"../\")\n",
    "        os.chdir(\"datasets/preprocessed datasets/Food prices\")\n",
    "        raw_data = pd.read_csv('Food_prizes_Africa_processed.csv')\n",
    "        df = pd.DataFrame(raw_data)\n",
    "        print('Succesfully imported foodprices!')   \n",
    "        \n",
    "    elif dataset == 'migration_movements':\n",
    "        for i in range(folders_up):\n",
    "            os.chdir(\"../\")                   \n",
    "        os.chdir(\"datasets/preprocessed datasets/Migration movements!\")\n",
    "        raw_data = pd.read_csv('data_africa.csv')\n",
    "        df = pd.DataFrame(raw_data)\n",
    "        print('Succesfully imported migration_movements!')    \n",
    "                                    \n",
    "    elif dataset == 'temperature_and_precipitation':\n",
    "        for i in range(folders_up):\n",
    "            os.chdir(\"../\")        \n",
    "        os.chdir(\"datasets/preprocessed datasets/Temperature and precipitation\")\n",
    "        raw_data = pd.read_csv('tas_pr_1991_2015_AC.csv')\n",
    "        df = pd.DataFrame(raw_data)\n",
    "        print('succesfully imported temperature_and_precipitation!')\n",
    "        \n",
    "    else:\n",
    "        return('Error: -- {} -- is geen beschikbare dataset. Kies uit: foodprices, migration_movements of temperature_and_precipitation'.format(dataset))\n",
    "    \n",
    "    if folders_up < 3:    \n",
    "        for i in range(3 - folders_up ):\n",
    "            os.chdir(\"../\")\n",
    "    return df\n",
    "select_df(2, 'hoi')"
   ]
  }
 ],
 "metadata": {
  "kernelspec": {
   "display_name": "Python 3",
   "language": "python",
   "name": "python3"
  },
  "language_info": {
   "codemirror_mode": {
    "name": "ipython",
    "version": 3
   },
   "file_extension": ".py",
   "mimetype": "text/x-python",
   "name": "python",
   "nbconvert_exporter": "python",
   "pygments_lexer": "ipython3",
   "version": "3.6.5"
  }
 },
 "nbformat": 4,
 "nbformat_minor": 2
}
