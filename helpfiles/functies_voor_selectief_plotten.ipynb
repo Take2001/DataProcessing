{
 "cells": [
  {
   "cell_type": "code",
   "execution_count": 1,
   "metadata": {},
   "outputs": [
    {
     "name": "stdout",
     "output_type": "stream",
     "text": [
      "C:\\Users\\boble\\Documents\\GitHub\\DataProcessing\\helpfiles\n"
     ]
    }
   ],
   "source": [
    "import pandas as pd\n",
    "import numpy as np\n",
    "import os\n",
    "\n",
    "print(os.getcwd())\n",
    "# controleer altijd of je in de map helpfiles zit"
   ]
  },
  {
   "cell_type": "code",
   "execution_count": 2,
   "metadata": {},
   "outputs": [
    {
     "name": "stdout",
     "output_type": "stream",
     "text": [
      "Succesfully imported foodprices!\n",
      "Succesfully imported migration_movements!\n",
      "succesfully imported temperature_and_precipitation!\n"
     ]
    }
   ],
   "source": [
    "from select_df import select_df\n",
    "\n",
    "df_foodprices = select_df(1, 'foodprices')\n",
    "df_migration = select_df(1, 'migration_movements')\n",
    "df_weather = select_df(1, 'temperature_and_precipitation')"
   ]
  },
  {
   "cell_type": "markdown",
   "metadata": {},
   "source": [
    "## Normalize function"
   ]
  },
  {
   "cell_type": "code",
   "execution_count": 3,
   "metadata": {},
   "outputs": [],
   "source": [
    "# normaliseer de data van een speciefieke kolom naar waardes tussen 0 en 1.\n",
    "\n",
    "def normalize(input_data, column):\n",
    "    values = []\n",
    "    \n",
    "    for value in input_data[column]:\n",
    "         values.append(value)\n",
    "            \n",
    "    Min = min(values)\n",
    "    Max = max(values)\n",
    "        \n",
    "    output_data = []\n",
    "    for value in input_data[column]:\n",
    "        output_data.append((value - Min)/(Max - Min))\n",
    "    \n",
    "    input_data['Normalized_data'] = output_data\n",
    "    \n",
    "    return input_data"
   ]
  },
  {
   "cell_type": "markdown",
   "metadata": {},
   "source": [
    "# Plot migration movements"
   ]
  },
  {
   "cell_type": "code",
   "execution_count": 4,
   "metadata": {},
   "outputs": [],
   "source": [
    "# selecteer voor een #input_data de #country_of_residence vanuit een bepaalde #origin vanaf #year1 tot en met #year2\n",
    "\n",
    "def select_plot_migration_movements(input_data, country_of_residence, origin, year1, year2):\n",
    "    input_data = input_data.loc[input_data['Country of residence'] == country_of_residence]\n",
    "    if input_data.empty == True:\n",
    "        return('Error: Country of residence: {} is not included in DataFrame!'.format(country_of_residence))\n",
    "    input_data = input_data.loc[input_data['Origin'] == origin]\n",
    "    if input_data.empty == True:\n",
    "        return('Error: Origin: {} is not included in DataFrame!'.format(country_of_residence))\n",
    "    input_data = input_data.loc[(input_data['YearMonth'] > year1) & (input_data['YearMonth'] < year2 + 1)]\n",
    "    return input_data\n",
    "\n",
    "# werking\n",
    "# select_plot_migration_movements(df_migration, 'Netherlands', 'Zimbabwe', 2000, 2012)"
   ]
  },
  {
   "cell_type": "markdown",
   "metadata": {},
   "source": [
    "# Plot temperature and precipitation"
   ]
  },
  {
   "cell_type": "code",
   "execution_count": 5,
   "metadata": {},
   "outputs": [],
   "source": [
    "# geeft voor een #input_data van een #country de pr en tas vanaf #year1 tot en met #year2\n",
    "\n",
    "def select_plot_temperature_and_precipitation(input_data, country, year1, year2):\n",
    "    saved_dict = {'Mauritania': 'MRT', 'Lesotho': 'LSO', 'Somalia': 'SOM', 'Nigeria': 'NGA', 'Tanzania': 'TZA', 'Zambia': 'ZMB', 'Burundi': 'BDI', 'Afghanistan': 'AFG', 'Mali': 'MLI', 'Niger': 'NER', 'Malawi': 'MWI', 'Congo': 'ZAR', 'Cabo Verde': 'CPV', 'Sudan': 'SDN', 'Pakistan': 'PAK', 'Burkina Faso': 'BFA', 'Rwanda': 'RWA', 'Kenya': 'KEN', 'Senegal': 'SEN', 'Cameroon': 'CMR', 'Sierra Leone': 'SLE', 'Iraq': 'IRQ', 'Uganda': 'UGA', 'Mozambique': 'MOZ', 'Zimbabwe': 'ZWE', 'Central African Republic': 'CAF', 'Ethiopia': 'ETH', 'Guinea': 'GIN', 'Liberia': 'LBR', 'Djibouti': 'DJI', 'Iran': 'IRN', 'Madagascar': 'MDG', 'Lebanon': 'LBN'}\n",
    "\n",
    "    if country in saved_dict.keys():\n",
    "        country = saved_dict[country]\n",
    "    else:\n",
    "        print(\"Please enter correct country name\")\n",
    "    \n",
    "    input_data = pd.DataFrame(input_data.loc[input_data['country'] == country])\n",
    "    input_data = input_data.loc[(input_data['year'] > year1 - 1) & (input_data['year'] < year2 + 1)]\n",
    "    \n",
    "#     maak van de jaren en maanden kommajaren\n",
    "    YearMonth = []\n",
    "    month = []\n",
    "    for row in input_data['month']:\n",
    "        month.append(str(row))\n",
    "        \n",
    "    count = 0\n",
    "    for year in input_data['year']:\n",
    "        year = int(year) + (int(month[count])  - 1)/ 12\n",
    "        YearMonth.append(year)\n",
    "        count += 1\n",
    "    input_data['YearMonth'] = YearMonth\n",
    "    input_data = input_data[['pr', 'tas', 'country', 'YearMonth']]\n",
    "    return input_data\n",
    "\n",
    "# werking\n",
    "# select_plot_temperature_and_precipitation(df_weather, 'Mauritania', 1985, 2030)"
   ]
  },
  {
   "cell_type": "markdown",
   "metadata": {},
   "source": [
    "# Plot foodprices per market"
   ]
  },
  {
   "cell_type": "code",
   "execution_count": 6,
   "metadata": {},
   "outputs": [],
   "source": [
    "def select_plot_foodprices_per_market(input_data, country, product, year1, year2):\n",
    "    input_data = input_data.loc[input_data['adm0_name'] == country]\n",
    "    input_data = input_data.loc[input_data['cm_name'] == product]\n",
    "    input_data = input_data.loc[(input_data['Year'] >= year1) & (input_data['Year'] < year2 + 1)]\n",
    "    return input_data\n",
    "\n",
    "# werking\n",
    "# select_plot_foodprices_per_market(df_foodprices, 'Burkina Faso', 'Maize', 2004, 2004)"
   ]
  },
  {
   "cell_type": "code",
   "execution_count": 7,
   "metadata": {},
   "outputs": [],
   "source": [
    "# berekend de gemiddelde voedselprijzen van een product in een land\n",
    "\n",
    "def select_plot_foodprices_average(input_data, country, product, year1, year2):\n",
    "    input_data = select_plot_foodprices_per_market(input_data, country, product, year1, year2)\n",
    "    \n",
    "    country_list = []\n",
    "    product_list = []\n",
    "    average_price_list = []\n",
    "    year_list = []\n",
    "    \n",
    "    for i in range(year1, year2 + 1):\n",
    "        for j in range(12):\n",
    "#             Selecteer een specifieke maand in een jaar\n",
    "            output_data = input_data.loc[input_data['mp_year'] == i]\n",
    "            output_data = output_data.loc[output_data['mp_month'] == j + 1]\n",
    "#         maak een nieuwe rij wanneer er data beschikbaar is\n",
    "            if len(output_data['mp_price']) > 0:\n",
    "#                 year\n",
    "                year_list.append(i + (j / 12))\n",
    "\n",
    "#                 country\n",
    "                country_list.append(country)\n",
    "\n",
    "#                 product\n",
    "                product_list.append(product)\n",
    "#                 average data            \n",
    "                average_price_list.append(sum(output_data['mp_price']) / len(output_data['mp_price']))\n",
    "            else:\n",
    "                print('ERROR: Geen data beschikbaar over het jaar', i + j/12)\n",
    "    \n",
    "    output_data = pd.DataFrame()    \n",
    "    output_data['country'] = country_list\n",
    "    output_data['year'] = year_list\n",
    "    output_data['product'] = product_list\n",
    "    output_data['average_price'] = average_price_list\n",
    "    return output_data\n",
    "\n",
    "# werking\n",
    "# select_plot_foodprices_average(df_foodprices, 'Burkina Faso', 'Maize', 2004, 2006)    "
   ]
  },
  {
   "cell_type": "markdown",
   "metadata": {},
   "source": [
    "# Plot functies"
   ]
  },
  {
   "cell_type": "code",
   "execution_count": 11,
   "metadata": {},
   "outputs": [],
   "source": [
    "from bokeh.plotting import figure\n",
    "from bokeh.io import output_file, show, save\n",
    "\n",
    "import pandas\n",
    "\n",
    "# Make sure x and y are of the same length.\n",
    "x1 = select_plot_foodprices_average(df_foodprices, 'Sudan', 'Sorghum', 2004, 2014)['year'] \n",
    "y1 = normalize(select_plot_foodprices_average(df_foodprices, 'Sudan', 'Sorghum', 2004, 2014), 'average_price')['Normalized_data']  \n",
    "\n",
    "x2 = select_plot_temperature_and_precipitation(df_weather, 'Sudan', 2004, 2014)['YearMonth']    \n",
    "y2 = normalize(select_plot_temperature_and_precipitation(df_weather, 'Sudan', 2004, 2014), 'tas')['Normalized_data']  \n",
    "\n",
    "x3 = select_plot_temperature_and_precipitation(df_weather, 'Sudan', 2004, 2014)['YearMonth']    \n",
    "y3 = normalize(select_plot_temperature_and_precipitation(df_weather, 'Sudan', 2004, 2014), 'pr')['Normalized_data'] \n",
    "\n",
    "output_file(\"Line.html\")\n",
    "\n",
    "f = figure(plot_width=1500, plot_height=600)\n",
    "f.xaxis.axis_label = \"Temperature and precipitation\"\n",
    "f.yaxis.axis_label = \"Average foodprices\"\n",
    "\n",
    "# Plot the line\n",
    "f.line(x1, y1, color='red')\n",
    "f.line(x2, y2, color='blue')\n",
    "f.line(x3, y3, color='orange')\n",
    "\n",
    "show(f)"
   ]
  },
  {
   "cell_type": "code",
   "execution_count": null,
   "metadata": {},
   "outputs": [],
   "source": [
    "x1 = normalize(select_plot_temperature_and_precipitation(df_weather, 'Sudan', 2004, 2014), 'tas')['Normalized_data']    \n",
    "y1 = normalize(select_plot_foodprices_average(df_foodprices, 'Sudan', 'Sorghum', 2004, 2014), 'average_price')['Normalized_data']  \n",
    "\n",
    "output_file(\"Line.html\")\n",
    "\n",
    "# Create a figure (that's 600x600)\n",
    "f = figure(plot_width=600, plot_height=600)\n",
    "f.xaxis.axis_label = \"Temperature and precipitation\"\n",
    "f.yaxis.axis_label = \"Average foodprices\"\n",
    "\n",
    "# Plot the line\n",
    "f.circle(x1, y1, color='red')\n",
    "\n",
    "show(f)"
   ]
  },
  {
   "cell_type": "code",
   "execution_count": null,
   "metadata": {},
   "outputs": [],
   "source": []
  }
 ],
 "metadata": {
  "kernelspec": {
   "display_name": "Python 3",
   "language": "python",
   "name": "python3"
  },
  "language_info": {
   "codemirror_mode": {
    "name": "ipython",
    "version": 3
   },
   "file_extension": ".py",
   "mimetype": "text/x-python",
   "name": "python",
   "nbconvert_exporter": "python",
   "pygments_lexer": "ipython3",
   "version": "3.6.5"
  }
 },
 "nbformat": 4,
 "nbformat_minor": 2
}
