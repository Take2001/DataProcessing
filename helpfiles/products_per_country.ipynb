{
 "cells": [
  {
   "cell_type": "code",
   "execution_count": 3,
   "metadata": {},
   "outputs": [],
   "source": [
    "import pandas as pd\n",
    "import matplotlib.pyplot as plt\n",
    "from bokeh.plotting import figure\n",
    "from bokeh.io import output_file, show, save\n",
    "import os"
   ]
  },
  {
   "cell_type": "code",
   "execution_count": 4,
   "metadata": {},
   "outputs": [
    {
     "name": "stdout",
     "output_type": "stream",
     "text": [
      "C:\\Users\\krull\\Desktop\\School\\Dataverwerking & Visualisatie\\Github\\DataProcessing1\\helpfiles\n",
      "C:\\Users\\krull\\Desktop\\School\\Dataverwerking & Visualisatie\\Github\\DataProcessing1\\datasets\n"
     ]
    }
   ],
   "source": [
    "# import dataset Foodprices\n",
    "print(os.getcwd())\n",
    "\n",
    "os.chdir(\"../\")\n",
    "os.chdir(\"datasets/preprocessed datasets/Food prices\")\n",
    "df_foodprices = pd.read_csv('Food_prizes_Africa_processed.csv')\n",
    "os.chdir(\"../../\")\n",
    "\n",
    "print(os.getcwd())"
   ]
  },
  {
   "cell_type": "markdown",
   "metadata": {},
   "source": [
    "# Producten per land"
   ]
  },
  {
   "cell_type": "code",
   "execution_count": 5,
   "metadata": {},
   "outputs": [
    {
     "data": {
      "text/plain": [
       "['Beans (niebe)',\n",
       " 'Fonio',\n",
       " 'Maize',\n",
       " 'Millet',\n",
       " 'Rice (imported)',\n",
       " 'Rice (local)',\n",
       " 'Rice (paddy)',\n",
       " 'Sorghum']"
      ]
     },
     "execution_count": 5,
     "metadata": {},
     "output_type": "execute_result"
    }
   ],
   "source": [
    "# laat zien welke producten er in een bepaald land te koop zijn voor een bepaalde input_data\n",
    "def products_country(input_data, country):\n",
    "    products = []\n",
    "    fp_country = input_data.loc[input_data['adm0_name'] == country]\n",
    "    products_total = fp_country['cm_name']\n",
    "    product_list = products_total.tolist()\n",
    "    for item in product_list:\n",
    "        if item not in products:\n",
    "            products.append(item)\n",
    "    return(sorted(products))\n",
    "products_country(df_foodprices, 'Mali')"
   ]
  }
 ],
 "metadata": {
  "kernelspec": {
   "display_name": "Python 3",
   "language": "python",
   "name": "python3"
  },
  "language_info": {
   "codemirror_mode": {
    "name": "ipython",
    "version": 3
   },
   "file_extension": ".py",
   "mimetype": "text/x-python",
   "name": "python",
   "nbconvert_exporter": "python",
   "pygments_lexer": "ipython3",
   "version": "3.6.3"
  }
 },
 "nbformat": 4,
 "nbformat_minor": 2
}
