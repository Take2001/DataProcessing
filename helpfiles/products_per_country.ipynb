{
 "cells": [
  {
   "cell_type": "code",
   "execution_count": 1,
   "metadata": {},
   "outputs": [],
   "source": [
    "import pandas as pd\n",
    "import matplotlib.pyplot as plt\n",
    "from bokeh.plotting import figure\n",
    "from bokeh.io import output_file, show, save\n",
    "import os"
   ]
  },
  {
   "cell_type": "code",
   "execution_count": 2,
   "metadata": {},
   "outputs": [
    {
     "name": "stdout",
     "output_type": "stream",
     "text": [
      "C:\\Users\\krull\\Desktop\\School\\Dataverwerking & Visualisatie\\Github\\DataProcessing1\\helpfiles\n",
      "C:\\Users\\krull\\Desktop\\School\\Dataverwerking & Visualisatie\\Github\\DataProcessing1\\datasets\n"
     ]
    }
   ],
   "source": [
    "# import dataset Foodprices\n",
    "print(os.getcwd())\n",
    "\n",
    "os.chdir(\"../\")\n",
    "os.chdir(\"datasets/preprocessed datasets/Food prices\")\n",
    "df_foodprices = pd.read_csv('Food_prizes_MiddleEast_and_Africa_processed.csv')\n",
    "os.chdir(\"../../\")\n",
    "\n",
    "print(os.getcwd())"
   ]
  },
  {
   "cell_type": "markdown",
   "metadata": {},
   "source": [
    "# Producten per land"
   ]
  },
  {
   "cell_type": "code",
   "execution_count": 36,
   "metadata": {},
   "outputs": [
    {
     "data": {
      "text/plain": [
       "['Beans',\n",
       " 'Cowpeas',\n",
       " 'Groundnuts (shelled)',\n",
       " 'Maize',\n",
       " 'Maize meal (white, fortified)',\n",
       " 'Maize meal (white, roller)',\n",
       " 'Millet',\n",
       " 'Oil (vegetable)',\n",
       " 'Oil (vegetable, fortified)',\n",
       " 'Sorghum',\n",
       " 'Sugar (white, fortified)',\n",
       " 'Wheat',\n",
       " 'Wheat flour (fortified)']"
      ]
     },
     "execution_count": 36,
     "metadata": {},
     "output_type": "execute_result"
    }
   ],
   "source": [
    "# laat zien welke producten er in een bepaald land te koop zijn voor een bepaalde input_data\n",
    "def products_country(input_data, country):\n",
    "    products = []\n",
    "    fp_country = input_data.loc[input_data['adm0_name'] == country]\n",
    "    products_total = fp_country['cm_name']\n",
    "    product_list = products_total.tolist()\n",
    "    for item in product_list:\n",
    "        if item not in products:\n",
    "            products.append(item)\n",
    "    return(sorted(products))\n",
    "products_country(df_foodprices, 'Zimbabwe')"
   ]
  },
  {
   "cell_type": "code",
   "execution_count": 16,
   "metadata": {},
   "outputs": [
    {
     "name": "stdout",
     "output_type": "stream",
     "text": [
      "-  ['Beans (niebe)', 'Cassava (cossette)', 'Groundnuts (unshelled)', 'Maize', 'Meat (beef)', 'Millet', 'Oil (groundnut)', 'Oil (palm)', 'Rice', 'Sesame', 'Sorghum', 'Wheat flour']\n",
      "-  ['Beans (white)', 'Bread', 'Fuel (kerosene)', 'Millet', 'Oil (vegetable)', 'Pasta', 'Rice (imported)', 'Sorghum', 'Sorghum (red)', 'Sorghum (white)', 'Sugar', 'Wheat flour']\n",
      "-  ['Apples (red)', 'Bananas', 'Beans (dry)', 'Bread', 'Cabbage', 'Carrots', 'Cashew', 'Cassava', 'Coffee (instant)', 'Eggs', 'Fish (bonga)', 'Fish (dry)', 'Fonio', 'Fuel (diesel)', 'Fuel (kerosene)', 'Fuel (petrol-gasoline)', 'Garlic', 'Groundnuts (shelled)', 'Groundnuts (unshelled)', 'Maize', 'Maize (local)', 'Maize flour', 'Meat (beef)', 'Meat (chicken)', 'Meat (mutton)', 'Milk', 'Milk (powder)', 'Millet', 'Oil (groundnut)', 'Oil (palm)', 'Oil (vegetable)', 'Onions', 'Oranges (big size)', 'Peas (green, dry)', 'Potatoes (Irish)', 'Rice (basmati, broken)', 'Rice (long grain, imported)', 'Rice (medium grain, imported)', 'Rice (paddy, long grain, local)', 'Rice (small grain, imported)', 'Salt', 'Sorghum', 'Sugar', 'Sweet potatoes', 'Tea', 'Tomatoes']\n",
      "-  ['Beans (niebe, white)', 'Bread', 'Cassava meal (attieke)', 'Cassava meal (gari)', 'Fish', 'Fish (smoked)', 'Fonio', 'Groundnuts (shelled)', 'Maize', 'Meat (beef)', 'Oil (palm)', 'Oil (vegetable)', 'Potatoes', 'Rice (imported)', 'Rice (local)', 'Salt', 'Sugar', 'Tomatoes', 'Tomatoes (paste)']\n",
      "-  ['Beans (dry)', 'Bread', 'Fuel (diesel)', 'Fuel (kerosene)', 'Fuel (petrol-gasoline)', 'Maize (white)', 'Milk (cow, pasteurized)', 'Oil (vegetable)', 'Potatoes (Irish)', 'Sorghum']\n",
      "-  ['Beans (sugar-red)', 'Bread (brown)', 'Maize meal', 'Oil (sunflower)', 'Peas (split, dry)', 'Wheat flour']\n",
      "-  ['Cassava (fresh)', 'Cocoa', 'Cowpeas', 'Exchange rate', 'Fuel (diesel)', 'Fuel (petrol-gasoline)', 'Oil (palm)', 'Rice (imported)', 'Rice (white, imported)', 'Wage (non-qualified labour, agricultural)', 'Wage (non-qualified labour, non-agricultural)']\n",
      "-  ['Fuel (diesel)', 'Fuel (kerosene)', 'Fuel (petrol-gasoline)', 'Oil (vegetable)', 'Rice (local)', 'Rice (paddy)', 'Sugar', 'Wheat flour']\n",
      "-  ['Beans', 'Cassava', 'Groundnuts (shelled)', 'Maize', 'Rice']\n",
      "-  ['Beans (niebe)', 'Fonio', 'Maize', 'Millet', 'Rice (imported)', 'Rice (local)', 'Rice (paddy)', 'Sorghum']\n",
      "-  ['Oil (vegetable)', 'Rice (imported)', 'Rice (local)', 'Sorghum (taghalit)', 'Sugar', 'Wheat']\n",
      "-  ['Beans (butter)', 'Beans (catarino)', 'Beans (dry)', 'Beans (magnum)', 'Cassava flour', 'Cowpeas', 'Groundnuts (Mix)', 'Groundnuts (large, shelled)', 'Groundnuts (small, shelled)', 'Maize (white)', 'Maize meal (white, first grade)', 'Maize meal (white, with bran)', 'Maize meal (white, without bran) ', 'Oil (vegetable, imported)', 'Oil (vegetable, local)', 'Rice (imported)', 'Rice (local)', 'Sugar (brown, imported)', 'Sugar (brown, local)', 'Wheat flour (local)']\n",
      "-  ['Beans (niebe)', 'Maize', 'Millet', 'Rice (imported)', 'Rice (local)', 'Sorghum']\n",
      "-  ['Beans (niebe)', 'Bread', 'Cowpeas (brown)', 'Cowpeas (white)', 'Fuel (diesel)', 'Fuel (petrol-gasoline)', 'Gari (white)', 'Gari (yellow)', 'Groundnuts (shelled)', 'Maize', 'Maize (white)', 'Maize (yellow)', 'Millet', 'Oil (palm)', 'Rice (imported)', 'Rice (local)', 'Sorghum', 'Sorghum (brown)', 'Sorghum (white)', 'Wheat', 'Yam', 'Yam (Abuja)']\n",
      "-  ['Apples (red)', 'Avocados', 'Bananas', 'Beans (dry)', 'Beans (green, fresh)', 'Cabbage', 'Carrots', 'Cassava', 'Cassava flour', 'Cassava leaves', 'Cauliflower', 'Charcoal', 'Chili (red)', 'Cucumbers (greenhouse)', 'Eggplants', 'Eggs', 'Garlic', 'Groundnuts (shelled)', 'Guava', 'Livestock (Goat)', 'Livestock (Sheep)', 'Livestock (cattle)', 'Livestock (hen)', 'Livestock (pig)', 'Maize', 'Maize flour', 'Maize flour (imported)', 'Mangoes', 'Meat (beef)', 'Meat (goat)', 'Meat (mutton)', 'Meat (pork)', 'Milk', 'Onions (red)', 'Onions (white)', 'Oranges (big size)', 'Papaya', 'Passion fruit', 'Peas (dry)', 'Peas (fresh)', 'Peppers (green)', 'Potatoes (Irish)', 'Rice', 'Rice (imported, Indian)', 'Rice (imported, Tanzanian)', 'Rice (local)', 'Sorghum', 'Sorghum flour', 'Soybeans', 'Spinach', 'Sweet potatoes', 'Tomatoes', 'Wheat', 'Wheat flour', 'Zucchini']\n",
      "-  ['Maize (imported)', 'Maize (local)', 'Millet', 'Rice (imported)', 'Rice (local)', 'Sorghum']\n",
      "-  ['Beans (red)', 'Cassava', 'Cassava (dry)', 'Exchange rate', 'Exchange rate (unofficial)', 'Fuel (diesel)', 'Fuel (petrol-gasoline)', 'Groundnuts (shelled)', 'Maize (white)', 'Millet (white)', 'Oil (vegetable)', 'Sesame', 'Sorghum (white)', 'Wheat flour']\n",
      "-  ['Millet', 'Sorghum', 'Sorghum (food aid)', 'Wheat']\n",
      "-  ['Beans', 'Cassava flour', 'Maize (white)', 'Maize flour', 'Millet', 'Oil (vegetable)', 'Sorghum']\n",
      "-  ['Beans (dry)', 'Cassava meal', 'Groundnuts (shelled)', 'Maize (white)', 'Maize meal (white, breakfast)', 'Maize meal (white, roller)', 'Millet', 'Rice (local)', 'Sorghum']\n",
      "-  ['Beans', 'Cowpeas', 'Groundnuts (shelled)', 'Maize', 'Maize meal (white, fortified)', 'Maize meal (white, roller)', 'Millet', 'Oil (vegetable)', 'Oil (vegetable, fortified)', 'Sorghum', 'Sugar (white, fortified)', 'Wheat', 'Wheat flour (fortified)']\n"
     ]
    }
   ],
   "source": [
    "Africa = ['Central African Republic', 'Djibouti', 'Gambia', 'Guinea', 'Kenya', 'Lesotho', 'Liberia', 'Madagascar', \n",
    "                'Malawi', 'Mali', 'Mauritania', 'Mozambique', 'Niger', 'Nigeria', 'Rwanda', 'Senegal', 'South Sudan', \n",
    "                'Sudan', 'Uganda', 'Zambia', 'Zimbabwe']\n",
    "\n",
    "for country in Africa:\n",
    "    print('- ', products_country(df_foodprices, country))"
   ]
  }
 ],
 "metadata": {
  "kernelspec": {
   "display_name": "Python 3",
   "language": "python",
   "name": "python3"
  },
  "language_info": {
   "codemirror_mode": {
    "name": "ipython",
    "version": 3
   },
   "file_extension": ".py",
   "mimetype": "text/x-python",
   "name": "python",
   "nbconvert_exporter": "python",
   "pygments_lexer": "ipython3",
   "version": "3.6.3"
  }
 },
 "nbformat": 4,
 "nbformat_minor": 2
}
