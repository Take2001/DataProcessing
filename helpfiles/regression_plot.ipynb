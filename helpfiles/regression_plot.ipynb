{
 "cells": [
  {
   "cell_type": "code",
   "execution_count": 12,
   "metadata": {},
   "outputs": [],
   "source": [
    "import pandas as pd\n",
    "import numpy as np\n",
    "import os\n",
    "from bokeh.plotting import figure\n",
    "from bokeh.io import output_file, show, save\n",
    "from functies_voor_selectief_plotten import *\n",
    "from sklearn.metrics import mean_squared_error\n",
    "from bokeh.models import HoverTool, BoxSelectTool\n",
    "from products_per_country import *\n",
    "from bokeh.plotting import figure, output_file, show, ColumnDataSource"
   ]
  },
  {
   "cell_type": "code",
   "execution_count": 14,
   "metadata": {},
   "outputs": [
    {
     "name": "stdout",
     "output_type": "stream",
     "text": [
      "C:\\Users\\boble\\Documents\\GitHub\\DataProcessing\\datasets\n"
     ]
    }
   ],
   "source": [
    "# controleer altijd of je in de map helpfiles zit\n",
    "# os.chdir('../')\n",
    "# os.chdir('helpfiles')\n",
    "print(os.getcwd())"
   ]
  },
  {
   "cell_type": "code",
   "execution_count": 13,
   "metadata": {},
   "outputs": [
    {
     "name": "stdout",
     "output_type": "stream",
     "text": [
      "Succesfully imported foodprices!\n",
      "Succesfully imported migration_movements!\n",
      "succesfully imported temperature_and_precipitation!\n"
     ]
    }
   ],
   "source": [
    "from select_df import select_df\n",
    "\n",
    "df_foodprices = select_df(1, 'foodprices')\n",
    "df_migration = select_df(1, 'migration_movements')\n",
    "df_weather = select_df(1, 'temperature_and_precipitation')"
   ]
  },
  {
   "cell_type": "code",
   "execution_count": 35,
   "metadata": {},
   "outputs": [
    {
     "name": "stdout",
     "output_type": "stream",
     "text": [
      "Mali Maize 1369.18\n"
     ]
    },
    {
     "name": "stderr",
     "output_type": "stream",
     "text": [
      "c:\\users\\boble\\appdata\\local\\programs\\python\\python36-32\\lib\\site-packages\\ipykernel_launcher.py:43: FutureWarning: `rcond` parameter will change to the default of machine precision times ``max(M, N)`` where M and N are the input matrix dimensions.\n",
      "To use the future default and silence this warning we advise to pass `rcond=None`, to keep using the old, explicitly pass `rcond=-1`.\n"
     ]
    }
   ],
   "source": [
    "# plot genormaliseerde foodprices van een product tegenover migration movements in een bepaald land\n",
    "# 95% van de scatters ligt met een afwijking van (RMSE * 2) t.o.v. de lijn\n",
    "\n",
    "def plot_scatter_regression(country, product):\n",
    "    # selecteer de input datasets\n",
    "    dataset_x = normalize(select_plot_foodprices_average(df_foodprices, country, product, 1990, 2020), 'average_price')\n",
    "    dataset_y = select_plot_migration_movements(df_migration, country, 1990, 2020)\n",
    "\n",
    "    # de lijsten die worden gegenereerd\n",
    "    covered_months = []\n",
    "    output_x = []\n",
    "    output_y = []\n",
    "    \n",
    "    # hovertool\n",
    "    hover = HoverTool(\n",
    "        tooltips=[\n",
    "            (\"Normalised foodprice\", \"$x{1.11}\"),\n",
    "            (\"Refugees to Europe\", \"$y{int}\"),\n",
    "#             (\"Month\", \"{}\".format(covered_months[int('$y')])),\n",
    "        ]\n",
    "    )\n",
    "    \n",
    "    # maak het ontwerp van de grafiek\n",
    "    f = figure(plot_width=416, plot_height=416, tools=[hover])\n",
    "    f.title.text=\"Correlation between {} and refugees in {}\".format(product, country)\n",
    "    f.xaxis.axis_label = \"Normalized foodprices\"\n",
    "    f.yaxis.axis_label = \"Migration movements\"\n",
    "\n",
    "    # vergelijk de mogelijke maanden en zet ze in een lijst wanneer ze gelijk zijn\n",
    "    for month_x in dataset_x.year:\n",
    "        for month_y in dataset_y.Timestamp:    \n",
    "            if round(month_x, 4) == round(month_y, 4):\n",
    "                output_x.append(float(dataset_x.loc[dataset_x['year'] == month_x]['Normalized_data']))\n",
    "                output_y.append(float(dataset_y.loc[dataset_y['Timestamp'] == month_y][0:1]['Value']))\n",
    "                covered_months.append(month_x)\n",
    "\n",
    "    # regression line    \n",
    "    regression_x = np.vstack(output_x)\n",
    "    regression_x = np.column_stack((regression_x, np.ones(regression_x.shape[0])))\n",
    "    \n",
    "    # scale\n",
    "    x = pd.Series(output_x)\n",
    "    a, b = np.linalg.lstsq(regression_x, output_y)[0]\n",
    "    \n",
    "    # RMSE\n",
    "    y = a * x + b\n",
    "    rmse = round(np.sqrt(mean_squared_error(output_y, y)) * 2, 2)\n",
    "\n",
    "    \n",
    "    print(country, product, rmse)\n",
    "    # plot the graph\n",
    "#     f.scatter(output_x, output_y, color='red', legend=\"RMSE = {}\".format(rmse))\n",
    "#     f.line(x, a * x + b, color='blue')\n",
    "    \n",
    "    # save\n",
    "    output_file(\"{}_{}.html\".format(country, product))\n",
    "    save(f)\n",
    "#     show(f)\n",
    "    \n",
    "plot_scatter_regression('Mali', 'Maize')"
   ]
  },
  {
   "cell_type": "code",
   "execution_count": 33,
   "metadata": {},
   "outputs": [],
   "source": [
    "os.chdir('../plotted comparisons/normalized_regression_plots')\n",
    "# os.chdir('../regression_plots')"
   ]
  },
  {
   "cell_type": "code",
   "execution_count": 34,
   "metadata": {},
   "outputs": [
    {
     "name": "stdout",
     "output_type": "stream",
     "text": [
      "C:\\Users\\boble\\Documents\\GitHub\\DataProcessing\\plotted comparisons\\regression_plots\n"
     ]
    }
   ],
   "source": [
    "print(os.getcwd())"
   ]
  },
  {
   "cell_type": "code",
   "execution_count": 36,
   "metadata": {},
   "outputs": [],
   "source": [
    "# Helpfile landen en producten\n",
    "\n",
    "Africa = ['Central African Republic', 'Djibouti', 'Gambia', 'Guinea', 'Kenya', 'Lesotho', 'Liberia', 'Madagascar', \n",
    "                'Malawi', 'Mali', 'Mauritania', 'Mozambique', 'Niger', 'Nigeria', 'Rwanda', 'Senegal', 'South Sudan', \n",
    "                'Sudan', 'Uganda', 'Zambia', 'Zimbabwe']\n",
    "# Kenya, Lesotho veroorzaakte problemen\n",
    "Middle_East = ['Afghanistan', 'Iraq', 'Iran  (Islamic Republic of)', 'Lebanon', 'State of Palestine', 'Pakistan']\n",
    "# zie onderste cell voor alle producten"
   ]
  },
  {
   "cell_type": "code",
   "execution_count": 38,
   "metadata": {},
   "outputs": [
    {
     "name": "stderr",
     "output_type": "stream",
     "text": [
      "c:\\users\\boble\\appdata\\local\\programs\\python\\python36-32\\lib\\site-packages\\ipykernel_launcher.py:43: FutureWarning: `rcond` parameter will change to the default of machine precision times ``max(M, N)`` where M and N are the input matrix dimensions.\n",
      "To use the future default and silence this warning we advise to pass `rcond=None`, to keep using the old, explicitly pass `rcond=-1`.\n"
     ]
    },
    {
     "name": "stdout",
     "output_type": "stream",
     "text": [
      "Afghanistan Bread 36589.47\n",
      "Afghanistan Wheat 27122.2\n",
      "Afghanistan Rice (low quality) 32144.11\n",
      "Afghanistan Wage (qualified labour) 34505.51\n",
      "Afghanistan Livestock (sheep, one-year-old alive female) 4048.78\n",
      "Afghanistan Fuel (diesel) 35452.22\n",
      "Afghanistan Exchange rate 41643.52\n",
      "Afghanistan Wage (non-qualified labour, non-agricultural) 31457.63\n",
      "Iraq Rice 23517.99\n",
      "Iraq Wheat flour 18913.28\n",
      "Iraq Sugar 17096.38\n",
      "Iraq Bread (khoboz) 17300.68\n",
      "Iraq Oil (vegetable) 30680.07\n",
      "Error: Iran  (Islamic Republic of)_Rice (local)\n",
      "Error: Iran  (Islamic Republic of)_Eggs\n",
      "Error: Iran  (Islamic Republic of)_Oil (vegetable)\n",
      "Error: Iran  (Islamic Republic of)_Sugar\n",
      "Error: Iran  (Islamic Republic of)_Lentils\n",
      "Lebanon Wheat flour 839.25\n",
      "Lebanon Beans (white) 759.38\n",
      "Lebanon Eggs 643.31\n",
      "Lebanon Sugar 674.16\n",
      "Lebanon Lentils 736.8\n",
      "Lebanon Pasta 793.68\n",
      "Lebanon Meat (chicken, whole) 885.52\n",
      "Lebanon Cabbage 853.39\n",
      "Lebanon Oil (sunflower) 447.79\n",
      "Lebanon Salt 850.13\n",
      "Lebanon Cucumbers (greenhouse) 932.66\n",
      "Lebanon Milk (powder) 614.26\n",
      "Lebanon Chickpeas 943.19\n",
      "Lebanon Bulgur 763.06\n",
      "Lebanon Rice (imported, Egyptian) 732.14\n",
      "Lebanon Tomatoes (paste) 856.63\n",
      "Lebanon Lettuce 858.41\n",
      "Lebanon Cheese (picon) 783.66\n",
      "Lebanon Meat (beef, canned) 769.06\n",
      "Lebanon Fish (sardine, canned) 751.15\n",
      "Lebanon Fish (tuna, canned) 765.29\n",
      "Lebanon Bread (pita) 660.5\n",
      "Lebanon Spinach 941.14\n",
      "State of Palestine Bread 322.87\n",
      "State of Palestine Wheat flour 277.92\n",
      "State of Palestine Eggs 366.34\n",
      "State of Palestine Meat (chicken) 345.32\n",
      "State of Palestine Sugar 369.64\n",
      "State of Palestine Lentils 357.93\n",
      "State of Palestine Meat (beef) 360.58\n",
      "State of Palestine Salt 385.29\n",
      "State of Palestine Rice (small grain, imported) 370.02\n",
      "State of Palestine Apples (red) 412.17\n",
      "State of Palestine Bananas (medium size) 401.69\n",
      "State of Palestine Cauliflower 363.33\n",
      "State of Palestine Cucumbers (greenhouse) 417.29\n",
      "State of Palestine Fish (red snapper) 389.61\n",
      "State of Palestine Meat (goat, with bones) 406.98\n",
      "State of Palestine Milk (powder) 358.44\n",
      "State of Palestine Oil (olive) 329.89\n",
      "State of Palestine Onions (dry, local) 357.63\n",
      "State of Palestine Oranges (big size) 225.92\n",
      "State of Palestine Potatoes (medium size) 355.54\n",
      "State of Palestine Tomatoes (greenhouse) 401.02\n",
      "State of Palestine Chickpeas 375.13\n",
      "State of Palestine Tea 356.05\n",
      "State of Palestine Fuel (petrol-gasoline) 309.75\n",
      "State of Palestine Oil (maize) 383.45\n",
      "State of Palestine Labaneh 375.38\n",
      "State of Palestine Yogurt 353.42\n",
      "State of Palestine Cheese (goat) 406.44\n",
      "State of Palestine Milk (pasteurized) 385.64\n",
      "State of Palestine Fish (frozen) 357.37\n",
      "State of Palestine Water (drinking) 337.21\n",
      "State of Palestine Wheat flour (locally processed) 275.23\n",
      "Pakistan Wheat flour 3997.85\n",
      "Pakistan Rice (coarse) 5710.15\n",
      "Pakistan Lentils (masur) 5350.45\n",
      "Pakistan Milk 5186.6\n",
      "Pakistan Oil (cooking) 5247.88\n",
      "Pakistan Wheat 6112.29\n",
      "Pakistan Eggs 6490.6\n",
      "Pakistan Sugar 5064.91\n",
      "Pakistan Ghee (artificial) 5291.05\n",
      "Pakistan Rice (basmati, broken) 4096.85\n",
      "Pakistan Poultry 6072.9\n",
      "Pakistan Salt 7059.94\n",
      "Pakistan Fuel (diesel) 6120.2\n",
      "Pakistan Fuel (petrol-gasoline) 7055.96\n",
      "Pakistan Lentils (moong) 4692.73\n",
      "Pakistan Beans(mash) 5913.36\n",
      "Pakistan Wage (non-qualified labour, non-agricultural) 6833.2\n"
     ]
    }
   ],
   "source": [
    "# plot voor alle landen alle producten in een scatter plot met een regression line\n",
    "\n",
    "for country in Middle_East:\n",
    "    for product in products_country(df_foodprices, country):\n",
    "        try:\n",
    "            plot_scatter_regression(country, product)\n",
    "        except:\n",
    "            print('Error: {}_{}'.format(country, product))"
   ]
  },
  {
   "cell_type": "code",
   "execution_count": 12,
   "metadata": {},
   "outputs": [],
   "source": [
    "# plot alle voedselprijzen van een land in een scatterplot\n",
    "\n",
    "def plot_scatter_regression_all(country):\n",
    "    # de lijsten die worden gegenereerd\n",
    "    covered_months = []\n",
    "    output_x = []\n",
    "    output_y = []\n",
    "\n",
    "    # hovertool\n",
    "    hover = HoverTool(\n",
    "        tooltips=[\n",
    "            (\"Normalised foodprice\", \"$x{1.11}\"),\n",
    "            (\"Refugees to Europe\", \"$y{int}\"),\n",
    "#             (\"Product\", \"{}\".format(product))\n",
    "        ]\n",
    "    )\n",
    "\n",
    "    # maak het ontwerp van de grafiek\n",
    "    f = figure(plot_width=600, plot_height=600, tools=[hover])\n",
    "    f.title.text=\"Correlation between foodprices and refugees in {}\".format(country)\n",
    "    f.xaxis.axis_label = \"Normalized foodprices\"\n",
    "    f.yaxis.axis_label = \"Migration movements\"\n",
    "\n",
    "    for product in products_country(df_foodprices, country):\n",
    "        # selecteer de input datasets\n",
    "        dataset_x = normalize(select_plot_foodprices_average(df_foodprices, country, product, 1990, 2020), 'average_price')\n",
    "        dataset_y = select_plot_migration_movements(df_migration, country, 1990, 2020)\n",
    "\n",
    "        # vergelijk de mogelijke maanden en zet ze in een lijst wanneer ze gelijk zijn\n",
    "        for month_x in dataset_x.year:\n",
    "            for month_y in dataset_y.Timestamp:    \n",
    "                if round(month_x, 4) == round(month_y, 4):\n",
    "                    output_x.append(float(dataset_x.loc[dataset_x['year'] == month_x]['Normalized_data']))\n",
    "                    output_y.append(float(dataset_y.loc[dataset_y['Timestamp'] == month_y][0:1]['Value']))\n",
    "                    covered_months.append(month_x)\n",
    "\n",
    "    # plot the graph\n",
    "    f.scatter(output_x, output_y, color='red')\n",
    "\n",
    "    show(f)\n",
    "    \n",
    "plot_scatter_regression_all('Zimbabwe')"
   ]
  },
  {
   "cell_type": "code",
   "execution_count": 217,
   "metadata": {},
   "outputs": [
    {
     "name": "stderr",
     "output_type": "stream",
     "text": [
      "c:\\users\\boble\\appdata\\local\\programs\\python\\python36-32\\lib\\site-packages\\ipykernel_launcher.py:31: FutureWarning: `rcond` parameter will change to the default of machine precision times ``max(M, N)`` where M and N are the input matrix dimensions.\n",
      "To use the future default and silence this warning we advise to pass `rcond=None`, to keep using the old, explicitly pass `rcond=-1`.\n"
     ]
    }
   ],
   "source": [
    "# plot genormaliseerde foodprices van een product tegenover genormaliseerde migration movements in een bepaald land\n",
    "\n",
    "def plot_scatter_regression_normalized(country, product):\n",
    "    # selecteer de input datasets\n",
    "    dataset_x = normalize(select_plot_foodprices_average(df_foodprices, country, product, 1990, 2020), 'average_price')\n",
    "    dataset_y = normalize(select_plot_migration_movements(df_migration, country, 1990, 2020), 'Value')   \n",
    "\n",
    "    # de lijsten die worden gegenereerd\n",
    "    covered_months = []\n",
    "    output_x = []\n",
    "    output_y = []\n",
    "    \n",
    "    # maak het ontwerp van de grafiek\n",
    "    f = figure(plot_width=600, plot_height=600)\n",
    "    f.title.text=\"Correlation between {} and refugees in {}\".format(product, country)\n",
    "    f.xaxis.axis_label = \"Normalized foodprices\"\n",
    "    f.yaxis.axis_label = \"Normalized migration movements\"\n",
    "\n",
    "    # vergelijk de mogelijke maanden en zet ze in een lijst wanneer ze gelijk zijn\n",
    "    for month_x in dataset_x.year:\n",
    "        for month_y in dataset_y.Timestamp:    \n",
    "            if round(month_x, 4) == round(month_y, 4):\n",
    "                output_x.append(float(dataset_x.loc[dataset_x['year'] == month_x]['Normalized_data']))\n",
    "                output_y.append(float(dataset_y.loc[dataset_y['Timestamp'] == month_y][0:1]['Normalized_data']))\n",
    "                covered_months.append(month_x)\n",
    "\n",
    "    # regression line    \n",
    "    regression_x = np.vstack(output_x)\n",
    "    regression_x = np.column_stack((regression_x, np.ones(regression_x.shape[0])))\n",
    "    \n",
    "    # scale\n",
    "    x = pd.Series(output_x)\n",
    "    a, b = np.linalg.lstsq(regression_x, output_y)[0]\n",
    "    \n",
    "    # plot the graph\n",
    "    f.circle(output_x, output_y, color='red')\n",
    "    f.line(x, a * x + b, color='blue')\n",
    "    \n",
    "    show(f)\n",
    "    \n",
    "plot_scatter_regression_normalized('Gambia', 'Rice (paddy, long grain, local)')"
   ]
  },
  {
   "cell_type": "code",
   "execution_count": 184,
   "metadata": {},
   "outputs": [
    {
     "name": "stderr",
     "output_type": "stream",
     "text": [
      "c:\\users\\boble\\appdata\\local\\programs\\python\\python36-32\\lib\\site-packages\\ipykernel_launcher.py:14: FutureWarning: `rcond` parameter will change to the default of machine precision times ``max(M, N)`` where M and N are the input matrix dimensions.\n",
      "To use the future default and silence this warning we advise to pass `rcond=None`, to keep using the old, explicitly pass `rcond=-1`.\n",
      "  \n"
     ]
    }
   ],
   "source": [
    "# compare_refugees_Gambia_and_price_of_Rice (paddy, long grain, local)\n",
    "\n",
    "def plot_timeline(country, product, year1, year2):\n",
    "    # scatter\n",
    "    x1 = select_plot_foodprices_average(df_foodprices, country, product, year1, year2)['year']\n",
    "    y1 = normalize(select_plot_foodprices_average(df_foodprices, country, product, year1, year2), 'average_price')['Normalized_data']    \n",
    "    \n",
    "    # regression line    \n",
    "    x2 = np.vstack(select_plot_foodprices_average(df_foodprices, country, product, year1, year2)['year'])\n",
    "    x2 = np.column_stack((x2, np.ones(x2.shape[0])))\n",
    "    y2 = normalize(select_plot_foodprices_average(df_foodprices, country, product, year1, year2), 'average_price')['Normalized_data']\n",
    "    x = select_plot_foodprices_average(df_foodprices, country, product, year1, year2)['year']\n",
    "    # Now get out m and b values for our best fit line\n",
    "    a, b = np.linalg.lstsq(x2, y2)[0]\n",
    "\n",
    "    # set the layout\n",
    "    f = figure(plot_width=600, plot_height=600)\n",
    "    \n",
    "    f.title.text=\"Price of {} in {} over time\".format(product, country)\n",
    "    f.xaxis.axis_label = \"Years\"\n",
    "    f.yaxis.axis_label = \"Normalised migration movements\"\n",
    "\n",
    "    # plot the graph\n",
    "    f.circle(x1, y1, color='red')\n",
    "    f.line(x, a * x + b, color='blue')\n",
    "\n",
    "    show(f)\n",
    "    \n",
    "plot_timeline('Gambia', 'Rice (paddy, long grain, local)', 2005, 2018)"
   ]
  }
 ],
 "metadata": {
  "kernelspec": {
   "display_name": "Python 3",
   "language": "python",
   "name": "python3"
  },
  "language_info": {
   "codemirror_mode": {
    "name": "ipython",
    "version": 3
   },
   "file_extension": ".py",
   "mimetype": "text/x-python",
   "name": "python",
   "nbconvert_exporter": "python",
   "pygments_lexer": "ipython3",
   "version": "3.6.5"
  }
 },
 "nbformat": 4,
 "nbformat_minor": 2
}
