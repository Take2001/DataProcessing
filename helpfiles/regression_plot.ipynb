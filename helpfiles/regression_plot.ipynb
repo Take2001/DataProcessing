{
 "cells": [
  {
   "cell_type": "code",
   "execution_count": 81,
   "metadata": {},
   "outputs": [],
   "source": [
    "import pandas as pd\n",
    "import numpy as np\n",
    "import os\n",
    "from bokeh.plotting import figure\n",
    "from bokeh.io import output_file, show, save\n",
    "from functies_voor_selectief_plotten import *\n",
    "from sklearn.metrics import mean_squared_error"
   ]
  },
  {
   "cell_type": "code",
   "execution_count": 12,
   "metadata": {},
   "outputs": [
    {
     "name": "stdout",
     "output_type": "stream",
     "text": [
      "C:\\Users\\boble\\Documents\\GitHub\\DataProcessing\\datasets\n"
     ]
    }
   ],
   "source": [
    "# controleer altijd of je in de map helpfiles zit\n",
    "print(os.getcwd())"
   ]
  },
  {
   "cell_type": "code",
   "execution_count": 13,
   "metadata": {},
   "outputs": [
    {
     "name": "stdout",
     "output_type": "stream",
     "text": [
      "Succesfully imported foodprices!\n",
      "Succesfully imported migration_movements!\n",
      "succesfully imported temperature_and_precipitation!\n"
     ]
    }
   ],
   "source": [
    "from select_df import select_df\n",
    "\n",
    "df_foodprices = select_df(1, 'foodprices')\n",
    "df_migration = select_df(1, 'migration_movements')\n",
    "df_weather = select_df(1, 'temperature_and_precipitation')\n",
    "\n"
   ]
  },
  {
   "cell_type": "code",
   "execution_count": 59,
   "metadata": {},
   "outputs": [
    {
     "name": "stderr",
     "output_type": "stream",
     "text": [
      "c:\\users\\boble\\appdata\\local\\programs\\python\\python36-32\\lib\\site-packages\\bokeh\\models\\sources.py:110: BokehUserWarning: ColumnDataSource's columns must be of the same length. Current lengths: ('x', 122), ('y', 157)\n",
      "  \"Current lengths: %s\" % \", \".join(sorted(str((k, len(v))) for k, v in data.items())), BokehUserWarning))\n"
     ]
    }
   ],
   "source": [
    "# compare_refugees_Gambia_and_price_of_Rice (paddy, long grain, local)\n",
    "\n",
    "def plot_scatter(country, product, year1, year2):\n",
    "    x1 = normalize(select_plot_foodprices_average(df_foodprices, country, product, year1, year2), 'average_price')['Normalized_data']  \n",
    "    y1 = normalize(select_plot_migration_movements(df_migration, country, year1, year2), 'Value')['Normalized_data']    \n",
    "   \n",
    "    output_file(\"Line.html\")\n",
    "\n",
    "    # Create a figure (that's 600x600)\n",
    "    f = figure(plot_width=600, plot_height=600)\n",
    "    \n",
    "    f.xaxis.axis_label = \"Normalised foodprices\"\n",
    "    f.yaxis.axis_label = \"Normalised migration movements\"\n",
    "\n",
    "    # Plot the line\n",
    "    f.circle(x1, y1, color='red')\n",
    "\n",
    "    show(f)\n",
    "    \n",
    "plot_scatter('Gambia', 'Rice (paddy, long grain, local)', 2005, 2018)"
   ]
  },
  {
   "cell_type": "code",
   "execution_count": 74,
   "metadata": {},
   "outputs": [
    {
     "ename": "LinAlgError",
     "evalue": "Incompatible dimensions",
     "output_type": "error",
     "traceback": [
      "\u001b[1;31m---------------------------------------------------------------------------\u001b[0m",
      "\u001b[1;31mLinAlgError\u001b[0m                               Traceback (most recent call last)",
      "\u001b[1;32m<ipython-input-74-823654a4aca3>\u001b[0m in \u001b[0;36m<module>\u001b[1;34m()\u001b[0m\n\u001b[0;32m     16\u001b[0m     \u001b[0mshow\u001b[0m\u001b[1;33m(\u001b[0m\u001b[0mf\u001b[0m\u001b[1;33m)\u001b[0m\u001b[1;33m\u001b[0m\u001b[0m\n\u001b[0;32m     17\u001b[0m \u001b[1;33m\u001b[0m\u001b[0m\n\u001b[1;32m---> 18\u001b[1;33m \u001b[0mplot_regression\u001b[0m\u001b[1;33m(\u001b[0m\u001b[1;34m'Gambia'\u001b[0m\u001b[1;33m,\u001b[0m \u001b[1;34m'Rice (paddy, long grain, local)'\u001b[0m\u001b[1;33m,\u001b[0m \u001b[1;36m2006\u001b[0m\u001b[1;33m,\u001b[0m \u001b[1;36m2018\u001b[0m\u001b[1;33m)\u001b[0m\u001b[1;33m\u001b[0m\u001b[0m\n\u001b[0m",
      "\u001b[1;32m<ipython-input-74-823654a4aca3>\u001b[0m in \u001b[0;36mplot_regression\u001b[1;34m(country, product, year1, year2)\u001b[0m\n\u001b[0;32m     11\u001b[0m \u001b[1;33m\u001b[0m\u001b[0m\n\u001b[0;32m     12\u001b[0m     \u001b[1;31m# Now get out m and b values for our best fit line\u001b[0m\u001b[1;33m\u001b[0m\u001b[1;33m\u001b[0m\u001b[0m\n\u001b[1;32m---> 13\u001b[1;33m     \u001b[0ma\u001b[0m\u001b[1;33m,\u001b[0m \u001b[0mb\u001b[0m \u001b[1;33m=\u001b[0m \u001b[0mnp\u001b[0m\u001b[1;33m.\u001b[0m\u001b[0mlinalg\u001b[0m\u001b[1;33m.\u001b[0m\u001b[0mlstsq\u001b[0m\u001b[1;33m(\u001b[0m\u001b[0mX\u001b[0m\u001b[1;33m,\u001b[0m \u001b[0mY\u001b[0m\u001b[1;33m)\u001b[0m\u001b[1;33m[\u001b[0m\u001b[1;36m0\u001b[0m\u001b[1;33m]\u001b[0m\u001b[1;33m\u001b[0m\u001b[0m\n\u001b[0m\u001b[0;32m     14\u001b[0m     \u001b[0mf\u001b[0m\u001b[1;33m.\u001b[0m\u001b[0mline\u001b[0m\u001b[1;33m(\u001b[0m\u001b[0mx\u001b[0m\u001b[1;33m,\u001b[0m \u001b[0ma\u001b[0m \u001b[1;33m*\u001b[0m \u001b[0mx\u001b[0m \u001b[1;33m+\u001b[0m \u001b[0mb\u001b[0m\u001b[1;33m,\u001b[0m \u001b[0mcolor\u001b[0m\u001b[1;33m=\u001b[0m\u001b[1;34m'red'\u001b[0m\u001b[1;33m)\u001b[0m\u001b[1;33m\u001b[0m\u001b[0m\n\u001b[0;32m     15\u001b[0m \u001b[1;33m\u001b[0m\u001b[0m\n",
      "\u001b[1;32mc:\\users\\boble\\appdata\\local\\programs\\python\\python36-32\\lib\\site-packages\\numpy\\linalg\\linalg.py\u001b[0m in \u001b[0;36mlstsq\u001b[1;34m(a, b, rcond)\u001b[0m\n\u001b[0;32m   1982\u001b[0m     \u001b[0mldb\u001b[0m \u001b[1;33m=\u001b[0m \u001b[0mmax\u001b[0m\u001b[1;33m(\u001b[0m\u001b[0mn\u001b[0m\u001b[1;33m,\u001b[0m \u001b[0mm\u001b[0m\u001b[1;33m)\u001b[0m\u001b[1;33m\u001b[0m\u001b[0m\n\u001b[0;32m   1983\u001b[0m     \u001b[1;32mif\u001b[0m \u001b[0mm\u001b[0m \u001b[1;33m!=\u001b[0m \u001b[0mb\u001b[0m\u001b[1;33m.\u001b[0m\u001b[0mshape\u001b[0m\u001b[1;33m[\u001b[0m\u001b[1;36m0\u001b[0m\u001b[1;33m]\u001b[0m\u001b[1;33m:\u001b[0m\u001b[1;33m\u001b[0m\u001b[0m\n\u001b[1;32m-> 1984\u001b[1;33m         \u001b[1;32mraise\u001b[0m \u001b[0mLinAlgError\u001b[0m\u001b[1;33m(\u001b[0m\u001b[1;34m'Incompatible dimensions'\u001b[0m\u001b[1;33m)\u001b[0m\u001b[1;33m\u001b[0m\u001b[0m\n\u001b[0m\u001b[0;32m   1985\u001b[0m \u001b[1;33m\u001b[0m\u001b[0m\n\u001b[0;32m   1986\u001b[0m     \u001b[0mt\u001b[0m\u001b[1;33m,\u001b[0m \u001b[0mresult_t\u001b[0m \u001b[1;33m=\u001b[0m \u001b[0m_commonType\u001b[0m\u001b[1;33m(\u001b[0m\u001b[0ma\u001b[0m\u001b[1;33m,\u001b[0m \u001b[0mb\u001b[0m\u001b[1;33m)\u001b[0m\u001b[1;33m\u001b[0m\u001b[0m\n",
      "\u001b[1;31mLinAlgError\u001b[0m: Incompatible dimensions"
     ]
    }
   ],
   "source": [
    "def plot_regression(country, product, year1, year2):\n",
    "    # Set up X as median room values and use Use vstack to make X two-dimensional\n",
    "    # Remember that X normally is (N,) instead of (N,1).\n",
    "    X = np.vstack(normalize(select_plot_foodprices_average(df_foodprices, country, product, year1, year2), 'average_price')['Normalized_data'])\n",
    "    X = np.column_stack((X, np.ones(X.shape[0])))\n",
    "    \n",
    "    # Set up Y as the target price of the houses.\n",
    "    Y = normalize(select_plot_migration_movements(df_migration, country, year1, year2), 'Value')['Normalized_data']\n",
    "    \n",
    "    x = normalize(select_plot_foodprices_average(df_foodprices, country, product, year1, year2), 'average_price')['Normalized_data']\n",
    "\n",
    "    # Now get out m and b values for our best fit line\n",
    "    a, b = np.linalg.lstsq(X, Y)[0]\n",
    "    f.line(x, a * x + b, color='red')\n",
    "    \n",
    "    show(f)\n",
    "\n",
    "plot_regression('Gambia', 'Rice (paddy, long grain, local)', 2006, 2018)   "
   ]
  },
  {
   "cell_type": "code",
   "execution_count": 80,
   "metadata": {},
   "outputs": [
    {
     "name": "stderr",
     "output_type": "stream",
     "text": [
      "c:\\users\\boble\\appdata\\local\\programs\\python\\python36-32\\lib\\site-packages\\ipykernel_launcher.py:14: FutureWarning: `rcond` parameter will change to the default of machine precision times ``max(M, N)`` where M and N are the input matrix dimensions.\n",
      "To use the future default and silence this warning we advise to pass `rcond=None`, to keep using the old, explicitly pass `rcond=-1`.\n",
      "  \n"
     ]
    }
   ],
   "source": [
    "# compare_refugees_Gambia_and_price_of_Rice (paddy, long grain, local)\n",
    "\n",
    "def plot_timeline(country, product, year1, year2):\n",
    "    # scatter\n",
    "    x1 = select_plot_foodprices_average(df_foodprices, country, product, year1, year2)['year']\n",
    "    y1 = normalize(select_plot_foodprices_average(df_foodprices, country, product, year1, year2), 'average_price')['Normalized_data']    \n",
    "    \n",
    "    # regression line    \n",
    "    x2 = np.vstack(select_plot_foodprices_average(df_foodprices, country, product, year1, year2)['year'])\n",
    "    x2 = np.column_stack((x2, np.ones(x2.shape[0])))\n",
    "    y2 = normalize(select_plot_foodprices_average(df_foodprices, country, product, year1, year2), 'average_price')['Normalized_data']\n",
    "    x = select_plot_foodprices_average(df_foodprices, country, product, year1, year2)['year']\n",
    "    # Now get out m and b values for our best fit line\n",
    "    a, b = np.linalg.lstsq(x2, y2)[0]\n",
    "\n",
    "\n",
    "    # set the layout\n",
    "    f = figure(plot_width=600, plot_height=600)\n",
    "    \n",
    "    f.title.text=\"Price of {} in {} over time\".format(product, country)\n",
    "    f.xaxis.axis_label = \"Years\"\n",
    "    f.yaxis.axis_label = \"Normalised migration movements\"\n",
    "\n",
    "    # plot the graph\n",
    "    f.circle(x1, y1, color='red')\n",
    "    f.line(x, a * x + b, color='blue')\n",
    "\n",
    "    show(f)\n",
    "    \n",
    "plot_timeline('Niger', 'Rice (imported)', 2005, 2018)"
   ]
  }
 ],
 "metadata": {
  "kernelspec": {
   "display_name": "Python 3",
   "language": "python",
   "name": "python3"
  },
  "language_info": {
   "codemirror_mode": {
    "name": "ipython",
    "version": 3
   },
   "file_extension": ".py",
   "mimetype": "text/x-python",
   "name": "python",
   "nbconvert_exporter": "python",
   "pygments_lexer": "ipython3",
   "version": "3.6.5"
  }
 },
 "nbformat": 4,
 "nbformat_minor": 2
}
