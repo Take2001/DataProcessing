{
 "cells": [
  {
   "cell_type": "code",
   "execution_count": 23,
   "metadata": {},
   "outputs": [],
   "source": [
    "import pandas as pd\n",
    "import numpy as np\n",
    "import os\n",
    "from bokeh.plotting import figure\n",
    "from bokeh.io import output_file, show, save\n",
    "from functies_voor_selectief_plotten import *\n",
    "from sklearn.metrics import mean_squared_error\n",
    "from bokeh.models import HoverTool, BoxSelectTool\n",
    "from products_per_country import *\n",
    "from bokeh.plotting import figure, output_file, show, ColumnDataSource"
   ]
  },
  {
   "cell_type": "code",
   "execution_count": 83,
   "metadata": {},
   "outputs": [
    {
     "name": "stdout",
     "output_type": "stream",
     "text": [
      "C:\\Users\\boble\\Documents\\GitHub\\DataProcessing\\plotted comparisons\\regression_plots\n"
     ]
    }
   ],
   "source": [
    "# controleer altijd of je in de map helpfiles zit\n",
    "print(os.getcwd())"
   ]
  },
  {
   "cell_type": "code",
   "execution_count": 15,
   "metadata": {},
   "outputs": [
    {
     "name": "stdout",
     "output_type": "stream",
     "text": [
      "Succesfully imported foodprices!\n",
      "Succesfully imported migration_movements!\n",
      "succesfully imported temperature_and_precipitation!\n"
     ]
    }
   ],
   "source": [
    "from select_df import select_df\n",
    "\n",
    "df_foodprices = select_df(1, 'foodprices')\n",
    "df_migration = select_df(1, 'migration_movements')\n",
    "df_weather = select_df(1, 'temperature_and_precipitation')"
   ]
  },
  {
   "cell_type": "code",
   "execution_count": 99,
   "metadata": {},
   "outputs": [
    {
     "name": "stderr",
     "output_type": "stream",
     "text": [
      "c:\\users\\boble\\appdata\\local\\programs\\python\\python36-32\\lib\\site-packages\\ipykernel_launcher.py:43: FutureWarning: `rcond` parameter will change to the default of machine precision times ``max(M, N)`` where M and N are the input matrix dimensions.\n",
      "To use the future default and silence this warning we advise to pass `rcond=None`, to keep using the old, explicitly pass `rcond=-1`.\n",
      "ERROR:bokeh.core.validation.check:E-1001 (BAD_COLUMN_NAME): Glyph refers to nonexistent column name: 2 [renderer: GlyphRenderer(id='7601b6bc-770e-427c-97b5-f11b292a66d5', ...)]\n"
     ]
    }
   ],
   "source": [
    "# plot genormaliseerde foodprices van een product tegenover migration movements in een bepaald land\n",
    "# 95% van de scatters ligt met een afwijking van (RMSE * 2) t.o.v. de lijn\n",
    "\n",
    "def plot_scatter_regression(country, product):\n",
    "    # selecteer de input datasets\n",
    "    dataset_x = normalize(select_plot_foodprices_average(df_foodprices, country, product, 1990, 2020), 'average_price')\n",
    "    dataset_y = select_plot_migration_movements(df_migration, country, 1990, 2020)\n",
    "\n",
    "    # de lijsten die worden gegenereerd\n",
    "    covered_months = []\n",
    "    output_x = []\n",
    "    output_y = []\n",
    "    \n",
    "    # hovertool\n",
    "    hover = HoverTool(\n",
    "        tooltips=[\n",
    "            (\"Normalised foodprice\", \"$x{1.11}\"),\n",
    "            (\"Refugees to Europe\", \"$y{int}\"),\n",
    "#             (\"Month\", \"{}\".format(covered_months[int('$y')])),\n",
    "        ]\n",
    "    )\n",
    "    \n",
    "    # maak het ontwerp van de grafiek\n",
    "    f = figure(plot_width=600, plot_height=600, tools=[hover])\n",
    "    f.title.text=\"Correlation between {} and refugees in {}\".format(product, country)\n",
    "    f.xaxis.axis_label = \"Normalized foodprices\"\n",
    "    f.yaxis.axis_label = \"Migration movements\"\n",
    "\n",
    "    # vergelijk de mogelijke maanden en zet ze in een lijst wanneer ze gelijk zijn\n",
    "    for month_x in dataset_x.year:\n",
    "        for month_y in dataset_y.Timestamp:    \n",
    "            if round(month_x, 4) == round(month_y, 4):\n",
    "                output_x.append(float(dataset_x.loc[dataset_x['year'] == month_x]['Normalized_data']))\n",
    "                output_y.append(float(dataset_y.loc[dataset_y['Timestamp'] == month_y][0:1]['Value']))\n",
    "                covered_months.append(month_x)\n",
    "\n",
    "    # regression line    \n",
    "    regression_x = np.vstack(output_x)\n",
    "    regression_x = np.column_stack((regression_x, np.ones(regression_x.shape[0])))\n",
    "    \n",
    "    # scale\n",
    "    x = pd.Series(output_x)\n",
    "    a, b = np.linalg.lstsq(regression_x, output_y)[0]\n",
    "    \n",
    "    # RMSE\n",
    "    y = a * x + b\n",
    "    rmse = round(np.sqrt(mean_squared_error(output_y, y)) * 2, 2)\n",
    "\n",
    "    # plot the graph\n",
    "    f.scatter(output_x, output_y, color='red', legend=\"RMSE = {}\".format(rmse))\n",
    "    f.line(x, a * x + b, color='blue')\n",
    "    \n",
    "    # save\n",
    "    output_file(\"{}_{}.html\".format(country, product))\n",
    "#     save(f)\n",
    "    show(f)\n",
    "    \n",
    "plot_scatter_regression('Sudan', 'Wheat')"
   ]
  },
  {
   "cell_type": "code",
   "execution_count": 50,
   "metadata": {},
   "outputs": [],
   "source": [
    "os.chdir('../plotted comparisons/regression_plots')"
   ]
  },
  {
   "cell_type": "code",
   "execution_count": 71,
   "metadata": {},
   "outputs": [
    {
     "name": "stdout",
     "output_type": "stream",
     "text": [
      "C:\\Users\\boble\\Documents\\GitHub\\DataProcessing\\plotted comparisons\\regression_plots\n"
     ]
    }
   ],
   "source": [
    "print(os.getcwd())"
   ]
  },
  {
   "cell_type": "code",
   "execution_count": 53,
   "metadata": {},
   "outputs": [],
   "source": [
    "# Helpfile landen en producten\n",
    "\n",
    "Africa = ['Central African Republic', 'Djibouti', 'Gambia', 'Guinea', 'Kenya', 'Lesotho', 'Liberia', 'Madagascar', \n",
    "                'Malawi', 'Mali', 'Mauritania', 'Mozambique', 'Niger', 'Nigeria', 'Rwanda', 'Senegal', 'South Sudan', \n",
    "                'Sudan', 'Uganda', 'Zambia', 'Zimbabwe']\n",
    "# Kenya, Lesotho veroorzaakte problemen\n",
    "Middle_East = ['Afghanistan', 'Iraq', 'Iran', 'Lebanon', 'State of Palestine', 'Pakistan']\n",
    "\n",
    "# zie onderste cell voor alle producten"
   ]
  },
  {
   "cell_type": "code",
   "execution_count": 57,
   "metadata": {},
   "outputs": [
    {
     "name": "stderr",
     "output_type": "stream",
     "text": [
      "c:\\users\\boble\\appdata\\local\\programs\\python\\python36-32\\lib\\site-packages\\ipykernel_launcher.py:42: FutureWarning: `rcond` parameter will change to the default of machine precision times ``max(M, N)`` where M and N are the input matrix dimensions.\n",
      "To use the future default and silence this warning we advise to pass `rcond=None`, to keep using the old, explicitly pass `rcond=-1`.\n"
     ]
    },
    {
     "name": "stdout",
     "output_type": "stream",
     "text": [
      "0.0\n",
      "105015191.49417241\n",
      "100680638.2137356\n",
      "165302673.16821465\n",
      "Error: Afghanistan_Livestock (sheep, one-year-old alive female)\n",
      "163591171.68616846\n",
      "2170119.6097588767\n",
      "166905608.1807549\n",
      "Error: Iraq_Rice\n",
      "Error: Iraq_Wheat flour\n",
      "Error: Iraq_Sugar\n",
      "Error: Iraq_Bread (khoboz)\n",
      "Error: Iraq_Oil (vegetable)\n",
      "Error: Lebanon_Wheat flour\n",
      "Error: Lebanon_Beans (white)\n",
      "Error: Lebanon_Eggs\n",
      "Error: Lebanon_Sugar\n",
      "Error: Lebanon_Lentils\n",
      "Error: Lebanon_Pasta\n",
      "Error: Lebanon_Meat (chicken, whole)\n",
      "Error: Lebanon_Cabbage\n",
      "Error: Lebanon_Oil (sunflower)\n",
      "Error: Lebanon_Salt\n",
      "Error: Lebanon_Cucumbers (greenhouse)\n",
      "Error: Lebanon_Milk (powder)\n",
      "Error: Lebanon_Chickpeas\n",
      "Error: Lebanon_Bulgur\n",
      "Error: Lebanon_Rice (imported, Egyptian)\n",
      "Error: Lebanon_Tomatoes (paste)\n",
      "Error: Lebanon_Lettuce\n",
      "Error: Lebanon_Cheese (picon)\n",
      "Error: Lebanon_Meat (beef, canned)\n",
      "Error: Lebanon_Fish (sardine, canned)\n",
      "Error: Lebanon_Fish (tuna, canned)\n",
      "Error: Lebanon_Bread (pita)\n",
      "Error: Lebanon_Spinach\n",
      "Error: State of Palestine_Bread\n",
      "Error: State of Palestine_Wheat flour\n",
      "Error: State of Palestine_Eggs\n",
      "Error: State of Palestine_Meat (chicken)\n",
      "Error: State of Palestine_Sugar\n",
      "Error: State of Palestine_Lentils\n",
      "Error: State of Palestine_Meat (beef)\n",
      "Error: State of Palestine_Salt\n",
      "Error: State of Palestine_Rice (small grain, imported)\n",
      "Error: State of Palestine_Apples (red)\n",
      "Error: State of Palestine_Bananas (medium size)\n",
      "Error: State of Palestine_Cauliflower\n",
      "Error: State of Palestine_Cucumbers (greenhouse)\n",
      "Error: State of Palestine_Fish (red snapper)\n",
      "Error: State of Palestine_Meat (goat, with bones)\n",
      "Error: State of Palestine_Milk (powder)\n",
      "Error: State of Palestine_Oil (olive)\n",
      "Error: State of Palestine_Onions (dry, local)\n",
      "Error: State of Palestine_Oranges (big size)\n",
      "Error: State of Palestine_Potatoes (medium size)\n",
      "Error: State of Palestine_Tomatoes (greenhouse)\n",
      "Error: State of Palestine_Chickpeas\n",
      "Error: State of Palestine_Tea\n",
      "Error: State of Palestine_Fuel (petrol-gasoline)\n",
      "Error: State of Palestine_Oil (maize)\n",
      "Error: State of Palestine_Labaneh\n",
      "Error: State of Palestine_Yogurt\n",
      "Error: State of Palestine_Cheese (goat)\n",
      "Error: State of Palestine_Milk (pasteurized)\n",
      "Error: State of Palestine_Fish (frozen)\n",
      "Error: State of Palestine_Water (drinking)\n",
      "Error: State of Palestine_Wheat flour (locally processed)\n",
      "2416061.2130209957\n",
      "Error: Pakistan_Rice (coarse)\n",
      "Error: Pakistan_Lentils (masur)\n",
      "Error: Pakistan_Milk\n",
      "Error: Pakistan_Oil (cooking)\n",
      "Error: Pakistan_Wheat\n",
      "Error: Pakistan_Eggs\n",
      "Error: Pakistan_Sugar\n",
      "Error: Pakistan_Ghee (artificial)\n",
      "2451458.785541739\n",
      "Error: Pakistan_Poultry\n",
      "Error: Pakistan_Salt\n",
      "Error: Pakistan_Fuel (diesel)\n",
      "Error: Pakistan_Fuel (petrol-gasoline)\n",
      "Error: Pakistan_Lentils (moong)\n",
      "Error: Pakistan_Beans(mash)\n",
      "Error: Pakistan_Wage (non-qualified labour, non-agricultural)\n"
     ]
    }
   ],
   "source": [
    "# plot voor alle landen alle producten in een scatter plot met een regression line\n",
    "\n",
    "for country in Africa:\n",
    "    for product in products_country(df_foodprices, country):\n",
    "        try:\n",
    "            plot_scatter_regression(country, product)\n",
    "        except:\n",
    "            print('Error: {}_{}'.format(country, product))"
   ]
  },
  {
   "cell_type": "code",
   "execution_count": 45,
   "metadata": {},
   "outputs": [
    {
     "name": "stderr",
     "output_type": "stream",
     "text": [
      "ERROR:bokeh.core.validation.check:E-1001 (BAD_COLUMN_NAME): Glyph refers to nonexistent column name: 2 [renderer: GlyphRenderer(id='7601b6bc-770e-427c-97b5-f11b292a66d5', ...)]\n"
     ]
    }
   ],
   "source": [
    "# plot alle voedselprijzen van een land in een scatterplot\n",
    "\n",
    "def plot_scatter_regression_all(country):\n",
    "    # de lijsten die worden gegenereerd\n",
    "    covered_months = []\n",
    "    output_x = []\n",
    "    output_y = []\n",
    "\n",
    "    # hovertool\n",
    "    hover = HoverTool(\n",
    "        tooltips=[\n",
    "            (\"Normalised foodprice\", \"$x{1.11}\"),\n",
    "            (\"Refugees to Europe\", \"$y{int}\"),\n",
    "#             (\"Product\", \"{}\".format(product))\n",
    "        ]\n",
    "    )\n",
    "\n",
    "    # maak het ontwerp van de grafiek\n",
    "    f = figure(plot_width=600, plot_height=600, tools=[hover])\n",
    "    f.title.text=\"Correlation between foodprices and refugees in {}\".format(country)\n",
    "    f.xaxis.axis_label = \"Normalized foodprices\"\n",
    "    f.yaxis.axis_label = \"Migration movements\"\n",
    "\n",
    "    for product in products_country(df_foodprices, country):\n",
    "        # selecteer de input datasets\n",
    "        dataset_x = normalize(select_plot_foodprices_average(df_foodprices, country, product, 1990, 2020), 'average_price')\n",
    "        dataset_y = select_plot_migration_movements(df_migration, country, 1990, 2020)\n",
    "\n",
    "        # vergelijk de mogelijke maanden en zet ze in een lijst wanneer ze gelijk zijn\n",
    "        for month_x in dataset_x.year:\n",
    "            for month_y in dataset_y.Timestamp:    \n",
    "                if round(month_x, 4) == round(month_y, 4):\n",
    "                    output_x.append(float(dataset_x.loc[dataset_x['year'] == month_x]['Normalized_data']))\n",
    "                    output_y.append(float(dataset_y.loc[dataset_y['Timestamp'] == month_y][0:1]['Value']))\n",
    "                    covered_months.append(month_x)\n",
    "\n",
    "    # plot the graph\n",
    "    f.scatter(output_x, output_y, color='red')\n",
    "\n",
    "    show(f)\n",
    "    \n",
    "plot_scatter_regression_all('Zimbabwe')"
   ]
  },
  {
   "cell_type": "code",
   "execution_count": 217,
   "metadata": {},
   "outputs": [
    {
     "name": "stderr",
     "output_type": "stream",
     "text": [
      "c:\\users\\boble\\appdata\\local\\programs\\python\\python36-32\\lib\\site-packages\\ipykernel_launcher.py:31: FutureWarning: `rcond` parameter will change to the default of machine precision times ``max(M, N)`` where M and N are the input matrix dimensions.\n",
      "To use the future default and silence this warning we advise to pass `rcond=None`, to keep using the old, explicitly pass `rcond=-1`.\n"
     ]
    }
   ],
   "source": [
    "# plot genormaliseerde foodprices van een product tegenover genormaliseerde migration movements in een bepaald land\n",
    "\n",
    "def plot_scatter_regression_normalized(country, product):\n",
    "    # selecteer de input datasets\n",
    "    dataset_x = normalize(select_plot_foodprices_average(df_foodprices, country, product, 1990, 2020), 'average_price')\n",
    "    dataset_y = normalize(select_plot_migration_movements(df_migration, country, 1990, 2020), 'Value')   \n",
    "\n",
    "    # de lijsten die worden gegenereerd\n",
    "    covered_months = []\n",
    "    output_x = []\n",
    "    output_y = []\n",
    "    \n",
    "    # maak het ontwerp van de grafiek\n",
    "    f = figure(plot_width=600, plot_height=600)\n",
    "    f.title.text=\"Correlation between {} and refugees in {}\".format(product, country)\n",
    "    f.xaxis.axis_label = \"Normalized foodprices\"\n",
    "    f.yaxis.axis_label = \"Normalized migration movements\"\n",
    "\n",
    "    # vergelijk de mogelijke maanden en zet ze in een lijst wanneer ze gelijk zijn\n",
    "    for month_x in dataset_x.year:\n",
    "        for month_y in dataset_y.Timestamp:    \n",
    "            if round(month_x, 4) == round(month_y, 4):\n",
    "                output_x.append(float(dataset_x.loc[dataset_x['year'] == month_x]['Normalized_data']))\n",
    "                output_y.append(float(dataset_y.loc[dataset_y['Timestamp'] == month_y][0:1]['Normalized_data']))\n",
    "                covered_months.append(month_x)\n",
    "\n",
    "    # regression line    \n",
    "    regression_x = np.vstack(output_x)\n",
    "    regression_x = np.column_stack((regression_x, np.ones(regression_x.shape[0])))\n",
    "    \n",
    "    # scale\n",
    "    x = pd.Series(output_x)\n",
    "    a, b = np.linalg.lstsq(regression_x, output_y)[0]\n",
    "    \n",
    "    # plot the graph\n",
    "    f.circle(output_x, output_y, color='red')\n",
    "    f.line(x, a * x + b, color='blue')\n",
    "    \n",
    "    show(f)\n",
    "    \n",
    "plot_scatter_regression_normalized('Gambia', 'Rice (paddy, long grain, local)')"
   ]
  },
  {
   "cell_type": "code",
   "execution_count": 184,
   "metadata": {},
   "outputs": [
    {
     "name": "stderr",
     "output_type": "stream",
     "text": [
      "c:\\users\\boble\\appdata\\local\\programs\\python\\python36-32\\lib\\site-packages\\ipykernel_launcher.py:14: FutureWarning: `rcond` parameter will change to the default of machine precision times ``max(M, N)`` where M and N are the input matrix dimensions.\n",
      "To use the future default and silence this warning we advise to pass `rcond=None`, to keep using the old, explicitly pass `rcond=-1`.\n",
      "  \n"
     ]
    }
   ],
   "source": [
    "# compare_refugees_Gambia_and_price_of_Rice (paddy, long grain, local)\n",
    "\n",
    "def plot_timeline(country, product, year1, year2):\n",
    "    # scatter\n",
    "    x1 = select_plot_foodprices_average(df_foodprices, country, product, year1, year2)['year']\n",
    "    y1 = normalize(select_plot_foodprices_average(df_foodprices, country, product, year1, year2), 'average_price')['Normalized_data']    \n",
    "    \n",
    "    # regression line    \n",
    "    x2 = np.vstack(select_plot_foodprices_average(df_foodprices, country, product, year1, year2)['year'])\n",
    "    x2 = np.column_stack((x2, np.ones(x2.shape[0])))\n",
    "    y2 = normalize(select_plot_foodprices_average(df_foodprices, country, product, year1, year2), 'average_price')['Normalized_data']\n",
    "    x = select_plot_foodprices_average(df_foodprices, country, product, year1, year2)['year']\n",
    "    # Now get out m and b values for our best fit line\n",
    "    a, b = np.linalg.lstsq(x2, y2)[0]\n",
    "\n",
    "    # set the layout\n",
    "    f = figure(plot_width=600, plot_height=600)\n",
    "    \n",
    "    f.title.text=\"Price of {} in {} over time\".format(product, country)\n",
    "    f.xaxis.axis_label = \"Years\"\n",
    "    f.yaxis.axis_label = \"Normalised migration movements\"\n",
    "\n",
    "    # plot the graph\n",
    "    f.circle(x1, y1, color='red')\n",
    "    f.line(x, a * x + b, color='blue')\n",
    "\n",
    "    show(f)\n",
    "    \n",
    "plot_timeline('Gambia', 'Rice (paddy, long grain, local)', 2005, 2018)"
   ]
  }
 ],
 "metadata": {
  "kernelspec": {
   "display_name": "Python 3",
   "language": "python",
   "name": "python3"
  }
 },
 "nbformat": 4,
 "nbformat_minor": 2
}
