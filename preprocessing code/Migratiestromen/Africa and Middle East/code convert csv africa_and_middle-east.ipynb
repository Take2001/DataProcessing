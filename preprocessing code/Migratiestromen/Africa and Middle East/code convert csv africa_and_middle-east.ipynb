{
 "cells": [
  {
   "cell_type": "code",
   "execution_count": 154,
   "metadata": {},
   "outputs": [
    {
     "name": "stdout",
     "output_type": "stream",
     "text": [
      "C:\\Users\\Midas\\Documents\\GitHub\\DataProcessing1\\datasets\\raw datasets\n",
      "C:\\Users\\Midas\\Documents\\GitHub\\DataProcessing1\\datasets\\raw datasets\n"
     ]
    }
   ],
   "source": [
    "import os\n",
    "print(os.getcwd())\n",
    "os.chdir(\"../../\")\n",
    "os.chdir(\"datasets/raw datasets\")\n",
    "print(os.getcwd())"
   ]
  },
  {
   "cell_type": "code",
   "execution_count": 159,
   "metadata": {},
   "outputs": [
    {
     "name": "stderr",
     "output_type": "stream",
     "text": [
      "c:\\users\\midas\\appdata\\local\\programs\\python\\python36-32\\lib\\site-packages\\IPython\\core\\interactiveshell.py:2728: DtypeWarning: Columns (4) have mixed types. Specify dtype option on import or set low_memory=False.\n",
      "  interactivity=interactivity, compiler=compiler, result=result)\n"
     ]
    }
   ],
   "source": [
    "import pandas as pd\n",
    "import numpy as np\n",
    "\n",
    "raw_data = pd.read_csv('unhcr_popstats_export_asylum_seekers_monthly_all_data.csv')\n",
    "df = pd.DataFrame(raw_data)\n",
    "\n",
    "df['Origin'] = df['Origin'].replace({\"Central African Rep.\":\"Central African Republic\" })\n",
    "\n",
    "df['Origin'] = df['Origin'].replace({\"Iran (Islamic Rep. of)\":\"Iran\" })\n",
    "df['Origin'] = df['Origin'].replace({\"Palestinian\":\"State of Palestine\" })\n",
    "\n",
    "\n",
    "\n",
    "af1 = df.loc[df['Origin'] == 'Cabo Verde']\n",
    "af2 = df.loc[df['Origin'] == 'Central African Republic']\n",
    "af3 = df.loc[df['Origin'] == 'Burundi']\n",
    "af4 = df.loc[df['Origin'] == 'Congo']\n",
    "af5 = df.loc[df['Origin'] == 'Djibouti']\n",
    "af6 = df.loc[df['Origin'] == 'Ehtiopia']\n",
    "af7 = df.loc[df['Origin'] == 'Gambia']\n",
    "af8 = df.loc[df['Origin'] == 'Guinea']\n",
    "af9 = df.loc[df['Origin'] == 'Kenya']\n",
    "af10 = df.loc[df['Origin'] == 'Lesotho']\n",
    "af11 = df.loc[df['Origin'] == 'Liberia']\n",
    "af12 = df.loc[df['Origin'] == 'Madagascar']\n",
    "af13 = df.loc[df['Origin'] == 'Malawi']\n",
    "af14 = df.loc[df['Origin'] == 'Mali']\n",
    "af15 = df.loc[df['Origin'] == 'Mauritania']\n",
    "af16 = df.loc[df['Origin'] == 'Mozambique']\n",
    "af17 = df.loc[df['Origin'] == 'Niger']\n",
    "af18 = df.loc[df['Origin'] == 'Nigeria']\n",
    "af19 = df.loc[df['Origin'] == 'Rwanda']\n",
    "af20 = df.loc[df['Origin'] == 'Senegal']\n",
    "af21 = df.loc[df['Origin'] == 'Somalia']\n",
    "af22 = df.loc[df['Origin'] == 'South Sudan']\n",
    "af23 = df.loc[df['Origin'] == 'Sudan']\n",
    "af24 = df.loc[df['Origin'] == 'Uganda']\n",
    "af25 = df.loc[df['Origin'] == 'Tanzania']\n",
    "af26 = df.loc[df['Origin'] == 'Zambia']\n",
    "af27 = df.loc[df['Origin'] == 'Zimbabwe']\n",
    "\n",
    "af28 = df.loc[df['Origin'] == 'Syrian Arab Republic']\n",
    "af29 = df.loc[df['Origin'] == 'Afghanistan']\n",
    "af30 = df.loc[df['Origin'] == 'Iraq']\n",
    "af31 = df.loc[df['Origin'] == 'Lebanon']\n",
    "af32 = df.loc[df['Origin'] == 'State of Palestine']\n",
    "af33 = df.loc[df['Origin'] == 'Pakistan']\n",
    "af34 = df.loc[df['Origin'] == 'Iran']\n",
    "\n",
    "predata_africa_middleEast = [af1, af2, af3, af4, af5, af6, af7, af8, af9, af10, \n",
    "                    af11, af12, af13, af14, af15, af16, af17, af18, af19, af20,\n",
    "                    af21, af22, af23, af24, af25, af26, af27, af28, af29, af30, \n",
    "                    af31, af32, af33, af34]\n",
    "\n",
    "africa_middleEast = pd.concat(predata_africa_middleEast)\n",
    "\n",
    "for country in africa_middleEast['Origin']:\n",
    "    if country == 'iran':\n",
    "        print('jaa')\n",
    "#africa_middleEast"
   ]
  },
  {
   "cell_type": "code",
   "execution_count": 142,
   "metadata": {},
   "outputs": [],
   "source": [
    "# vervang steretjes door nullen en maak integers van strings\n",
    "data_africa_middleEast = africa_middleEast.replace(['*'], 0)\n",
    "new_values = [int(row) for row in data_africa_middleEast['Value']]"
   ]
  },
  {
   "cell_type": "code",
   "execution_count": 143,
   "metadata": {},
   "outputs": [],
   "source": [
    "def month_converter(month):\n",
    "    months = ['January', 'February', 'March', 'April', 'May', 'June', 'July', 'August', 'September', 'October', 'November', \n",
    "              'December']\n",
    "    return (months.index(month))/12"
   ]
  },
  {
   "cell_type": "code",
   "execution_count": 144,
   "metadata": {},
   "outputs": [],
   "source": [
    "# remove old string values\n",
    "data_africa_middleEast = data_africa_middleEast[['Country of residence', 'Origin', 'Year','Month']]\n",
    "\n",
    "#add integer values\n",
    "data_africa_middleEast['Values'] = new_values\n",
    "\n",
    "africa_middleEast\n",
    "\n",
    "months = []\n",
    "for row in data_africa_middleEast['Month']:\n",
    "    months.append(str(row))\n",
    "\n",
    "#print(months)\n",
    "YearMonth = []\n",
    "\n",
    "count = 0\n",
    "for year in data_africa_middleEast['Year']:\n",
    "    year = int(year) + month_converter(months[count])\n",
    "    YearMonth.append(year)\n",
    "    count += 1\n",
    "\n",
    "data_africa_middleEast['YearMonth'] = YearMonth"
   ]
  },
  {
   "cell_type": "code",
   "execution_count": 160,
   "metadata": {},
   "outputs": [
    {
     "name": "stdout",
     "output_type": "stream",
     "text": [
      "C:\\Users\\Midas\\Documents\\GitHub\\DataProcessing1\\datasets\\raw datasets\n",
      "C:\\Users\\Midas\\Documents\\GitHub\\DataProcessing1\\datasets\\preprocessed datasets\\Migration movements\n"
     ]
    }
   ],
   "source": [
    "print(os.getcwd())\n",
    "os.chdir(\"../\")\n",
    "os.chdir(\"preprocessed datasets/Migration movements\")\n",
    "print(os.getcwd())"
   ]
  },
  {
   "cell_type": "code",
   "execution_count": 161,
   "metadata": {},
   "outputs": [],
   "source": [
    "data_africa_middleEast[['Country of residence', 'Origin', 'YearMonth', 'Values']].to_csv('data_africa_middleEast.csv', index=False)"
   ]
  },
  {
   "cell_type": "code",
   "execution_count": 171,
   "metadata": {},
   "outputs": [],
   "source": [
    "raw_data1 = pd.read_csv('refugees_africa_per_timestamp.csv')\n",
    "df1 = pd.DataFrame(raw_data1)\n",
    "\n",
    "raw_data2 = pd.read_csv('refugees_middle_east_per_timestamp.csv')\n",
    "df2 = pd.DataFrame(raw_data2)\n",
    "df2['Origin'] = df2['Origin'] = df['Origin'].replace({\"Iran (Islamic Rep. of)\":\"Iran\"})\n",
    "df2['Origin'] = df2['Origin'] = df['Origin'].replace({\"Palestinian\":\"State of Palestine\"})\n",
    "\n",
    "frames = [df1, df2]\n",
    "\n",
    "result = pd.concat(frames)\n",
    "result = result.sort_values(by=['Timestamp'])\n",
    "\n",
    "result[['Origin', 'Timestamp', 'Value']].to_csv('data_africa_middleEast_per_timestamp.csv', index=False)"
   ]
  },
  {
   "cell_type": "code",
   "execution_count": null,
   "metadata": {},
   "outputs": [],
   "source": []
  }
 ],
 "metadata": {
  "kernelspec": {
   "display_name": "Python 3",
   "language": "python",
   "name": "python3"
  },
  "language_info": {
   "codemirror_mode": {
    "name": "ipython",
    "version": 3
   },
   "file_extension": ".py",
   "mimetype": "text/x-python",
   "name": "python",
   "nbconvert_exporter": "python",
   "pygments_lexer": "ipython3",
   "version": "3.6.3"
  }
 },
 "nbformat": 4,
 "nbformat_minor": 2
}
