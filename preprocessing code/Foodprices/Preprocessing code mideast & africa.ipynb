{
 "cells": [
  {
   "cell_type": "code",
   "execution_count": 1,
   "metadata": {},
   "outputs": [],
   "source": [
    "import pandas as pd\n",
    "africa = pd.read_csv(\"Food_prizes_Africa_processed.csv\", encoding= \"latin1\")\n",
    "middle_east = pd.read_csv(\"Food_prizes_MiddleEast_processed.csv\", encoding= \"latin1\")\n",
    "foodprices_total_predata = [africa, middle_east]\n",
    "foodprices_total = pd.concat(foodprices_total_predata)\n",
    "#foodprices_total.to_csv(\"Food_prizes_MiddleEast_and_Africa_processed.csv\", encoding=\"utf-8\", index=True)"
   ]
  }
 ],
 "metadata": {
  "kernelspec": {
   "display_name": "Python 3",
   "language": "python",
   "name": "python3"
  },
  "language_info": {
   "codemirror_mode": {
    "name": "ipython",
    "version": 3
   },
   "file_extension": ".py",
   "mimetype": "text/x-python",
   "name": "python",
   "nbconvert_exporter": "python",
   "pygments_lexer": "ipython3",
   "version": "3.6.3"
  }
 },
 "nbformat": 4,
 "nbformat_minor": 2
}
