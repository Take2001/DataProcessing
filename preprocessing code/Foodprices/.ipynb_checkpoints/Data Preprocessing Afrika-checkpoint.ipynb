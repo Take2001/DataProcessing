{
 "cells": [
  {
   "cell_type": "code",
   "execution_count": 2,
   "metadata": {},
   "outputs": [],
   "source": [
    "import pandas as pd\n",
    "# import raw data\n",
    "fIn=pd.read_csv(\"wipdata.csv\", encoding= \"latin1\")\n",
    "# remove useless columns\n",
    "keep_col = [\"adm0_name\", \"adm1_name\", \"mkt_name\", \"cm_name\", \"cur_name\", \"pt_name\", \"um_id\", \"um_name\", \"mp_month\", \"mp_year\", \"mp_price\"]\n",
    "# select countries\n",
    "keep_row = [\"Burkina faso\", \"Cabo Verde\", \"Central African Republic\",\"Burundi\", \"Democratic Republic of the Congo\", \"Djibouti\", \"Ehtiopia\", \"Gambia\", \"Guinea\", \"Kenya\", \"Lesotho\", \"Liberia\", \"Madagascar\", \"Malawi\",\"Mali\", \"Mauritania\", \"Mozambique\", \"Niger\", \"Nigeria\" , \"Rwanda\", \"Senegal\", \"Somalia\", \"South Sudan\", \"Sudan\", \"Uganda\", \"Tanzania\", \"Zambia\", \"Zimbabwe\"]\n",
    "afrika = fIn[keep_col]"
   ]
  },
  {
   "cell_type": "code",
   "execution_count": 3,
   "metadata": {},
   "outputs": [],
   "source": [
    "af1 = afrika.loc[afrika['adm0_name'] == 'Burkina Faso']\n",
    "af2 = afrika.loc[afrika['adm0_name'] == 'Cabo Verde']\n",
    "af3 = afrika.loc[afrika['adm0_name'] == 'Central African Republic']\n",
    "af4 = afrika.loc[afrika['adm0_name'] == \"Burundi\"]\n",
    "af5 = afrika.loc[afrika['adm0_name'] == \"Democratic Republic of the Congo\"]\n",
    "af6 = afrika.loc[afrika['adm0_name'] == \"Djibouti\"]\n",
    "af7 = afrika.loc[afrika['adm0_name'] == \"Ehtiopia\"]\n",
    "af8 = afrika.loc[afrika['adm0_name'] == \"Gambia\"]\n",
    "af9 = afrika.loc[afrika['adm0_name'] == \"Guinea\"]\n",
    "af10 = afrika.loc[afrika['adm0_name'] == \"Kenya\"]\n",
    "af11 = afrika.loc[afrika['adm0_name'] == \"Lesotho\"]\n",
    "af12 = afrika.loc[afrika['adm0_name'] == \"Liberia\"]\n",
    "af13 = afrika.loc[afrika['adm0_name'] == \"Madagascar\"]\n",
    "af14 = afrika.loc[afrika['adm0_name'] == \"Malawi\"]\n",
    "af15 = afrika.loc[afrika['adm0_name'] == \"Mali\"]\n",
    "af16 = afrika.loc[afrika['adm0_name'] == \"Mauritania\"]\n",
    "af17 = afrika.loc[afrika['adm0_name'] == \"Mozambique\"]\n",
    "af18 = afrika.loc[afrika['adm0_name'] == \"Niger\"]\n",
    "af19 = afrika.loc[afrika['adm0_name'] == \"Nigeria\"]\n",
    "af20 = afrika.loc[afrika['adm0_name'] == \"Rwanda\"]\n",
    "af21 = afrika.loc[afrika['adm0_name'] == \"Senegal\"]\n",
    "af22 = afrika.loc[afrika['adm0_name'] == \"South Sudan\"]\n",
    "af23 = afrika.loc[afrika['adm0_name'] == \"Sudan\"]\n",
    "af24 = afrika.loc[afrika['adm0_name'] == \"Uganda\"]\n",
    "af25 = afrika.loc[afrika['adm0_name'] == \"Tanzania\"]\n",
    "af26 = afrika.loc[afrika['adm0_name'] == \"Zambia\"]\n",
    "af27 = afrika.loc[afrika['adm0_name'] == \"Zimbabwe\"]\n",
    "\n",
    "predata_africa = [af1,af2,af3,af4,af5,af6,af7,af8,af9,af10,af11,af12,af13,af14,af15,af16,af17,af18,af19,af20,af21,af22,af23,af24,af25,af26,af27]\n",
    "data_africa = pd.concat(predata_africa)\n",
    "data_africa['Year'] = data_africa['mp_year'] + ((data_africa['mp_month']-1)/12)\n",
    "data_africa.to_csv(\"Food_prizes_Africa_processed.csv\", encoding=\"utf-8\")"
   ]
  }
 ],
 "metadata": {
  "kernelspec": {
   "display_name": "Python 3",
   "language": "python",
   "name": "python3"
  },
  "language_info": {
   "codemirror_mode": {
    "name": "ipython",
    "version": 3
   },
   "file_extension": ".py",
   "mimetype": "text/x-python",
   "name": "python",
   "nbconvert_exporter": "python",
   "pygments_lexer": "ipython3",
   "version": "3.6.3"
  }
 },
 "nbformat": 4,
 "nbformat_minor": 2
}
